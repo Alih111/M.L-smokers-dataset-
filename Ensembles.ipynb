{
 "cells": [
  {
   "cell_type": "markdown",
   "metadata": {},
   "source": [
    "# import the dataset"
   ]
  },
  {
   "cell_type": "code",
   "execution_count": 1,
   "metadata": {},
   "outputs": [
    {
     "data": {
      "text/html": [
       "<div>\n",
       "<style scoped>\n",
       "    .dataframe tbody tr th:only-of-type {\n",
       "        vertical-align: middle;\n",
       "    }\n",
       "\n",
       "    .dataframe tbody tr th {\n",
       "        vertical-align: top;\n",
       "    }\n",
       "\n",
       "    .dataframe thead th {\n",
       "        text-align: right;\n",
       "    }\n",
       "</style>\n",
       "<table border=\"1\" class=\"dataframe\">\n",
       "  <thead>\n",
       "    <tr style=\"text-align: right;\">\n",
       "      <th></th>\n",
       "      <th>Unnamed: 0</th>\n",
       "      <th>Cholesterol</th>\n",
       "      <th>triglyceride</th>\n",
       "      <th>age</th>\n",
       "      <th>hearing(right)</th>\n",
       "      <th>hemoglobin</th>\n",
       "      <th>LDL</th>\n",
       "      <th>dental caries</th>\n",
       "      <th>systolic</th>\n",
       "      <th>hearing(left)</th>\n",
       "      <th>eyesight(left)</th>\n",
       "      <th>smoking</th>\n",
       "    </tr>\n",
       "  </thead>\n",
       "  <tbody>\n",
       "    <tr>\n",
       "      <th>0</th>\n",
       "      <td>0</td>\n",
       "      <td>172</td>\n",
       "      <td>300</td>\n",
       "      <td>55</td>\n",
       "      <td>1</td>\n",
       "      <td>16.5</td>\n",
       "      <td>75</td>\n",
       "      <td>0</td>\n",
       "      <td>135</td>\n",
       "      <td>1</td>\n",
       "      <td>0.5</td>\n",
       "      <td>1</td>\n",
       "    </tr>\n",
       "    <tr>\n",
       "      <th>1</th>\n",
       "      <td>1</td>\n",
       "      <td>194</td>\n",
       "      <td>55</td>\n",
       "      <td>70</td>\n",
       "      <td>2</td>\n",
       "      <td>16.2</td>\n",
       "      <td>126</td>\n",
       "      <td>1</td>\n",
       "      <td>146</td>\n",
       "      <td>2</td>\n",
       "      <td>0.6</td>\n",
       "      <td>0</td>\n",
       "    </tr>\n",
       "    <tr>\n",
       "      <th>2</th>\n",
       "      <td>2</td>\n",
       "      <td>178</td>\n",
       "      <td>197</td>\n",
       "      <td>20</td>\n",
       "      <td>1</td>\n",
       "      <td>17.4</td>\n",
       "      <td>93</td>\n",
       "      <td>0</td>\n",
       "      <td>118</td>\n",
       "      <td>1</td>\n",
       "      <td>0.4</td>\n",
       "      <td>1</td>\n",
       "    </tr>\n",
       "    <tr>\n",
       "      <th>3</th>\n",
       "      <td>3</td>\n",
       "      <td>180</td>\n",
       "      <td>203</td>\n",
       "      <td>35</td>\n",
       "      <td>1</td>\n",
       "      <td>15.9</td>\n",
       "      <td>102</td>\n",
       "      <td>1</td>\n",
       "      <td>131</td>\n",
       "      <td>1</td>\n",
       "      <td>1.5</td>\n",
       "      <td>0</td>\n",
       "    </tr>\n",
       "    <tr>\n",
       "      <th>4</th>\n",
       "      <td>4</td>\n",
       "      <td>155</td>\n",
       "      <td>87</td>\n",
       "      <td>30</td>\n",
       "      <td>1</td>\n",
       "      <td>15.4</td>\n",
       "      <td>93</td>\n",
       "      <td>0</td>\n",
       "      <td>121</td>\n",
       "      <td>1</td>\n",
       "      <td>1.5</td>\n",
       "      <td>1</td>\n",
       "    </tr>\n",
       "  </tbody>\n",
       "</table>\n",
       "</div>"
      ],
      "text/plain": [
       "   Unnamed: 0  Cholesterol  triglyceride  age  hearing(right)  hemoglobin  \\\n",
       "0           0          172           300   55               1        16.5   \n",
       "1           1          194            55   70               2        16.2   \n",
       "2           2          178           197   20               1        17.4   \n",
       "3           3          180           203   35               1        15.9   \n",
       "4           4          155            87   30               1        15.4   \n",
       "\n",
       "   LDL  dental caries  systolic  hearing(left)  eyesight(left)  smoking  \n",
       "0   75              0       135              1             0.5        1  \n",
       "1  126              1       146              2             0.6        0  \n",
       "2   93              0       118              1             0.4        1  \n",
       "3  102              1       131              1             1.5        0  \n",
       "4   93              0       121              1             1.5        1  "
      ]
     },
     "execution_count": 1,
     "metadata": {},
     "output_type": "execute_result"
    }
   ],
   "source": [
    "import pandas as pd\n",
    "\n",
    "df = pd.read_csv(\"your_data.csv\")\n",
    "df.head()"
   ]
  },
  {
   "cell_type": "markdown",
   "metadata": {},
   "source": [
    "# check if there null element  "
   ]
  },
  {
   "cell_type": "code",
   "execution_count": 2,
   "metadata": {},
   "outputs": [
    {
     "data": {
      "text/plain": [
       "Unnamed: 0        0\n",
       "Cholesterol       0\n",
       "triglyceride      0\n",
       "age               0\n",
       "hearing(right)    0\n",
       "hemoglobin        0\n",
       "LDL               0\n",
       "dental caries     0\n",
       "systolic          0\n",
       "hearing(left)     0\n",
       "eyesight(left)    0\n",
       "smoking           0\n",
       "dtype: int64"
      ]
     },
     "execution_count": 2,
     "metadata": {},
     "output_type": "execute_result"
    }
   ],
   "source": [
    "df.isnull().sum()"
   ]
  },
  {
   "cell_type": "markdown",
   "metadata": {},
   "source": [
    "# print some details about the dataset"
   ]
  },
  {
   "cell_type": "code",
   "execution_count": 3,
   "metadata": {},
   "outputs": [
    {
     "data": {
      "text/html": [
       "<div>\n",
       "<style scoped>\n",
       "    .dataframe tbody tr th:only-of-type {\n",
       "        vertical-align: middle;\n",
       "    }\n",
       "\n",
       "    .dataframe tbody tr th {\n",
       "        vertical-align: top;\n",
       "    }\n",
       "\n",
       "    .dataframe thead th {\n",
       "        text-align: right;\n",
       "    }\n",
       "</style>\n",
       "<table border=\"1\" class=\"dataframe\">\n",
       "  <thead>\n",
       "    <tr style=\"text-align: right;\">\n",
       "      <th></th>\n",
       "      <th>Unnamed: 0</th>\n",
       "      <th>Cholesterol</th>\n",
       "      <th>triglyceride</th>\n",
       "      <th>age</th>\n",
       "      <th>hearing(right)</th>\n",
       "      <th>hemoglobin</th>\n",
       "      <th>LDL</th>\n",
       "      <th>dental caries</th>\n",
       "      <th>systolic</th>\n",
       "      <th>hearing(left)</th>\n",
       "      <th>eyesight(left)</th>\n",
       "      <th>smoking</th>\n",
       "    </tr>\n",
       "  </thead>\n",
       "  <tbody>\n",
       "    <tr>\n",
       "      <th>count</th>\n",
       "      <td>159256.000000</td>\n",
       "      <td>159256.000000</td>\n",
       "      <td>159256.000000</td>\n",
       "      <td>159256.000000</td>\n",
       "      <td>159256.000000</td>\n",
       "      <td>159256.000000</td>\n",
       "      <td>159256.000000</td>\n",
       "      <td>159256.000000</td>\n",
       "      <td>159256.000000</td>\n",
       "      <td>159256.000000</td>\n",
       "      <td>159256.000000</td>\n",
       "      <td>159256.000000</td>\n",
       "    </tr>\n",
       "    <tr>\n",
       "      <th>mean</th>\n",
       "      <td>79627.500000</td>\n",
       "      <td>195.796165</td>\n",
       "      <td>127.616046</td>\n",
       "      <td>44.306626</td>\n",
       "      <td>1.023421</td>\n",
       "      <td>14.796965</td>\n",
       "      <td>114.607682</td>\n",
       "      <td>0.197996</td>\n",
       "      <td>122.503648</td>\n",
       "      <td>1.023974</td>\n",
       "      <td>1.005798</td>\n",
       "      <td>0.437365</td>\n",
       "    </tr>\n",
       "    <tr>\n",
       "      <th>std</th>\n",
       "      <td>45973.391572</td>\n",
       "      <td>28.396959</td>\n",
       "      <td>66.188989</td>\n",
       "      <td>11.842286</td>\n",
       "      <td>0.151238</td>\n",
       "      <td>1.431213</td>\n",
       "      <td>28.158931</td>\n",
       "      <td>0.398490</td>\n",
       "      <td>12.729315</td>\n",
       "      <td>0.152969</td>\n",
       "      <td>0.402113</td>\n",
       "      <td>0.496063</td>\n",
       "    </tr>\n",
       "    <tr>\n",
       "      <th>min</th>\n",
       "      <td>0.000000</td>\n",
       "      <td>77.000000</td>\n",
       "      <td>8.000000</td>\n",
       "      <td>20.000000</td>\n",
       "      <td>1.000000</td>\n",
       "      <td>4.900000</td>\n",
       "      <td>1.000000</td>\n",
       "      <td>0.000000</td>\n",
       "      <td>77.000000</td>\n",
       "      <td>1.000000</td>\n",
       "      <td>0.100000</td>\n",
       "      <td>0.000000</td>\n",
       "    </tr>\n",
       "    <tr>\n",
       "      <th>25%</th>\n",
       "      <td>39813.750000</td>\n",
       "      <td>175.000000</td>\n",
       "      <td>77.000000</td>\n",
       "      <td>40.000000</td>\n",
       "      <td>1.000000</td>\n",
       "      <td>13.800000</td>\n",
       "      <td>95.000000</td>\n",
       "      <td>0.000000</td>\n",
       "      <td>114.000000</td>\n",
       "      <td>1.000000</td>\n",
       "      <td>0.800000</td>\n",
       "      <td>0.000000</td>\n",
       "    </tr>\n",
       "    <tr>\n",
       "      <th>50%</th>\n",
       "      <td>79627.500000</td>\n",
       "      <td>196.000000</td>\n",
       "      <td>115.000000</td>\n",
       "      <td>40.000000</td>\n",
       "      <td>1.000000</td>\n",
       "      <td>15.000000</td>\n",
       "      <td>114.000000</td>\n",
       "      <td>0.000000</td>\n",
       "      <td>121.000000</td>\n",
       "      <td>1.000000</td>\n",
       "      <td>1.000000</td>\n",
       "      <td>0.000000</td>\n",
       "    </tr>\n",
       "    <tr>\n",
       "      <th>75%</th>\n",
       "      <td>119441.250000</td>\n",
       "      <td>217.000000</td>\n",
       "      <td>165.000000</td>\n",
       "      <td>55.000000</td>\n",
       "      <td>1.000000</td>\n",
       "      <td>15.800000</td>\n",
       "      <td>133.000000</td>\n",
       "      <td>0.000000</td>\n",
       "      <td>130.000000</td>\n",
       "      <td>1.000000</td>\n",
       "      <td>1.200000</td>\n",
       "      <td>1.000000</td>\n",
       "    </tr>\n",
       "    <tr>\n",
       "      <th>max</th>\n",
       "      <td>159255.000000</td>\n",
       "      <td>393.000000</td>\n",
       "      <td>766.000000</td>\n",
       "      <td>85.000000</td>\n",
       "      <td>2.000000</td>\n",
       "      <td>21.000000</td>\n",
       "      <td>1860.000000</td>\n",
       "      <td>1.000000</td>\n",
       "      <td>213.000000</td>\n",
       "      <td>2.000000</td>\n",
       "      <td>9.900000</td>\n",
       "      <td>1.000000</td>\n",
       "    </tr>\n",
       "  </tbody>\n",
       "</table>\n",
       "</div>"
      ],
      "text/plain": [
       "          Unnamed: 0    Cholesterol   triglyceride            age  \\\n",
       "count  159256.000000  159256.000000  159256.000000  159256.000000   \n",
       "mean    79627.500000     195.796165     127.616046      44.306626   \n",
       "std     45973.391572      28.396959      66.188989      11.842286   \n",
       "min         0.000000      77.000000       8.000000      20.000000   \n",
       "25%     39813.750000     175.000000      77.000000      40.000000   \n",
       "50%     79627.500000     196.000000     115.000000      40.000000   \n",
       "75%    119441.250000     217.000000     165.000000      55.000000   \n",
       "max    159255.000000     393.000000     766.000000      85.000000   \n",
       "\n",
       "       hearing(right)     hemoglobin            LDL  dental caries  \\\n",
       "count   159256.000000  159256.000000  159256.000000  159256.000000   \n",
       "mean         1.023421      14.796965     114.607682       0.197996   \n",
       "std          0.151238       1.431213      28.158931       0.398490   \n",
       "min          1.000000       4.900000       1.000000       0.000000   \n",
       "25%          1.000000      13.800000      95.000000       0.000000   \n",
       "50%          1.000000      15.000000     114.000000       0.000000   \n",
       "75%          1.000000      15.800000     133.000000       0.000000   \n",
       "max          2.000000      21.000000    1860.000000       1.000000   \n",
       "\n",
       "            systolic  hearing(left)  eyesight(left)        smoking  \n",
       "count  159256.000000  159256.000000   159256.000000  159256.000000  \n",
       "mean      122.503648       1.023974        1.005798       0.437365  \n",
       "std        12.729315       0.152969        0.402113       0.496063  \n",
       "min        77.000000       1.000000        0.100000       0.000000  \n",
       "25%       114.000000       1.000000        0.800000       0.000000  \n",
       "50%       121.000000       1.000000        1.000000       0.000000  \n",
       "75%       130.000000       1.000000        1.200000       1.000000  \n",
       "max       213.000000       2.000000        9.900000       1.000000  "
      ]
     },
     "execution_count": 3,
     "metadata": {},
     "output_type": "execute_result"
    }
   ],
   "source": [
    "df.describe()"
   ]
  },
  {
   "cell_type": "markdown",
   "metadata": {},
   "source": [
    "# Print the ratio between two classes"
   ]
  },
  {
   "cell_type": "code",
   "execution_count": 2,
   "metadata": {},
   "outputs": [
    {
     "data": {
      "text/plain": [
       "0    89603\n",
       "1    69653\n",
       "Name: smoking, dtype: int64"
      ]
     },
     "execution_count": 2,
     "metadata": {},
     "output_type": "execute_result"
    }
   ],
   "source": [
    "df.smoking.value_counts()"
   ]
  },
  {
   "cell_type": "markdown",
   "metadata": {},
   "source": [
    "# drop the target from the dataset"
   ]
  },
  {
   "cell_type": "code",
   "execution_count": 3,
   "metadata": {},
   "outputs": [
    {
     "data": {
      "text/plain": [
       "0         1\n",
       "1         0\n",
       "2         1\n",
       "3         0\n",
       "4         1\n",
       "         ..\n",
       "159251    0\n",
       "159252    0\n",
       "159253    0\n",
       "159254    1\n",
       "159255    0\n",
       "Name: smoking, Length: 159256, dtype: int64"
      ]
     },
     "execution_count": 3,
     "metadata": {},
     "output_type": "execute_result"
    }
   ],
   "source": [
    "X = df.drop(\"smoking\",axis=\"columns\")\n",
    "y = df.smoking\n",
    "y"
   ]
  },
  {
   "cell_type": "markdown",
   "metadata": {},
   "source": [
    "# scale the data"
   ]
  },
  {
   "cell_type": "code",
   "execution_count": 4,
   "metadata": {},
   "outputs": [
    {
     "name": "stderr",
     "output_type": "stream",
     "text": [
      "c:\\Users\\alita\\AppData\\Local\\Programs\\Python\\Python310\\lib\\site-packages\\scipy\\__init__.py:146: UserWarning: A NumPy version >=1.17.3 and <1.25.0 is required for this version of SciPy (detected version 1.26.1\n",
      "  warnings.warn(f\"A NumPy version >={np_minversion} and <{np_maxversion}\"\n"
     ]
    },
    {
     "data": {
      "text/plain": [
       "array([[-1.73203993, -0.83798548,  2.60442859,  0.90298511, -0.15486487,\n",
       "         1.1899277 , -1.40658059, -0.49686626,  0.98170175, -0.15672539,\n",
       "        -1.2578561 ],\n",
       "       [-1.73201818, -0.06325221, -1.09710504,  2.16963644,  6.45724233,\n",
       "         0.98031465,  0.40457337,  2.01261403,  1.84585151,  6.38058705,\n",
       "        -1.00916876],\n",
       "       [-1.73199643, -0.62669459,  1.04827363, -2.05253466, -0.15486487,\n",
       "         1.81876686, -0.76734978, -0.49686626, -0.35380241, -0.15672539,\n",
       "        -1.50654343]])"
      ]
     },
     "execution_count": 4,
     "metadata": {},
     "output_type": "execute_result"
    }
   ],
   "source": [
    "from sklearn.preprocessing import StandardScaler\n",
    "\n",
    "scaler = StandardScaler()\n",
    "X_scaled = scaler.fit_transform(X)\n",
    "X_scaled[:3]"
   ]
  },
  {
   "cell_type": "markdown",
   "metadata": {},
   "source": [
    "# split dataset into training and testing data"
   ]
  },
  {
   "cell_type": "code",
   "execution_count": 5,
   "metadata": {},
   "outputs": [],
   "source": [
    "from sklearn.model_selection import train_test_split\n",
    "\n",
    "X_train, X_test, y_train, y_test = train_test_split(X_scaled, y, stratify=y, random_state=10)"
   ]
  },
  {
   "cell_type": "code",
   "execution_count": 9,
   "metadata": {},
   "outputs": [
    {
     "data": {
      "text/plain": [
       "(119442, 11)"
      ]
     },
     "execution_count": 9,
     "metadata": {},
     "output_type": "execute_result"
    }
   ],
   "source": [
    "X_train.shape"
   ]
  },
  {
   "cell_type": "code",
   "execution_count": 12,
   "metadata": {},
   "outputs": [
    {
     "data": {
      "text/plain": [
       "(39814, 11)"
      ]
     },
     "execution_count": 12,
     "metadata": {},
     "output_type": "execute_result"
    }
   ],
   "source": [
    "X_test.shape"
   ]
  },
  {
   "cell_type": "code",
   "execution_count": 7,
   "metadata": {},
   "outputs": [
    {
     "data": {
      "text/plain": [
       "0    67202\n",
       "1    52240\n",
       "Name: smoking, dtype: int64"
      ]
     },
     "execution_count": 7,
     "metadata": {},
     "output_type": "execute_result"
    }
   ],
   "source": [
    "y_train.value_counts()"
   ]
  },
  {
   "cell_type": "markdown",
   "metadata": {},
   "source": [
    "# Train using Bagging"
   ]
  },
  {
   "cell_type": "code",
   "execution_count": 8,
   "metadata": {},
   "outputs": [
    {
     "data": {
      "text/plain": [
       "0.7314345037758913"
      ]
     },
     "execution_count": 8,
     "metadata": {},
     "output_type": "execute_result"
    }
   ],
   "source": [
    "from sklearn.ensemble import BaggingClassifier\n",
    "from sklearn.tree import DecisionTreeClassifier\n",
    "\n",
    "bag_model = BaggingClassifier(\n",
    "    base_estimator=DecisionTreeClassifier(), \n",
    "    n_estimators=100, \n",
    "    max_samples=0.8, \n",
    "    oob_score=True,\n",
    "    random_state=0\n",
    ")\n",
    "bag_model.fit(X_train, y_train)\n",
    "bag_model.oob_score_"
   ]
  },
  {
   "cell_type": "code",
   "execution_count": 9,
   "metadata": {},
   "outputs": [
    {
     "data": {
      "text/plain": [
       "0.7371025267493846"
      ]
     },
     "execution_count": 9,
     "metadata": {},
     "output_type": "execute_result"
    }
   ],
   "source": [
    "bag_model.score(X_test, y_test)"
   ]
  },
  {
   "cell_type": "markdown",
   "metadata": {},
   "source": [
    "# Train using Random Forest"
   ]
  },
  {
   "cell_type": "code",
   "execution_count": 10,
   "metadata": {},
   "outputs": [
    {
     "name": "stdout",
     "output_type": "stream",
     "text": [
      "Accuracy  : 0.7397900236097855\n"
     ]
    }
   ],
   "source": [
    "from sklearn.ensemble import RandomForestClassifier\n",
    "from sklearn import metrics\n",
    "randomForest = RandomForestClassifier(n_estimators= 100)\n",
    "randomForestModel = randomForest.fit(X_train,y_train)\n",
    "y_pred_0 = randomForestModel.predict(X_test)\n",
    "# randomForestModel.oob_score_\n",
    "print(\"Accuracy  :\",metrics.accuracy_score(y_test,y_pred_0)) \n"
   ]
  },
  {
   "cell_type": "markdown",
   "metadata": {},
   "source": [
    "# training using Ada Boost "
   ]
  },
  {
   "cell_type": "code",
   "execution_count": 11,
   "metadata": {},
   "outputs": [
    {
     "name": "stdout",
     "output_type": "stream",
     "text": [
      "Accuracy 1 : 0.7414226151604963\n",
      "Accuracy 2 : 0.7189682021399507\n"
     ]
    }
   ],
   "source": [
    "from sklearn.ensemble import AdaBoostClassifier\n",
    "from sklearn import metrics\n",
    "Adamodel = AdaBoostClassifier(n_estimators=100 ,learning_rate=1)\n",
    "model = Adamodel.fit(X_train,y_train)\n",
    "y_pred = model.predict(X_test)\n",
    "print(\"Accuracy 1 :\",metrics.accuracy_score(y_test,y_pred)) \n",
    "# -----------------------------------------------------------\n",
    "# using logisticRegression \n",
    "from sklearn.linear_model import LogisticRegression \n",
    "logisticModel = LogisticRegression()\n",
    "Adamodel_2 = AdaBoostClassifier(n_estimators=50 ,base_estimator=logisticModel,learning_rate=1)\n",
    "model_2 = Adamodel_2.fit(X_train,y_train)\n",
    "y_pred_2 = model_2.predict(X_test)\n",
    "print(\"Accuracy 2 :\",metrics.accuracy_score(y_test,y_pred_2)) \n"
   ]
  }
 ],
 "metadata": {
  "kernelspec": {
   "display_name": "Python 3",
   "language": "python",
   "name": "python3"
  },
  "language_info": {
   "codemirror_mode": {
    "name": "ipython",
    "version": 3
   },
   "file_extension": ".py",
   "mimetype": "text/x-python",
   "name": "python",
   "nbconvert_exporter": "python",
   "pygments_lexer": "ipython3",
   "version": "3.10.5"
  }
 },
 "nbformat": 4,
 "nbformat_minor": 2
}
