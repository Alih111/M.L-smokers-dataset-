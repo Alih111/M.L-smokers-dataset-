{
 "cells": [
  {
   "cell_type": "code",
   "execution_count": 31,
   "metadata": {},
   "outputs": [],
   "source": [
    "from sklearn.model_selection import train_test_split\n",
    "import pandas as pd\n",
    "from scipy.stats import zscore\n",
    "import matplotlib.pyplot as plt\n",
    "import numpy as np\n",
    "from sklearn.preprocessing import StandardScaler"
   ]
  },
  {
   "cell_type": "markdown",
   "metadata": {},
   "source": [
    "# import the dataset"
   ]
  },
  {
   "cell_type": "code",
   "execution_count": 32,
   "metadata": {},
   "outputs": [
    {
     "name": "stdout",
     "output_type": "stream",
     "text": [
      "<class 'pandas.core.frame.DataFrame'>\n",
      "RangeIndex: 159256 entries, 0 to 159255\n",
      "Data columns (total 11 columns):\n",
      " #   Column            Non-Null Count   Dtype  \n",
      "---  ------            --------------   -----  \n",
      " 0   eyesight(left)    159256 non-null  float64\n",
      " 1   systolic          159256 non-null  int64  \n",
      " 2   serum creatinine  159256 non-null  float64\n",
      " 3   triglyceride      159256 non-null  int64  \n",
      " 4   Cholesterol       159256 non-null  int64  \n",
      " 5   AST               159256 non-null  int64  \n",
      " 6   height(cm)        159256 non-null  int64  \n",
      " 7   waist(cm)         159256 non-null  float64\n",
      " 8   age               159256 non-null  int64  \n",
      " 9   LDL               159256 non-null  int64  \n",
      " 10  smoking           159256 non-null  int64  \n",
      "dtypes: float64(3), int64(8)\n",
      "memory usage: 13.4 MB\n",
      "eyesight(left)      0\n",
      "systolic            0\n",
      "serum creatinine    0\n",
      "triglyceride        0\n",
      "Cholesterol         0\n",
      "AST                 0\n",
      "height(cm)          0\n",
      "waist(cm)           0\n",
      "age                 0\n",
      "LDL                 0\n",
      "smoking             0\n",
      "dtype: int64\n",
      "(159256, 11)\n"
     ]
    }
   ],
   "source": [
    "data=pd.read_csv(\"Your_data.csv\")\n",
    "data.drop(data.columns[0], axis=1,inplace=True)\n",
    "data.head(3)\n",
    "data.info()\n",
    "print(str(data.isnull().sum()))\n",
    "print(data.shape)"
   ]
  },
  {
   "cell_type": "markdown",
   "metadata": {},
   "source": [
    "<h4> data split in train , test and validataion</h4>"
   ]
  },
  {
   "cell_type": "code",
   "execution_count": 33,
   "metadata": {},
   "outputs": [
    {
     "name": "stdout",
     "output_type": "stream",
     "text": [
      "(159256, 11)\n"
     ]
    }
   ],
   "source": [
    "X=data.drop('smoking', axis=1)\n",
    "Y = data['smoking']\n",
    "train_data, test_data = train_test_split(data, test_size=0.3, random_state=42, stratify=data['smoking'])\n",
    "X_train=train_data.drop(['smoking'],axis=1)\n",
    "Y_train=train_data['smoking']\n",
    "print(data.shape)"
   ]
  },
  {
   "cell_type": "markdown",
   "metadata": {},
   "source": [
    "# print some details about the dataset"
   ]
  },
  {
   "cell_type": "code",
   "execution_count": 34,
   "metadata": {},
   "outputs": [
    {
     "data": {
      "text/html": [
       "<div>\n",
       "<style scoped>\n",
       "    .dataframe tbody tr th:only-of-type {\n",
       "        vertical-align: middle;\n",
       "    }\n",
       "\n",
       "    .dataframe tbody tr th {\n",
       "        vertical-align: top;\n",
       "    }\n",
       "\n",
       "    .dataframe thead th {\n",
       "        text-align: right;\n",
       "    }\n",
       "</style>\n",
       "<table border=\"1\" class=\"dataframe\">\n",
       "  <thead>\n",
       "    <tr style=\"text-align: right;\">\n",
       "      <th></th>\n",
       "      <th>eyesight(left)</th>\n",
       "      <th>systolic</th>\n",
       "      <th>serum creatinine</th>\n",
       "      <th>triglyceride</th>\n",
       "      <th>Cholesterol</th>\n",
       "      <th>AST</th>\n",
       "      <th>height(cm)</th>\n",
       "      <th>waist(cm)</th>\n",
       "      <th>age</th>\n",
       "      <th>LDL</th>\n",
       "      <th>smoking</th>\n",
       "    </tr>\n",
       "  </thead>\n",
       "  <tbody>\n",
       "    <tr>\n",
       "      <th>count</th>\n",
       "      <td>159256.000000</td>\n",
       "      <td>159256.000000</td>\n",
       "      <td>159256.000000</td>\n",
       "      <td>159256.000000</td>\n",
       "      <td>159256.000000</td>\n",
       "      <td>159256.000000</td>\n",
       "      <td>159256.000000</td>\n",
       "      <td>159256.000000</td>\n",
       "      <td>159256.000000</td>\n",
       "      <td>159256.000000</td>\n",
       "      <td>159256.000000</td>\n",
       "    </tr>\n",
       "    <tr>\n",
       "      <th>mean</th>\n",
       "      <td>1.005798</td>\n",
       "      <td>122.503648</td>\n",
       "      <td>0.892764</td>\n",
       "      <td>127.616046</td>\n",
       "      <td>195.796165</td>\n",
       "      <td>25.516853</td>\n",
       "      <td>165.266929</td>\n",
       "      <td>83.001990</td>\n",
       "      <td>44.306626</td>\n",
       "      <td>114.607682</td>\n",
       "      <td>0.437365</td>\n",
       "    </tr>\n",
       "    <tr>\n",
       "      <th>std</th>\n",
       "      <td>0.402113</td>\n",
       "      <td>12.729315</td>\n",
       "      <td>0.179346</td>\n",
       "      <td>66.188989</td>\n",
       "      <td>28.396959</td>\n",
       "      <td>9.464882</td>\n",
       "      <td>8.818970</td>\n",
       "      <td>8.957937</td>\n",
       "      <td>11.842286</td>\n",
       "      <td>28.158931</td>\n",
       "      <td>0.496063</td>\n",
       "    </tr>\n",
       "    <tr>\n",
       "      <th>min</th>\n",
       "      <td>0.100000</td>\n",
       "      <td>77.000000</td>\n",
       "      <td>0.100000</td>\n",
       "      <td>8.000000</td>\n",
       "      <td>77.000000</td>\n",
       "      <td>6.000000</td>\n",
       "      <td>135.000000</td>\n",
       "      <td>51.000000</td>\n",
       "      <td>20.000000</td>\n",
       "      <td>1.000000</td>\n",
       "      <td>0.000000</td>\n",
       "    </tr>\n",
       "    <tr>\n",
       "      <th>25%</th>\n",
       "      <td>0.800000</td>\n",
       "      <td>114.000000</td>\n",
       "      <td>0.800000</td>\n",
       "      <td>77.000000</td>\n",
       "      <td>175.000000</td>\n",
       "      <td>20.000000</td>\n",
       "      <td>160.000000</td>\n",
       "      <td>77.000000</td>\n",
       "      <td>40.000000</td>\n",
       "      <td>95.000000</td>\n",
       "      <td>0.000000</td>\n",
       "    </tr>\n",
       "    <tr>\n",
       "      <th>50%</th>\n",
       "      <td>1.000000</td>\n",
       "      <td>121.000000</td>\n",
       "      <td>0.900000</td>\n",
       "      <td>115.000000</td>\n",
       "      <td>196.000000</td>\n",
       "      <td>24.000000</td>\n",
       "      <td>165.000000</td>\n",
       "      <td>83.000000</td>\n",
       "      <td>40.000000</td>\n",
       "      <td>114.000000</td>\n",
       "      <td>0.000000</td>\n",
       "    </tr>\n",
       "    <tr>\n",
       "      <th>75%</th>\n",
       "      <td>1.200000</td>\n",
       "      <td>130.000000</td>\n",
       "      <td>1.000000</td>\n",
       "      <td>165.000000</td>\n",
       "      <td>217.000000</td>\n",
       "      <td>29.000000</td>\n",
       "      <td>170.000000</td>\n",
       "      <td>89.000000</td>\n",
       "      <td>55.000000</td>\n",
       "      <td>133.000000</td>\n",
       "      <td>1.000000</td>\n",
       "    </tr>\n",
       "    <tr>\n",
       "      <th>max</th>\n",
       "      <td>9.900000</td>\n",
       "      <td>213.000000</td>\n",
       "      <td>9.900000</td>\n",
       "      <td>766.000000</td>\n",
       "      <td>393.000000</td>\n",
       "      <td>778.000000</td>\n",
       "      <td>190.000000</td>\n",
       "      <td>127.000000</td>\n",
       "      <td>85.000000</td>\n",
       "      <td>1860.000000</td>\n",
       "      <td>1.000000</td>\n",
       "    </tr>\n",
       "  </tbody>\n",
       "</table>\n",
       "</div>"
      ],
      "text/plain": [
       "       eyesight(left)       systolic  serum creatinine   triglyceride  \\\n",
       "count   159256.000000  159256.000000     159256.000000  159256.000000   \n",
       "mean         1.005798     122.503648          0.892764     127.616046   \n",
       "std          0.402113      12.729315          0.179346      66.188989   \n",
       "min          0.100000      77.000000          0.100000       8.000000   \n",
       "25%          0.800000     114.000000          0.800000      77.000000   \n",
       "50%          1.000000     121.000000          0.900000     115.000000   \n",
       "75%          1.200000     130.000000          1.000000     165.000000   \n",
       "max          9.900000     213.000000          9.900000     766.000000   \n",
       "\n",
       "         Cholesterol            AST     height(cm)      waist(cm)  \\\n",
       "count  159256.000000  159256.000000  159256.000000  159256.000000   \n",
       "mean      195.796165      25.516853     165.266929      83.001990   \n",
       "std        28.396959       9.464882       8.818970       8.957937   \n",
       "min        77.000000       6.000000     135.000000      51.000000   \n",
       "25%       175.000000      20.000000     160.000000      77.000000   \n",
       "50%       196.000000      24.000000     165.000000      83.000000   \n",
       "75%       217.000000      29.000000     170.000000      89.000000   \n",
       "max       393.000000     778.000000     190.000000     127.000000   \n",
       "\n",
       "                 age            LDL        smoking  \n",
       "count  159256.000000  159256.000000  159256.000000  \n",
       "mean       44.306626     114.607682       0.437365  \n",
       "std        11.842286      28.158931       0.496063  \n",
       "min        20.000000       1.000000       0.000000  \n",
       "25%        40.000000      95.000000       0.000000  \n",
       "50%        40.000000     114.000000       0.000000  \n",
       "75%        55.000000     133.000000       1.000000  \n",
       "max        85.000000    1860.000000       1.000000  "
      ]
     },
     "execution_count": 34,
     "metadata": {},
     "output_type": "execute_result"
    }
   ],
   "source": [
    "data.describe()"
   ]
  },
  {
   "cell_type": "markdown",
   "metadata": {},
   "source": [
    "<h3> remove outliers from train data by percentile</h3>\n",
    "<p> test age feature</p>"
   ]
  },
  {
   "cell_type": "code",
   "execution_count": 35,
   "metadata": {},
   "outputs": [
    {
     "name": "stdout",
     "output_type": "stream",
     "text": [
      "85.0 20.0\n"
     ]
    }
   ],
   "source": [
    "max_threshold=train_data['age'].quantile(1)\n",
    "min_threshold=train_data['age'].quantile(0)\n",
    "print(max_threshold,min_threshold)"
   ]
  },
  {
   "cell_type": "markdown",
   "metadata": {},
   "source": [
    "<p> test LDL feature</p>"
   ]
  },
  {
   "cell_type": "code",
   "execution_count": 36,
   "metadata": {},
   "outputs": [
    {
     "name": "stdout",
     "output_type": "stream",
     "text": [
      "202.0 42.0\n",
      "(111249, 11)\n"
     ]
    }
   ],
   "source": [
    "max_threshold = train_data['LDL'].quantile(0.999)\n",
    "min_threshold = train_data['LDL'].quantile(0.001)\n",
    "print(max_threshold,min_threshold)\n",
    "train_data = train_data[(train_data['LDL'] < max_threshold) & (train_data['LDL'] > min_threshold)]\n",
    "\n",
    "print(train_data.shape)"
   ]
  },
  {
   "cell_type": "code",
   "execution_count": 37,
   "metadata": {},
   "outputs": [
    {
     "name": "stdout",
     "output_type": "stream",
     "text": [
      "187.87679999995453 9.0\n",
      "(111221, 11)\n"
     ]
    }
   ],
   "source": [
    "max_threshold = train_data['AST'].quantile(0.9999)\n",
    "min_threshold = train_data['AST'].quantile(0.0001)\n",
    "print(max_threshold,min_threshold)\n",
    "train_data = train_data[(train_data['AST'] < max_threshold) & (train_data['AST'] > min_threshold)]\n",
    "\n",
    "print(train_data.shape)"
   ]
  },
  {
   "cell_type": "code",
   "execution_count": 38,
   "metadata": {},
   "outputs": [
    {
     "name": "stdout",
     "output_type": "stream",
     "text": [
      "1.987799999998242 0.1122\n",
      "(111197, 11)\n"
     ]
    }
   ],
   "source": [
    "max_threshold = train_data['serum creatinine'].quantile(0.9999)\n",
    "min_threshold = train_data['serum creatinine'].quantile(0.0001)\n",
    "print(max_threshold,min_threshold)\n",
    "train_data = train_data[(train_data['serum creatinine'] < max_threshold) & (train_data['serum creatinine'] > min_threshold)]\n",
    "\n",
    "print(train_data.shape)"
   ]
  },
  {
   "cell_type": "markdown",
   "metadata": {},
   "source": [
    "<p> test chelosterol feature</p>"
   ]
  },
  {
   "cell_type": "code",
   "execution_count": 39,
   "metadata": {},
   "outputs": [
    {
     "name": "stdout",
     "output_type": "stream",
     "text": [
      "283.0 118.0\n",
      "(110963, 11)\n"
     ]
    }
   ],
   "source": [
    "max_threshold = train_data['Cholesterol'].quantile(0.999)\n",
    "min_threshold = train_data['Cholesterol'].quantile(0.001)\n",
    "print(max_threshold,min_threshold)\n",
    "train_data = train_data[(train_data['Cholesterol'] < max_threshold) & (train_data['Cholesterol'] > min_threshold)]\n",
    "\n",
    "print(train_data.shape)"
   ]
  },
  {
   "cell_type": "markdown",
   "metadata": {},
   "source": [
    "<p>test systolic feature</p>"
   ]
  },
  {
   "cell_type": "code",
   "execution_count": 40,
   "metadata": {},
   "outputs": [
    {
     "name": "stdout",
     "output_type": "stream",
     "text": [
      "170.0 90.0\n",
      "(110300, 11)\n"
     ]
    }
   ],
   "source": [
    "max_threshold = train_data['systolic'].quantile(0.999)\n",
    "min_threshold = train_data['systolic'].quantile(0.001)\n",
    "print(max_threshold,min_threshold)\n",
    "train_data = train_data[(train_data['systolic'] < max_threshold) & (train_data['systolic'] > min_threshold)]\n",
    "\n",
    "print(train_data.shape)"
   ]
  },
  {
   "cell_type": "markdown",
   "metadata": {},
   "source": [
    "<p>test height feature</p>"
   ]
  },
  {
   "cell_type": "code",
   "execution_count": 41,
   "metadata": {},
   "outputs": [
    {
     "name": "stdout",
     "output_type": "stream",
     "text": [
      "185.0 140.0\n",
      "(108906, 11)\n"
     ]
    }
   ],
   "source": [
    "max_threshold = train_data['height(cm)'].quantile(0.999)\n",
    "min_threshold = train_data['height(cm)'].quantile(0.001)\n",
    "print(max_threshold,min_threshold)\n",
    "train_data = train_data[(train_data['height(cm)'] < max_threshold) & (train_data['height(cm)'] > min_threshold)]\n",
    "\n",
    "print(train_data.shape)"
   ]
  },
  {
   "cell_type": "markdown",
   "metadata": {},
   "source": [
    "<h3>z score normalization to remove outliers</h3>\n",
    "<p>  is suited for triglyceride distribution</p>"
   ]
  },
  {
   "cell_type": "code",
   "execution_count": 42,
   "metadata": {},
   "outputs": [
    {
     "name": "stdout",
     "output_type": "stream",
     "text": [
      "(107774, 11)\n"
     ]
    }
   ],
   "source": [
    "z_scores = zscore(train_data['triglyceride'])\n",
    "z_score_threshold = 3\n",
    "outliers = np.abs(z_scores) > z_score_threshold\n",
    "\n",
    "train_data = train_data[~outliers]\n",
    "print(train_data.shape)"
   ]
  },
  {
   "cell_type": "code",
   "execution_count": 43,
   "metadata": {},
   "outputs": [
    {
     "name": "stdout",
     "output_type": "stream",
     "text": [
      "(107494, 11)\n"
     ]
    }
   ],
   "source": [
    "#waist\n",
    "z_scores = zscore(train_data['waist(cm)'])\n",
    "z_score_threshold = 3\n",
    "outliers = np.abs(z_scores) > z_score_threshold\n",
    "\n",
    "train_data = train_data[~outliers]\n",
    "print(train_data.shape)"
   ]
  },
  {
   "cell_type": "code",
   "execution_count": 44,
   "metadata": {},
   "outputs": [
    {
     "name": "stdout",
     "output_type": "stream",
     "text": [
      "(107401, 11)\n"
     ]
    }
   ],
   "source": [
    "#eyesight(left)\n",
    "z_scores = zscore(train_data['eyesight(left)'])\n",
    "z_score_threshold = 3\n",
    "outliers = np.abs(z_scores) > z_score_threshold\n",
    "\n",
    "train_data = train_data[~outliers]\n",
    "print(train_data.shape)"
   ]
  },
  {
   "cell_type": "code",
   "execution_count": 45,
   "metadata": {},
   "outputs": [
    {
     "data": {
      "text/plain": [
       "smoking\n",
       "0    62722\n",
       "1    48757\n",
       "Name: count, dtype: int64"
      ]
     },
     "execution_count": 45,
     "metadata": {},
     "output_type": "execute_result"
    }
   ],
   "source": [
    "Y_train.value_counts()"
   ]
  },
  {
   "cell_type": "markdown",
   "metadata": {},
   "source": [
    "# Print the ratio between two classes"
   ]
  },
  {
   "cell_type": "code",
   "execution_count": 46,
   "metadata": {},
   "outputs": [
    {
     "data": {
      "text/plain": [
       "smoking\n",
       "0    89603\n",
       "1    69653\n",
       "Name: count, dtype: int64"
      ]
     },
     "execution_count": 46,
     "metadata": {},
     "output_type": "execute_result"
    }
   ],
   "source": [
    "data.smoking.value_counts()"
   ]
  },
  {
   "cell_type": "markdown",
   "metadata": {},
   "source": [
    "# drop the target from the dataset"
   ]
  },
  {
   "cell_type": "code",
   "execution_count": 47,
   "metadata": {},
   "outputs": [
    {
     "data": {
      "text/plain": [
       "0         1\n",
       "1         0\n",
       "2         1\n",
       "3         0\n",
       "4         1\n",
       "         ..\n",
       "159251    0\n",
       "159252    0\n",
       "159253    0\n",
       "159254    1\n",
       "159255    0\n",
       "Name: smoking, Length: 159256, dtype: int64"
      ]
     },
     "execution_count": 47,
     "metadata": {},
     "output_type": "execute_result"
    }
   ],
   "source": [
    "X = data.drop(\"smoking\",axis=\"columns\")\n",
    "y = data.smoking\n",
    "y"
   ]
  },
  {
   "cell_type": "markdown",
   "metadata": {},
   "source": [
    "# scale the data"
   ]
  },
  {
   "cell_type": "code",
   "execution_count": 48,
   "metadata": {},
   "outputs": [
    {
     "data": {
      "text/plain": [
       "array([[-1.2578561 ,  0.98170175,  0.59792738,  2.60442859, -0.83798548,\n",
       "        -0.37156981, -0.03026766, -0.22348852,  0.90298511, -1.40658059],\n",
       "       [-1.00916876,  1.84585151,  1.15551071, -1.09710504, -0.06325221,\n",
       "         0.15670045, -0.03026766,  0.66957702,  2.16963644,  0.40457337],\n",
       "       [-1.50654343, -0.35380241, -0.51723927,  1.04827363, -0.62669459,\n",
       "         0.15670045,  0.53669377, -0.22348852, -2.05253466, -0.76734978]])"
      ]
     },
     "execution_count": 48,
     "metadata": {},
     "output_type": "execute_result"
    }
   ],
   "source": [
    "from sklearn.preprocessing import StandardScaler\n",
    "\n",
    "scaler = StandardScaler()\n",
    "X_scaled = scaler.fit_transform(X)\n",
    "X_scaled[:3]"
   ]
  },
  {
   "cell_type": "markdown",
   "metadata": {},
   "source": [
    "# split dataset into training and testing data"
   ]
  },
  {
   "cell_type": "code",
   "execution_count": 49,
   "metadata": {},
   "outputs": [],
   "source": [
    "from sklearn.model_selection import train_test_split\n",
    "\n",
    "# X_train=train_data.drop(['smoking'],axis=1)\n",
    "# Y_train=train_data['smoking']\n",
    "validation,test=train_test_split(test_data, test_size=0.5, random_state=42, stratify=test_data['smoking'])\n",
    "X_valid=validation.drop(['smoking'],axis=1)\n",
    "Y_valid=validation['smoking']\n",
    "X_test=test.drop(['smoking'],axis=1)\n",
    "Y_test=test['smoking']"
   ]
  },
  {
   "cell_type": "markdown",
   "metadata": {},
   "source": [
    "<h3>data normalization</h3>"
   ]
  },
  {
   "cell_type": "code",
   "execution_count": 50,
   "metadata": {},
   "outputs": [
    {
     "name": "stdout",
     "output_type": "stream",
     "text": [
      "(135368, 10)\n"
     ]
    },
    {
     "data": {
      "text/plain": [
       "(135368,)"
      ]
     },
     "execution_count": 50,
     "metadata": {},
     "output_type": "execute_result"
    }
   ],
   "source": [
    "normalizer=StandardScaler()\n",
    "X_train=normalizer.fit_transform(X_train)\n",
    "X_test = normalizer.transform(X_test)\n",
    "X_valid=normalizer.transform(X_valid)\n",
    "X = np.vstack((X_train, X_test))\n",
    "print(X.shape)\n",
    "Y = np.concatenate((Y_train.values, Y_test.values))\n",
    "Y.shape"
   ]
  },
  {
   "cell_type": "code",
   "execution_count": 51,
   "metadata": {},
   "outputs": [
    {
     "name": "stdout",
     "output_type": "stream",
     "text": [
      "(111479, 10)\n"
     ]
    },
    {
     "data": {
      "text/plain": [
       "array([[-0.26067273, -2.55992493, -1.63431272, ..., -1.78939163,\n",
       "        -0.36478134,  0.70235182],\n",
       "       [-0.50709452, -0.3558932 , -2.19306424, ...,  0.65994431,\n",
       "         0.47974491, -0.13179845],\n",
       "       [ 0.47859262, -1.14304739,  0.60069334, ...,  2.5724395 ,\n",
       "        -0.78704446,  0.33967779],\n",
       "       ...,\n",
       "       [ 0.47859262,  1.37584602,  0.60069334, ...,  0.89481214,\n",
       "         0.90200803, -0.16806585],\n",
       "       [-0.26067273,  0.74612267,  0.04194182, ...,  0.6711285 ,\n",
       "         1.32427115,  0.66608442],\n",
       "       [-1.73920344,  0.27383015, -1.63431272, ...,  0.78297032,\n",
       "         0.47974491,  0.4122126 ]])"
      ]
     },
     "execution_count": 51,
     "metadata": {},
     "output_type": "execute_result"
    }
   ],
   "source": [
    "print(X_train.shape)\n",
    "X_train"
   ]
  },
  {
   "cell_type": "code",
   "execution_count": 52,
   "metadata": {},
   "outputs": [
    {
     "name": "stdout",
     "output_type": "stream",
     "text": [
      "(23889, 10)\n"
     ]
    },
    {
     "data": {
      "text/plain": [
       "array([[ 1.21785798, -0.19846236,  0.60069334, ...,  1.67770491,\n",
       "        -0.36478134,  2.37065235],\n",
       "       [ 0.47859262,  0.82483809,  1.15944486, ...,  0.2237612 ,\n",
       "        -1.20930759,  0.08580597],\n",
       "       [-0.01425095,  2.16300021,  2.27694789, ...,  1.67770491,\n",
       "         0.90200803,  0.04953857],\n",
       "       ...,\n",
       "       [ 0.47859262, -1.53662448, -1.07556121, ..., -1.00649886,\n",
       "        -0.36478134, -0.02299624],\n",
       "       [-0.01425095, -1.14304739,  0.04194182, ...,  0.17902447,\n",
       "        -0.36478134,  2.18931534],\n",
       "       [ 0.47859262, -1.30047823, -0.51680969, ...,  0.6711285 ,\n",
       "        -1.20930759, -0.74834429]])"
      ]
     },
     "execution_count": 52,
     "metadata": {},
     "output_type": "execute_result"
    }
   ],
   "source": [
    "print(X_test.shape)\n",
    "X_test"
   ]
  },
  {
   "cell_type": "code",
   "execution_count": 53,
   "metadata": {},
   "outputs": [
    {
     "data": {
      "text/plain": [
       "array([[-0.26067273, -2.55992493, -1.63431272, ..., -1.78939163,\n",
       "        -0.36478134,  0.70235182],\n",
       "       [-0.50709452, -0.3558932 , -2.19306424, ...,  0.65994431,\n",
       "         0.47974491, -0.13179845],\n",
       "       [ 0.47859262, -1.14304739,  0.60069334, ...,  2.5724395 ,\n",
       "        -0.78704446,  0.33967779],\n",
       "       ...,\n",
       "       [ 0.47859262,  1.37584602,  0.60069334, ...,  0.89481214,\n",
       "         0.90200803, -0.16806585],\n",
       "       [-0.26067273,  0.74612267,  0.04194182, ...,  0.6711285 ,\n",
       "         1.32427115,  0.66608442],\n",
       "       [-1.73920344,  0.27383015, -1.63431272, ...,  0.78297032,\n",
       "         0.47974491,  0.4122126 ]])"
      ]
     },
     "execution_count": 53,
     "metadata": {},
     "output_type": "execute_result"
    }
   ],
   "source": [
    "X_train"
   ]
  },
  {
   "cell_type": "markdown",
   "metadata": {},
   "source": [
    "# Train using Bagging from sklearn"
   ]
  },
  {
   "cell_type": "code",
   "execution_count": 24,
   "metadata": {},
   "outputs": [
    {
     "name": "stderr",
     "output_type": "stream",
     "text": [
      "d:\\anaconda\\Lib\\site-packages\\sklearn\\ensemble\\_base.py:156: FutureWarning: `base_estimator` was renamed to `estimator` in version 1.2 and will be removed in 1.4.\n",
      "  warnings.warn(\n"
     ]
    },
    {
     "data": {
      "text/plain": [
       "0.7404443886292486"
      ]
     },
     "execution_count": 24,
     "metadata": {},
     "output_type": "execute_result"
    }
   ],
   "source": [
    "from sklearn.ensemble import BaggingClassifier\n",
    "from sklearn.tree import DecisionTreeClassifier\n",
    "from sklearn import metrics\n",
    "\n",
    "bag_model = BaggingClassifier(\n",
    "    base_estimator=DecisionTreeClassifier(), \n",
    "    n_estimators=100, \n",
    "    max_samples=0.8, \n",
    "    oob_score=True,\n",
    "    random_state=0\n",
    ")\n",
    "bag_model.fit(X_train, Y_train)\n",
    "bag_model.oob_score_"
   ]
  },
  {
   "cell_type": "code",
   "execution_count": 25,
   "metadata": {},
   "outputs": [
    {
     "data": {
      "text/plain": [
       "0.7400895809786932"
      ]
     },
     "execution_count": 25,
     "metadata": {},
     "output_type": "execute_result"
    }
   ],
   "source": [
    "bag_model.score(X_test, Y_test)"
   ]
  },
  {
   "cell_type": "markdown",
   "metadata": {},
   "source": [
    "# Train using Bagging without sklearn"
   ]
  },
  {
   "cell_type": "code",
   "execution_count": 26,
   "metadata": {},
   "outputs": [
    {
     "name": "stdout",
     "output_type": "stream",
     "text": [
      "Accuracy: 0.7192732752846618\n"
     ]
    }
   ],
   "source": [
    "import numpy as np\n",
    "from sklearn.utils import resample\n",
    "from sklearn.base import BaseEstimator,ClassifierMixin\n",
    "\n",
    "\n",
    "class BaggingClassifier(BaseEstimator, ClassifierMixin):\n",
    "    def __init__(self, base_learner, n_estimators, max_samples, max_features, bootstrap, random_state):\n",
    "        super().__init__()\n",
    "        self.base_learner = base_learner\n",
    "        self.n_estimators = n_estimators\n",
    "        self.max_samples = max_samples\n",
    "        self.max_features = max_features\n",
    "        self.bootstrap = bootstrap\n",
    "        self.random_state = random_state\n",
    "        self.base_learners = []\n",
    "\n",
    "    def fit(self, X, y):\n",
    "        for _ in range(self.n_estimators):\n",
    "            # Bootstrap resample the training set\n",
    "            X_bootstrap, y_bootstrap = resample(X, y, replace=self.bootstrap, n_samples=int(self.max_samples * X.shape[0]), random_state=self.random_state)\n",
    "\n",
    "            # Train a base learner on the resampled data\n",
    "            learner = self.base_learner(max_features=self.max_features)  \n",
    "            learner.fit(X_bootstrap, y_bootstrap)\n",
    "           \n",
    "            # Append the trained learner to the list\n",
    "            self.base_learners.append(learner)\n",
    "\n",
    "    def predict(self, X_new):\n",
    "        predictions = np.mean([learner.predict(X_new) for learner in self.base_learners], axis=0)\n",
    "        return np.round(predictions)\n",
    "\n",
    "    def score(self, X_v, Y_v):\n",
    "        predictions_bagging = self.predict(X_v)\n",
    "        accuracy = metrics.accuracy_score(Y_v, predictions_bagging)\n",
    "        return accuracy\n",
    "\n",
    "\n",
    "bagging_classifier = BaggingClassifier(base_learner=DecisionTreeClassifier, n_estimators=100, max_samples=0.8, max_features=0.8, bootstrap=True, random_state=42)\n",
    "bagging_classifier.fit(X_train, Y_train)\n",
    "accuracy = bagging_classifier.score(X_valid,Y_valid)\n",
    "print(\"Accuracy:\", accuracy)"
   ]
  },
  {
   "cell_type": "markdown",
   "metadata": {},
   "source": [
    "<h2>drop some features</h2>"
   ]
  },
  {
   "cell_type": "code",
   "execution_count": 27,
   "metadata": {},
   "outputs": [
    {
     "name": "stdout",
     "output_type": "stream",
     "text": [
      "Accuracy: 0.7128265237776289\n"
     ]
    }
   ],
   "source": [
    "import numpy as np\n",
    "from sklearn.utils import resample\n",
    "from sklearn.base import BaseEstimator, ClassifierMixin\n",
    "from sklearn.tree import DecisionTreeClassifier\n",
    "from sklearn import metrics\n",
    "\n",
    "# Assuming Y_train and Y_valid are your target variables\n",
    "Y_train = train_data['smoking']\n",
    "Y_valid = validation['smoking']\n",
    "\n",
    "X_train2 = train_data.drop(['serum creatinine', 'smoking'], axis=1)\n",
    "X_valid2 = validation.drop(['serum creatinine', 'smoking'], axis=1)\n",
    "\n",
    "class BaggingClassifier(BaseEstimator, ClassifierMixin):\n",
    "    def __init__(self, base_learner, n_estimators, max_samples, max_features, bootstrap, random_state):\n",
    "        super().__init__()\n",
    "        self.base_learner = base_learner\n",
    "        self.n_estimators = n_estimators\n",
    "        self.max_samples = max_samples\n",
    "        self.max_features = max_features\n",
    "        self.bootstrap = bootstrap\n",
    "        self.random_state = random_state\n",
    "        self.base_learners = []\n",
    "\n",
    "    def fit(self, X, y):\n",
    "        for _ in range(self.n_estimators):\n",
    "            # Bootstrap resample the training set\n",
    "            X_bootstrap, y_bootstrap = resample(X, y, replace=self.bootstrap, n_samples=int(self.max_samples * X.shape[0]), random_state=self.random_state)\n",
    "\n",
    "            # Train a base learner on the resampled data\n",
    "            learner = self.base_learner(max_features=self.max_features)  \n",
    "            learner.fit(X_bootstrap, y_bootstrap)\n",
    "           \n",
    "            # Append the trained learner to the list\n",
    "            self.base_learners.append(learner)\n",
    "\n",
    "    def predict(self, X_new):\n",
    "        predictions = np.mean([learner.predict(X_new) for learner in self.base_learners], axis=0)\n",
    "        return np.round(predictions)\n",
    "\n",
    "    def score(self, X_v, Y_v):\n",
    "        predictions_bagging = self.predict(X_v)\n",
    "        accuracy = metrics.accuracy_score(Y_v, predictions_bagging)\n",
    "        return accuracy\n",
    "\n",
    "# Instantiate and fit the BaggingClassifier\n",
    "bagging_classifier = BaggingClassifier(base_learner=DecisionTreeClassifier, n_estimators=100, max_samples=0.8, max_features=0.8, bootstrap=True, random_state=42)\n",
    "bagging_classifier.fit(X_train2, Y_train)\n",
    "accuracy = bagging_classifier.score(X_valid2, Y_valid)\n",
    "print(\"Accuracy:\", accuracy)\n"
   ]
  },
  {
   "cell_type": "markdown",
   "metadata": {},
   "source": [
    "# Train using Random Forest sklearn"
   ]
  },
  {
   "cell_type": "code",
   "execution_count": 28,
   "metadata": {},
   "outputs": [],
   "source": [
    "# from sklearn.ensemble import RandomForestClassifier\n",
    "# from sklearn import metrics\n",
    "# randomForest = RandomForestClassifier(n_estimators= 100)\n",
    "# randomForestModel = randomForest.fit(X_train,Y_train)\n",
    "# y_pred_0 = randomForestModel.predict(X_test)\n",
    "# # randomForestModel.oob_score_\n",
    "# print(\"Accuracy  :\",metrics.accuracy_score(Y_test,y_pred_0)) \n"
   ]
  },
  {
   "cell_type": "markdown",
   "metadata": {},
   "source": [
    "# Train using Random Forest without sklearn"
   ]
  },
  {
   "cell_type": "code",
   "execution_count": 54,
   "metadata": {},
   "outputs": [
    {
     "name": "stdout",
     "output_type": "stream",
     "text": [
      "Accuracy: 0.7369390488948426\n"
     ]
    }
   ],
   "source": [
    "from sklearn.base import BaseEstimator\n",
    "class RandomForestClassifier(BaseEstimator):\n",
    "\n",
    "    def __init__(self, base_learner, n_estimators, max_depth, max_features):\n",
    "        super().__init__()\n",
    " \n",
    "        self.base_learner = base_learner\n",
    "        self.n_estimators = n_estimators\n",
    "        self.max_depth = max_depth\n",
    "        self.max_features = max_features\n",
    "        self.base_learners = []\n",
    "\n",
    "    def fit(self, X, y):\n",
    "\n",
    "        for _ in range(self.n_estimators):\n",
    "            # Bootstrap resample the training set\n",
    "            X_bootstrap, y_bootstrap = resample(X, y, replace=True, random_state=np.random.randint(1, 100))\n",
    "\n",
    "            # Train a base learner on the resampled data\n",
    "            learner = self.base_learner(max_depth=self.max_depth, max_features=self.max_features)\n",
    "            learner.fit(X_bootstrap, y_bootstrap)\n",
    "\n",
    "            # Append the trained learner to the list\n",
    "            self.base_learners.append(learner)\n",
    "\n",
    "    def predict(self, X_new):\n",
    "\n",
    "        predictions = np.mean([learner.predict(X_new) for learner in self.base_learners], axis=0)\n",
    "        return np.round(predictions)\n",
    "\n",
    "    def score(self,X_v,Y_v):\n",
    "        predictions_bagging = self.predict(X_v)\n",
    "        accuracy = metrics.accuracy_score(Y_v, predictions_bagging)\n",
    "        return accuracy\n",
    "\n",
    "\n",
    "random_forest = RandomForestClassifier(base_learner=DecisionTreeClassifier, n_estimators=100, max_depth=None, max_features=None)\n",
    "random_forest.fit(X_train, Y_train)\n",
    "accuracy = random_forest.score(X_valid,Y_valid)\n",
    "print(\"Accuracy:\", accuracy)"
   ]
  },
  {
   "cell_type": "markdown",
   "metadata": {},
   "source": [
    "<h3>drop features</h3>"
   ]
  },
  {
   "cell_type": "code",
   "execution_count": 56,
   "metadata": {},
   "outputs": [
    {
     "name": "stdout",
     "output_type": "stream",
     "text": [
      "Accuracy: 0.728189886135298\n"
     ]
    }
   ],
   "source": [
    "Y_train = train_data['smoking']\n",
    "Y_valid = validation['smoking']\n",
    "\n",
    "X_train2 = train_data.drop(['serum creatinine', 'smoking'], axis=1)\n",
    "X_valid2 = validation.drop(['serum creatinine', 'smoking'], axis=1)\n",
    "from sklearn.base import BaseEstimator\n",
    "class RandomForestClassifier(BaseEstimator):\n",
    "\n",
    "    def __init__(self, base_learner, n_estimators, max_depth, max_features):\n",
    "        super().__init__()\n",
    " \n",
    "        self.base_learner = base_learner\n",
    "        self.n_estimators = n_estimators\n",
    "        self.max_depth = max_depth\n",
    "        self.max_features = max_features\n",
    "        self.base_learners = []\n",
    "\n",
    "    def fit(self, X, y):\n",
    "\n",
    "        for _ in range(self.n_estimators):\n",
    "            # Bootstrap resample the training set\n",
    "            X_bootstrap, y_bootstrap = resample(X, y, replace=True, random_state=np.random.randint(1, 100))\n",
    "\n",
    "            # Train a base learner on the resampled data\n",
    "            learner = self.base_learner(max_depth=self.max_depth, max_features=self.max_features)\n",
    "            learner.fit(X_bootstrap, y_bootstrap)\n",
    "\n",
    "            # Append the trained learner to the list\n",
    "            self.base_learners.append(learner)\n",
    "\n",
    "    def predict(self, X_new):\n",
    "\n",
    "        predictions = np.mean([learner.predict(X_new) for learner in self.base_learners], axis=0)\n",
    "        return np.round(predictions)\n",
    "\n",
    "    def score(self,X_v,Y_v):\n",
    "        predictions_bagging = self.predict(X_v)\n",
    "        accuracy = metrics.accuracy_score(Y_v, predictions_bagging)\n",
    "        return accuracy\n",
    "\n",
    "\n",
    "random_forest = RandomForestClassifier(base_learner=DecisionTreeClassifier, n_estimators=100, max_depth=None, max_features=None)\n",
    "random_forest.fit(X_train2, Y_train)\n",
    "accuracy = random_forest.score(X_valid2,Y_valid)\n",
    "print(\"Accuracy:\", accuracy)"
   ]
  },
  {
   "cell_type": "markdown",
   "metadata": {},
   "source": [
    "# training using Ada Boost sklearn"
   ]
  },
  {
   "cell_type": "code",
   "execution_count": null,
   "metadata": {},
   "outputs": [],
   "source": [
    "# from sklearn.ensemble import AdaBoostClassifier\n",
    "# from sklearn import metrics\n",
    "# Adamodel = AdaBoostClassifier(n_estimators=100 ,learning_rate=1)\n",
    "# model = Adamodel.fit(X_train,Y_train)\n",
    "# y_pred = model.predict(X_test)\n",
    "# print(\"Accuracy 1 :\",metrics.accuracy_score(Y_test,y_pred)) \n",
    "# # -----------------------------------------------------------\n",
    "# # using logisticRegression \n",
    "# from sklearn.linear_model import LogisticRegression \n",
    "# logisticModel = LogisticRegression()\n",
    "# Adamodel_2 = AdaBoostClassifier(n_estimators=100 ,base_estimator=logisticModel,learning_rate=1)\n",
    "# model_2 = Adamodel_2.fit(X_train,Y_train)\n",
    "# y_pred_2 = model_2.predict(X_test)\n",
    "# print(\"Accuracy 2 :\",metrics.accuracy_score(Y_test,y_pred_2)) \n"
   ]
  },
  {
   "cell_type": "markdown",
   "metadata": {},
   "source": [
    "# training using Ada Boost without sklearn"
   ]
  },
  {
   "cell_type": "code",
   "execution_count": 55,
   "metadata": {},
   "outputs": [
    {
     "name": "stdout",
     "output_type": "stream",
     "text": [
      "Accuracy: 0.7019423978566645\n"
     ]
    }
   ],
   "source": [
    "import numpy as np\n",
    "from sklearn.tree import DecisionTreeClassifier\n",
    "from sklearn.base import BaseEstimator\n",
    "\n",
    "class AdaBoostClassifier(BaseEstimator, ClassifierMixin):\n",
    "    def __init__(self, base_learner, n_estimators , learning_rate, max_depth, random_state):\n",
    "        super().__init__()\n",
    "        self.base_learner = base_learner\n",
    "        self.n_estimators = n_estimators\n",
    "        self.learning_rate = learning_rate\n",
    "        self.max_depth = max_depth\n",
    "        self.random_state = random_state\n",
    "        self.base_learners = []\n",
    "        self.learner_weights = []\n",
    "\n",
    "    def fit(self, X, y):\n",
    "        m = len(X)\n",
    "        weights = np.ones(m) / m  # Initialize sample weights\n",
    "\n",
    "        for _ in range(self.n_estimators):\n",
    "            # Train the base learner on the weighted sample\n",
    "            learner = self.base_learner(max_depth=self.max_depth, random_state=self.random_state)\n",
    "            learner.fit(X, y, sample_weight=weights)\n",
    "\n",
    "            # Make predictions\n",
    "            predictions = learner.predict(X)\n",
    "\n",
    "            # Compute weighted error\n",
    "            error = np.sum(weights * (predictions != y))\n",
    "\n",
    "            # Avoid division by zero\n",
    "            if error == 0:\n",
    "                alpha = 1\n",
    "            else:\n",
    "                # Compute learner weight\n",
    "                alpha = self.learning_rate * 0.5 * np.log((1 - error) / error)\n",
    "\n",
    "            # Update sample weights\n",
    "            weights *= np.exp(-alpha * y * predictions)\n",
    "            weights /= np.sum(weights)\n",
    "\n",
    "            # Append the trained learner and its weight to the lists\n",
    "            self.base_learners.append(learner)\n",
    "            self.learner_weights.append(alpha)\n",
    "\n",
    "    def predict(self, X_new):\n",
    "        predictions = np.sum([alpha * learner.predict(X_new) for learner, alpha in zip(self.base_learners, self.learner_weights)], axis=0)\n",
    "        return np.sign(predictions)\n",
    "\n",
    "    def score(self, X_v, Y_v):\n",
    "        predictions_ada_boost = self.predict(X_v)\n",
    "        accuracy = metrics.accuracy_score(Y_v, predictions_ada_boost)\n",
    "        return accuracy\n",
    "    \n",
    "ada_boost_classifier = AdaBoostClassifier(base_learner=DecisionTreeClassifier, n_estimators=100, learning_rate=1.0, max_depth=1, random_state=42)\n",
    "ada_boost_classifier.fit(X_train, Y_train)\n",
    "accuracy = ada_boost_classifier.score(X_valid,Y_valid)\n",
    "print(\"Accuracy:\", accuracy)\n"
   ]
  },
  {
   "cell_type": "markdown",
   "metadata": {},
   "source": [
    "## drop features"
   ]
  },
  {
   "cell_type": "code",
   "execution_count": 57,
   "metadata": {},
   "outputs": [
    {
     "name": "stdout",
     "output_type": "stream",
     "text": [
      "Accuracy: 0.7019423978566645\n"
     ]
    }
   ],
   "source": [
    "Y_train = train_data['smoking']\n",
    "Y_valid = validation['smoking']\n",
    "\n",
    "X_train2 = train_data.drop(['serum creatinine', 'smoking'], axis=1)\n",
    "X_valid2 = validation.drop(['serum creatinine', 'smoking'], axis=1)\n",
    "import numpy as np\n",
    "from sklearn.tree import DecisionTreeClassifier\n",
    "from sklearn.base import BaseEstimator\n",
    "\n",
    "class AdaBoostClassifier(BaseEstimator, ClassifierMixin):\n",
    "    def __init__(self, base_learner, n_estimators , learning_rate, max_depth, random_state):\n",
    "        super().__init__()\n",
    "        self.base_learner = base_learner\n",
    "        self.n_estimators = n_estimators\n",
    "        self.learning_rate = learning_rate\n",
    "        self.max_depth = max_depth\n",
    "        self.random_state = random_state\n",
    "        self.base_learners = []\n",
    "        self.learner_weights = []\n",
    "\n",
    "    def fit(self, X, y):\n",
    "        m = len(X)\n",
    "        weights = np.ones(m) / m  # Initialize sample weights\n",
    "\n",
    "        for _ in range(self.n_estimators):\n",
    "            # Train the base learner on the weighted sample\n",
    "            learner = self.base_learner(max_depth=self.max_depth, random_state=self.random_state)\n",
    "            learner.fit(X, y, sample_weight=weights)\n",
    "\n",
    "            # Make predictions\n",
    "            predictions = learner.predict(X)\n",
    "\n",
    "            # Compute weighted error\n",
    "            error = np.sum(weights * (predictions != y))\n",
    "\n",
    "            # Avoid division by zero\n",
    "            if error == 0:\n",
    "                alpha = 1\n",
    "            else:\n",
    "                # Compute learner weight\n",
    "                alpha = self.learning_rate * 0.5 * np.log((1 - error) / error)\n",
    "\n",
    "            # Update sample weights\n",
    "            weights *= np.exp(-alpha * y * predictions)\n",
    "            weights /= np.sum(weights)\n",
    "\n",
    "            # Append the trained learner and its weight to the lists\n",
    "            self.base_learners.append(learner)\n",
    "            self.learner_weights.append(alpha)\n",
    "\n",
    "    def predict(self, X_new):\n",
    "        predictions = np.sum([alpha * learner.predict(X_new) for learner, alpha in zip(self.base_learners, self.learner_weights)], axis=0)\n",
    "        return np.sign(predictions)\n",
    "\n",
    "    def score(self, X_v, Y_v):\n",
    "        predictions_ada_boost = self.predict(X_v)\n",
    "        accuracy = metrics.accuracy_score(Y_v, predictions_ada_boost)\n",
    "        return accuracy\n",
    "    \n",
    "ada_boost_classifier = AdaBoostClassifier(base_learner=DecisionTreeClassifier, n_estimators=100, learning_rate=1.0, max_depth=1, random_state=42)\n",
    "ada_boost_classifier.fit(X_train2, Y_train)\n",
    "accuracy = ada_boost_classifier.score(X_valid2,Y_valid)\n",
    "print(\"Accuracy:\", accuracy)\n"
   ]
  },
  {
   "cell_type": "markdown",
   "metadata": {},
   "source": [
    "<h1>GRIDSEARCH</h1>\n",
    "<h3>GRIDSERACH FOR BaggingClassifier</h3>\n",
    "\n",
    "\n",
    "\n",
    "\n",
    "\n",
    "\n",
    "\n",
    "\n"
   ]
  },
  {
   "cell_type": "code",
   "execution_count": null,
   "metadata": {},
   "outputs": [
    {
     "ename": "NameError",
     "evalue": "name 'BaggingClassifier' is not defined",
     "output_type": "error",
     "traceback": [
      "\u001b[1;31m---------------------------------------------------------------------------\u001b[0m",
      "\u001b[1;31mNameError\u001b[0m                                 Traceback (most recent call last)",
      "Cell \u001b[1;32mIn[1], line 4\u001b[0m\n\u001b[0;32m      1\u001b[0m \u001b[38;5;28;01mfrom\u001b[39;00m \u001b[38;5;21;01msklearn\u001b[39;00m\u001b[38;5;21;01m.\u001b[39;00m\u001b[38;5;21;01mmodel_selection\u001b[39;00m \u001b[38;5;28;01mimport\u001b[39;00m GridSearchCV\n\u001b[0;32m      2\u001b[0m \u001b[38;5;66;03m# from sklearn.tree import DecisionTreeClassifier\u001b[39;00m\n\u001b[0;32m      3\u001b[0m result \u001b[38;5;241m=\u001b[39m GridSearchCV(\n\u001b[1;32m----> 4\u001b[0m         BaggingClassifier(base_learner\u001b[38;5;241m=\u001b[39mDecisionTreeClassifier, n_estimators\u001b[38;5;241m=\u001b[39m\u001b[38;5;241m100\u001b[39m, max_samples\u001b[38;5;241m=\u001b[39m\u001b[38;5;241m0.8\u001b[39m, max_features\u001b[38;5;241m=\u001b[39m\u001b[38;5;241m0.8\u001b[39m, bootstrap\u001b[38;5;241m=\u001b[39m\u001b[38;5;28;01mTrue\u001b[39;00m, random_state\u001b[38;5;241m=\u001b[39m\u001b[38;5;241m42\u001b[39m),\n\u001b[0;32m      5\u001b[0m         {\n\u001b[0;32m      6\u001b[0m             \u001b[38;5;66;03m# 'estimator': [DecisionTreeClassifier()],\u001b[39;00m\n\u001b[0;32m      7\u001b[0m             \u001b[38;5;124m'\u001b[39m\u001b[38;5;124mn_estimators\u001b[39m\u001b[38;5;124m'\u001b[39m: [\u001b[38;5;241m50\u001b[39m, \u001b[38;5;241m100\u001b[39m,\u001b[38;5;241m200\u001b[39m],\n\u001b[0;32m      8\u001b[0m             \u001b[38;5;124m'\u001b[39m\u001b[38;5;124mmax_samples\u001b[39m\u001b[38;5;124m'\u001b[39m: [\u001b[38;5;241m0.3\u001b[39m, \u001b[38;5;241m0.5\u001b[39m, \u001b[38;5;241m0.8\u001b[39m, \u001b[38;5;241m0.9\u001b[39m],\n\u001b[0;32m      9\u001b[0m             \u001b[38;5;124m'\u001b[39m\u001b[38;5;124mmax_features\u001b[39m\u001b[38;5;124m'\u001b[39m:[\u001b[38;5;241m0.3\u001b[39m, \u001b[38;5;241m0.5\u001b[39m, \u001b[38;5;241m0.8\u001b[39m, \u001b[38;5;241m0.9\u001b[39m],\n\u001b[0;32m     10\u001b[0m             \u001b[38;5;124m'\u001b[39m\u001b[38;5;124mbootstrap\u001b[39m\u001b[38;5;124m'\u001b[39m:[\u001b[38;5;28;01mTrue\u001b[39;00m]\n\u001b[0;32m     11\u001b[0m         },\n\u001b[0;32m     12\u001b[0m     cv\u001b[38;5;241m=\u001b[39m\u001b[38;5;241m5\u001b[39m,\n\u001b[0;32m     13\u001b[0m     return_train_score\u001b[38;5;241m=\u001b[39m\u001b[38;5;28;01mFalse\u001b[39;00m,\n\u001b[0;32m     14\u001b[0m     n_jobs\u001b[38;5;241m=\u001b[39m\u001b[38;5;241m-\u001b[39m\u001b[38;5;241m1\u001b[39m\n\u001b[0;32m     15\u001b[0m )\n\u001b[0;32m     17\u001b[0m result\u001b[38;5;241m.\u001b[39mfit(X_train,Y_train)\n\u001b[0;32m     18\u001b[0m result\u001b[38;5;241m.\u001b[39mscore(X_valid,Y_valid)\n",
      "\u001b[1;31mNameError\u001b[0m: name 'BaggingClassifier' is not defined"
     ]
    }
   ],
   "source": [
    "from sklearn.model_selection import GridSearchCV\n",
    "# from sklearn.tree import DecisionTreeClassifier\n",
    "result = GridSearchCV(\n",
    "        BaggingClassifier(base_learner=DecisionTreeClassifier, n_estimators=100, max_samples=0.8, max_features=0.8, bootstrap=True, random_state=42),\n",
    "        {\n",
    "            # 'estimator': [DecisionTreeClassifier()],\n",
    "            'n_estimators': [50, 100,200],\n",
    "            'max_samples': [0.3, 0.5, 0.8, 0.9],\n",
    "            'max_features':[0.3, 0.5, 0.8, 0.9],\n",
    "            'bootstrap':[True]\n",
    "        },\n",
    "    cv=5,\n",
    "    return_train_score=False,\n",
    "    n_jobs=-1\n",
    ")\n",
    "\n",
    "result.fit(X_train,Y_train)\n",
    "result.score(X_valid,Y_valid)\n",
    "result.cv_results_\n",
    "\n"
   ]
  },
  {
   "cell_type": "markdown",
   "metadata": {},
   "source": [
    "# Result for grid search\n"
   ]
  },
  {
   "cell_type": "code",
   "execution_count": null,
   "metadata": {},
   "outputs": [
    {
     "data": {
      "text/html": [
       "<div>\n",
       "<style scoped>\n",
       "    .dataframe tbody tr th:only-of-type {\n",
       "        vertical-align: middle;\n",
       "    }\n",
       "\n",
       "    .dataframe tbody tr th {\n",
       "        vertical-align: top;\n",
       "    }\n",
       "\n",
       "    .dataframe thead th {\n",
       "        text-align: right;\n",
       "    }\n",
       "</style>\n",
       "<table border=\"1\" class=\"dataframe\">\n",
       "  <thead>\n",
       "    <tr style=\"text-align: right;\">\n",
       "      <th></th>\n",
       "      <th>mean_fit_time</th>\n",
       "      <th>std_fit_time</th>\n",
       "      <th>mean_score_time</th>\n",
       "      <th>std_score_time</th>\n",
       "      <th>param_bootstrap</th>\n",
       "      <th>param_max_features</th>\n",
       "      <th>param_max_samples</th>\n",
       "      <th>param_n_estimators</th>\n",
       "      <th>param_random_state</th>\n",
       "      <th>params</th>\n",
       "      <th>split0_test_score</th>\n",
       "      <th>split1_test_score</th>\n",
       "      <th>split2_test_score</th>\n",
       "      <th>split3_test_score</th>\n",
       "      <th>split4_test_score</th>\n",
       "      <th>mean_test_score</th>\n",
       "      <th>std_test_score</th>\n",
       "      <th>rank_test_score</th>\n",
       "    </tr>\n",
       "  </thead>\n",
       "  <tbody>\n",
       "    <tr>\n",
       "      <th>0</th>\n",
       "      <td>0.682404</td>\n",
       "      <td>0.033807</td>\n",
       "      <td>0.038603</td>\n",
       "      <td>0.008830</td>\n",
       "      <td>True</td>\n",
       "      <td>0.3</td>\n",
       "      <td>0.3</td>\n",
       "      <td>10</td>\n",
       "      <td>0</td>\n",
       "      <td>{'bootstrap': True, 'max_features': 0.3, 'max_...</td>\n",
       "      <td>0.708037</td>\n",
       "      <td>0.696944</td>\n",
       "      <td>0.698619</td>\n",
       "      <td>0.689973</td>\n",
       "      <td>0.696253</td>\n",
       "      <td>0.697965</td>\n",
       "      <td>0.005826</td>\n",
       "      <td>61</td>\n",
       "    </tr>\n",
       "    <tr>\n",
       "      <th>1</th>\n",
       "      <td>3.674797</td>\n",
       "      <td>0.259067</td>\n",
       "      <td>0.183875</td>\n",
       "      <td>0.016725</td>\n",
       "      <td>True</td>\n",
       "      <td>0.3</td>\n",
       "      <td>0.3</td>\n",
       "      <td>50</td>\n",
       "      <td>0</td>\n",
       "      <td>{'bootstrap': True, 'max_features': 0.3, 'max_...</td>\n",
       "      <td>0.729385</td>\n",
       "      <td>0.715990</td>\n",
       "      <td>0.732105</td>\n",
       "      <td>0.714465</td>\n",
       "      <td>0.713418</td>\n",
       "      <td>0.721073</td>\n",
       "      <td>0.007986</td>\n",
       "      <td>24</td>\n",
       "    </tr>\n",
       "    <tr>\n",
       "      <th>2</th>\n",
       "      <td>6.704958</td>\n",
       "      <td>0.774275</td>\n",
       "      <td>0.343670</td>\n",
       "      <td>0.059603</td>\n",
       "      <td>True</td>\n",
       "      <td>0.3</td>\n",
       "      <td>0.3</td>\n",
       "      <td>100</td>\n",
       "      <td>0</td>\n",
       "      <td>{'bootstrap': True, 'max_features': 0.3, 'max_...</td>\n",
       "      <td>0.730222</td>\n",
       "      <td>0.724362</td>\n",
       "      <td>0.727501</td>\n",
       "      <td>0.713837</td>\n",
       "      <td>0.716349</td>\n",
       "      <td>0.722454</td>\n",
       "      <td>0.006340</td>\n",
       "      <td>21</td>\n",
       "    </tr>\n",
       "    <tr>\n",
       "      <th>3</th>\n",
       "      <td>1.065585</td>\n",
       "      <td>0.201637</td>\n",
       "      <td>0.036967</td>\n",
       "      <td>0.006712</td>\n",
       "      <td>True</td>\n",
       "      <td>0.3</td>\n",
       "      <td>0.5</td>\n",
       "      <td>10</td>\n",
       "      <td>0</td>\n",
       "      <td>{'bootstrap': True, 'max_features': 0.3, 'max_...</td>\n",
       "      <td>0.709293</td>\n",
       "      <td>0.701339</td>\n",
       "      <td>0.705107</td>\n",
       "      <td>0.695834</td>\n",
       "      <td>0.700230</td>\n",
       "      <td>0.702361</td>\n",
       "      <td>0.004556</td>\n",
       "      <td>49</td>\n",
       "    </tr>\n",
       "    <tr>\n",
       "      <th>4</th>\n",
       "      <td>5.088342</td>\n",
       "      <td>0.636983</td>\n",
       "      <td>0.189042</td>\n",
       "      <td>0.032592</td>\n",
       "      <td>True</td>\n",
       "      <td>0.3</td>\n",
       "      <td>0.5</td>\n",
       "      <td>50</td>\n",
       "      <td>0</td>\n",
       "      <td>{'bootstrap': True, 'max_features': 0.3, 'max_...</td>\n",
       "      <td>0.732733</td>\n",
       "      <td>0.725827</td>\n",
       "      <td>0.727501</td>\n",
       "      <td>0.727444</td>\n",
       "      <td>0.727025</td>\n",
       "      <td>0.728106</td>\n",
       "      <td>0.002391</td>\n",
       "      <td>6</td>\n",
       "    </tr>\n",
       "    <tr>\n",
       "      <th>...</th>\n",
       "      <td>...</td>\n",
       "      <td>...</td>\n",
       "      <td>...</td>\n",
       "      <td>...</td>\n",
       "      <td>...</td>\n",
       "      <td>...</td>\n",
       "      <td>...</td>\n",
       "      <td>...</td>\n",
       "      <td>...</td>\n",
       "      <td>...</td>\n",
       "      <td>...</td>\n",
       "      <td>...</td>\n",
       "      <td>...</td>\n",
       "      <td>...</td>\n",
       "      <td>...</td>\n",
       "      <td>...</td>\n",
       "      <td>...</td>\n",
       "      <td>...</td>\n",
       "    </tr>\n",
       "    <tr>\n",
       "      <th>91</th>\n",
       "      <td>26.281176</td>\n",
       "      <td>0.890888</td>\n",
       "      <td>0.214800</td>\n",
       "      <td>0.052043</td>\n",
       "      <td>False</td>\n",
       "      <td>0.9</td>\n",
       "      <td>0.8</td>\n",
       "      <td>50</td>\n",
       "      <td>0</td>\n",
       "      <td>{'bootstrap': False, 'max_features': 0.9, 'max...</td>\n",
       "      <td>0.693596</td>\n",
       "      <td>0.684596</td>\n",
       "      <td>0.687526</td>\n",
       "      <td>0.688507</td>\n",
       "      <td>0.681809</td>\n",
       "      <td>0.687207</td>\n",
       "      <td>0.003964</td>\n",
       "      <td>79</td>\n",
       "    </tr>\n",
       "    <tr>\n",
       "      <th>92</th>\n",
       "      <td>60.565230</td>\n",
       "      <td>2.426173</td>\n",
       "      <td>0.476536</td>\n",
       "      <td>0.077865</td>\n",
       "      <td>False</td>\n",
       "      <td>0.9</td>\n",
       "      <td>0.8</td>\n",
       "      <td>100</td>\n",
       "      <td>0</td>\n",
       "      <td>{'bootstrap': False, 'max_features': 0.9, 'max...</td>\n",
       "      <td>0.692340</td>\n",
       "      <td>0.687526</td>\n",
       "      <td>0.685015</td>\n",
       "      <td>0.691019</td>\n",
       "      <td>0.687879</td>\n",
       "      <td>0.688756</td>\n",
       "      <td>0.002617</td>\n",
       "      <td>74</td>\n",
       "    </tr>\n",
       "    <tr>\n",
       "      <th>93</th>\n",
       "      <td>7.389082</td>\n",
       "      <td>1.483780</td>\n",
       "      <td>0.143107</td>\n",
       "      <td>0.068462</td>\n",
       "      <td>False</td>\n",
       "      <td>0.9</td>\n",
       "      <td>0.9</td>\n",
       "      <td>10</td>\n",
       "      <td>0</td>\n",
       "      <td>{'bootstrap': False, 'max_features': 0.9, 'max...</td>\n",
       "      <td>0.677480</td>\n",
       "      <td>0.679364</td>\n",
       "      <td>0.684387</td>\n",
       "      <td>0.677831</td>\n",
       "      <td>0.666318</td>\n",
       "      <td>0.677076</td>\n",
       "      <td>0.005919</td>\n",
       "      <td>93</td>\n",
       "    </tr>\n",
       "    <tr>\n",
       "      <th>94</th>\n",
       "      <td>32.074734</td>\n",
       "      <td>3.819629</td>\n",
       "      <td>0.407133</td>\n",
       "      <td>0.278367</td>\n",
       "      <td>False</td>\n",
       "      <td>0.9</td>\n",
       "      <td>0.9</td>\n",
       "      <td>50</td>\n",
       "      <td>0</td>\n",
       "      <td>{'bootstrap': False, 'max_features': 0.9, 'max...</td>\n",
       "      <td>0.689201</td>\n",
       "      <td>0.688573</td>\n",
       "      <td>0.681038</td>\n",
       "      <td>0.681390</td>\n",
       "      <td>0.664434</td>\n",
       "      <td>0.680927</td>\n",
       "      <td>0.008935</td>\n",
       "      <td>87</td>\n",
       "    </tr>\n",
       "    <tr>\n",
       "      <th>95</th>\n",
       "      <td>64.969832</td>\n",
       "      <td>8.203326</td>\n",
       "      <td>0.197695</td>\n",
       "      <td>0.051442</td>\n",
       "      <td>False</td>\n",
       "      <td>0.9</td>\n",
       "      <td>0.9</td>\n",
       "      <td>100</td>\n",
       "      <td>0</td>\n",
       "      <td>{'bootstrap': False, 'max_features': 0.9, 'max...</td>\n",
       "      <td>0.690247</td>\n",
       "      <td>0.687735</td>\n",
       "      <td>0.683550</td>\n",
       "      <td>0.678878</td>\n",
       "      <td>0.670295</td>\n",
       "      <td>0.682141</td>\n",
       "      <td>0.007071</td>\n",
       "      <td>86</td>\n",
       "    </tr>\n",
       "  </tbody>\n",
       "</table>\n",
       "<p>96 rows × 18 columns</p>\n",
       "</div>"
      ],
      "text/plain": [
       "    mean_fit_time  std_fit_time  mean_score_time  std_score_time  \\\n",
       "0        0.682404      0.033807         0.038603        0.008830   \n",
       "1        3.674797      0.259067         0.183875        0.016725   \n",
       "2        6.704958      0.774275         0.343670        0.059603   \n",
       "3        1.065585      0.201637         0.036967        0.006712   \n",
       "4        5.088342      0.636983         0.189042        0.032592   \n",
       "..            ...           ...              ...             ...   \n",
       "91      26.281176      0.890888         0.214800        0.052043   \n",
       "92      60.565230      2.426173         0.476536        0.077865   \n",
       "93       7.389082      1.483780         0.143107        0.068462   \n",
       "94      32.074734      3.819629         0.407133        0.278367   \n",
       "95      64.969832      8.203326         0.197695        0.051442   \n",
       "\n",
       "   param_bootstrap param_max_features param_max_samples param_n_estimators  \\\n",
       "0             True                0.3               0.3                 10   \n",
       "1             True                0.3               0.3                 50   \n",
       "2             True                0.3               0.3                100   \n",
       "3             True                0.3               0.5                 10   \n",
       "4             True                0.3               0.5                 50   \n",
       "..             ...                ...               ...                ...   \n",
       "91           False                0.9               0.8                 50   \n",
       "92           False                0.9               0.8                100   \n",
       "93           False                0.9               0.9                 10   \n",
       "94           False                0.9               0.9                 50   \n",
       "95           False                0.9               0.9                100   \n",
       "\n",
       "   param_random_state                                             params  \\\n",
       "0                   0  {'bootstrap': True, 'max_features': 0.3, 'max_...   \n",
       "1                   0  {'bootstrap': True, 'max_features': 0.3, 'max_...   \n",
       "2                   0  {'bootstrap': True, 'max_features': 0.3, 'max_...   \n",
       "3                   0  {'bootstrap': True, 'max_features': 0.3, 'max_...   \n",
       "4                   0  {'bootstrap': True, 'max_features': 0.3, 'max_...   \n",
       "..                ...                                                ...   \n",
       "91                  0  {'bootstrap': False, 'max_features': 0.9, 'max...   \n",
       "92                  0  {'bootstrap': False, 'max_features': 0.9, 'max...   \n",
       "93                  0  {'bootstrap': False, 'max_features': 0.9, 'max...   \n",
       "94                  0  {'bootstrap': False, 'max_features': 0.9, 'max...   \n",
       "95                  0  {'bootstrap': False, 'max_features': 0.9, 'max...   \n",
       "\n",
       "    split0_test_score  split1_test_score  split2_test_score  \\\n",
       "0            0.708037           0.696944           0.698619   \n",
       "1            0.729385           0.715990           0.732105   \n",
       "2            0.730222           0.724362           0.727501   \n",
       "3            0.709293           0.701339           0.705107   \n",
       "4            0.732733           0.725827           0.727501   \n",
       "..                ...                ...                ...   \n",
       "91           0.693596           0.684596           0.687526   \n",
       "92           0.692340           0.687526           0.685015   \n",
       "93           0.677480           0.679364           0.684387   \n",
       "94           0.689201           0.688573           0.681038   \n",
       "95           0.690247           0.687735           0.683550   \n",
       "\n",
       "    split3_test_score  split4_test_score  mean_test_score  std_test_score  \\\n",
       "0            0.689973           0.696253         0.697965        0.005826   \n",
       "1            0.714465           0.713418         0.721073        0.007986   \n",
       "2            0.713837           0.716349         0.722454        0.006340   \n",
       "3            0.695834           0.700230         0.702361        0.004556   \n",
       "4            0.727444           0.727025         0.728106        0.002391   \n",
       "..                ...                ...              ...             ...   \n",
       "91           0.688507           0.681809         0.687207        0.003964   \n",
       "92           0.691019           0.687879         0.688756        0.002617   \n",
       "93           0.677831           0.666318         0.677076        0.005919   \n",
       "94           0.681390           0.664434         0.680927        0.008935   \n",
       "95           0.678878           0.670295         0.682141        0.007071   \n",
       "\n",
       "    rank_test_score  \n",
       "0                61  \n",
       "1                24  \n",
       "2                21  \n",
       "3                49  \n",
       "4                 6  \n",
       "..              ...  \n",
       "91               79  \n",
       "92               74  \n",
       "93               93  \n",
       "94               87  \n",
       "95               86  \n",
       "\n",
       "[96 rows x 18 columns]"
      ]
     },
     "execution_count": 32,
     "metadata": {},
     "output_type": "execute_result"
    }
   ],
   "source": [
    "df = pd.DataFrame(result.cv_results_)\n",
    "df"
   ]
  },
  {
   "cell_type": "markdown",
   "metadata": {},
   "source": [
    "<h3>get the best parameters for model</h3>"
   ]
  },
  {
   "cell_type": "code",
   "execution_count": null,
   "metadata": {},
   "outputs": [
    {
     "data": {
      "text/html": [
       "<div>\n",
       "<style scoped>\n",
       "    .dataframe tbody tr th:only-of-type {\n",
       "        vertical-align: middle;\n",
       "    }\n",
       "\n",
       "    .dataframe tbody tr th {\n",
       "        vertical-align: top;\n",
       "    }\n",
       "\n",
       "    .dataframe thead th {\n",
       "        text-align: right;\n",
       "    }\n",
       "</style>\n",
       "<table border=\"1\" class=\"dataframe\">\n",
       "  <thead>\n",
       "    <tr style=\"text-align: right;\">\n",
       "      <th></th>\n",
       "      <th>param_n_estimators</th>\n",
       "      <th>params</th>\n",
       "      <th>mean_test_score</th>\n",
       "    </tr>\n",
       "  </thead>\n",
       "  <tbody>\n",
       "    <tr>\n",
       "      <th>0</th>\n",
       "      <td>10</td>\n",
       "      <td>{'bootstrap': True, 'max_features': 0.3, 'max_...</td>\n",
       "      <td>0.697965</td>\n",
       "    </tr>\n",
       "    <tr>\n",
       "      <th>1</th>\n",
       "      <td>50</td>\n",
       "      <td>{'bootstrap': True, 'max_features': 0.3, 'max_...</td>\n",
       "      <td>0.721073</td>\n",
       "    </tr>\n",
       "    <tr>\n",
       "      <th>2</th>\n",
       "      <td>100</td>\n",
       "      <td>{'bootstrap': True, 'max_features': 0.3, 'max_...</td>\n",
       "      <td>0.722454</td>\n",
       "    </tr>\n",
       "    <tr>\n",
       "      <th>3</th>\n",
       "      <td>10</td>\n",
       "      <td>{'bootstrap': True, 'max_features': 0.3, 'max_...</td>\n",
       "      <td>0.702361</td>\n",
       "    </tr>\n",
       "    <tr>\n",
       "      <th>4</th>\n",
       "      <td>50</td>\n",
       "      <td>{'bootstrap': True, 'max_features': 0.3, 'max_...</td>\n",
       "      <td>0.728106</td>\n",
       "    </tr>\n",
       "    <tr>\n",
       "      <th>...</th>\n",
       "      <td>...</td>\n",
       "      <td>...</td>\n",
       "      <td>...</td>\n",
       "    </tr>\n",
       "    <tr>\n",
       "      <th>91</th>\n",
       "      <td>50</td>\n",
       "      <td>{'bootstrap': False, 'max_features': 0.9, 'max...</td>\n",
       "      <td>0.687207</td>\n",
       "    </tr>\n",
       "    <tr>\n",
       "      <th>92</th>\n",
       "      <td>100</td>\n",
       "      <td>{'bootstrap': False, 'max_features': 0.9, 'max...</td>\n",
       "      <td>0.688756</td>\n",
       "    </tr>\n",
       "    <tr>\n",
       "      <th>93</th>\n",
       "      <td>10</td>\n",
       "      <td>{'bootstrap': False, 'max_features': 0.9, 'max...</td>\n",
       "      <td>0.677076</td>\n",
       "    </tr>\n",
       "    <tr>\n",
       "      <th>94</th>\n",
       "      <td>50</td>\n",
       "      <td>{'bootstrap': False, 'max_features': 0.9, 'max...</td>\n",
       "      <td>0.680927</td>\n",
       "    </tr>\n",
       "    <tr>\n",
       "      <th>95</th>\n",
       "      <td>100</td>\n",
       "      <td>{'bootstrap': False, 'max_features': 0.9, 'max...</td>\n",
       "      <td>0.682141</td>\n",
       "    </tr>\n",
       "  </tbody>\n",
       "</table>\n",
       "<p>96 rows × 3 columns</p>\n",
       "</div>"
      ],
      "text/plain": [
       "   param_n_estimators                                             params  \\\n",
       "0                  10  {'bootstrap': True, 'max_features': 0.3, 'max_...   \n",
       "1                  50  {'bootstrap': True, 'max_features': 0.3, 'max_...   \n",
       "2                 100  {'bootstrap': True, 'max_features': 0.3, 'max_...   \n",
       "3                  10  {'bootstrap': True, 'max_features': 0.3, 'max_...   \n",
       "4                  50  {'bootstrap': True, 'max_features': 0.3, 'max_...   \n",
       "..                ...                                                ...   \n",
       "91                 50  {'bootstrap': False, 'max_features': 0.9, 'max...   \n",
       "92                100  {'bootstrap': False, 'max_features': 0.9, 'max...   \n",
       "93                 10  {'bootstrap': False, 'max_features': 0.9, 'max...   \n",
       "94                 50  {'bootstrap': False, 'max_features': 0.9, 'max...   \n",
       "95                100  {'bootstrap': False, 'max_features': 0.9, 'max...   \n",
       "\n",
       "    mean_test_score  \n",
       "0          0.697965  \n",
       "1          0.721073  \n",
       "2          0.722454  \n",
       "3          0.702361  \n",
       "4          0.728106  \n",
       "..              ...  \n",
       "91         0.687207  \n",
       "92         0.688756  \n",
       "93         0.677076  \n",
       "94         0.680927  \n",
       "95         0.682141  \n",
       "\n",
       "[96 rows x 3 columns]"
      ]
     },
     "execution_count": 33,
     "metadata": {},
     "output_type": "execute_result"
    }
   ],
   "source": [
    "df [['param_n_estimators','params','mean_test_score']]"
   ]
  },
  {
   "cell_type": "code",
   "execution_count": null,
   "metadata": {},
   "outputs": [],
   "source": [
    "result.best_score_"
   ]
  },
  {
   "cell_type": "code",
   "execution_count": null,
   "metadata": {},
   "outputs": [],
   "source": [
    "result.best_params_"
   ]
  },
  {
   "cell_type": "markdown",
   "metadata": {},
   "source": [
    "\n",
    "<h3>Random GridSearch for Bagging</h3>"
   ]
  },
  {
   "cell_type": "code",
   "execution_count": null,
   "metadata": {},
   "outputs": [
    {
     "data": {
      "text/html": [
       "<div>\n",
       "<style scoped>\n",
       "    .dataframe tbody tr th:only-of-type {\n",
       "        vertical-align: middle;\n",
       "    }\n",
       "\n",
       "    .dataframe tbody tr th {\n",
       "        vertical-align: top;\n",
       "    }\n",
       "\n",
       "    .dataframe thead th {\n",
       "        text-align: right;\n",
       "    }\n",
       "</style>\n",
       "<table border=\"1\" class=\"dataframe\">\n",
       "  <thead>\n",
       "    <tr style=\"text-align: right;\">\n",
       "      <th></th>\n",
       "      <th>param_n_estimators</th>\n",
       "      <th>params</th>\n",
       "      <th>mean_test_score</th>\n",
       "    </tr>\n",
       "  </thead>\n",
       "  <tbody>\n",
       "    <tr>\n",
       "      <th>0</th>\n",
       "      <td>50</td>\n",
       "      <td>{'n_estimators': 50, 'max_samples': 0.8, 'max_...</td>\n",
       "      <td>0.718226</td>\n",
       "    </tr>\n",
       "    <tr>\n",
       "      <th>1</th>\n",
       "      <td>10</td>\n",
       "      <td>{'n_estimators': 10, 'max_samples': 0.8, 'max_...</td>\n",
       "      <td>0.691267</td>\n",
       "    </tr>\n",
       "    <tr>\n",
       "      <th>2</th>\n",
       "      <td>10</td>\n",
       "      <td>{'n_estimators': 10, 'max_samples': 0.3, 'max_...</td>\n",
       "      <td>0.673728</td>\n",
       "    </tr>\n",
       "    <tr>\n",
       "      <th>3</th>\n",
       "      <td>10</td>\n",
       "      <td>{'n_estimators': 10, 'max_samples': 0.8, 'max_...</td>\n",
       "      <td>0.703784</td>\n",
       "    </tr>\n",
       "    <tr>\n",
       "      <th>4</th>\n",
       "      <td>100</td>\n",
       "      <td>{'n_estimators': 100, 'max_samples': 0.3, 'max...</td>\n",
       "      <td>0.719775</td>\n",
       "    </tr>\n",
       "  </tbody>\n",
       "</table>\n",
       "</div>"
      ],
      "text/plain": [
       "  param_n_estimators                                             params  \\\n",
       "0                 50  {'n_estimators': 50, 'max_samples': 0.8, 'max_...   \n",
       "1                 10  {'n_estimators': 10, 'max_samples': 0.8, 'max_...   \n",
       "2                 10  {'n_estimators': 10, 'max_samples': 0.3, 'max_...   \n",
       "3                 10  {'n_estimators': 10, 'max_samples': 0.8, 'max_...   \n",
       "4                100  {'n_estimators': 100, 'max_samples': 0.3, 'max...   \n",
       "\n",
       "   mean_test_score  \n",
       "0         0.718226  \n",
       "1         0.691267  \n",
       "2         0.673728  \n",
       "3         0.703784  \n",
       "4         0.719775  "
      ]
     },
     "execution_count": 34,
     "metadata": {},
     "output_type": "execute_result"
    }
   ],
   "source": [
    "from sklearn.model_selection import RandomizedSearchCV\n",
    "from sklearn.tree import DecisionTreeClassifier\n",
    "result = RandomizedSearchCV(\n",
    "       BaggingClassifier(base_learner=DecisionTreeClassifier, n_estimators=100, max_samples=0.8, max_features=0.8, bootstrap=True, random_state=42),\n",
    "        {\n",
    "           'n_estimators': [10, 50, 100],\n",
    "            'max_samples': [0.3, 0.5, 0.8, 0.9],\n",
    "            'max_features':[0.3, 0.5, 0.8, 0.9],\n",
    "            'bootstrap':[True]\n",
    "\n",
    "        },\n",
    "    cv=5,\n",
    "    return_train_score=False,\n",
    "    n_iter = 5, #number of random combinations of hyperparameters that will be tried\n",
    "    n_jobs=-1\n",
    ")\n",
    "result.fit(X_train,Y_train)\n",
    "result.score(X_valid,Y_valid)\n",
    "pd.DataFrame(result.cv_results_)[['param_n_estimators','params','mean_test_score']]"
   ]
  },
  {
   "cell_type": "markdown",
   "metadata": {},
   "source": [
    "<h3>GRIDSERACH FOR RandomForestClassifier</h3>"
   ]
  },
  {
   "cell_type": "code",
   "execution_count": null,
   "metadata": {},
   "outputs": [],
   "source": []
  },
  {
   "cell_type": "code",
   "execution_count": null,
   "metadata": {},
   "outputs": [],
   "source": []
  },
  {
   "cell_type": "code",
   "execution_count": null,
   "metadata": {},
   "outputs": [
    {
     "data": {
      "text/plain": [
       "{'mean_fit_time': array([27.85058885, 40.19687424, 26.35066833, 35.09025502, 45.0209621 ,\n",
       "        68.99843473, 43.40640397, 71.1514102 , 50.17300415, 64.12890587,\n",
       "        42.17986064, 48.54656525]),\n",
       " 'std_fit_time': array([4.15461549, 6.36722089, 7.43940794, 2.49907166, 4.96250027,\n",
       "        4.31594282, 4.99306322, 3.79342986, 2.72738682, 7.75558786,\n",
       "        2.8074476 , 5.80834376]),\n",
       " 'mean_score_time': array([0.81968942, 1.24220204, 0.72684817, 0.99558382, 1.039679  ,\n",
       "        1.43475847, 1.13936648, 1.28625917, 0.87376971, 1.0702939 ,\n",
       "        0.82119827, 0.62435899]),\n",
       " 'std_score_time': array([0.22822573, 0.38171341, 0.35256442, 0.19943642, 0.29926509,\n",
       "        0.23061567, 0.49234365, 0.1676889 , 0.12105859, 0.1657171 ,\n",
       "        0.09802553, 0.16554661]),\n",
       " 'param_max_depth': masked_array(data=[10, 10, 10, 10, 20, 20, 20, 20, 30, 30, 30, 30],\n",
       "              mask=[False, False, False, False, False, False, False, False,\n",
       "                    False, False, False, False],\n",
       "        fill_value='?',\n",
       "             dtype=object),\n",
       " 'param_max_features': masked_array(data=['log2', 'log2', 'sqrt', 'sqrt', 'log2', 'log2', 'sqrt',\n",
       "                    'sqrt', 'log2', 'log2', 'sqrt', 'sqrt'],\n",
       "              mask=[False, False, False, False, False, False, False, False,\n",
       "                    False, False, False, False],\n",
       "        fill_value='?',\n",
       "             dtype=object),\n",
       " 'param_n_estimators': masked_array(data=[200, 300, 200, 300, 200, 300, 200, 300, 200, 300, 200,\n",
       "                    300],\n",
       "              mask=[False, False, False, False, False, False, False, False,\n",
       "                    False, False, False, False],\n",
       "        fill_value='?',\n",
       "             dtype=object),\n",
       " 'params': [{'max_depth': 10, 'max_features': 'log2', 'n_estimators': 200},\n",
       "  {'max_depth': 10, 'max_features': 'log2', 'n_estimators': 300},\n",
       "  {'max_depth': 10, 'max_features': 'sqrt', 'n_estimators': 200},\n",
       "  {'max_depth': 10, 'max_features': 'sqrt', 'n_estimators': 300},\n",
       "  {'max_depth': 20, 'max_features': 'log2', 'n_estimators': 200},\n",
       "  {'max_depth': 20, 'max_features': 'log2', 'n_estimators': 300},\n",
       "  {'max_depth': 20, 'max_features': 'sqrt', 'n_estimators': 200},\n",
       "  {'max_depth': 20, 'max_features': 'sqrt', 'n_estimators': 300},\n",
       "  {'max_depth': 30, 'max_features': 'log2', 'n_estimators': 200},\n",
       "  {'max_depth': 30, 'max_features': 'log2', 'n_estimators': 300},\n",
       "  {'max_depth': 30, 'max_features': 'sqrt', 'n_estimators': 200},\n",
       "  {'max_depth': 30, 'max_features': 'sqrt', 'n_estimators': 300}],\n",
       " 'split0_test_score': array([0.75366262, 0.75449979, 0.75554625, 0.75261616, 0.74633738,\n",
       "        0.74989535, 0.7513604 , 0.74968606, 0.74633738, 0.74696526,\n",
       "        0.74487233, 0.74884889]),\n",
       " 'split1_test_score': array([0.74445375, 0.74068648, 0.74445375, 0.74236082, 0.74319799,\n",
       "        0.74215153, 0.7373378 , 0.7429887 , 0.74257011, 0.74257011,\n",
       "        0.74131436, 0.74508162]),\n",
       " 'split2_test_score': array([0.74257011, 0.7400586 , 0.73859355, 0.74131436, 0.74089577,\n",
       "        0.7400586 , 0.74068648, 0.74047719, 0.74089577, 0.74236082,\n",
       "        0.73712851, 0.7400586 ]),\n",
       " 'split3_test_score': array([0.7406322 , 0.7383295 , 0.74167888, 0.74188821, 0.73749215,\n",
       "        0.73937618, 0.73812016, 0.74209755, 0.73498011, 0.73560812,\n",
       "        0.7360268 , 0.73728281]),\n",
       " 'split4_test_score': array([0.73393343, 0.73267741, 0.73456144, 0.73309609, 0.73184007,\n",
       "        0.73058405, 0.72870002, 0.73518945, 0.72765334, 0.73163073,\n",
       "        0.72493197, 0.7297467 ]),\n",
       " 'mean_test_score': array([0.74305042, 0.74125036, 0.74296677, 0.74225513, 0.73995267,\n",
       "        0.74041314, 0.73924097, 0.74208779, 0.73848734, 0.73982701,\n",
       "        0.73685479, 0.74020373]),\n",
       " 'std_test_score': array([0.00638414, 0.00720156, 0.00709771, 0.00620113, 0.00498106,\n",
       "        0.00617651, 0.00727956, 0.00466319, 0.00653864, 0.00547499,\n",
       "        0.00673918, 0.00657928]),\n",
       " 'rank_test_score': array([ 1,  5,  2,  3,  8,  6, 10,  4, 11,  9, 12,  7])}"
      ]
     },
     "execution_count": 36,
     "metadata": {},
     "output_type": "execute_result"
    }
   ],
   "source": [
    "from sklearn.model_selection import GridSearchCV\n",
    "from sklearn.tree import DecisionTreeClassifier\n",
    "result = GridSearchCV(\n",
    "   RandomForestClassifier(base_learner=DecisionTreeClassifier, n_estimators=100, max_depth=None, max_features=None),\n",
    "    {\n",
    "        \n",
    "        'n_estimators': [200,300],\n",
    "        'max_depth':  [10,20,30],\n",
    "        'max_features':  ['log2','sqrt']\n",
    "       \n",
    "    },\n",
    "    cv = 5,return_train_score = False,\n",
    "    n_jobs=-1\n",
    ")\n",
    "\n",
    "result.fit(X_train,Y_train)\n",
    "result.score(X_valid,Y_valid)\n",
    "result.cv_results_"
   ]
  },
  {
   "cell_type": "code",
   "execution_count": null,
   "metadata": {},
   "outputs": [
    {
     "data": {
      "text/html": [
       "<div>\n",
       "<style scoped>\n",
       "    .dataframe tbody tr th:only-of-type {\n",
       "        vertical-align: middle;\n",
       "    }\n",
       "\n",
       "    .dataframe tbody tr th {\n",
       "        vertical-align: top;\n",
       "    }\n",
       "\n",
       "    .dataframe thead th {\n",
       "        text-align: right;\n",
       "    }\n",
       "</style>\n",
       "<table border=\"1\" class=\"dataframe\">\n",
       "  <thead>\n",
       "    <tr style=\"text-align: right;\">\n",
       "      <th></th>\n",
       "      <th>mean_fit_time</th>\n",
       "      <th>std_fit_time</th>\n",
       "      <th>mean_score_time</th>\n",
       "      <th>std_score_time</th>\n",
       "      <th>param_max_depth</th>\n",
       "      <th>param_max_features</th>\n",
       "      <th>param_n_estimators</th>\n",
       "      <th>params</th>\n",
       "      <th>split0_test_score</th>\n",
       "      <th>split1_test_score</th>\n",
       "      <th>split2_test_score</th>\n",
       "      <th>split3_test_score</th>\n",
       "      <th>split4_test_score</th>\n",
       "      <th>mean_test_score</th>\n",
       "      <th>std_test_score</th>\n",
       "      <th>rank_test_score</th>\n",
       "    </tr>\n",
       "  </thead>\n",
       "  <tbody>\n",
       "    <tr>\n",
       "      <th>0</th>\n",
       "      <td>27.850589</td>\n",
       "      <td>4.154615</td>\n",
       "      <td>0.819689</td>\n",
       "      <td>0.228226</td>\n",
       "      <td>10</td>\n",
       "      <td>log2</td>\n",
       "      <td>200</td>\n",
       "      <td>{'max_depth': 10, 'max_features': 'log2', 'n_e...</td>\n",
       "      <td>0.753663</td>\n",
       "      <td>0.744454</td>\n",
       "      <td>0.742570</td>\n",
       "      <td>0.740632</td>\n",
       "      <td>0.733933</td>\n",
       "      <td>0.743050</td>\n",
       "      <td>0.006384</td>\n",
       "      <td>1</td>\n",
       "    </tr>\n",
       "    <tr>\n",
       "      <th>1</th>\n",
       "      <td>40.196874</td>\n",
       "      <td>6.367221</td>\n",
       "      <td>1.242202</td>\n",
       "      <td>0.381713</td>\n",
       "      <td>10</td>\n",
       "      <td>log2</td>\n",
       "      <td>300</td>\n",
       "      <td>{'max_depth': 10, 'max_features': 'log2', 'n_e...</td>\n",
       "      <td>0.754500</td>\n",
       "      <td>0.740686</td>\n",
       "      <td>0.740059</td>\n",
       "      <td>0.738329</td>\n",
       "      <td>0.732677</td>\n",
       "      <td>0.741250</td>\n",
       "      <td>0.007202</td>\n",
       "      <td>5</td>\n",
       "    </tr>\n",
       "    <tr>\n",
       "      <th>2</th>\n",
       "      <td>26.350668</td>\n",
       "      <td>7.439408</td>\n",
       "      <td>0.726848</td>\n",
       "      <td>0.352564</td>\n",
       "      <td>10</td>\n",
       "      <td>sqrt</td>\n",
       "      <td>200</td>\n",
       "      <td>{'max_depth': 10, 'max_features': 'sqrt', 'n_e...</td>\n",
       "      <td>0.755546</td>\n",
       "      <td>0.744454</td>\n",
       "      <td>0.738594</td>\n",
       "      <td>0.741679</td>\n",
       "      <td>0.734561</td>\n",
       "      <td>0.742967</td>\n",
       "      <td>0.007098</td>\n",
       "      <td>2</td>\n",
       "    </tr>\n",
       "    <tr>\n",
       "      <th>3</th>\n",
       "      <td>35.090255</td>\n",
       "      <td>2.499072</td>\n",
       "      <td>0.995584</td>\n",
       "      <td>0.199436</td>\n",
       "      <td>10</td>\n",
       "      <td>sqrt</td>\n",
       "      <td>300</td>\n",
       "      <td>{'max_depth': 10, 'max_features': 'sqrt', 'n_e...</td>\n",
       "      <td>0.752616</td>\n",
       "      <td>0.742361</td>\n",
       "      <td>0.741314</td>\n",
       "      <td>0.741888</td>\n",
       "      <td>0.733096</td>\n",
       "      <td>0.742255</td>\n",
       "      <td>0.006201</td>\n",
       "      <td>3</td>\n",
       "    </tr>\n",
       "    <tr>\n",
       "      <th>4</th>\n",
       "      <td>45.020962</td>\n",
       "      <td>4.962500</td>\n",
       "      <td>1.039679</td>\n",
       "      <td>0.299265</td>\n",
       "      <td>20</td>\n",
       "      <td>log2</td>\n",
       "      <td>200</td>\n",
       "      <td>{'max_depth': 20, 'max_features': 'log2', 'n_e...</td>\n",
       "      <td>0.746337</td>\n",
       "      <td>0.743198</td>\n",
       "      <td>0.740896</td>\n",
       "      <td>0.737492</td>\n",
       "      <td>0.731840</td>\n",
       "      <td>0.739953</td>\n",
       "      <td>0.004981</td>\n",
       "      <td>8</td>\n",
       "    </tr>\n",
       "    <tr>\n",
       "      <th>5</th>\n",
       "      <td>68.998435</td>\n",
       "      <td>4.315943</td>\n",
       "      <td>1.434758</td>\n",
       "      <td>0.230616</td>\n",
       "      <td>20</td>\n",
       "      <td>log2</td>\n",
       "      <td>300</td>\n",
       "      <td>{'max_depth': 20, 'max_features': 'log2', 'n_e...</td>\n",
       "      <td>0.749895</td>\n",
       "      <td>0.742152</td>\n",
       "      <td>0.740059</td>\n",
       "      <td>0.739376</td>\n",
       "      <td>0.730584</td>\n",
       "      <td>0.740413</td>\n",
       "      <td>0.006177</td>\n",
       "      <td>6</td>\n",
       "    </tr>\n",
       "    <tr>\n",
       "      <th>6</th>\n",
       "      <td>43.406404</td>\n",
       "      <td>4.993063</td>\n",
       "      <td>1.139366</td>\n",
       "      <td>0.492344</td>\n",
       "      <td>20</td>\n",
       "      <td>sqrt</td>\n",
       "      <td>200</td>\n",
       "      <td>{'max_depth': 20, 'max_features': 'sqrt', 'n_e...</td>\n",
       "      <td>0.751360</td>\n",
       "      <td>0.737338</td>\n",
       "      <td>0.740686</td>\n",
       "      <td>0.738120</td>\n",
       "      <td>0.728700</td>\n",
       "      <td>0.739241</td>\n",
       "      <td>0.007280</td>\n",
       "      <td>10</td>\n",
       "    </tr>\n",
       "    <tr>\n",
       "      <th>7</th>\n",
       "      <td>71.151410</td>\n",
       "      <td>3.793430</td>\n",
       "      <td>1.286259</td>\n",
       "      <td>0.167689</td>\n",
       "      <td>20</td>\n",
       "      <td>sqrt</td>\n",
       "      <td>300</td>\n",
       "      <td>{'max_depth': 20, 'max_features': 'sqrt', 'n_e...</td>\n",
       "      <td>0.749686</td>\n",
       "      <td>0.742989</td>\n",
       "      <td>0.740477</td>\n",
       "      <td>0.742098</td>\n",
       "      <td>0.735189</td>\n",
       "      <td>0.742088</td>\n",
       "      <td>0.004663</td>\n",
       "      <td>4</td>\n",
       "    </tr>\n",
       "    <tr>\n",
       "      <th>8</th>\n",
       "      <td>50.173004</td>\n",
       "      <td>2.727387</td>\n",
       "      <td>0.873770</td>\n",
       "      <td>0.121059</td>\n",
       "      <td>30</td>\n",
       "      <td>log2</td>\n",
       "      <td>200</td>\n",
       "      <td>{'max_depth': 30, 'max_features': 'log2', 'n_e...</td>\n",
       "      <td>0.746337</td>\n",
       "      <td>0.742570</td>\n",
       "      <td>0.740896</td>\n",
       "      <td>0.734980</td>\n",
       "      <td>0.727653</td>\n",
       "      <td>0.738487</td>\n",
       "      <td>0.006539</td>\n",
       "      <td>11</td>\n",
       "    </tr>\n",
       "    <tr>\n",
       "      <th>9</th>\n",
       "      <td>64.128906</td>\n",
       "      <td>7.755588</td>\n",
       "      <td>1.070294</td>\n",
       "      <td>0.165717</td>\n",
       "      <td>30</td>\n",
       "      <td>log2</td>\n",
       "      <td>300</td>\n",
       "      <td>{'max_depth': 30, 'max_features': 'log2', 'n_e...</td>\n",
       "      <td>0.746965</td>\n",
       "      <td>0.742570</td>\n",
       "      <td>0.742361</td>\n",
       "      <td>0.735608</td>\n",
       "      <td>0.731631</td>\n",
       "      <td>0.739827</td>\n",
       "      <td>0.005475</td>\n",
       "      <td>9</td>\n",
       "    </tr>\n",
       "    <tr>\n",
       "      <th>10</th>\n",
       "      <td>42.179861</td>\n",
       "      <td>2.807448</td>\n",
       "      <td>0.821198</td>\n",
       "      <td>0.098026</td>\n",
       "      <td>30</td>\n",
       "      <td>sqrt</td>\n",
       "      <td>200</td>\n",
       "      <td>{'max_depth': 30, 'max_features': 'sqrt', 'n_e...</td>\n",
       "      <td>0.744872</td>\n",
       "      <td>0.741314</td>\n",
       "      <td>0.737129</td>\n",
       "      <td>0.736027</td>\n",
       "      <td>0.724932</td>\n",
       "      <td>0.736855</td>\n",
       "      <td>0.006739</td>\n",
       "      <td>12</td>\n",
       "    </tr>\n",
       "    <tr>\n",
       "      <th>11</th>\n",
       "      <td>48.546565</td>\n",
       "      <td>5.808344</td>\n",
       "      <td>0.624359</td>\n",
       "      <td>0.165547</td>\n",
       "      <td>30</td>\n",
       "      <td>sqrt</td>\n",
       "      <td>300</td>\n",
       "      <td>{'max_depth': 30, 'max_features': 'sqrt', 'n_e...</td>\n",
       "      <td>0.748849</td>\n",
       "      <td>0.745082</td>\n",
       "      <td>0.740059</td>\n",
       "      <td>0.737283</td>\n",
       "      <td>0.729747</td>\n",
       "      <td>0.740204</td>\n",
       "      <td>0.006579</td>\n",
       "      <td>7</td>\n",
       "    </tr>\n",
       "  </tbody>\n",
       "</table>\n",
       "</div>"
      ],
      "text/plain": [
       "    mean_fit_time  std_fit_time  mean_score_time  std_score_time  \\\n",
       "0       27.850589      4.154615         0.819689        0.228226   \n",
       "1       40.196874      6.367221         1.242202        0.381713   \n",
       "2       26.350668      7.439408         0.726848        0.352564   \n",
       "3       35.090255      2.499072         0.995584        0.199436   \n",
       "4       45.020962      4.962500         1.039679        0.299265   \n",
       "5       68.998435      4.315943         1.434758        0.230616   \n",
       "6       43.406404      4.993063         1.139366        0.492344   \n",
       "7       71.151410      3.793430         1.286259        0.167689   \n",
       "8       50.173004      2.727387         0.873770        0.121059   \n",
       "9       64.128906      7.755588         1.070294        0.165717   \n",
       "10      42.179861      2.807448         0.821198        0.098026   \n",
       "11      48.546565      5.808344         0.624359        0.165547   \n",
       "\n",
       "   param_max_depth param_max_features param_n_estimators  \\\n",
       "0               10               log2                200   \n",
       "1               10               log2                300   \n",
       "2               10               sqrt                200   \n",
       "3               10               sqrt                300   \n",
       "4               20               log2                200   \n",
       "5               20               log2                300   \n",
       "6               20               sqrt                200   \n",
       "7               20               sqrt                300   \n",
       "8               30               log2                200   \n",
       "9               30               log2                300   \n",
       "10              30               sqrt                200   \n",
       "11              30               sqrt                300   \n",
       "\n",
       "                                               params  split0_test_score  \\\n",
       "0   {'max_depth': 10, 'max_features': 'log2', 'n_e...           0.753663   \n",
       "1   {'max_depth': 10, 'max_features': 'log2', 'n_e...           0.754500   \n",
       "2   {'max_depth': 10, 'max_features': 'sqrt', 'n_e...           0.755546   \n",
       "3   {'max_depth': 10, 'max_features': 'sqrt', 'n_e...           0.752616   \n",
       "4   {'max_depth': 20, 'max_features': 'log2', 'n_e...           0.746337   \n",
       "5   {'max_depth': 20, 'max_features': 'log2', 'n_e...           0.749895   \n",
       "6   {'max_depth': 20, 'max_features': 'sqrt', 'n_e...           0.751360   \n",
       "7   {'max_depth': 20, 'max_features': 'sqrt', 'n_e...           0.749686   \n",
       "8   {'max_depth': 30, 'max_features': 'log2', 'n_e...           0.746337   \n",
       "9   {'max_depth': 30, 'max_features': 'log2', 'n_e...           0.746965   \n",
       "10  {'max_depth': 30, 'max_features': 'sqrt', 'n_e...           0.744872   \n",
       "11  {'max_depth': 30, 'max_features': 'sqrt', 'n_e...           0.748849   \n",
       "\n",
       "    split1_test_score  split2_test_score  split3_test_score  \\\n",
       "0            0.744454           0.742570           0.740632   \n",
       "1            0.740686           0.740059           0.738329   \n",
       "2            0.744454           0.738594           0.741679   \n",
       "3            0.742361           0.741314           0.741888   \n",
       "4            0.743198           0.740896           0.737492   \n",
       "5            0.742152           0.740059           0.739376   \n",
       "6            0.737338           0.740686           0.738120   \n",
       "7            0.742989           0.740477           0.742098   \n",
       "8            0.742570           0.740896           0.734980   \n",
       "9            0.742570           0.742361           0.735608   \n",
       "10           0.741314           0.737129           0.736027   \n",
       "11           0.745082           0.740059           0.737283   \n",
       "\n",
       "    split4_test_score  mean_test_score  std_test_score  rank_test_score  \n",
       "0            0.733933         0.743050        0.006384                1  \n",
       "1            0.732677         0.741250        0.007202                5  \n",
       "2            0.734561         0.742967        0.007098                2  \n",
       "3            0.733096         0.742255        0.006201                3  \n",
       "4            0.731840         0.739953        0.004981                8  \n",
       "5            0.730584         0.740413        0.006177                6  \n",
       "6            0.728700         0.739241        0.007280               10  \n",
       "7            0.735189         0.742088        0.004663                4  \n",
       "8            0.727653         0.738487        0.006539               11  \n",
       "9            0.731631         0.739827        0.005475                9  \n",
       "10           0.724932         0.736855        0.006739               12  \n",
       "11           0.729747         0.740204        0.006579                7  "
      ]
     },
     "execution_count": 37,
     "metadata": {},
     "output_type": "execute_result"
    }
   ],
   "source": [
    "df = pd.DataFrame(result.cv_results_)\n",
    "df"
   ]
  },
  {
   "cell_type": "markdown",
   "metadata": {},
   "source": [
    "<h3>picking columns from tables to see score</h3>"
   ]
  },
  {
   "cell_type": "code",
   "execution_count": null,
   "metadata": {},
   "outputs": [
    {
     "data": {
      "text/html": [
       "<div>\n",
       "<style scoped>\n",
       "    .dataframe tbody tr th:only-of-type {\n",
       "        vertical-align: middle;\n",
       "    }\n",
       "\n",
       "    .dataframe tbody tr th {\n",
       "        vertical-align: top;\n",
       "    }\n",
       "\n",
       "    .dataframe thead th {\n",
       "        text-align: right;\n",
       "    }\n",
       "</style>\n",
       "<table border=\"1\" class=\"dataframe\">\n",
       "  <thead>\n",
       "    <tr style=\"text-align: right;\">\n",
       "      <th></th>\n",
       "      <th>param_n_estimators</th>\n",
       "      <th>params</th>\n",
       "      <th>mean_test_score</th>\n",
       "    </tr>\n",
       "  </thead>\n",
       "  <tbody>\n",
       "    <tr>\n",
       "      <th>0</th>\n",
       "      <td>200</td>\n",
       "      <td>{'max_depth': 10, 'max_features': 'log2', 'n_e...</td>\n",
       "      <td>0.743050</td>\n",
       "    </tr>\n",
       "    <tr>\n",
       "      <th>1</th>\n",
       "      <td>300</td>\n",
       "      <td>{'max_depth': 10, 'max_features': 'log2', 'n_e...</td>\n",
       "      <td>0.741250</td>\n",
       "    </tr>\n",
       "    <tr>\n",
       "      <th>2</th>\n",
       "      <td>200</td>\n",
       "      <td>{'max_depth': 10, 'max_features': 'sqrt', 'n_e...</td>\n",
       "      <td>0.742967</td>\n",
       "    </tr>\n",
       "    <tr>\n",
       "      <th>3</th>\n",
       "      <td>300</td>\n",
       "      <td>{'max_depth': 10, 'max_features': 'sqrt', 'n_e...</td>\n",
       "      <td>0.742255</td>\n",
       "    </tr>\n",
       "    <tr>\n",
       "      <th>4</th>\n",
       "      <td>200</td>\n",
       "      <td>{'max_depth': 20, 'max_features': 'log2', 'n_e...</td>\n",
       "      <td>0.739953</td>\n",
       "    </tr>\n",
       "    <tr>\n",
       "      <th>5</th>\n",
       "      <td>300</td>\n",
       "      <td>{'max_depth': 20, 'max_features': 'log2', 'n_e...</td>\n",
       "      <td>0.740413</td>\n",
       "    </tr>\n",
       "    <tr>\n",
       "      <th>6</th>\n",
       "      <td>200</td>\n",
       "      <td>{'max_depth': 20, 'max_features': 'sqrt', 'n_e...</td>\n",
       "      <td>0.739241</td>\n",
       "    </tr>\n",
       "    <tr>\n",
       "      <th>7</th>\n",
       "      <td>300</td>\n",
       "      <td>{'max_depth': 20, 'max_features': 'sqrt', 'n_e...</td>\n",
       "      <td>0.742088</td>\n",
       "    </tr>\n",
       "    <tr>\n",
       "      <th>8</th>\n",
       "      <td>200</td>\n",
       "      <td>{'max_depth': 30, 'max_features': 'log2', 'n_e...</td>\n",
       "      <td>0.738487</td>\n",
       "    </tr>\n",
       "    <tr>\n",
       "      <th>9</th>\n",
       "      <td>300</td>\n",
       "      <td>{'max_depth': 30, 'max_features': 'log2', 'n_e...</td>\n",
       "      <td>0.739827</td>\n",
       "    </tr>\n",
       "    <tr>\n",
       "      <th>10</th>\n",
       "      <td>200</td>\n",
       "      <td>{'max_depth': 30, 'max_features': 'sqrt', 'n_e...</td>\n",
       "      <td>0.736855</td>\n",
       "    </tr>\n",
       "    <tr>\n",
       "      <th>11</th>\n",
       "      <td>300</td>\n",
       "      <td>{'max_depth': 30, 'max_features': 'sqrt', 'n_e...</td>\n",
       "      <td>0.740204</td>\n",
       "    </tr>\n",
       "  </tbody>\n",
       "</table>\n",
       "</div>"
      ],
      "text/plain": [
       "   param_n_estimators                                             params  \\\n",
       "0                 200  {'max_depth': 10, 'max_features': 'log2', 'n_e...   \n",
       "1                 300  {'max_depth': 10, 'max_features': 'log2', 'n_e...   \n",
       "2                 200  {'max_depth': 10, 'max_features': 'sqrt', 'n_e...   \n",
       "3                 300  {'max_depth': 10, 'max_features': 'sqrt', 'n_e...   \n",
       "4                 200  {'max_depth': 20, 'max_features': 'log2', 'n_e...   \n",
       "5                 300  {'max_depth': 20, 'max_features': 'log2', 'n_e...   \n",
       "6                 200  {'max_depth': 20, 'max_features': 'sqrt', 'n_e...   \n",
       "7                 300  {'max_depth': 20, 'max_features': 'sqrt', 'n_e...   \n",
       "8                 200  {'max_depth': 30, 'max_features': 'log2', 'n_e...   \n",
       "9                 300  {'max_depth': 30, 'max_features': 'log2', 'n_e...   \n",
       "10                200  {'max_depth': 30, 'max_features': 'sqrt', 'n_e...   \n",
       "11                300  {'max_depth': 30, 'max_features': 'sqrt', 'n_e...   \n",
       "\n",
       "    mean_test_score  \n",
       "0          0.743050  \n",
       "1          0.741250  \n",
       "2          0.742967  \n",
       "3          0.742255  \n",
       "4          0.739953  \n",
       "5          0.740413  \n",
       "6          0.739241  \n",
       "7          0.742088  \n",
       "8          0.738487  \n",
       "9          0.739827  \n",
       "10         0.736855  \n",
       "11         0.740204  "
      ]
     },
     "execution_count": 38,
     "metadata": {},
     "output_type": "execute_result"
    }
   ],
   "source": [
    "df [['param_n_estimators','params','mean_test_score']]"
   ]
  },
  {
   "cell_type": "markdown",
   "metadata": {},
   "source": [
    "<h2>getting best score</h2>"
   ]
  },
  {
   "cell_type": "code",
   "execution_count": null,
   "metadata": {},
   "outputs": [
    {
     "data": {
      "text/plain": [
       "0.7430504213322295"
      ]
     },
     "execution_count": 39,
     "metadata": {},
     "output_type": "execute_result"
    }
   ],
   "source": [
    "result.best_score_"
   ]
  },
  {
   "cell_type": "markdown",
   "metadata": {},
   "source": [
    "<h3>getting best parameters</h3>"
   ]
  },
  {
   "cell_type": "code",
   "execution_count": null,
   "metadata": {},
   "outputs": [
    {
     "data": {
      "text/plain": [
       "{'max_depth': 10, 'max_features': 'log2', 'n_estimators': 200}"
      ]
     },
     "execution_count": 40,
     "metadata": {},
     "output_type": "execute_result"
    }
   ],
   "source": [
    "result.best_params_"
   ]
  },
  {
   "cell_type": "markdown",
   "metadata": {},
   "source": [
    "<h2>RANDOMIZED GridSearch</h2>"
   ]
  },
  {
   "cell_type": "code",
   "execution_count": null,
   "metadata": {},
   "outputs": [
    {
     "data": {
      "text/plain": [
       "{'mean_fit_time': array([68.55023823, 67.28272228, 46.94632826, 45.44974113, 39.37092218]),\n",
       " 'std_fit_time': array([4.83639156, 4.2397761 , 2.08042743, 2.80589778, 4.87874002]),\n",
       " 'mean_score_time': array([1.81317086, 1.3310226 , 1.03327737, 0.77115874, 0.54784584]),\n",
       " 'std_score_time': array([0.56553407, 0.23627598, 0.40663096, 0.02484564, 0.0792879 ]),\n",
       " 'param_n_estimators': masked_array(data=[300, 300, 200, 200, 200],\n",
       "              mask=[False, False, False, False, False],\n",
       "        fill_value='?',\n",
       "             dtype=object),\n",
       " 'param_max_features': masked_array(data=['log2', 'sqrt', 'sqrt', 'sqrt', 'log2'],\n",
       "              mask=[False, False, False, False, False],\n",
       "        fill_value='?',\n",
       "             dtype=object),\n",
       " 'param_max_depth': masked_array(data=[20, 20, 20, 30, 30],\n",
       "              mask=[False, False, False, False, False],\n",
       "        fill_value='?',\n",
       "             dtype=object),\n",
       " 'params': [{'n_estimators': 300, 'max_features': 'log2', 'max_depth': 20},\n",
       "  {'n_estimators': 300, 'max_features': 'sqrt', 'max_depth': 20},\n",
       "  {'n_estimators': 200, 'max_features': 'sqrt', 'max_depth': 20},\n",
       "  {'n_estimators': 200, 'max_features': 'sqrt', 'max_depth': 30},\n",
       "  {'n_estimators': 200, 'max_features': 'log2', 'max_depth': 30}],\n",
       " 'split0_test_score': array([0.74884889, 0.74529092, 0.74696526, 0.75115111, 0.74403516]),\n",
       " 'split1_test_score': array([0.74361658, 0.74110506, 0.74277941, 0.7400586 , 0.73964002]),\n",
       " 'split2_test_score': array([0.73796568, 0.73922143, 0.73838426, 0.74257011, 0.73901214]),\n",
       " 'split3_test_score': array([0.73916684, 0.73937618, 0.73728281, 0.73581746, 0.73979485]),\n",
       " 'split4_test_score': array([0.73330542, 0.73414277, 0.73016538, 0.7320494 , 0.72911869]),\n",
       " 'mean_test_score': array([0.74058068, 0.73982727, 0.73911542, 0.74032934, 0.73832017]),\n",
       " 'std_test_score': array([0.00527914, 0.00358799, 0.00563988, 0.00649799, 0.00493404]),\n",
       " 'rank_test_score': array([1, 3, 4, 2, 5])}"
      ]
     },
     "execution_count": 42,
     "metadata": {},
     "output_type": "execute_result"
    }
   ],
   "source": [
    "from sklearn.model_selection import RandomizedSearchCV\n",
    "from sklearn.tree import DecisionTreeClassifier\n",
    "result = RandomizedSearchCV(\n",
    "    RandomForestClassifier(base_learner=DecisionTreeClassifier, n_estimators=100, max_depth=None, max_features=None),\n",
    "    {\n",
    "        \n",
    "        'n_estimators': [200,300],\n",
    "        'max_depth':  [10,20,30],\n",
    "        'max_features':  ['log2','sqrt']\n",
    "       \n",
    "    },\n",
    "    cv = 5,return_train_score = False,\n",
    "    n_iter = 5, #number of random combinations of hyperparameters that will be tried\n",
    "    n_jobs=-1\n",
    ")\n",
    "\n",
    "result.fit(X_train,Y_train)\n",
    "result.score(X_valid,Y_valid)\n",
    "result.cv_results_"
   ]
  },
  {
   "cell_type": "markdown",
   "metadata": {},
   "source": [
    "<h4>getting best parameters and score(accuracy)</h4>"
   ]
  },
  {
   "cell_type": "code",
   "execution_count": null,
   "metadata": {},
   "outputs": [
    {
     "data": {
      "text/html": [
       "<div>\n",
       "<style scoped>\n",
       "    .dataframe tbody tr th:only-of-type {\n",
       "        vertical-align: middle;\n",
       "    }\n",
       "\n",
       "    .dataframe tbody tr th {\n",
       "        vertical-align: top;\n",
       "    }\n",
       "\n",
       "    .dataframe thead th {\n",
       "        text-align: right;\n",
       "    }\n",
       "</style>\n",
       "<table border=\"1\" class=\"dataframe\">\n",
       "  <thead>\n",
       "    <tr style=\"text-align: right;\">\n",
       "      <th></th>\n",
       "      <th>param_n_estimators</th>\n",
       "      <th>params</th>\n",
       "      <th>mean_test_score</th>\n",
       "    </tr>\n",
       "  </thead>\n",
       "  <tbody>\n",
       "    <tr>\n",
       "      <th>0</th>\n",
       "      <td>300</td>\n",
       "      <td>{'n_estimators': 300, 'max_features': 'log2', ...</td>\n",
       "      <td>0.740581</td>\n",
       "    </tr>\n",
       "    <tr>\n",
       "      <th>1</th>\n",
       "      <td>300</td>\n",
       "      <td>{'n_estimators': 300, 'max_features': 'sqrt', ...</td>\n",
       "      <td>0.739827</td>\n",
       "    </tr>\n",
       "    <tr>\n",
       "      <th>2</th>\n",
       "      <td>200</td>\n",
       "      <td>{'n_estimators': 200, 'max_features': 'sqrt', ...</td>\n",
       "      <td>0.739115</td>\n",
       "    </tr>\n",
       "    <tr>\n",
       "      <th>3</th>\n",
       "      <td>200</td>\n",
       "      <td>{'n_estimators': 200, 'max_features': 'sqrt', ...</td>\n",
       "      <td>0.740329</td>\n",
       "    </tr>\n",
       "    <tr>\n",
       "      <th>4</th>\n",
       "      <td>200</td>\n",
       "      <td>{'n_estimators': 200, 'max_features': 'log2', ...</td>\n",
       "      <td>0.738320</td>\n",
       "    </tr>\n",
       "  </tbody>\n",
       "</table>\n",
       "</div>"
      ],
      "text/plain": [
       "  param_n_estimators                                             params  \\\n",
       "0                300  {'n_estimators': 300, 'max_features': 'log2', ...   \n",
       "1                300  {'n_estimators': 300, 'max_features': 'sqrt', ...   \n",
       "2                200  {'n_estimators': 200, 'max_features': 'sqrt', ...   \n",
       "3                200  {'n_estimators': 200, 'max_features': 'sqrt', ...   \n",
       "4                200  {'n_estimators': 200, 'max_features': 'log2', ...   \n",
       "\n",
       "   mean_test_score  \n",
       "0         0.740581  \n",
       "1         0.739827  \n",
       "2         0.739115  \n",
       "3         0.740329  \n",
       "4         0.738320  "
      ]
     },
     "execution_count": 43,
     "metadata": {},
     "output_type": "execute_result"
    }
   ],
   "source": [
    "pd.DataFrame(result.cv_results_)[['param_n_estimators','params','mean_test_score']]"
   ]
  },
  {
   "cell_type": "markdown",
   "metadata": {},
   "source": []
  },
  {
   "cell_type": "code",
   "execution_count": null,
   "metadata": {},
   "outputs": [
    {
     "data": {
      "text/plain": [
       "0.7405806811328141"
      ]
     },
     "execution_count": 44,
     "metadata": {},
     "output_type": "execute_result"
    }
   ],
   "source": [
    "result.best_score_"
   ]
  },
  {
   "cell_type": "code",
   "execution_count": null,
   "metadata": {},
   "outputs": [
    {
     "data": {
      "text/plain": [
       "{'n_estimators': 300, 'max_features': 'log2', 'max_depth': 20}"
      ]
     },
     "execution_count": 45,
     "metadata": {},
     "output_type": "execute_result"
    }
   ],
   "source": [
    "result.best_params_"
   ]
  },
  {
   "cell_type": "markdown",
   "metadata": {},
   "source": [
    "<p>adaboost</p>"
   ]
  },
  {
   "cell_type": "code",
   "execution_count": null,
   "metadata": {},
   "outputs": [
    {
     "data": {
      "text/plain": [
       "{'mean_fit_time': array([ 2.40070267,  5.88754959, 11.3461545 , 21.8650033 , 27.41807661,\n",
       "        37.34279847,  2.51529069,  4.9399528 ,  9.81261778, 40.21427655,\n",
       "        43.61346202, 39.29696212]),\n",
       " 'std_fit_time': array([0.51398333, 1.31799578, 2.71175259, 3.78277193, 6.61823631,\n",
       "        4.96000549, 0.86943912, 0.81713576, 1.12667275, 4.68917336,\n",
       "        4.51028276, 6.97112393]),\n",
       " 'mean_score_time': array([0.14965372, 0.20167108, 0.3488234 , 0.1465518 , 0.26148033,\n",
       "        0.511554  , 0.08143744, 0.19770989, 0.36147041, 0.17463932,\n",
       "        0.24271884, 0.2030755 ]),\n",
       " 'std_score_time': array([0.06747737, 0.06670215, 0.08302157, 0.0467354 , 0.06952608,\n",
       "        0.20058596, 0.0106932 , 0.06138042, 0.05424109, 0.01400861,\n",
       "        0.01341341, 0.0414509 ]),\n",
       " 'param_learning_rate': masked_array(data=[1, 1, 1, 1, 1, 1, 0.3, 0.3, 0.3, 0.3, 0.3, 0.3],\n",
       "              mask=[False, False, False, False, False, False, False, False,\n",
       "                    False, False, False, False],\n",
       "        fill_value='?',\n",
       "             dtype=object),\n",
       " 'param_max_depth': masked_array(data=[1, 1, 1, 20, 20, 20, 1, 1, 1, 20, 20, 20],\n",
       "              mask=[False, False, False, False, False, False, False, False,\n",
       "                    False, False, False, False],\n",
       "        fill_value='?',\n",
       "             dtype=object),\n",
       " 'param_n_estimators': masked_array(data=[50, 100, 200, 50, 100, 200, 50, 100, 200, 50, 100, 200],\n",
       "              mask=[False, False, False, False, False, False, False, False,\n",
       "                    False, False, False, False],\n",
       "        fill_value='?',\n",
       "             dtype=object),\n",
       " 'params': [{'learning_rate': 1, 'max_depth': 1, 'n_estimators': 50},\n",
       "  {'learning_rate': 1, 'max_depth': 1, 'n_estimators': 100},\n",
       "  {'learning_rate': 1, 'max_depth': 1, 'n_estimators': 200},\n",
       "  {'learning_rate': 1, 'max_depth': 20, 'n_estimators': 50},\n",
       "  {'learning_rate': 1, 'max_depth': 20, 'n_estimators': 100},\n",
       "  {'learning_rate': 1, 'max_depth': 20, 'n_estimators': 200},\n",
       "  {'learning_rate': 0.3, 'max_depth': 1, 'n_estimators': 50},\n",
       "  {'learning_rate': 0.3, 'max_depth': 1, 'n_estimators': 100},\n",
       "  {'learning_rate': 0.3, 'max_depth': 1, 'n_estimators': 200},\n",
       "  {'learning_rate': 0.3, 'max_depth': 20, 'n_estimators': 50},\n",
       "  {'learning_rate': 0.3, 'max_depth': 20, 'n_estimators': 100},\n",
       "  {'learning_rate': 0.3, 'max_depth': 20, 'n_estimators': 200}],\n",
       " 'split0_test_score': array([0.70929259, 0.70929259, 0.70929259, 0.59815823, 0.59815823,\n",
       "        0.59669318, 0.70929259, 0.70929259, 0.70929259, 0.58141482,\n",
       "        0.58141482, 0.58141482]),\n",
       " 'split1_test_score': array([0.69966513, 0.69966513, 0.69966513, 0.5987861 , 0.5987861 ,\n",
       "        0.5987861 , 0.69966513, 0.69966513, 0.69966513, 0.57408958,\n",
       "        0.56739221, 0.56739221]),\n",
       " 'split2_test_score': array([0.70510674, 0.70510674, 0.70510674, 0.57764755, 0.56864797,\n",
       "        0.56739221, 0.70510674, 0.70510674, 0.70510674, 0.55441607,\n",
       "        0.55441607, 0.55441607]),\n",
       " 'split3_test_score': array([0.69604354, 0.69604354, 0.69604354, 0.61482102, 0.60686623,\n",
       "        0.60372619, 0.69604354, 0.69604354, 0.69604354, 0.56688298,\n",
       "        0.56332426, 0.56332426]),\n",
       " 'split4_test_score': array([0.69960226, 0.69960226, 0.69960226, 0.61084363, 0.60079548,\n",
       "        0.60058614, 0.69960226, 0.69960226, 0.69960226, 0.55788152,\n",
       "        0.55788152, 0.55788152]),\n",
       " 'mean_test_score': array([0.70194205, 0.70194205, 0.70194205, 0.6000513 , 0.5946508 ,\n",
       "        0.59343676, 0.70194205, 0.70194205, 0.70194205, 0.56693699,\n",
       "        0.56488578, 0.56488578]),\n",
       " 'std_test_score': array([0.00467968, 0.00467968, 0.00467968, 0.01297483, 0.01336057,\n",
       "        0.01322516, 0.00467968, 0.00467968, 0.00467968, 0.00999545,\n",
       "        0.00938727, 0.00938727]),\n",
       " 'rank_test_score': array([ 1,  1,  1,  7,  8,  9,  1,  1,  1, 10, 11, 11])}"
      ]
     },
     "execution_count": 59,
     "metadata": {},
     "output_type": "execute_result"
    }
   ],
   "source": [
    "from sklearn.model_selection import GridSearchCV\n",
    "# from sklearn.tree import DecisionTreeClassifier\n",
    "result = GridSearchCV(\n",
    "       AdaBoostClassifier(base_learner=DecisionTreeClassifier, n_estimators=100, learning_rate=1.0, max_depth=1, random_state=42),\n",
    "        {\n",
    "            'n_estimators': [50, 100,200],\n",
    "            'learning_rate': [1,0.3],\n",
    "            'max_depth':  [1,20],\n",
    "        },\n",
    "    cv=5,\n",
    "\n",
    "    return_train_score=False,\n",
    "    n_jobs=-1\n",
    ")\n",
    "\n",
    "result.fit(X_train,Y_train)\n",
    "result.score(X_valid,Y_valid)\n",
    "result.cv_results_"
   ]
  },
  {
   "cell_type": "markdown",
   "metadata": {},
   "source": [
    "<h4>getting best parameters and score(accuracy)</h4>"
   ]
  },
  {
   "cell_type": "code",
   "execution_count": null,
   "metadata": {},
   "outputs": [
    {
     "data": {
      "text/html": [
       "<div>\n",
       "<style scoped>\n",
       "    .dataframe tbody tr th:only-of-type {\n",
       "        vertical-align: middle;\n",
       "    }\n",
       "\n",
       "    .dataframe tbody tr th {\n",
       "        vertical-align: top;\n",
       "    }\n",
       "\n",
       "    .dataframe thead th {\n",
       "        text-align: right;\n",
       "    }\n",
       "</style>\n",
       "<table border=\"1\" class=\"dataframe\">\n",
       "  <thead>\n",
       "    <tr style=\"text-align: right;\">\n",
       "      <th></th>\n",
       "      <th>param_n_estimators</th>\n",
       "      <th>params</th>\n",
       "      <th>mean_test_score</th>\n",
       "    </tr>\n",
       "  </thead>\n",
       "  <tbody>\n",
       "    <tr>\n",
       "      <th>0</th>\n",
       "      <td>50</td>\n",
       "      <td>{'learning_rate': 1, 'max_depth': 1, 'n_estima...</td>\n",
       "      <td>0.701942</td>\n",
       "    </tr>\n",
       "    <tr>\n",
       "      <th>1</th>\n",
       "      <td>100</td>\n",
       "      <td>{'learning_rate': 1, 'max_depth': 1, 'n_estima...</td>\n",
       "      <td>0.701942</td>\n",
       "    </tr>\n",
       "    <tr>\n",
       "      <th>2</th>\n",
       "      <td>200</td>\n",
       "      <td>{'learning_rate': 1, 'max_depth': 1, 'n_estima...</td>\n",
       "      <td>0.701942</td>\n",
       "    </tr>\n",
       "    <tr>\n",
       "      <th>3</th>\n",
       "      <td>50</td>\n",
       "      <td>{'learning_rate': 1, 'max_depth': 20, 'n_estim...</td>\n",
       "      <td>0.600051</td>\n",
       "    </tr>\n",
       "    <tr>\n",
       "      <th>4</th>\n",
       "      <td>100</td>\n",
       "      <td>{'learning_rate': 1, 'max_depth': 20, 'n_estim...</td>\n",
       "      <td>0.594651</td>\n",
       "    </tr>\n",
       "    <tr>\n",
       "      <th>5</th>\n",
       "      <td>200</td>\n",
       "      <td>{'learning_rate': 1, 'max_depth': 20, 'n_estim...</td>\n",
       "      <td>0.593437</td>\n",
       "    </tr>\n",
       "    <tr>\n",
       "      <th>6</th>\n",
       "      <td>50</td>\n",
       "      <td>{'learning_rate': 0.3, 'max_depth': 1, 'n_esti...</td>\n",
       "      <td>0.701942</td>\n",
       "    </tr>\n",
       "    <tr>\n",
       "      <th>7</th>\n",
       "      <td>100</td>\n",
       "      <td>{'learning_rate': 0.3, 'max_depth': 1, 'n_esti...</td>\n",
       "      <td>0.701942</td>\n",
       "    </tr>\n",
       "    <tr>\n",
       "      <th>8</th>\n",
       "      <td>200</td>\n",
       "      <td>{'learning_rate': 0.3, 'max_depth': 1, 'n_esti...</td>\n",
       "      <td>0.701942</td>\n",
       "    </tr>\n",
       "    <tr>\n",
       "      <th>9</th>\n",
       "      <td>50</td>\n",
       "      <td>{'learning_rate': 0.3, 'max_depth': 20, 'n_est...</td>\n",
       "      <td>0.566937</td>\n",
       "    </tr>\n",
       "    <tr>\n",
       "      <th>10</th>\n",
       "      <td>100</td>\n",
       "      <td>{'learning_rate': 0.3, 'max_depth': 20, 'n_est...</td>\n",
       "      <td>0.564886</td>\n",
       "    </tr>\n",
       "    <tr>\n",
       "      <th>11</th>\n",
       "      <td>200</td>\n",
       "      <td>{'learning_rate': 0.3, 'max_depth': 20, 'n_est...</td>\n",
       "      <td>0.564886</td>\n",
       "    </tr>\n",
       "  </tbody>\n",
       "</table>\n",
       "</div>"
      ],
      "text/plain": [
       "   param_n_estimators                                             params  \\\n",
       "0                  50  {'learning_rate': 1, 'max_depth': 1, 'n_estima...   \n",
       "1                 100  {'learning_rate': 1, 'max_depth': 1, 'n_estima...   \n",
       "2                 200  {'learning_rate': 1, 'max_depth': 1, 'n_estima...   \n",
       "3                  50  {'learning_rate': 1, 'max_depth': 20, 'n_estim...   \n",
       "4                 100  {'learning_rate': 1, 'max_depth': 20, 'n_estim...   \n",
       "5                 200  {'learning_rate': 1, 'max_depth': 20, 'n_estim...   \n",
       "6                  50  {'learning_rate': 0.3, 'max_depth': 1, 'n_esti...   \n",
       "7                 100  {'learning_rate': 0.3, 'max_depth': 1, 'n_esti...   \n",
       "8                 200  {'learning_rate': 0.3, 'max_depth': 1, 'n_esti...   \n",
       "9                  50  {'learning_rate': 0.3, 'max_depth': 20, 'n_est...   \n",
       "10                100  {'learning_rate': 0.3, 'max_depth': 20, 'n_est...   \n",
       "11                200  {'learning_rate': 0.3, 'max_depth': 20, 'n_est...   \n",
       "\n",
       "    mean_test_score  \n",
       "0          0.701942  \n",
       "1          0.701942  \n",
       "2          0.701942  \n",
       "3          0.600051  \n",
       "4          0.594651  \n",
       "5          0.593437  \n",
       "6          0.701942  \n",
       "7          0.701942  \n",
       "8          0.701942  \n",
       "9          0.566937  \n",
       "10         0.564886  \n",
       "11         0.564886  "
      ]
     },
     "execution_count": 60,
     "metadata": {},
     "output_type": "execute_result"
    }
   ],
   "source": [
    "pd.DataFrame(result.cv_results_)[['param_n_estimators','params','mean_test_score']]"
   ]
  },
  {
   "cell_type": "code",
   "execution_count": null,
   "metadata": {},
   "outputs": [
    {
     "data": {
      "text/plain": [
       "0.7019420529846299"
      ]
     },
     "execution_count": 61,
     "metadata": {},
     "output_type": "execute_result"
    }
   ],
   "source": [
    "result.best_score_"
   ]
  },
  {
   "cell_type": "code",
   "execution_count": null,
   "metadata": {},
   "outputs": [
    {
     "data": {
      "text/plain": [
       "{'learning_rate': 1, 'max_depth': 1, 'n_estimators': 50}"
      ]
     },
     "execution_count": 62,
     "metadata": {},
     "output_type": "execute_result"
    }
   ],
   "source": [
    "result.best_params_"
   ]
  },
  {
   "cell_type": "markdown",
   "metadata": {},
   "source": [
    "rand"
   ]
  },
  {
   "cell_type": "code",
   "execution_count": null,
   "metadata": {},
   "outputs": [
    {
     "data": {
      "text/plain": [
       "{'mean_fit_time': array([19.38482327, 45.95727592, 17.56061401, 39.74046831, 38.41007805]),\n",
       " 'std_fit_time': array([2.44309507, 8.10365452, 3.61064674, 3.22617207, 4.27108224]),\n",
       " 'mean_score_time': array([0.16147294, 0.59596758, 0.12874465, 0.22780128, 0.21709523]),\n",
       " 'std_score_time': array([0.04133961, 0.29908964, 0.02616547, 0.03281634, 0.0548904 ]),\n",
       " 'param_n_estimators': masked_array(data=[50, 200, 50, 100, 200],\n",
       "              mask=[False, False, False, False, False],\n",
       "        fill_value='?',\n",
       "             dtype=object),\n",
       " 'param_max_depth': masked_array(data=[20, 30, 30, 10, 20],\n",
       "              mask=[False, False, False, False, False],\n",
       "        fill_value='?',\n",
       "             dtype=object),\n",
       " 'param_learning_rate': masked_array(data=[1, 0.3, 1, 1, 0.3],\n",
       "              mask=[False, False, False, False, False],\n",
       "        fill_value='?',\n",
       "             dtype=object),\n",
       " 'params': [{'n_estimators': 50, 'max_depth': 20, 'learning_rate': 1},\n",
       "  {'n_estimators': 200, 'max_depth': 30, 'learning_rate': 0.3},\n",
       "  {'n_estimators': 50, 'max_depth': 30, 'learning_rate': 1},\n",
       "  {'n_estimators': 100, 'max_depth': 10, 'learning_rate': 1},\n",
       "  {'n_estimators': 200, 'max_depth': 20, 'learning_rate': 0.3}],\n",
       " 'split0_test_score': array([0.59815823, 0.59669318, 0.63980745, 0.60234408, 0.58141482]),\n",
       " 'split1_test_score': array([0.5987861 , 0.58790289, 0.62055253, 0.62118041, 0.56739221]),\n",
       " 'split2_test_score': array([0.57764755, 0.60799498, 0.61092507, 0.59522813, 0.55441607]),\n",
       " 'split3_test_score': array([0.61482102, 0.61000628, 0.64726816, 0.59242202, 0.56332426]),\n",
       " 'split4_test_score': array([0.61084363, 0.57714046, 0.64329077, 0.59493406, 0.55788152]),\n",
       " 'mean_test_score': array([0.6000513 , 0.59594756, 0.6323688 , 0.60122174, 0.56488578]),\n",
       " 'std_test_score': array([0.01297483, 0.01234316, 0.01411433, 0.01051191, 0.00938727]),\n",
       " 'rank_test_score': array([3, 4, 1, 2, 5])}"
      ]
     },
     "execution_count": 50,
     "metadata": {},
     "output_type": "execute_result"
    }
   ],
   "source": [
    "from sklearn.model_selection import RandomizedSearchCV\n",
    "# from sklearn.tree import DecisionTreeClassifier\n",
    "result = RandomizedSearchCV(\n",
    "       AdaBoostClassifier(base_learner=DecisionTreeClassifier, n_estimators=100, learning_rate=1.0, max_depth=1, random_state=42),\n",
    "        {\n",
    "            'n_estimators': [10, 50, 100,200],\n",
    "            'learning_rate': [1,0.3],\n",
    "            'max_depth':  [10,20,30],\n",
    "        },\n",
    "    cv=5,\n",
    "\n",
    "    return_train_score=False,\n",
    "    n_jobs=-1,  n_iter = 5,\n",
    ")\n",
    "\n",
    "result.fit(X_train,Y_train)\n",
    "result.score(X_valid,Y_valid)\n",
    "result.cv_results_"
   ]
  },
  {
   "cell_type": "code",
   "execution_count": null,
   "metadata": {},
   "outputs": [
    {
     "data": {
      "text/html": [
       "<div>\n",
       "<style scoped>\n",
       "    .dataframe tbody tr th:only-of-type {\n",
       "        vertical-align: middle;\n",
       "    }\n",
       "\n",
       "    .dataframe tbody tr th {\n",
       "        vertical-align: top;\n",
       "    }\n",
       "\n",
       "    .dataframe thead th {\n",
       "        text-align: right;\n",
       "    }\n",
       "</style>\n",
       "<table border=\"1\" class=\"dataframe\">\n",
       "  <thead>\n",
       "    <tr style=\"text-align: right;\">\n",
       "      <th></th>\n",
       "      <th>param_n_estimators</th>\n",
       "      <th>params</th>\n",
       "      <th>mean_test_score</th>\n",
       "    </tr>\n",
       "  </thead>\n",
       "  <tbody>\n",
       "    <tr>\n",
       "      <th>0</th>\n",
       "      <td>50</td>\n",
       "      <td>{'n_estimators': 50, 'max_depth': 20, 'learnin...</td>\n",
       "      <td>0.600051</td>\n",
       "    </tr>\n",
       "    <tr>\n",
       "      <th>1</th>\n",
       "      <td>200</td>\n",
       "      <td>{'n_estimators': 200, 'max_depth': 30, 'learni...</td>\n",
       "      <td>0.595948</td>\n",
       "    </tr>\n",
       "    <tr>\n",
       "      <th>2</th>\n",
       "      <td>50</td>\n",
       "      <td>{'n_estimators': 50, 'max_depth': 30, 'learnin...</td>\n",
       "      <td>0.632369</td>\n",
       "    </tr>\n",
       "    <tr>\n",
       "      <th>3</th>\n",
       "      <td>100</td>\n",
       "      <td>{'n_estimators': 100, 'max_depth': 10, 'learni...</td>\n",
       "      <td>0.601222</td>\n",
       "    </tr>\n",
       "    <tr>\n",
       "      <th>4</th>\n",
       "      <td>200</td>\n",
       "      <td>{'n_estimators': 200, 'max_depth': 20, 'learni...</td>\n",
       "      <td>0.564886</td>\n",
       "    </tr>\n",
       "  </tbody>\n",
       "</table>\n",
       "</div>"
      ],
      "text/plain": [
       "  param_n_estimators                                             params  \\\n",
       "0                 50  {'n_estimators': 50, 'max_depth': 20, 'learnin...   \n",
       "1                200  {'n_estimators': 200, 'max_depth': 30, 'learni...   \n",
       "2                 50  {'n_estimators': 50, 'max_depth': 30, 'learnin...   \n",
       "3                100  {'n_estimators': 100, 'max_depth': 10, 'learni...   \n",
       "4                200  {'n_estimators': 200, 'max_depth': 20, 'learni...   \n",
       "\n",
       "   mean_test_score  \n",
       "0         0.600051  \n",
       "1         0.595948  \n",
       "2         0.632369  \n",
       "3         0.601222  \n",
       "4         0.564886  "
      ]
     },
     "execution_count": 51,
     "metadata": {},
     "output_type": "execute_result"
    }
   ],
   "source": [
    "pd.DataFrame(result.cv_results_)[['param_n_estimators','params','mean_test_score']]"
   ]
  },
  {
   "cell_type": "code",
   "execution_count": null,
   "metadata": {},
   "outputs": [
    {
     "data": {
      "text/plain": [
       "0.6323687969413225"
      ]
     },
     "execution_count": 52,
     "metadata": {},
     "output_type": "execute_result"
    }
   ],
   "source": [
    "result.best_score_"
   ]
  },
  {
   "cell_type": "code",
   "execution_count": null,
   "metadata": {},
   "outputs": [
    {
     "data": {
      "text/plain": [
       "{'n_estimators': 50, 'max_depth': 30, 'learning_rate': 1}"
      ]
     },
     "execution_count": 53,
     "metadata": {},
     "output_type": "execute_result"
    }
   ],
   "source": [
    "result.best_params_"
   ]
  },
  {
   "cell_type": "code",
   "execution_count": null,
   "metadata": {},
   "outputs": [],
   "source": []
  },
  {
   "cell_type": "markdown",
   "metadata": {},
   "source": [
    "## Try models on test data with best parameters"
   ]
  },
  {
   "cell_type": "code",
   "execution_count": null,
   "metadata": {},
   "outputs": [],
   "source": [
    "import numpy as np\n",
    "from sklearn.utils import resample\n",
    "from sklearn.base import BaseEstimator,ClassifierMixin\n",
    "\n",
    "\n",
    "class BaggingClassifier(BaseEstimator, ClassifierMixin):\n",
    "    def __init__(self, base_learner, n_estimators, max_samples, max_features, bootstrap, random_state):\n",
    "        super().__init__()\n",
    "        self.base_learner = base_learner\n",
    "        self.n_estimators = n_estimators\n",
    "        self.max_samples = max_samples\n",
    "        self.max_features = max_features\n",
    "        self.bootstrap = bootstrap\n",
    "        self.random_state = random_state\n",
    "        self.base_learners = []\n",
    "\n",
    "    def fit(self, X, y):\n",
    "        for _ in range(self.n_estimators):\n",
    "            # Bootstrap resample the training set\n",
    "            X_bootstrap, y_bootstrap = resample(X, y, replace=self.bootstrap, n_samples=int(self.max_samples * X.shape[0]), random_state=self.random_state)\n",
    "\n",
    "            # Train a base learner on the resampled data\n",
    "            learner = self.base_learner(max_features=self.max_features)  \n",
    "            learner.fit(X_bootstrap, y_bootstrap)\n",
    "           \n",
    "            # Append the trained learner to the list\n",
    "            self.base_learners.append(learner)\n",
    "\n",
    "    def predict(self, X_new):\n",
    "        predictions = np.mean([learner.predict(X_new) for learner in self.base_learners], axis=0)\n",
    "        return np.round(predictions)\n",
    "\n",
    "    def score(self, X_v, Y_v):\n",
    "        predictions_bagging = self.predict(X_v)\n",
    "        accuracy = metrics.accuracy_score(Y_v, predictions_bagging)\n",
    "        return accuracy\n",
    "\n",
    "\n",
    "bagging_classifier = BaggingClassifier(base_learner=DecisionTreeClassifier, n_estimators=100, max_samples=0.8, max_features=0.8, bootstrap=True, random_state=42)\n",
    "bagging_classifier.fit(X_train, Y_train)\n",
    "accuracy = bagging_classifier.score(X_test,Y_test)\n",
    "print(\"Accuracy:\", accuracy)"
   ]
  }
 ],
 "metadata": {
  "kernelspec": {
   "display_name": "Python 3",
   "language": "python",
   "name": "python3"
  },
  "language_info": {
   "codemirror_mode": {
    "name": "ipython",
    "version": 3
   },
   "file_extension": ".py",
   "mimetype": "text/x-python",
   "name": "python",
   "nbconvert_exporter": "python",
   "pygments_lexer": "ipython3",
   "version": "3.11.5"
  }
 },
 "nbformat": 4,
 "nbformat_minor": 2
}
