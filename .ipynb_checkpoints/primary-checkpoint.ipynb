{
 "cells": [
  {
   "cell_type": "markdown",
   "id": "470a814c",
   "metadata": {},
   "source": [
    "<h3>importing libraries</h3>"
   ]
  },
  {
   "cell_type": "code",
   "execution_count": 146,
   "id": "17c5165a",
   "metadata": {},
   "outputs": [],
   "source": [
    "from sklearn.model_selection import train_test_split\n",
    "import pandas as pd\n",
    "from scipy.stats import zscore\n",
    "import numpy as np\n",
    "from sklearn.preprocessing import StandardScaler"
   ]
  },
  {
   "cell_type": "markdown",
   "id": "8001de60",
   "metadata": {},
   "source": [
    "<h5>read data and explore it </h5>"
   ]
  },
  {
   "cell_type": "code",
   "execution_count": 147,
   "id": "631b5108",
   "metadata": {},
   "outputs": [
    {
     "name": "stdout",
     "output_type": "stream",
     "text": [
      "<class 'pandas.core.frame.DataFrame'>\n",
      "RangeIndex: 159256 entries, 0 to 159255\n",
      "Data columns (total 12 columns):\n",
      " #   Column          Non-Null Count   Dtype  \n",
      "---  ------          --------------   -----  \n",
      " 0   Unnamed: 0      159256 non-null  int64  \n",
      " 1   Cholesterol     159256 non-null  int64  \n",
      " 2   triglyceride    159256 non-null  int64  \n",
      " 3   age             159256 non-null  int64  \n",
      " 4   hearing(right)  159256 non-null  int64  \n",
      " 5   hemoglobin      159256 non-null  float64\n",
      " 6   LDL             159256 non-null  int64  \n",
      " 7   dental caries   159256 non-null  int64  \n",
      " 8   systolic        159256 non-null  int64  \n",
      " 9   hearing(left)   159256 non-null  int64  \n",
      " 10  eyesight(left)  159256 non-null  float64\n",
      " 11  smoking         159256 non-null  int64  \n",
      "dtypes: float64(2), int64(10)\n",
      "memory usage: 14.6 MB\n",
      "Unnamed: 0        0\n",
      "Cholesterol       0\n",
      "triglyceride      0\n",
      "age               0\n",
      "hearing(right)    0\n",
      "hemoglobin        0\n",
      "LDL               0\n",
      "dental caries     0\n",
      "systolic          0\n",
      "hearing(left)     0\n",
      "eyesight(left)    0\n",
      "smoking           0\n",
      "dtype: int64\n",
      "(159256, 12)\n"
     ]
    }
   ],
   "source": [
    "data=pd.read_csv(\"Your_data.csv\")\n",
    "data.head(3)\n",
    "data.info()\n",
    "print(str(data.isnull().sum()))\n",
    "print(data.shape)"
   ]
  },
  {
   "cell_type": "markdown",
   "id": "d87741e5",
   "metadata": {},
   "source": [
    "<h4> data split in train , test and validataion</h4>"
   ]
  },
  {
   "cell_type": "code",
   "execution_count": 148,
   "id": "2465dc42",
   "metadata": {},
   "outputs": [
    {
     "name": "stdout",
     "output_type": "stream",
     "text": [
      "(111479, 11)\n"
     ]
    }
   ],
   "source": [
    "data.drop(data.columns[0], axis=1,inplace=True)\n",
    "train_data, tmp_data = train_test_split(data, test_size=0.3, random_state=42, stratify=data['smoking'])\n",
    "test_data,validate_data=train_test_split(tmp_data, test_size=0.5, random_state=42)\n",
    "print(train_data.shape)"
   ]
  },
  {
   "cell_type": "markdown",
   "id": "cca4c7ff",
   "metadata": {},
   "source": [
    "<h3> remove outliers from train data by percentile</h3>\n",
    "<p> test age feature</p>"
   ]
  },
  {
   "cell_type": "code",
   "execution_count": 149,
   "id": "58cc3ba6",
   "metadata": {},
   "outputs": [
    {
     "name": "stdout",
     "output_type": "stream",
     "text": [
      "85.0 20.0\n"
     ]
    }
   ],
   "source": [
    "\n",
    "max_threshold=train_data['age'].quantile(1)\n",
    "min_threshold=train_data['age'].quantile(0)\n",
    "print(max_threshold,min_threshold)\n",
    "#all ages are possible ages of smokers won't remove any"
   ]
  },
  {
   "cell_type": "markdown",
   "id": "c7d7e5f1",
   "metadata": {},
   "source": [
    "<p> test LDL feature</p>"
   ]
  },
  {
   "cell_type": "code",
   "execution_count": 150,
   "id": "73ccf0d5",
   "metadata": {},
   "outputs": [
    {
     "name": "stdout",
     "output_type": "stream",
     "text": [
      "202.0 42.0\n",
      "(111249, 11)\n"
     ]
    }
   ],
   "source": [
    "max_threshold = train_data['LDL'].quantile(0.999)\n",
    "min_threshold = train_data['LDL'].quantile(0.001)\n",
    "print(max_threshold,min_threshold)\n",
    "train_data = train_data[(train_data['LDL'] < max_threshold) & (train_data['LDL'] > min_threshold)]\n",
    "\n",
    "print(train_data.shape)"
   ]
  },
  {
   "cell_type": "markdown",
   "id": "30fa59e6",
   "metadata": {},
   "source": [
    "<p> test chelosterol feature</p>"
   ]
  },
  {
   "cell_type": "code",
   "execution_count": 151,
   "id": "011f5275",
   "metadata": {},
   "outputs": [
    {
     "name": "stdout",
     "output_type": "stream",
     "text": [
      "283.0 118.0\n",
      "(111015, 11)\n"
     ]
    }
   ],
   "source": [
    "max_threshold = train_data['Cholesterol'].quantile(0.999)\n",
    "min_threshold = train_data['Cholesterol'].quantile(0.001)\n",
    "print(max_threshold,min_threshold)\n",
    "train_data = train_data[(train_data['Cholesterol'] < max_threshold) & (train_data['Cholesterol'] > min_threshold)]\n",
    "\n",
    "print(train_data.shape)"
   ]
  },
  {
   "cell_type": "markdown",
   "id": "61323198",
   "metadata": {},
   "source": [
    "<p>test systolic feature</p>"
   ]
  },
  {
   "cell_type": "code",
   "execution_count": 152,
   "id": "ea6729d8",
   "metadata": {},
   "outputs": [
    {
     "name": "stdout",
     "output_type": "stream",
     "text": [
      "170.0 90.0\n",
      "(110352, 11)\n"
     ]
    }
   ],
   "source": [
    "max_threshold = train_data['systolic'].quantile(0.999)\n",
    "min_threshold = train_data['systolic'].quantile(0.001)\n",
    "print(max_threshold,min_threshold)\n",
    "train_data = train_data[(train_data['systolic'] < max_threshold) & (train_data['systolic'] > min_threshold)]\n",
    "\n",
    "print(train_data.shape)"
   ]
  },
  {
   "cell_type": "markdown",
   "id": "5f691f4b",
   "metadata": {},
   "source": [
    "<h3>z score normalization to remove outliers</h3>\n",
    "<p>  is suited for triglyceride distribution</p>"
   ]
  },
  {
   "cell_type": "code",
   "execution_count": 153,
   "id": "d6a5709a",
   "metadata": {},
   "outputs": [
    {
     "name": "stdout",
     "output_type": "stream",
     "text": [
      "(109205, 11)\n"
     ]
    }
   ],
   "source": [
    "\n",
    "z_scores = zscore(train_data['triglyceride'])\n",
    "z_score_threshold = 3\n",
    "outliers = np.abs(z_scores) > z_score_threshold\n",
    "\n",
    "train_data = train_data[~outliers]\n",
    "print(train_data.shape)"
   ]
  },
  {
   "cell_type": "code",
   "execution_count": 154,
   "id": "339dc57d",
   "metadata": {},
   "outputs": [
    {
     "name": "stdout",
     "output_type": "stream",
     "text": [
      "(108399, 11)\n"
     ]
    }
   ],
   "source": [
    "#hemoglobin\n",
    "z_scores = zscore(train_data['hemoglobin'])\n",
    "z_score_threshold = 3\n",
    "outliers = np.abs(z_scores) > z_score_threshold\n",
    "\n",
    "train_data = train_data[~outliers]\n",
    "print(train_data.shape)"
   ]
  },
  {
   "cell_type": "code",
   "execution_count": 155,
   "id": "862729df",
   "metadata": {},
   "outputs": [
    {
     "name": "stdout",
     "output_type": "stream",
     "text": [
      "(108306, 11)\n"
     ]
    }
   ],
   "source": [
    "#eyesight(left)\n",
    "z_scores = zscore(train_data['eyesight(left)'])\n",
    "z_score_threshold = 3\n",
    "outliers = np.abs(z_scores) > z_score_threshold\n",
    "\n",
    "train_data = train_data[~outliers]\n",
    "print(train_data.shape)"
   ]
  },
  {
   "cell_type": "markdown",
   "id": "54a36471",
   "metadata": {},
   "source": [
    "<h3>splitting train,test,validate data into x and y </h3>"
   ]
  },
  {
   "cell_type": "code",
   "execution_count": 156,
   "id": "7e30e30c",
   "metadata": {},
   "outputs": [],
   "source": [
    "\n",
    "X_train=train_data.drop(['smoking'],axis=1)\n",
    "Y_train=train_data['smoking']\n",
    "X_test=test_data.drop(['smoking'],axis=1)\n",
    "Y_test=test_data['smoking']\n",
    "X_validate=validate_data.drop(['smoking'],axis=1)\n",
    "Y_validate=validate_data['smoking']"
   ]
  },
  {
   "cell_type": "markdown",
   "id": "70485b7d",
   "metadata": {},
   "source": [
    "<h3>data normalization</h3>"
   ]
  },
  {
   "cell_type": "code",
   "execution_count": 158,
   "id": "50faccd5",
   "metadata": {},
   "outputs": [],
   "source": [
    "normalizer=StandardScaler()\n",
    "X_train=normalizer.fit_transform(X_train)\n",
    "X_validate=normalizer.transform(X_validate)\n",
    "X_test = normalizer.transform(X_test)"
   ]
  },
  {
   "cell_type": "code",
   "execution_count": null,
   "id": "098e843b",
   "metadata": {},
   "outputs": [],
   "source": []
  }
 ],
 "metadata": {
  "kernelspec": {
   "display_name": "Python 3 (ipykernel)",
   "language": "python",
   "name": "python3"
  },
  "language_info": {
   "codemirror_mode": {
    "name": "ipython",
    "version": 3
   },
   "file_extension": ".py",
   "mimetype": "text/x-python",
   "name": "python",
   "nbconvert_exporter": "python",
   "pygments_lexer": "ipython3",
   "version": "3.11.5"
  }
 },
 "nbformat": 4,
 "nbformat_minor": 5
}
