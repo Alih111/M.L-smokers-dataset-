{
 "cells": [
  {
   "cell_type": "markdown",
   "id": "470a814c",
   "metadata": {},
   "source": [
    "<h3>importing libraries</h3>"
   ]
  },
  {
   "cell_type": "code",
   "execution_count": 28,
   "id": "17c5165a",
   "metadata": {},
   "outputs": [],
   "source": [
    "from sklearn.model_selection import train_test_split\n",
    "import pandas as pd\n",
    "from scipy.stats import zscore\n",
    "import matplotlib.pyplot as plt\n",
    "import numpy as np\n",
    "from sklearn.preprocessing import StandardScaler"
   ]
  },
  {
   "cell_type": "markdown",
   "id": "8001de60",
   "metadata": {},
   "source": [
    "<h5>read data and explore it </h5>"
   ]
  },
  {
   "cell_type": "code",
   "execution_count": 29,
   "id": "631b5108",
   "metadata": {},
   "outputs": [
    {
     "name": "stdout",
     "output_type": "stream",
     "text": [
      "<class 'pandas.core.frame.DataFrame'>\n",
      "RangeIndex: 159256 entries, 0 to 159255\n",
      "Data columns (total 11 columns):\n",
      " #   Column            Non-Null Count   Dtype  \n",
      "---  ------            --------------   -----  \n",
      " 0   eyesight(left)    159256 non-null  float64\n",
      " 1   systolic          159256 non-null  int64  \n",
      " 2   serum creatinine  159256 non-null  float64\n",
      " 3   triglyceride      159256 non-null  int64  \n",
      " 4   Cholesterol       159256 non-null  int64  \n",
      " 5   AST               159256 non-null  int64  \n",
      " 6   height(cm)        159256 non-null  int64  \n",
      " 7   waist(cm)         159256 non-null  float64\n",
      " 8   age               159256 non-null  int64  \n",
      " 9   LDL               159256 non-null  int64  \n",
      " 10  smoking           159256 non-null  int64  \n",
      "dtypes: float64(3), int64(8)\n",
      "memory usage: 13.4 MB\n",
      "eyesight(left)      0\n",
      "systolic            0\n",
      "serum creatinine    0\n",
      "triglyceride        0\n",
      "Cholesterol         0\n",
      "AST                 0\n",
      "height(cm)          0\n",
      "waist(cm)           0\n",
      "age                 0\n",
      "LDL                 0\n",
      "smoking             0\n",
      "dtype: int64\n",
      "(159256, 11)\n"
     ]
    }
   ],
   "source": [
    "data=pd.read_csv(\"Your_data.csv\")\n",
    "data.drop(data.columns[0], axis=1,inplace=True)\n",
    "data.head(3)\n",
    "data.info()\n",
    "print(str(data.isnull().sum()))\n",
    "print(data.shape)"
   ]
  },
  {
   "cell_type": "markdown",
   "id": "d87741e5",
   "metadata": {},
   "source": [
    "<h4> data split in train , test and validataion</h4>"
   ]
  },
  {
   "cell_type": "code",
   "execution_count": 30,
   "id": "2465dc42",
   "metadata": {},
   "outputs": [
    {
     "name": "stdout",
     "output_type": "stream",
     "text": [
      "(159256, 11)\n"
     ]
    }
   ],
   "source": [
    "\n",
    "X=data.drop('smoking', axis=1)\n",
    "Y = data['smoking']\n",
    "train_data, test_data = train_test_split(data, test_size=0.3, random_state=42, stratify=data['smoking'])\n",
    "X_train=train_data.drop(['smoking'],axis=1)\n",
    "Y_train=train_data['smoking']\n",
    "print(data.shape)"
   ]
  },
  {
   "cell_type": "markdown",
   "id": "cca4c7ff",
   "metadata": {},
   "source": [
    "<h3> remove outliers from train data by percentile</h3>\n",
    "<p> test age feature</p>"
   ]
  },
  {
   "cell_type": "code",
   "execution_count": 31,
   "id": "58cc3ba6",
   "metadata": {},
   "outputs": [
    {
     "name": "stdout",
     "output_type": "stream",
     "text": [
      "85.0 20.0\n"
     ]
    }
   ],
   "source": [
    "\n",
    "max_threshold=train_data['age'].quantile(1)\n",
    "min_threshold=train_data['age'].quantile(0)\n",
    "print(max_threshold,min_threshold)\n",
    "#all ages are possible ages of smokers won't remove any"
   ]
  },
  {
   "cell_type": "markdown",
   "id": "c7d7e5f1",
   "metadata": {},
   "source": [
    "<p> test LDL feature</p>"
   ]
  },
  {
   "cell_type": "code",
   "execution_count": 32,
   "id": "73ccf0d5",
   "metadata": {},
   "outputs": [
    {
     "name": "stdout",
     "output_type": "stream",
     "text": [
      "202.0 42.0\n",
      "(111249, 11)\n"
     ]
    }
   ],
   "source": [
    "max_threshold = train_data['LDL'].quantile(0.999)\n",
    "min_threshold = train_data['LDL'].quantile(0.001)\n",
    "print(max_threshold,min_threshold)\n",
    "train_data = train_data[(train_data['LDL'] < max_threshold) & (train_data['LDL'] > min_threshold)]\n",
    "\n",
    "print(train_data.shape)"
   ]
  },
  {
   "cell_type": "code",
   "execution_count": 33,
   "id": "ecdbc7fd",
   "metadata": {},
   "outputs": [],
   "source": [
    "#test AST"
   ]
  },
  {
   "cell_type": "code",
   "execution_count": 34,
   "id": "37841f72",
   "metadata": {},
   "outputs": [
    {
     "name": "stdout",
     "output_type": "stream",
     "text": [
      "187.87679999995453 9.0\n",
      "(111221, 11)\n"
     ]
    }
   ],
   "source": [
    "max_threshold = train_data['AST'].quantile(0.9999)\n",
    "min_threshold = train_data['AST'].quantile(0.0001)\n",
    "print(max_threshold,min_threshold)\n",
    "train_data = train_data[(train_data['AST'] < max_threshold) & (train_data['AST'] > min_threshold)]\n",
    "\n",
    "print(train_data.shape)"
   ]
  },
  {
   "cell_type": "code",
   "execution_count": 35,
   "id": "4c734284",
   "metadata": {},
   "outputs": [
    {
     "name": "stdout",
     "output_type": "stream",
     "text": [
      "1.987799999998242 0.1122\n",
      "(111197, 11)\n"
     ]
    }
   ],
   "source": [
    "max_threshold = train_data['serum creatinine'].quantile(0.9999)\n",
    "min_threshold = train_data['serum creatinine'].quantile(0.0001)\n",
    "print(max_threshold,min_threshold)\n",
    "train_data = train_data[(train_data['serum creatinine'] < max_threshold) & (train_data['serum creatinine'] > min_threshold)]\n",
    "\n",
    "print(train_data.shape)"
   ]
  },
  {
   "cell_type": "code",
   "execution_count": null,
   "id": "2543cb73",
   "metadata": {},
   "outputs": [],
   "source": []
  },
  {
   "cell_type": "markdown",
   "id": "30fa59e6",
   "metadata": {},
   "source": [
    "<p> test chelosterol feature</p>"
   ]
  },
  {
   "cell_type": "code",
   "execution_count": 36,
   "id": "011f5275",
   "metadata": {},
   "outputs": [
    {
     "name": "stdout",
     "output_type": "stream",
     "text": [
      "283.0 118.0\n",
      "(110963, 11)\n"
     ]
    }
   ],
   "source": [
    "max_threshold = train_data['Cholesterol'].quantile(0.999)\n",
    "min_threshold = train_data['Cholesterol'].quantile(0.001)\n",
    "print(max_threshold,min_threshold)\n",
    "train_data = train_data[(train_data['Cholesterol'] < max_threshold) & (train_data['Cholesterol'] > min_threshold)]\n",
    "\n",
    "print(train_data.shape)"
   ]
  },
  {
   "cell_type": "markdown",
   "id": "61323198",
   "metadata": {},
   "source": [
    "<p>test systolic feature</p>"
   ]
  },
  {
   "cell_type": "code",
   "execution_count": 37,
   "id": "ea6729d8",
   "metadata": {},
   "outputs": [
    {
     "name": "stdout",
     "output_type": "stream",
     "text": [
      "170.0 90.0\n",
      "(110300, 11)\n"
     ]
    }
   ],
   "source": [
    "max_threshold = train_data['systolic'].quantile(0.999)\n",
    "min_threshold = train_data['systolic'].quantile(0.001)\n",
    "print(max_threshold,min_threshold)\n",
    "train_data = train_data[(train_data['systolic'] < max_threshold) & (train_data['systolic'] > min_threshold)]\n",
    "\n",
    "print(train_data.shape)"
   ]
  },
  {
   "cell_type": "markdown",
   "id": "4a6ad985",
   "metadata": {},
   "source": [
    "<p>test height feature</p>"
   ]
  },
  {
   "cell_type": "code",
   "execution_count": 38,
   "id": "9976329d",
   "metadata": {},
   "outputs": [
    {
     "name": "stdout",
     "output_type": "stream",
     "text": [
      "185.0 140.0\n",
      "(108906, 11)\n"
     ]
    }
   ],
   "source": [
    "max_threshold = train_data['height(cm)'].quantile(0.999)\n",
    "min_threshold = train_data['height(cm)'].quantile(0.001)\n",
    "print(max_threshold,min_threshold)\n",
    "train_data = train_data[(train_data['height(cm)'] < max_threshold) & (train_data['height(cm)'] > min_threshold)]\n",
    "\n",
    "print(train_data.shape)"
   ]
  },
  {
   "cell_type": "markdown",
   "id": "5f691f4b",
   "metadata": {},
   "source": [
    "<h3>z score normalization to remove outliers</h3>\n",
    "<p>  is suited for triglyceride distribution</p>"
   ]
  },
  {
   "cell_type": "code",
   "execution_count": 39,
   "id": "d6a5709a",
   "metadata": {},
   "outputs": [
    {
     "name": "stdout",
     "output_type": "stream",
     "text": [
      "(107774, 11)\n"
     ]
    }
   ],
   "source": [
    "\n",
    "z_scores = zscore(train_data['triglyceride'])\n",
    "z_score_threshold = 3\n",
    "outliers = np.abs(z_scores) > z_score_threshold\n",
    "\n",
    "train_data = train_data[~outliers]\n",
    "print(train_data.shape)"
   ]
  },
  {
   "cell_type": "code",
   "execution_count": 40,
   "id": "339dc57d",
   "metadata": {},
   "outputs": [
    {
     "name": "stdout",
     "output_type": "stream",
     "text": [
      "(107494, 11)\n"
     ]
    }
   ],
   "source": [
    "#waist\n",
    "z_scores = zscore(train_data['waist(cm)'])\n",
    "z_score_threshold = 3\n",
    "outliers = np.abs(z_scores) > z_score_threshold\n",
    "\n",
    "train_data = train_data[~outliers]\n",
    "print(train_data.shape)"
   ]
  },
  {
   "cell_type": "code",
   "execution_count": 41,
   "id": "862729df",
   "metadata": {},
   "outputs": [
    {
     "name": "stdout",
     "output_type": "stream",
     "text": [
      "(107401, 11)\n"
     ]
    }
   ],
   "source": [
    "#eyesight(left)\n",
    "z_scores = zscore(train_data['eyesight(left)'])\n",
    "z_score_threshold = 3\n",
    "outliers = np.abs(z_scores) > z_score_threshold\n",
    "\n",
    "train_data = train_data[~outliers]\n",
    "print(train_data.shape)"
   ]
  },
  {
   "cell_type": "markdown",
   "id": "54a36471",
   "metadata": {},
   "source": [
    "<h3>splitting train,test,validate data into x and y </h3>"
   ]
  },
  {
   "cell_type": "code",
   "execution_count": 42,
   "id": "7e30e30c",
   "metadata": {},
   "outputs": [],
   "source": [
    "\n",
    "X_train=train_data.drop(['smoking'],axis=1)\n",
    "Y_train=train_data['smoking']\n",
    "validation,test=train_test_split(test_data, test_size=0.5, random_state=42, stratify=test_data['smoking'])\n",
    "X_valid=validation.drop(['smoking'],axis=1)\n",
    "Y_valid=validation['smoking']\n",
    "X_test=test.drop(['smoking'],axis=1)\n",
    "Y_test=test['smoking']"
   ]
  },
  {
   "cell_type": "markdown",
   "id": "70485b7d",
   "metadata": {},
   "source": [
    "<h3>data normalization</h3>"
   ]
  },
  {
   "cell_type": "code",
   "execution_count": 43,
   "id": "50faccd5",
   "metadata": {},
   "outputs": [
    {
     "name": "stdout",
     "output_type": "stream",
     "text": [
      "(131290, 10)\n"
     ]
    },
    {
     "data": {
      "text/plain": [
       "(131290,)"
      ]
     },
     "execution_count": 43,
     "metadata": {},
     "output_type": "execute_result"
    }
   ],
   "source": [
    "normalizer=StandardScaler()\n",
    "X_train=normalizer.fit_transform(X_train)\n",
    "X_test = normalizer.transform(X_test)\n",
    "X_valid=normalizer.transform(X_valid)\n",
    "X = np.vstack((X_train, X_test))\n",
    "print(X.shape)\n",
    "Y = np.concatenate((Y_train.values, Y_test.values))\n",
    "Y.shape"
   ]
  },
  {
   "cell_type": "code",
   "execution_count": 44,
   "id": "098e843b",
   "metadata": {},
   "outputs": [
    {
     "data": {
      "text/plain": [
       "smoking\n",
       "0    60866\n",
       "1    46535\n",
       "Name: count, dtype: int64"
      ]
     },
     "execution_count": 44,
     "metadata": {},
     "output_type": "execute_result"
    }
   ],
   "source": [
    "Y_train.value_counts()"
   ]
  },
  {
   "cell_type": "code",
   "execution_count": 45,
   "id": "1b78cb95",
   "metadata": {},
   "outputs": [],
   "source": [
    "# Train using stand alone model"
   ]
  },
  {
   "cell_type": "code",
   "execution_count": 46,
   "id": "ce03ffc4",
   "metadata": {},
   "outputs": [
    {
     "data": {
      "text/plain": [
       "array([0.67103359, 0.66505446, 0.6684439 , 0.66581613, 0.66638739])"
      ]
     },
     "execution_count": 46,
     "metadata": {},
     "output_type": "execute_result"
    }
   ],
   "source": [
    "from sklearn.model_selection import cross_val_score\n",
    "from sklearn.tree import DecisionTreeClassifier\n",
    "\n",
    "scores = cross_val_score(DecisionTreeClassifier(), X, Y, cv=5)\n",
    "scores"
   ]
  },
  {
   "cell_type": "code",
   "execution_count": 47,
   "id": "94948fda",
   "metadata": {},
   "outputs": [
    {
     "data": {
      "text/plain": [
       "0.6673470942189047"
      ]
     },
     "execution_count": 47,
     "metadata": {},
     "output_type": "execute_result"
    }
   ],
   "source": [
    "scores.mean()"
   ]
  },
  {
   "cell_type": "code",
   "execution_count": 48,
   "id": "cc533b71",
   "metadata": {},
   "outputs": [],
   "source": [
    "# Train using Bagging"
   ]
  },
  {
   "cell_type": "code",
   "execution_count": 49,
   "id": "647a760a",
   "metadata": {},
   "outputs": [
    {
     "data": {
      "text/plain": [
       "0.7396672284243163"
      ]
     },
     "execution_count": 49,
     "metadata": {},
     "output_type": "execute_result"
    }
   ],
   "source": [
    "from sklearn.ensemble import BaggingClassifier\n",
    "\n",
    "bag_model = BaggingClassifier(\n",
    "    estimator=DecisionTreeClassifier(), \n",
    "    n_estimators=100, \n",
    "    max_samples=0.8, \n",
    "    oob_score=True,\n",
    "    random_state=0\n",
    ")\n",
    "bag_model.fit(X_train, Y_train)\n",
    "bag_model.oob_score_"
   ]
  },
  {
   "cell_type": "code",
   "execution_count": 50,
   "id": "85adfddf",
   "metadata": {},
   "outputs": [
    {
     "data": {
      "text/plain": [
       "0.7396182183523108"
      ]
     },
     "execution_count": 50,
     "metadata": {},
     "output_type": "execute_result"
    }
   ],
   "source": [
    "bag_model.score(X_valid, Y_valid)"
   ]
  },
  {
   "cell_type": "code",
   "execution_count": 51,
   "id": "ed655bd8",
   "metadata": {},
   "outputs": [
    {
     "name": "stdout",
     "output_type": "stream",
     "text": [
      "train score= 0.7398255137289225\n",
      "validation score= 0.7390321500334897\n"
     ]
    }
   ],
   "source": [
    "#try to drop serum ceratine feature because it has low variance\n",
    "X_train=train_data.drop(['serum creatinine'],axis=1)\n",
    "X_train=train_data.drop(['smoking'],axis=1)\n",
    "X_valid=validation.drop(['serum creatinine'],axis=1)\n",
    "X_valid=validation.drop(['smoking'],axis=1)\n",
    "bag_model = BaggingClassifier(\n",
    "    estimator=DecisionTreeClassifier(), \n",
    "    n_estimators=100, \n",
    "    max_samples=0.8, \n",
    "    oob_score=True,\n",
    "    random_state=0\n",
    ")\n",
    "bag_model.fit(X_train, Y_train)\n",
    "print(\"train score= \"+str(bag_model.oob_score_))\n",
    "print(\"validation score= \"+str(bag_model.score(X_valid, Y_valid)))\n"
   ]
  },
  {
   "cell_type": "code",
   "execution_count": 52,
   "id": "e17c0d7f",
   "metadata": {},
   "outputs": [
    {
     "name": "stdout",
     "output_type": "stream",
     "text": [
      "train score= 0.7398255137289225\n",
      "validation score= 0.7390321500334897\n"
     ]
    }
   ],
   "source": [
    "#try to drop LDL because it has high correlation with chelosterol\n",
    "X_train=train_data.drop(['LDL'],axis=1)\n",
    "X_train=train_data.drop(['smoking'],axis=1)\n",
    "X_valid=validation.drop(['LDL'],axis=1)\n",
    "X_valid=validation.drop(['smoking'],axis=1)\n",
    "bag_model1 = BaggingClassifier(\n",
    "    estimator=DecisionTreeClassifier(), \n",
    "    n_estimators=100, \n",
    "    max_samples=0.8, \n",
    "    oob_score=True,\n",
    "    random_state=0\n",
    ")\n",
    "bag_model1.fit(X_train, Y_train)\n",
    "print(\"train score= \"+str(bag_model1.oob_score_))\n",
    "print(\"validation score= \"+str(bag_model1.score(X_valid, Y_valid)))"
   ]
  },
  {
   "cell_type": "code",
   "execution_count": 53,
   "id": "14ff91db",
   "metadata": {},
   "outputs": [
    {
     "name": "stdout",
     "output_type": "stream",
     "text": [
      "train score= 0.7395741194216069\n",
      "validation score= 0.737399531145345\n"
     ]
    }
   ],
   "source": [
    "train_data['sysheight']=train_data['systolic']*train_data['height(cm)']\n",
    "validation['sysheight']=validation['systolic']*validation['height(cm)']\n",
    "X_train=train_data.drop(['smoking'],axis=1)\n",
    "X_valid=validation.drop(['smoking'],axis=1)\n",
    "bag_model2 = BaggingClassifier(\n",
    "    estimator=DecisionTreeClassifier(), \n",
    "    n_estimators=100, \n",
    "    max_samples=0.8, \n",
    "    oob_score=True,\n",
    "    random_state=0\n",
    ")\n",
    "bag_model2.fit(X_train, Y_train)\n",
    "print(\"train score= \"+str(bag_model2.oob_score_))\n",
    "print(\"validation score= \"+str(bag_model2.score(X_valid, Y_valid)))"
   ]
  },
  {
   "cell_type": "code",
   "execution_count": null,
   "id": "ef285fab",
   "metadata": {},
   "outputs": [],
   "source": []
  },
  {
   "cell_type": "code",
   "execution_count": 54,
   "id": "056ea41d",
   "metadata": {},
   "outputs": [
    {
     "name": "stdout",
     "output_type": "stream",
     "text": [
      "Accuracy 1 : 0.740162424648359\n"
     ]
    },
    {
     "name": "stderr",
     "output_type": "stream",
     "text": [
      "d:\\anaconda\\Lib\\site-packages\\sklearn\\ensemble\\_base.py:156: FutureWarning: `base_estimator` was renamed to `estimator` in version 1.2 and will be removed in 1.4.\n",
      "  warnings.warn(\n",
      "d:\\anaconda\\Lib\\site-packages\\sklearn\\linear_model\\_logistic.py:460: ConvergenceWarning: lbfgs failed to converge (status=1):\n",
      "STOP: TOTAL NO. of ITERATIONS REACHED LIMIT.\n",
      "\n",
      "Increase the number of iterations (max_iter) or scale the data as shown in:\n",
      "    https://scikit-learn.org/stable/modules/preprocessing.html\n",
      "Please also refer to the documentation for alternative solver options:\n",
      "    https://scikit-learn.org/stable/modules/linear_model.html#logistic-regression\n",
      "  n_iter_i = _check_optimize_result(\n",
      "d:\\anaconda\\Lib\\site-packages\\sklearn\\linear_model\\_logistic.py:460: ConvergenceWarning: lbfgs failed to converge (status=1):\n",
      "STOP: TOTAL NO. of ITERATIONS REACHED LIMIT.\n",
      "\n",
      "Increase the number of iterations (max_iter) or scale the data as shown in:\n",
      "    https://scikit-learn.org/stable/modules/preprocessing.html\n",
      "Please also refer to the documentation for alternative solver options:\n",
      "    https://scikit-learn.org/stable/modules/linear_model.html#logistic-regression\n",
      "  n_iter_i = _check_optimize_result(\n"
     ]
    },
    {
     "name": "stdout",
     "output_type": "stream",
     "text": [
      "Accuracy 2 : 0.7094775619557937\n"
     ]
    }
   ],
   "source": [
    "X_train=train_data.drop(['smoking'],axis=1)\n",
    "X_valid=validation.drop(['smoking'],axis=1)\n",
    "from sklearn.ensemble import AdaBoostClassifier\n",
    "from sklearn import metrics\n",
    "Adamodel = AdaBoostClassifier(n_estimators=100 ,learning_rate=1)\n",
    "model = Adamodel.fit(X_train,Y_train)\n",
    "y_pred = model.predict(X_valid)\n",
    "print(\"Accuracy 1 :\",metrics.accuracy_score(Y_valid,y_pred)) \n",
    "# -----------------------------------------------------------\n",
    "# using logisticRegression \n",
    "from sklearn.linear_model import LogisticRegression \n",
    "logisticModel = LogisticRegression()\n",
    "Adamodel_2 = AdaBoostClassifier(n_estimators=50 ,base_estimator=logisticModel,learning_rate=1)\n",
    "model_2 = Adamodel_2.fit(X_train,Y_train)\n",
    "y_pred_2 = model_2.predict(X_valid)\n",
    "print(\"Accuracy 2 :\",metrics.accuracy_score(Y_valid,y_pred_2)) "
   ]
  },
  {
   "cell_type": "code",
   "execution_count": 55,
   "id": "56c9c8ee",
   "metadata": {},
   "outputs": [
    {
     "name": "stderr",
     "output_type": "stream",
     "text": [
      "d:\\anaconda\\Lib\\site-packages\\sklearn\\base.py:464: UserWarning: X does not have valid feature names, but AdaBoostClassifier was fitted with feature names\n",
      "  warnings.warn(\n"
     ]
    },
    {
     "ename": "ValueError",
     "evalue": "X has 10 features, but AdaBoostClassifier is expecting 11 features as input.",
     "output_type": "error",
     "traceback": [
      "\u001b[1;31m---------------------------------------------------------------------------\u001b[0m",
      "\u001b[1;31mValueError\u001b[0m                                Traceback (most recent call last)",
      "Cell \u001b[1;32mIn[55], line 10\u001b[0m\n\u001b[0;32m      8\u001b[0m Adamodel \u001b[38;5;241m=\u001b[39m AdaBoostClassifier(n_estimators\u001b[38;5;241m=\u001b[39m\u001b[38;5;241m100\u001b[39m ,learning_rate\u001b[38;5;241m=\u001b[39m\u001b[38;5;241m1\u001b[39m)\n\u001b[0;32m      9\u001b[0m model \u001b[38;5;241m=\u001b[39m Adamodel\u001b[38;5;241m.\u001b[39mfit(X_train,Y_train)\n\u001b[1;32m---> 10\u001b[0m y_pred \u001b[38;5;241m=\u001b[39m model\u001b[38;5;241m.\u001b[39mpredict(X_test)\n\u001b[0;32m     11\u001b[0m \u001b[38;5;28mprint\u001b[39m(\u001b[38;5;124m\"\u001b[39m\u001b[38;5;124mAccuracy 1 :\u001b[39m\u001b[38;5;124m\"\u001b[39m,metrics\u001b[38;5;241m.\u001b[39maccuracy_score(Y_test,y_pred)) \n\u001b[0;32m     12\u001b[0m \u001b[38;5;66;03m# -----------------------------------------------------------\u001b[39;00m\n\u001b[0;32m     13\u001b[0m \u001b[38;5;66;03m# using logisticRegression \u001b[39;00m\n",
      "File \u001b[1;32md:\\anaconda\\Lib\\site-packages\\sklearn\\ensemble\\_weight_boosting.py:710\u001b[0m, in \u001b[0;36mAdaBoostClassifier.predict\u001b[1;34m(self, X)\u001b[0m\n\u001b[0;32m    693\u001b[0m \u001b[38;5;28;01mdef\u001b[39;00m \u001b[38;5;21mpredict\u001b[39m(\u001b[38;5;28mself\u001b[39m, X):\n\u001b[0;32m    694\u001b[0m \u001b[38;5;250m    \u001b[39m\u001b[38;5;124;03m\"\"\"Predict classes for X.\u001b[39;00m\n\u001b[0;32m    695\u001b[0m \n\u001b[0;32m    696\u001b[0m \u001b[38;5;124;03m    The predicted class of an input sample is computed as the weighted mean\u001b[39;00m\n\u001b[1;32m   (...)\u001b[0m\n\u001b[0;32m    708\u001b[0m \u001b[38;5;124;03m        The predicted classes.\u001b[39;00m\n\u001b[0;32m    709\u001b[0m \u001b[38;5;124;03m    \"\"\"\u001b[39;00m\n\u001b[1;32m--> 710\u001b[0m     pred \u001b[38;5;241m=\u001b[39m \u001b[38;5;28mself\u001b[39m\u001b[38;5;241m.\u001b[39mdecision_function(X)\n\u001b[0;32m    712\u001b[0m     \u001b[38;5;28;01mif\u001b[39;00m \u001b[38;5;28mself\u001b[39m\u001b[38;5;241m.\u001b[39mn_classes_ \u001b[38;5;241m==\u001b[39m \u001b[38;5;241m2\u001b[39m:\n\u001b[0;32m    713\u001b[0m         \u001b[38;5;28;01mreturn\u001b[39;00m \u001b[38;5;28mself\u001b[39m\u001b[38;5;241m.\u001b[39mclasses_\u001b[38;5;241m.\u001b[39mtake(pred \u001b[38;5;241m>\u001b[39m \u001b[38;5;241m0\u001b[39m, axis\u001b[38;5;241m=\u001b[39m\u001b[38;5;241m0\u001b[39m)\n",
      "File \u001b[1;32md:\\anaconda\\Lib\\site-packages\\sklearn\\ensemble\\_weight_boosting.py:771\u001b[0m, in \u001b[0;36mAdaBoostClassifier.decision_function\u001b[1;34m(self, X)\u001b[0m\n\u001b[0;32m    752\u001b[0m \u001b[38;5;250m\u001b[39m\u001b[38;5;124;03m\"\"\"Compute the decision function of ``X``.\u001b[39;00m\n\u001b[0;32m    753\u001b[0m \n\u001b[0;32m    754\u001b[0m \u001b[38;5;124;03mParameters\u001b[39;00m\n\u001b[1;32m   (...)\u001b[0m\n\u001b[0;32m    768\u001b[0m \u001b[38;5;124;03m    class in ``classes_``, respectively.\u001b[39;00m\n\u001b[0;32m    769\u001b[0m \u001b[38;5;124;03m\"\"\"\u001b[39;00m\n\u001b[0;32m    770\u001b[0m check_is_fitted(\u001b[38;5;28mself\u001b[39m)\n\u001b[1;32m--> 771\u001b[0m X \u001b[38;5;241m=\u001b[39m \u001b[38;5;28mself\u001b[39m\u001b[38;5;241m.\u001b[39m_check_X(X)\n\u001b[0;32m    773\u001b[0m n_classes \u001b[38;5;241m=\u001b[39m \u001b[38;5;28mself\u001b[39m\u001b[38;5;241m.\u001b[39mn_classes_\n\u001b[0;32m    774\u001b[0m classes \u001b[38;5;241m=\u001b[39m \u001b[38;5;28mself\u001b[39m\u001b[38;5;241m.\u001b[39mclasses_[:, np\u001b[38;5;241m.\u001b[39mnewaxis]\n",
      "File \u001b[1;32md:\\anaconda\\Lib\\site-packages\\sklearn\\ensemble\\_weight_boosting.py:101\u001b[0m, in \u001b[0;36mBaseWeightBoosting._check_X\u001b[1;34m(self, X)\u001b[0m\n\u001b[0;32m     99\u001b[0m \u001b[38;5;28;01mdef\u001b[39;00m \u001b[38;5;21m_check_X\u001b[39m(\u001b[38;5;28mself\u001b[39m, X):\n\u001b[0;32m    100\u001b[0m     \u001b[38;5;66;03m# Only called to validate X in non-fit methods, therefore reset=False\u001b[39;00m\n\u001b[1;32m--> 101\u001b[0m     \u001b[38;5;28;01mreturn\u001b[39;00m \u001b[38;5;28mself\u001b[39m\u001b[38;5;241m.\u001b[39m_validate_data(\n\u001b[0;32m    102\u001b[0m         X,\n\u001b[0;32m    103\u001b[0m         accept_sparse\u001b[38;5;241m=\u001b[39m[\u001b[38;5;124m\"\u001b[39m\u001b[38;5;124mcsr\u001b[39m\u001b[38;5;124m\"\u001b[39m, \u001b[38;5;124m\"\u001b[39m\u001b[38;5;124mcsc\u001b[39m\u001b[38;5;124m\"\u001b[39m],\n\u001b[0;32m    104\u001b[0m         ensure_2d\u001b[38;5;241m=\u001b[39m\u001b[38;5;28;01mTrue\u001b[39;00m,\n\u001b[0;32m    105\u001b[0m         allow_nd\u001b[38;5;241m=\u001b[39m\u001b[38;5;28;01mTrue\u001b[39;00m,\n\u001b[0;32m    106\u001b[0m         dtype\u001b[38;5;241m=\u001b[39m\u001b[38;5;28;01mNone\u001b[39;00m,\n\u001b[0;32m    107\u001b[0m         reset\u001b[38;5;241m=\u001b[39m\u001b[38;5;28;01mFalse\u001b[39;00m,\n\u001b[0;32m    108\u001b[0m     )\n",
      "File \u001b[1;32md:\\anaconda\\Lib\\site-packages\\sklearn\\base.py:625\u001b[0m, in \u001b[0;36mBaseEstimator._validate_data\u001b[1;34m(self, X, y, reset, validate_separately, cast_to_ndarray, **check_params)\u001b[0m\n\u001b[0;32m    622\u001b[0m     out \u001b[38;5;241m=\u001b[39m X, y\n\u001b[0;32m    624\u001b[0m \u001b[38;5;28;01mif\u001b[39;00m \u001b[38;5;129;01mnot\u001b[39;00m no_val_X \u001b[38;5;129;01mand\u001b[39;00m check_params\u001b[38;5;241m.\u001b[39mget(\u001b[38;5;124m\"\u001b[39m\u001b[38;5;124mensure_2d\u001b[39m\u001b[38;5;124m\"\u001b[39m, \u001b[38;5;28;01mTrue\u001b[39;00m):\n\u001b[1;32m--> 625\u001b[0m     \u001b[38;5;28mself\u001b[39m\u001b[38;5;241m.\u001b[39m_check_n_features(X, reset\u001b[38;5;241m=\u001b[39mreset)\n\u001b[0;32m    627\u001b[0m \u001b[38;5;28;01mreturn\u001b[39;00m out\n",
      "File \u001b[1;32md:\\anaconda\\Lib\\site-packages\\sklearn\\base.py:414\u001b[0m, in \u001b[0;36mBaseEstimator._check_n_features\u001b[1;34m(self, X, reset)\u001b[0m\n\u001b[0;32m    411\u001b[0m     \u001b[38;5;28;01mreturn\u001b[39;00m\n\u001b[0;32m    413\u001b[0m \u001b[38;5;28;01mif\u001b[39;00m n_features \u001b[38;5;241m!=\u001b[39m \u001b[38;5;28mself\u001b[39m\u001b[38;5;241m.\u001b[39mn_features_in_:\n\u001b[1;32m--> 414\u001b[0m     \u001b[38;5;28;01mraise\u001b[39;00m \u001b[38;5;167;01mValueError\u001b[39;00m(\n\u001b[0;32m    415\u001b[0m         \u001b[38;5;124mf\u001b[39m\u001b[38;5;124m\"\u001b[39m\u001b[38;5;124mX has \u001b[39m\u001b[38;5;132;01m{\u001b[39;00mn_features\u001b[38;5;132;01m}\u001b[39;00m\u001b[38;5;124m features, but \u001b[39m\u001b[38;5;132;01m{\u001b[39;00m\u001b[38;5;28mself\u001b[39m\u001b[38;5;241m.\u001b[39m\u001b[38;5;18m__class__\u001b[39m\u001b[38;5;241m.\u001b[39m\u001b[38;5;18m__name__\u001b[39m\u001b[38;5;132;01m}\u001b[39;00m\u001b[38;5;124m \u001b[39m\u001b[38;5;124m\"\u001b[39m\n\u001b[0;32m    416\u001b[0m         \u001b[38;5;124mf\u001b[39m\u001b[38;5;124m\"\u001b[39m\u001b[38;5;124mis expecting \u001b[39m\u001b[38;5;132;01m{\u001b[39;00m\u001b[38;5;28mself\u001b[39m\u001b[38;5;241m.\u001b[39mn_features_in_\u001b[38;5;132;01m}\u001b[39;00m\u001b[38;5;124m features as input.\u001b[39m\u001b[38;5;124m\"\u001b[39m\n\u001b[0;32m    417\u001b[0m     )\n",
      "\u001b[1;31mValueError\u001b[0m: X has 10 features, but AdaBoostClassifier is expecting 11 features as input."
     ]
    }
   ],
   "source": [
    "#try to drop serum ceratine feature because it has low variance\n",
    "X_train=train_data.drop(['serum creatinine'],axis=1)\n",
    "X_train=train_data.drop(['smoking'],axis=1)\n",
    "X_valid=validation.drop(['serum creatinine'],axis=1)\n",
    "X_valid=validation.drop(['smoking'],axis=1)\n",
    "from sklearn.ensemble import AdaBoostClassifier\n",
    "from sklearn import metrics\n",
    "Adamodel = AdaBoostClassifier(n_estimators=100 ,learning_rate=1)\n",
    "model = Adamodel.fit(X_train,Y_train)\n",
    "y_pred = model.predict(X_test)\n",
    "print(\"Accuracy 1 :\",metrics.accuracy_score(Y_test,y_pred)) \n",
    "# -----------------------------------------------------------\n",
    "# using logisticRegression \n",
    "from sklearn.linear_model import LogisticRegression \n",
    "logisticModel = LogisticRegression()\n",
    "Adamodel_2 = AdaBoostClassifier(n_estimators=50 ,base_estimator=logisticModel,learning_rate=1)\n",
    "model_2 = Adamodel_2.fit(X_train,Y_train)\n",
    "y_pred_2 = model_2.predict(X_test)\n",
    "print(\"Accuracy 2 :\",metrics.accuracy_score(Y_test,y_pred_2)) \n",
    "# ada boast model needs the features with low variation"
   ]
  },
  {
   "cell_type": "markdown",
   "id": "84390797",
   "metadata": {},
   "source": [
    "# Train using Random Forest"
   ]
  },
  {
   "cell_type": "code",
   "execution_count": 56,
   "id": "c00e1284",
   "metadata": {},
   "outputs": [
    {
     "name": "stdout",
     "output_type": "stream",
     "text": [
      "Accuracy  : 0.742967180174146\n"
     ]
    }
   ],
   "source": [
    "from sklearn.ensemble import RandomForestClassifier\n",
    "from sklearn import metrics\n",
    "randomForest = RandomForestClassifier(n_estimators= 100)\n",
    "randomForestModel = randomForest.fit(X_train,Y_train)\n",
    "y_pred_0 = randomForestModel.predict(X_valid)\n",
    "# randomForestModel.oob_score_\n",
    "print(\"Accuracy  :\",metrics.accuracy_score(Y_valid,y_pred_0)) "
   ]
  },
  {
   "cell_type": "code",
   "execution_count": 57,
   "id": "f1819df8",
   "metadata": {},
   "outputs": [
    {
     "name": "stdout",
     "output_type": "stream",
     "text": [
      "Accuracy  : 0.7424648359008708\n"
     ]
    }
   ],
   "source": [
    "# try adding another feature to random forest model\n",
    "train_data['sysheight']=train_data['systolic']*train_data['height(cm)']\n",
    "validation['sysheight']=validation['systolic']*validation['height(cm)']\n",
    "X_train=train_data.drop(['smoking'],axis=1)\n",
    "X_valid=validation.drop(['smoking'],axis=1)\n",
    "randomForest = RandomForestClassifier(n_estimators= 100)\n",
    "randomForestModel = randomForest.fit(X_train,Y_train)\n",
    "y_pred_0 = randomForestModel.predict(X_valid)\n",
    "# randomForestModel.oob_score_\n",
    "print(\"Accuracy  :\",metrics.accuracy_score(Y_valid,y_pred_0)) "
   ]
  },
  {
   "cell_type": "markdown",
   "id": "89d11aaf",
   "metadata": {},
   "source": [
    "<h1>GRIDSEARCH</h1>\n",
    "<h3>GRIDSERACH FOR BaggingClassifier</h3>"
   ]
  },
  {
   "cell_type": "code",
   "execution_count": 58,
   "id": "131a163b",
   "metadata": {},
   "outputs": [
    {
     "data": {
      "text/plain": [
       "{'mean_fit_time': array([ 1.94146943,  1.84634886, 10.01062999,  9.60092278, 20.16956406,\n",
       "        18.88512158,  3.3954102 ,  2.98303299, 14.25086627, 13.68903809,\n",
       "        30.13486643, 28.50975113,  4.10476155,  3.76796751, 20.15021148,\n",
       "        19.91994185, 40.03937526, 40.16786122,  4.81452093,  4.41732597,\n",
       "        23.63932858, 25.08238964, 49.24483399, 42.84150167]),\n",
       " 'std_fit_time': array([0.11458894, 0.13421119, 0.68274508, 0.80694276, 1.5117748 ,\n",
       "        1.21535949, 0.25083808, 0.296717  , 0.9524109 , 0.86109766,\n",
       "        1.6840825 , 1.59963979, 0.3395196 , 0.0637786 , 1.53590084,\n",
       "        1.2491602 , 1.14600507, 2.38861566, 0.1599489 , 0.35096683,\n",
       "        1.51889809, 1.63426371, 1.63756507, 2.46944516]),\n",
       " 'mean_score_time': array([0.03452854, 0.03590269, 0.14994745, 0.15225306, 0.28671579,\n",
       "        0.28978877, 0.04761457, 0.03451667, 0.14666758, 0.15976233,\n",
       "        0.30313349, 0.31710143, 0.0357223 , 0.03692174, 0.15925417,\n",
       "        0.17134113, 0.33320456, 0.37265906, 0.0414382 , 0.04010797,\n",
       "        0.204177  , 0.20586948, 0.27965484, 0.17878275]),\n",
       " 'std_score_time': array([0.00209956, 0.00246004, 0.02250536, 0.01262468, 0.0210168 ,\n",
       "        0.01639838, 0.0118545 , 0.00251374, 0.0028602 , 0.01136883,\n",
       "        0.02499191, 0.03492368, 0.00239849, 0.00037456, 0.01378016,\n",
       "        0.01770303, 0.03969039, 0.06357023, 0.00430625, 0.00191077,\n",
       "        0.02076712, 0.02846214, 0.04545655, 0.05651095]),\n",
       " 'param_estimator': masked_array(data=[DecisionTreeClassifier(), DecisionTreeClassifier(),\n",
       "                    DecisionTreeClassifier(), DecisionTreeClassifier(),\n",
       "                    DecisionTreeClassifier(), DecisionTreeClassifier(),\n",
       "                    DecisionTreeClassifier(), DecisionTreeClassifier(),\n",
       "                    DecisionTreeClassifier(), DecisionTreeClassifier(),\n",
       "                    DecisionTreeClassifier(), DecisionTreeClassifier(),\n",
       "                    DecisionTreeClassifier(), DecisionTreeClassifier(),\n",
       "                    DecisionTreeClassifier(), DecisionTreeClassifier(),\n",
       "                    DecisionTreeClassifier(), DecisionTreeClassifier(),\n",
       "                    DecisionTreeClassifier(), DecisionTreeClassifier(),\n",
       "                    DecisionTreeClassifier(), DecisionTreeClassifier(),\n",
       "                    DecisionTreeClassifier(), DecisionTreeClassifier()],\n",
       "              mask=[False, False, False, False, False, False, False, False,\n",
       "                    False, False, False, False, False, False, False, False,\n",
       "                    False, False, False, False, False, False, False, False],\n",
       "        fill_value='?',\n",
       "             dtype=object),\n",
       " 'param_max_samples': masked_array(data=[0.3, 0.3, 0.3, 0.3, 0.3, 0.3, 0.5, 0.5, 0.5, 0.5, 0.5,\n",
       "                    0.5, 0.8, 0.8, 0.8, 0.8, 0.8, 0.8, 0.9, 0.9, 0.9, 0.9,\n",
       "                    0.9, 0.9],\n",
       "              mask=[False, False, False, False, False, False, False, False,\n",
       "                    False, False, False, False, False, False, False, False,\n",
       "                    False, False, False, False, False, False, False, False],\n",
       "        fill_value='?',\n",
       "             dtype=object),\n",
       " 'param_n_estimators': masked_array(data=[10, 10, 50, 50, 100, 100, 10, 10, 50, 50, 100, 100, 10,\n",
       "                    10, 50, 50, 100, 100, 10, 10, 50, 50, 100, 100],\n",
       "              mask=[False, False, False, False, False, False, False, False,\n",
       "                    False, False, False, False, False, False, False, False,\n",
       "                    False, False, False, False, False, False, False, False],\n",
       "        fill_value='?',\n",
       "             dtype=object),\n",
       " 'param_oob_score': masked_array(data=[True, False, True, False, True, False, True, False,\n",
       "                    True, False, True, False, True, False, True, False,\n",
       "                    True, False, True, False, True, False, True, False],\n",
       "              mask=[False, False, False, False, False, False, False, False,\n",
       "                    False, False, False, False, False, False, False, False,\n",
       "                    False, False, False, False, False, False, False, False],\n",
       "        fill_value='?',\n",
       "             dtype=object),\n",
       " 'param_random_state': masked_array(data=[0, 0, 0, 0, 0, 0, 0, 0, 0, 0, 0, 0, 0, 0, 0, 0, 0, 0,\n",
       "                    0, 0, 0, 0, 0, 0],\n",
       "              mask=[False, False, False, False, False, False, False, False,\n",
       "                    False, False, False, False, False, False, False, False,\n",
       "                    False, False, False, False, False, False, False, False],\n",
       "        fill_value='?',\n",
       "             dtype=object),\n",
       " 'params': [{'estimator': DecisionTreeClassifier(),\n",
       "   'max_samples': 0.3,\n",
       "   'n_estimators': 10,\n",
       "   'oob_score': True,\n",
       "   'random_state': 0},\n",
       "  {'estimator': DecisionTreeClassifier(),\n",
       "   'max_samples': 0.3,\n",
       "   'n_estimators': 10,\n",
       "   'oob_score': False,\n",
       "   'random_state': 0},\n",
       "  {'estimator': DecisionTreeClassifier(),\n",
       "   'max_samples': 0.3,\n",
       "   'n_estimators': 50,\n",
       "   'oob_score': True,\n",
       "   'random_state': 0},\n",
       "  {'estimator': DecisionTreeClassifier(),\n",
       "   'max_samples': 0.3,\n",
       "   'n_estimators': 50,\n",
       "   'oob_score': False,\n",
       "   'random_state': 0},\n",
       "  {'estimator': DecisionTreeClassifier(),\n",
       "   'max_samples': 0.3,\n",
       "   'n_estimators': 100,\n",
       "   'oob_score': True,\n",
       "   'random_state': 0},\n",
       "  {'estimator': DecisionTreeClassifier(),\n",
       "   'max_samples': 0.3,\n",
       "   'n_estimators': 100,\n",
       "   'oob_score': False,\n",
       "   'random_state': 0},\n",
       "  {'estimator': DecisionTreeClassifier(),\n",
       "   'max_samples': 0.5,\n",
       "   'n_estimators': 10,\n",
       "   'oob_score': True,\n",
       "   'random_state': 0},\n",
       "  {'estimator': DecisionTreeClassifier(),\n",
       "   'max_samples': 0.5,\n",
       "   'n_estimators': 10,\n",
       "   'oob_score': False,\n",
       "   'random_state': 0},\n",
       "  {'estimator': DecisionTreeClassifier(),\n",
       "   'max_samples': 0.5,\n",
       "   'n_estimators': 50,\n",
       "   'oob_score': True,\n",
       "   'random_state': 0},\n",
       "  {'estimator': DecisionTreeClassifier(),\n",
       "   'max_samples': 0.5,\n",
       "   'n_estimators': 50,\n",
       "   'oob_score': False,\n",
       "   'random_state': 0},\n",
       "  {'estimator': DecisionTreeClassifier(),\n",
       "   'max_samples': 0.5,\n",
       "   'n_estimators': 100,\n",
       "   'oob_score': True,\n",
       "   'random_state': 0},\n",
       "  {'estimator': DecisionTreeClassifier(),\n",
       "   'max_samples': 0.5,\n",
       "   'n_estimators': 100,\n",
       "   'oob_score': False,\n",
       "   'random_state': 0},\n",
       "  {'estimator': DecisionTreeClassifier(),\n",
       "   'max_samples': 0.8,\n",
       "   'n_estimators': 10,\n",
       "   'oob_score': True,\n",
       "   'random_state': 0},\n",
       "  {'estimator': DecisionTreeClassifier(),\n",
       "   'max_samples': 0.8,\n",
       "   'n_estimators': 10,\n",
       "   'oob_score': False,\n",
       "   'random_state': 0},\n",
       "  {'estimator': DecisionTreeClassifier(),\n",
       "   'max_samples': 0.8,\n",
       "   'n_estimators': 50,\n",
       "   'oob_score': True,\n",
       "   'random_state': 0},\n",
       "  {'estimator': DecisionTreeClassifier(),\n",
       "   'max_samples': 0.8,\n",
       "   'n_estimators': 50,\n",
       "   'oob_score': False,\n",
       "   'random_state': 0},\n",
       "  {'estimator': DecisionTreeClassifier(),\n",
       "   'max_samples': 0.8,\n",
       "   'n_estimators': 100,\n",
       "   'oob_score': True,\n",
       "   'random_state': 0},\n",
       "  {'estimator': DecisionTreeClassifier(),\n",
       "   'max_samples': 0.8,\n",
       "   'n_estimators': 100,\n",
       "   'oob_score': False,\n",
       "   'random_state': 0},\n",
       "  {'estimator': DecisionTreeClassifier(),\n",
       "   'max_samples': 0.9,\n",
       "   'n_estimators': 10,\n",
       "   'oob_score': True,\n",
       "   'random_state': 0},\n",
       "  {'estimator': DecisionTreeClassifier(),\n",
       "   'max_samples': 0.9,\n",
       "   'n_estimators': 10,\n",
       "   'oob_score': False,\n",
       "   'random_state': 0},\n",
       "  {'estimator': DecisionTreeClassifier(),\n",
       "   'max_samples': 0.9,\n",
       "   'n_estimators': 50,\n",
       "   'oob_score': True,\n",
       "   'random_state': 0},\n",
       "  {'estimator': DecisionTreeClassifier(),\n",
       "   'max_samples': 0.9,\n",
       "   'n_estimators': 50,\n",
       "   'oob_score': False,\n",
       "   'random_state': 0},\n",
       "  {'estimator': DecisionTreeClassifier(),\n",
       "   'max_samples': 0.9,\n",
       "   'n_estimators': 100,\n",
       "   'oob_score': True,\n",
       "   'random_state': 0},\n",
       "  {'estimator': DecisionTreeClassifier(),\n",
       "   'max_samples': 0.9,\n",
       "   'n_estimators': 100,\n",
       "   'oob_score': False,\n",
       "   'random_state': 0}],\n",
       " 'split0_test_score': array([0.70489745, 0.70489745, 0.73943072, 0.73943072, 0.74445375,\n",
       "        0.74445375, 0.71368774, 0.71368774, 0.74591879, 0.74591879,\n",
       "        0.74675596, 0.74675596, 0.71054835, 0.71054835, 0.73105902,\n",
       "        0.73105902, 0.73775638, 0.73775638, 0.70803684, 0.70803684,\n",
       "        0.74110506, 0.74110506, 0.74215153, 0.74215153]),\n",
       " 'split1_test_score': array([0.70657179, 0.70657179, 0.73670992, 0.73670992, 0.7400586 ,\n",
       "        0.7400586 , 0.71054835, 0.71054835, 0.73629134, 0.73629134,\n",
       "        0.73398912, 0.73398912, 0.70950188, 0.70950188, 0.72917539,\n",
       "        0.72917539, 0.73357053, 0.73357053, 0.7005023 , 0.7005023 ,\n",
       "        0.73210548, 0.73210548, 0.7316869 , 0.7316869 ]),\n",
       " 'split2_test_score': array([0.70029301, 0.70029301, 0.7344077 , 0.7344077 , 0.73608204,\n",
       "        0.73608204, 0.70426957, 0.70426957, 0.73084973, 0.73084973,\n",
       "        0.73377982, 0.73377982, 0.69820008, 0.69820008, 0.7287568 ,\n",
       "        0.7287568 , 0.73357053, 0.73357053, 0.70364169, 0.70364169,\n",
       "        0.72750105, 0.72750105, 0.72687317, 0.72687317]),\n",
       " 'split3_test_score': array([0.69792757, 0.69792757, 0.73330542, 0.73330542, 0.73058405,\n",
       "        0.73058405, 0.70274231, 0.70274231, 0.72870002, 0.72870002,\n",
       "        0.72953737, 0.72953737, 0.70295164, 0.70295164, 0.72367595,\n",
       "        0.72367595, 0.72702533, 0.72702533, 0.69374084, 0.69374084,\n",
       "        0.72221059, 0.72221059, 0.72451329, 0.72451329]),\n",
       " 'split4_test_score': array([0.70002093, 0.70002093, 0.72890936, 0.72890936, 0.73016538,\n",
       "        0.73016538, 0.69729956, 0.69729956, 0.72221059, 0.72221059,\n",
       "        0.72137325, 0.72137325, 0.69227549, 0.69227549, 0.72346661,\n",
       "        0.72346661, 0.72765334, 0.72765334, 0.69709022, 0.69709022,\n",
       "        0.72325727, 0.72325727, 0.72932803, 0.72932803]),\n",
       " 'mean_test_score': array([0.70194215, 0.70194215, 0.73455263, 0.73455263, 0.73626876,\n",
       "        0.73626876, 0.7057095 , 0.7057095 , 0.73279409, 0.73279409,\n",
       "        0.7330871 , 0.7330871 , 0.70269549, 0.70269549, 0.72722675,\n",
       "        0.72722675, 0.73191522, 0.73191522, 0.70060238, 0.70060238,\n",
       "        0.72923589, 0.72923589, 0.73091058, 0.73091058]),\n",
       " 'std_test_score': array([0.00324638, 0.00324638, 0.00351775, 0.00351775, 0.00549471,\n",
       "        0.00549471, 0.00580812, 0.00580812, 0.00796293, 0.00796293,\n",
       "        0.00822127, 0.00822127, 0.00688252, 0.00688252, 0.00308452,\n",
       "        0.00308452, 0.00404163, 0.00404163, 0.00497864, 0.00497864,\n",
       "        0.00688796, 0.00688796, 0.00611052, 0.00611052]),\n",
       " 'rank_test_score': array([21, 21,  3,  3,  1,  1, 17, 17,  7,  7,  5,  5, 19, 19, 15, 15,  9,\n",
       "         9, 23, 23, 13, 13, 11, 11])}"
      ]
     },
     "execution_count": 58,
     "metadata": {},
     "output_type": "execute_result"
    }
   ],
   "source": [
    "from sklearn.model_selection import GridSearchCV\n",
    "result = GridSearchCV(\n",
    "        BaggingClassifier(),\n",
    "        {\n",
    "            'estimator': [DecisionTreeClassifier()],\n",
    "            'n_estimators': [10, 50, 100],\n",
    "            'max_samples': [0.3, 0.5, 0.8, 0.9],\n",
    "            'oob_score': [True, False],\n",
    "            'random_state': [0]\n",
    "        },\n",
    "    cv=5,\n",
    "    return_train_score=False,\n",
    "    n_jobs=-1\n",
    ")\n",
    "\n",
    "result.fit(X_valid,Y_valid)\n",
    "result.cv_results_"
   ]
  },
  {
   "cell_type": "markdown",
   "id": "09860eb5",
   "metadata": {},
   "source": [
    "# Result for grid search"
   ]
  },
  {
   "cell_type": "code",
   "execution_count": 59,
   "id": "d3fe8089",
   "metadata": {},
   "outputs": [
    {
     "data": {
      "text/html": [
       "<div>\n",
       "<style scoped>\n",
       "    .dataframe tbody tr th:only-of-type {\n",
       "        vertical-align: middle;\n",
       "    }\n",
       "\n",
       "    .dataframe tbody tr th {\n",
       "        vertical-align: top;\n",
       "    }\n",
       "\n",
       "    .dataframe thead th {\n",
       "        text-align: right;\n",
       "    }\n",
       "</style>\n",
       "<table border=\"1\" class=\"dataframe\">\n",
       "  <thead>\n",
       "    <tr style=\"text-align: right;\">\n",
       "      <th></th>\n",
       "      <th>mean_fit_time</th>\n",
       "      <th>std_fit_time</th>\n",
       "      <th>mean_score_time</th>\n",
       "      <th>std_score_time</th>\n",
       "      <th>param_estimator</th>\n",
       "      <th>param_max_samples</th>\n",
       "      <th>param_n_estimators</th>\n",
       "      <th>param_oob_score</th>\n",
       "      <th>param_random_state</th>\n",
       "      <th>params</th>\n",
       "      <th>split0_test_score</th>\n",
       "      <th>split1_test_score</th>\n",
       "      <th>split2_test_score</th>\n",
       "      <th>split3_test_score</th>\n",
       "      <th>split4_test_score</th>\n",
       "      <th>mean_test_score</th>\n",
       "      <th>std_test_score</th>\n",
       "      <th>rank_test_score</th>\n",
       "    </tr>\n",
       "  </thead>\n",
       "  <tbody>\n",
       "    <tr>\n",
       "      <th>0</th>\n",
       "      <td>1.941469</td>\n",
       "      <td>0.114589</td>\n",
       "      <td>0.034529</td>\n",
       "      <td>0.002100</td>\n",
       "      <td>DecisionTreeClassifier()</td>\n",
       "      <td>0.3</td>\n",
       "      <td>10</td>\n",
       "      <td>True</td>\n",
       "      <td>0</td>\n",
       "      <td>{'estimator': DecisionTreeClassifier(), 'max_s...</td>\n",
       "      <td>0.704897</td>\n",
       "      <td>0.706572</td>\n",
       "      <td>0.700293</td>\n",
       "      <td>0.697928</td>\n",
       "      <td>0.700021</td>\n",
       "      <td>0.701942</td>\n",
       "      <td>0.003246</td>\n",
       "      <td>21</td>\n",
       "    </tr>\n",
       "    <tr>\n",
       "      <th>1</th>\n",
       "      <td>1.846349</td>\n",
       "      <td>0.134211</td>\n",
       "      <td>0.035903</td>\n",
       "      <td>0.002460</td>\n",
       "      <td>DecisionTreeClassifier()</td>\n",
       "      <td>0.3</td>\n",
       "      <td>10</td>\n",
       "      <td>False</td>\n",
       "      <td>0</td>\n",
       "      <td>{'estimator': DecisionTreeClassifier(), 'max_s...</td>\n",
       "      <td>0.704897</td>\n",
       "      <td>0.706572</td>\n",
       "      <td>0.700293</td>\n",
       "      <td>0.697928</td>\n",
       "      <td>0.700021</td>\n",
       "      <td>0.701942</td>\n",
       "      <td>0.003246</td>\n",
       "      <td>21</td>\n",
       "    </tr>\n",
       "    <tr>\n",
       "      <th>2</th>\n",
       "      <td>10.010630</td>\n",
       "      <td>0.682745</td>\n",
       "      <td>0.149947</td>\n",
       "      <td>0.022505</td>\n",
       "      <td>DecisionTreeClassifier()</td>\n",
       "      <td>0.3</td>\n",
       "      <td>50</td>\n",
       "      <td>True</td>\n",
       "      <td>0</td>\n",
       "      <td>{'estimator': DecisionTreeClassifier(), 'max_s...</td>\n",
       "      <td>0.739431</td>\n",
       "      <td>0.736710</td>\n",
       "      <td>0.734408</td>\n",
       "      <td>0.733305</td>\n",
       "      <td>0.728909</td>\n",
       "      <td>0.734553</td>\n",
       "      <td>0.003518</td>\n",
       "      <td>3</td>\n",
       "    </tr>\n",
       "    <tr>\n",
       "      <th>3</th>\n",
       "      <td>9.600923</td>\n",
       "      <td>0.806943</td>\n",
       "      <td>0.152253</td>\n",
       "      <td>0.012625</td>\n",
       "      <td>DecisionTreeClassifier()</td>\n",
       "      <td>0.3</td>\n",
       "      <td>50</td>\n",
       "      <td>False</td>\n",
       "      <td>0</td>\n",
       "      <td>{'estimator': DecisionTreeClassifier(), 'max_s...</td>\n",
       "      <td>0.739431</td>\n",
       "      <td>0.736710</td>\n",
       "      <td>0.734408</td>\n",
       "      <td>0.733305</td>\n",
       "      <td>0.728909</td>\n",
       "      <td>0.734553</td>\n",
       "      <td>0.003518</td>\n",
       "      <td>3</td>\n",
       "    </tr>\n",
       "    <tr>\n",
       "      <th>4</th>\n",
       "      <td>20.169564</td>\n",
       "      <td>1.511775</td>\n",
       "      <td>0.286716</td>\n",
       "      <td>0.021017</td>\n",
       "      <td>DecisionTreeClassifier()</td>\n",
       "      <td>0.3</td>\n",
       "      <td>100</td>\n",
       "      <td>True</td>\n",
       "      <td>0</td>\n",
       "      <td>{'estimator': DecisionTreeClassifier(), 'max_s...</td>\n",
       "      <td>0.744454</td>\n",
       "      <td>0.740059</td>\n",
       "      <td>0.736082</td>\n",
       "      <td>0.730584</td>\n",
       "      <td>0.730165</td>\n",
       "      <td>0.736269</td>\n",
       "      <td>0.005495</td>\n",
       "      <td>1</td>\n",
       "    </tr>\n",
       "    <tr>\n",
       "      <th>5</th>\n",
       "      <td>18.885122</td>\n",
       "      <td>1.215359</td>\n",
       "      <td>0.289789</td>\n",
       "      <td>0.016398</td>\n",
       "      <td>DecisionTreeClassifier()</td>\n",
       "      <td>0.3</td>\n",
       "      <td>100</td>\n",
       "      <td>False</td>\n",
       "      <td>0</td>\n",
       "      <td>{'estimator': DecisionTreeClassifier(), 'max_s...</td>\n",
       "      <td>0.744454</td>\n",
       "      <td>0.740059</td>\n",
       "      <td>0.736082</td>\n",
       "      <td>0.730584</td>\n",
       "      <td>0.730165</td>\n",
       "      <td>0.736269</td>\n",
       "      <td>0.005495</td>\n",
       "      <td>1</td>\n",
       "    </tr>\n",
       "    <tr>\n",
       "      <th>6</th>\n",
       "      <td>3.395410</td>\n",
       "      <td>0.250838</td>\n",
       "      <td>0.047615</td>\n",
       "      <td>0.011854</td>\n",
       "      <td>DecisionTreeClassifier()</td>\n",
       "      <td>0.5</td>\n",
       "      <td>10</td>\n",
       "      <td>True</td>\n",
       "      <td>0</td>\n",
       "      <td>{'estimator': DecisionTreeClassifier(), 'max_s...</td>\n",
       "      <td>0.713688</td>\n",
       "      <td>0.710548</td>\n",
       "      <td>0.704270</td>\n",
       "      <td>0.702742</td>\n",
       "      <td>0.697300</td>\n",
       "      <td>0.705710</td>\n",
       "      <td>0.005808</td>\n",
       "      <td>17</td>\n",
       "    </tr>\n",
       "    <tr>\n",
       "      <th>7</th>\n",
       "      <td>2.983033</td>\n",
       "      <td>0.296717</td>\n",
       "      <td>0.034517</td>\n",
       "      <td>0.002514</td>\n",
       "      <td>DecisionTreeClassifier()</td>\n",
       "      <td>0.5</td>\n",
       "      <td>10</td>\n",
       "      <td>False</td>\n",
       "      <td>0</td>\n",
       "      <td>{'estimator': DecisionTreeClassifier(), 'max_s...</td>\n",
       "      <td>0.713688</td>\n",
       "      <td>0.710548</td>\n",
       "      <td>0.704270</td>\n",
       "      <td>0.702742</td>\n",
       "      <td>0.697300</td>\n",
       "      <td>0.705710</td>\n",
       "      <td>0.005808</td>\n",
       "      <td>17</td>\n",
       "    </tr>\n",
       "    <tr>\n",
       "      <th>8</th>\n",
       "      <td>14.250866</td>\n",
       "      <td>0.952411</td>\n",
       "      <td>0.146668</td>\n",
       "      <td>0.002860</td>\n",
       "      <td>DecisionTreeClassifier()</td>\n",
       "      <td>0.5</td>\n",
       "      <td>50</td>\n",
       "      <td>True</td>\n",
       "      <td>0</td>\n",
       "      <td>{'estimator': DecisionTreeClassifier(), 'max_s...</td>\n",
       "      <td>0.745919</td>\n",
       "      <td>0.736291</td>\n",
       "      <td>0.730850</td>\n",
       "      <td>0.728700</td>\n",
       "      <td>0.722211</td>\n",
       "      <td>0.732794</td>\n",
       "      <td>0.007963</td>\n",
       "      <td>7</td>\n",
       "    </tr>\n",
       "    <tr>\n",
       "      <th>9</th>\n",
       "      <td>13.689038</td>\n",
       "      <td>0.861098</td>\n",
       "      <td>0.159762</td>\n",
       "      <td>0.011369</td>\n",
       "      <td>DecisionTreeClassifier()</td>\n",
       "      <td>0.5</td>\n",
       "      <td>50</td>\n",
       "      <td>False</td>\n",
       "      <td>0</td>\n",
       "      <td>{'estimator': DecisionTreeClassifier(), 'max_s...</td>\n",
       "      <td>0.745919</td>\n",
       "      <td>0.736291</td>\n",
       "      <td>0.730850</td>\n",
       "      <td>0.728700</td>\n",
       "      <td>0.722211</td>\n",
       "      <td>0.732794</td>\n",
       "      <td>0.007963</td>\n",
       "      <td>7</td>\n",
       "    </tr>\n",
       "    <tr>\n",
       "      <th>10</th>\n",
       "      <td>30.134866</td>\n",
       "      <td>1.684083</td>\n",
       "      <td>0.303133</td>\n",
       "      <td>0.024992</td>\n",
       "      <td>DecisionTreeClassifier()</td>\n",
       "      <td>0.5</td>\n",
       "      <td>100</td>\n",
       "      <td>True</td>\n",
       "      <td>0</td>\n",
       "      <td>{'estimator': DecisionTreeClassifier(), 'max_s...</td>\n",
       "      <td>0.746756</td>\n",
       "      <td>0.733989</td>\n",
       "      <td>0.733780</td>\n",
       "      <td>0.729537</td>\n",
       "      <td>0.721373</td>\n",
       "      <td>0.733087</td>\n",
       "      <td>0.008221</td>\n",
       "      <td>5</td>\n",
       "    </tr>\n",
       "    <tr>\n",
       "      <th>11</th>\n",
       "      <td>28.509751</td>\n",
       "      <td>1.599640</td>\n",
       "      <td>0.317101</td>\n",
       "      <td>0.034924</td>\n",
       "      <td>DecisionTreeClassifier()</td>\n",
       "      <td>0.5</td>\n",
       "      <td>100</td>\n",
       "      <td>False</td>\n",
       "      <td>0</td>\n",
       "      <td>{'estimator': DecisionTreeClassifier(), 'max_s...</td>\n",
       "      <td>0.746756</td>\n",
       "      <td>0.733989</td>\n",
       "      <td>0.733780</td>\n",
       "      <td>0.729537</td>\n",
       "      <td>0.721373</td>\n",
       "      <td>0.733087</td>\n",
       "      <td>0.008221</td>\n",
       "      <td>5</td>\n",
       "    </tr>\n",
       "    <tr>\n",
       "      <th>12</th>\n",
       "      <td>4.104762</td>\n",
       "      <td>0.339520</td>\n",
       "      <td>0.035722</td>\n",
       "      <td>0.002398</td>\n",
       "      <td>DecisionTreeClassifier()</td>\n",
       "      <td>0.8</td>\n",
       "      <td>10</td>\n",
       "      <td>True</td>\n",
       "      <td>0</td>\n",
       "      <td>{'estimator': DecisionTreeClassifier(), 'max_s...</td>\n",
       "      <td>0.710548</td>\n",
       "      <td>0.709502</td>\n",
       "      <td>0.698200</td>\n",
       "      <td>0.702952</td>\n",
       "      <td>0.692275</td>\n",
       "      <td>0.702695</td>\n",
       "      <td>0.006883</td>\n",
       "      <td>19</td>\n",
       "    </tr>\n",
       "    <tr>\n",
       "      <th>13</th>\n",
       "      <td>3.767968</td>\n",
       "      <td>0.063779</td>\n",
       "      <td>0.036922</td>\n",
       "      <td>0.000375</td>\n",
       "      <td>DecisionTreeClassifier()</td>\n",
       "      <td>0.8</td>\n",
       "      <td>10</td>\n",
       "      <td>False</td>\n",
       "      <td>0</td>\n",
       "      <td>{'estimator': DecisionTreeClassifier(), 'max_s...</td>\n",
       "      <td>0.710548</td>\n",
       "      <td>0.709502</td>\n",
       "      <td>0.698200</td>\n",
       "      <td>0.702952</td>\n",
       "      <td>0.692275</td>\n",
       "      <td>0.702695</td>\n",
       "      <td>0.006883</td>\n",
       "      <td>19</td>\n",
       "    </tr>\n",
       "    <tr>\n",
       "      <th>14</th>\n",
       "      <td>20.150211</td>\n",
       "      <td>1.535901</td>\n",
       "      <td>0.159254</td>\n",
       "      <td>0.013780</td>\n",
       "      <td>DecisionTreeClassifier()</td>\n",
       "      <td>0.8</td>\n",
       "      <td>50</td>\n",
       "      <td>True</td>\n",
       "      <td>0</td>\n",
       "      <td>{'estimator': DecisionTreeClassifier(), 'max_s...</td>\n",
       "      <td>0.731059</td>\n",
       "      <td>0.729175</td>\n",
       "      <td>0.728757</td>\n",
       "      <td>0.723676</td>\n",
       "      <td>0.723467</td>\n",
       "      <td>0.727227</td>\n",
       "      <td>0.003085</td>\n",
       "      <td>15</td>\n",
       "    </tr>\n",
       "    <tr>\n",
       "      <th>15</th>\n",
       "      <td>19.919942</td>\n",
       "      <td>1.249160</td>\n",
       "      <td>0.171341</td>\n",
       "      <td>0.017703</td>\n",
       "      <td>DecisionTreeClassifier()</td>\n",
       "      <td>0.8</td>\n",
       "      <td>50</td>\n",
       "      <td>False</td>\n",
       "      <td>0</td>\n",
       "      <td>{'estimator': DecisionTreeClassifier(), 'max_s...</td>\n",
       "      <td>0.731059</td>\n",
       "      <td>0.729175</td>\n",
       "      <td>0.728757</td>\n",
       "      <td>0.723676</td>\n",
       "      <td>0.723467</td>\n",
       "      <td>0.727227</td>\n",
       "      <td>0.003085</td>\n",
       "      <td>15</td>\n",
       "    </tr>\n",
       "    <tr>\n",
       "      <th>16</th>\n",
       "      <td>40.039375</td>\n",
       "      <td>1.146005</td>\n",
       "      <td>0.333205</td>\n",
       "      <td>0.039690</td>\n",
       "      <td>DecisionTreeClassifier()</td>\n",
       "      <td>0.8</td>\n",
       "      <td>100</td>\n",
       "      <td>True</td>\n",
       "      <td>0</td>\n",
       "      <td>{'estimator': DecisionTreeClassifier(), 'max_s...</td>\n",
       "      <td>0.737756</td>\n",
       "      <td>0.733571</td>\n",
       "      <td>0.733571</td>\n",
       "      <td>0.727025</td>\n",
       "      <td>0.727653</td>\n",
       "      <td>0.731915</td>\n",
       "      <td>0.004042</td>\n",
       "      <td>9</td>\n",
       "    </tr>\n",
       "    <tr>\n",
       "      <th>17</th>\n",
       "      <td>40.167861</td>\n",
       "      <td>2.388616</td>\n",
       "      <td>0.372659</td>\n",
       "      <td>0.063570</td>\n",
       "      <td>DecisionTreeClassifier()</td>\n",
       "      <td>0.8</td>\n",
       "      <td>100</td>\n",
       "      <td>False</td>\n",
       "      <td>0</td>\n",
       "      <td>{'estimator': DecisionTreeClassifier(), 'max_s...</td>\n",
       "      <td>0.737756</td>\n",
       "      <td>0.733571</td>\n",
       "      <td>0.733571</td>\n",
       "      <td>0.727025</td>\n",
       "      <td>0.727653</td>\n",
       "      <td>0.731915</td>\n",
       "      <td>0.004042</td>\n",
       "      <td>9</td>\n",
       "    </tr>\n",
       "    <tr>\n",
       "      <th>18</th>\n",
       "      <td>4.814521</td>\n",
       "      <td>0.159949</td>\n",
       "      <td>0.041438</td>\n",
       "      <td>0.004306</td>\n",
       "      <td>DecisionTreeClassifier()</td>\n",
       "      <td>0.9</td>\n",
       "      <td>10</td>\n",
       "      <td>True</td>\n",
       "      <td>0</td>\n",
       "      <td>{'estimator': DecisionTreeClassifier(), 'max_s...</td>\n",
       "      <td>0.708037</td>\n",
       "      <td>0.700502</td>\n",
       "      <td>0.703642</td>\n",
       "      <td>0.693741</td>\n",
       "      <td>0.697090</td>\n",
       "      <td>0.700602</td>\n",
       "      <td>0.004979</td>\n",
       "      <td>23</td>\n",
       "    </tr>\n",
       "    <tr>\n",
       "      <th>19</th>\n",
       "      <td>4.417326</td>\n",
       "      <td>0.350967</td>\n",
       "      <td>0.040108</td>\n",
       "      <td>0.001911</td>\n",
       "      <td>DecisionTreeClassifier()</td>\n",
       "      <td>0.9</td>\n",
       "      <td>10</td>\n",
       "      <td>False</td>\n",
       "      <td>0</td>\n",
       "      <td>{'estimator': DecisionTreeClassifier(), 'max_s...</td>\n",
       "      <td>0.708037</td>\n",
       "      <td>0.700502</td>\n",
       "      <td>0.703642</td>\n",
       "      <td>0.693741</td>\n",
       "      <td>0.697090</td>\n",
       "      <td>0.700602</td>\n",
       "      <td>0.004979</td>\n",
       "      <td>23</td>\n",
       "    </tr>\n",
       "    <tr>\n",
       "      <th>20</th>\n",
       "      <td>23.639329</td>\n",
       "      <td>1.518898</td>\n",
       "      <td>0.204177</td>\n",
       "      <td>0.020767</td>\n",
       "      <td>DecisionTreeClassifier()</td>\n",
       "      <td>0.9</td>\n",
       "      <td>50</td>\n",
       "      <td>True</td>\n",
       "      <td>0</td>\n",
       "      <td>{'estimator': DecisionTreeClassifier(), 'max_s...</td>\n",
       "      <td>0.741105</td>\n",
       "      <td>0.732105</td>\n",
       "      <td>0.727501</td>\n",
       "      <td>0.722211</td>\n",
       "      <td>0.723257</td>\n",
       "      <td>0.729236</td>\n",
       "      <td>0.006888</td>\n",
       "      <td>13</td>\n",
       "    </tr>\n",
       "    <tr>\n",
       "      <th>21</th>\n",
       "      <td>25.082390</td>\n",
       "      <td>1.634264</td>\n",
       "      <td>0.205869</td>\n",
       "      <td>0.028462</td>\n",
       "      <td>DecisionTreeClassifier()</td>\n",
       "      <td>0.9</td>\n",
       "      <td>50</td>\n",
       "      <td>False</td>\n",
       "      <td>0</td>\n",
       "      <td>{'estimator': DecisionTreeClassifier(), 'max_s...</td>\n",
       "      <td>0.741105</td>\n",
       "      <td>0.732105</td>\n",
       "      <td>0.727501</td>\n",
       "      <td>0.722211</td>\n",
       "      <td>0.723257</td>\n",
       "      <td>0.729236</td>\n",
       "      <td>0.006888</td>\n",
       "      <td>13</td>\n",
       "    </tr>\n",
       "    <tr>\n",
       "      <th>22</th>\n",
       "      <td>49.244834</td>\n",
       "      <td>1.637565</td>\n",
       "      <td>0.279655</td>\n",
       "      <td>0.045457</td>\n",
       "      <td>DecisionTreeClassifier()</td>\n",
       "      <td>0.9</td>\n",
       "      <td>100</td>\n",
       "      <td>True</td>\n",
       "      <td>0</td>\n",
       "      <td>{'estimator': DecisionTreeClassifier(), 'max_s...</td>\n",
       "      <td>0.742152</td>\n",
       "      <td>0.731687</td>\n",
       "      <td>0.726873</td>\n",
       "      <td>0.724513</td>\n",
       "      <td>0.729328</td>\n",
       "      <td>0.730911</td>\n",
       "      <td>0.006111</td>\n",
       "      <td>11</td>\n",
       "    </tr>\n",
       "    <tr>\n",
       "      <th>23</th>\n",
       "      <td>42.841502</td>\n",
       "      <td>2.469445</td>\n",
       "      <td>0.178783</td>\n",
       "      <td>0.056511</td>\n",
       "      <td>DecisionTreeClassifier()</td>\n",
       "      <td>0.9</td>\n",
       "      <td>100</td>\n",
       "      <td>False</td>\n",
       "      <td>0</td>\n",
       "      <td>{'estimator': DecisionTreeClassifier(), 'max_s...</td>\n",
       "      <td>0.742152</td>\n",
       "      <td>0.731687</td>\n",
       "      <td>0.726873</td>\n",
       "      <td>0.724513</td>\n",
       "      <td>0.729328</td>\n",
       "      <td>0.730911</td>\n",
       "      <td>0.006111</td>\n",
       "      <td>11</td>\n",
       "    </tr>\n",
       "  </tbody>\n",
       "</table>\n",
       "</div>"
      ],
      "text/plain": [
       "    mean_fit_time  std_fit_time  mean_score_time  std_score_time  \\\n",
       "0        1.941469      0.114589         0.034529        0.002100   \n",
       "1        1.846349      0.134211         0.035903        0.002460   \n",
       "2       10.010630      0.682745         0.149947        0.022505   \n",
       "3        9.600923      0.806943         0.152253        0.012625   \n",
       "4       20.169564      1.511775         0.286716        0.021017   \n",
       "5       18.885122      1.215359         0.289789        0.016398   \n",
       "6        3.395410      0.250838         0.047615        0.011854   \n",
       "7        2.983033      0.296717         0.034517        0.002514   \n",
       "8       14.250866      0.952411         0.146668        0.002860   \n",
       "9       13.689038      0.861098         0.159762        0.011369   \n",
       "10      30.134866      1.684083         0.303133        0.024992   \n",
       "11      28.509751      1.599640         0.317101        0.034924   \n",
       "12       4.104762      0.339520         0.035722        0.002398   \n",
       "13       3.767968      0.063779         0.036922        0.000375   \n",
       "14      20.150211      1.535901         0.159254        0.013780   \n",
       "15      19.919942      1.249160         0.171341        0.017703   \n",
       "16      40.039375      1.146005         0.333205        0.039690   \n",
       "17      40.167861      2.388616         0.372659        0.063570   \n",
       "18       4.814521      0.159949         0.041438        0.004306   \n",
       "19       4.417326      0.350967         0.040108        0.001911   \n",
       "20      23.639329      1.518898         0.204177        0.020767   \n",
       "21      25.082390      1.634264         0.205869        0.028462   \n",
       "22      49.244834      1.637565         0.279655        0.045457   \n",
       "23      42.841502      2.469445         0.178783        0.056511   \n",
       "\n",
       "             param_estimator param_max_samples param_n_estimators  \\\n",
       "0   DecisionTreeClassifier()               0.3                 10   \n",
       "1   DecisionTreeClassifier()               0.3                 10   \n",
       "2   DecisionTreeClassifier()               0.3                 50   \n",
       "3   DecisionTreeClassifier()               0.3                 50   \n",
       "4   DecisionTreeClassifier()               0.3                100   \n",
       "5   DecisionTreeClassifier()               0.3                100   \n",
       "6   DecisionTreeClassifier()               0.5                 10   \n",
       "7   DecisionTreeClassifier()               0.5                 10   \n",
       "8   DecisionTreeClassifier()               0.5                 50   \n",
       "9   DecisionTreeClassifier()               0.5                 50   \n",
       "10  DecisionTreeClassifier()               0.5                100   \n",
       "11  DecisionTreeClassifier()               0.5                100   \n",
       "12  DecisionTreeClassifier()               0.8                 10   \n",
       "13  DecisionTreeClassifier()               0.8                 10   \n",
       "14  DecisionTreeClassifier()               0.8                 50   \n",
       "15  DecisionTreeClassifier()               0.8                 50   \n",
       "16  DecisionTreeClassifier()               0.8                100   \n",
       "17  DecisionTreeClassifier()               0.8                100   \n",
       "18  DecisionTreeClassifier()               0.9                 10   \n",
       "19  DecisionTreeClassifier()               0.9                 10   \n",
       "20  DecisionTreeClassifier()               0.9                 50   \n",
       "21  DecisionTreeClassifier()               0.9                 50   \n",
       "22  DecisionTreeClassifier()               0.9                100   \n",
       "23  DecisionTreeClassifier()               0.9                100   \n",
       "\n",
       "   param_oob_score param_random_state  \\\n",
       "0             True                  0   \n",
       "1            False                  0   \n",
       "2             True                  0   \n",
       "3            False                  0   \n",
       "4             True                  0   \n",
       "5            False                  0   \n",
       "6             True                  0   \n",
       "7            False                  0   \n",
       "8             True                  0   \n",
       "9            False                  0   \n",
       "10            True                  0   \n",
       "11           False                  0   \n",
       "12            True                  0   \n",
       "13           False                  0   \n",
       "14            True                  0   \n",
       "15           False                  0   \n",
       "16            True                  0   \n",
       "17           False                  0   \n",
       "18            True                  0   \n",
       "19           False                  0   \n",
       "20            True                  0   \n",
       "21           False                  0   \n",
       "22            True                  0   \n",
       "23           False                  0   \n",
       "\n",
       "                                               params  split0_test_score  \\\n",
       "0   {'estimator': DecisionTreeClassifier(), 'max_s...           0.704897   \n",
       "1   {'estimator': DecisionTreeClassifier(), 'max_s...           0.704897   \n",
       "2   {'estimator': DecisionTreeClassifier(), 'max_s...           0.739431   \n",
       "3   {'estimator': DecisionTreeClassifier(), 'max_s...           0.739431   \n",
       "4   {'estimator': DecisionTreeClassifier(), 'max_s...           0.744454   \n",
       "5   {'estimator': DecisionTreeClassifier(), 'max_s...           0.744454   \n",
       "6   {'estimator': DecisionTreeClassifier(), 'max_s...           0.713688   \n",
       "7   {'estimator': DecisionTreeClassifier(), 'max_s...           0.713688   \n",
       "8   {'estimator': DecisionTreeClassifier(), 'max_s...           0.745919   \n",
       "9   {'estimator': DecisionTreeClassifier(), 'max_s...           0.745919   \n",
       "10  {'estimator': DecisionTreeClassifier(), 'max_s...           0.746756   \n",
       "11  {'estimator': DecisionTreeClassifier(), 'max_s...           0.746756   \n",
       "12  {'estimator': DecisionTreeClassifier(), 'max_s...           0.710548   \n",
       "13  {'estimator': DecisionTreeClassifier(), 'max_s...           0.710548   \n",
       "14  {'estimator': DecisionTreeClassifier(), 'max_s...           0.731059   \n",
       "15  {'estimator': DecisionTreeClassifier(), 'max_s...           0.731059   \n",
       "16  {'estimator': DecisionTreeClassifier(), 'max_s...           0.737756   \n",
       "17  {'estimator': DecisionTreeClassifier(), 'max_s...           0.737756   \n",
       "18  {'estimator': DecisionTreeClassifier(), 'max_s...           0.708037   \n",
       "19  {'estimator': DecisionTreeClassifier(), 'max_s...           0.708037   \n",
       "20  {'estimator': DecisionTreeClassifier(), 'max_s...           0.741105   \n",
       "21  {'estimator': DecisionTreeClassifier(), 'max_s...           0.741105   \n",
       "22  {'estimator': DecisionTreeClassifier(), 'max_s...           0.742152   \n",
       "23  {'estimator': DecisionTreeClassifier(), 'max_s...           0.742152   \n",
       "\n",
       "    split1_test_score  split2_test_score  split3_test_score  \\\n",
       "0            0.706572           0.700293           0.697928   \n",
       "1            0.706572           0.700293           0.697928   \n",
       "2            0.736710           0.734408           0.733305   \n",
       "3            0.736710           0.734408           0.733305   \n",
       "4            0.740059           0.736082           0.730584   \n",
       "5            0.740059           0.736082           0.730584   \n",
       "6            0.710548           0.704270           0.702742   \n",
       "7            0.710548           0.704270           0.702742   \n",
       "8            0.736291           0.730850           0.728700   \n",
       "9            0.736291           0.730850           0.728700   \n",
       "10           0.733989           0.733780           0.729537   \n",
       "11           0.733989           0.733780           0.729537   \n",
       "12           0.709502           0.698200           0.702952   \n",
       "13           0.709502           0.698200           0.702952   \n",
       "14           0.729175           0.728757           0.723676   \n",
       "15           0.729175           0.728757           0.723676   \n",
       "16           0.733571           0.733571           0.727025   \n",
       "17           0.733571           0.733571           0.727025   \n",
       "18           0.700502           0.703642           0.693741   \n",
       "19           0.700502           0.703642           0.693741   \n",
       "20           0.732105           0.727501           0.722211   \n",
       "21           0.732105           0.727501           0.722211   \n",
       "22           0.731687           0.726873           0.724513   \n",
       "23           0.731687           0.726873           0.724513   \n",
       "\n",
       "    split4_test_score  mean_test_score  std_test_score  rank_test_score  \n",
       "0            0.700021         0.701942        0.003246               21  \n",
       "1            0.700021         0.701942        0.003246               21  \n",
       "2            0.728909         0.734553        0.003518                3  \n",
       "3            0.728909         0.734553        0.003518                3  \n",
       "4            0.730165         0.736269        0.005495                1  \n",
       "5            0.730165         0.736269        0.005495                1  \n",
       "6            0.697300         0.705710        0.005808               17  \n",
       "7            0.697300         0.705710        0.005808               17  \n",
       "8            0.722211         0.732794        0.007963                7  \n",
       "9            0.722211         0.732794        0.007963                7  \n",
       "10           0.721373         0.733087        0.008221                5  \n",
       "11           0.721373         0.733087        0.008221                5  \n",
       "12           0.692275         0.702695        0.006883               19  \n",
       "13           0.692275         0.702695        0.006883               19  \n",
       "14           0.723467         0.727227        0.003085               15  \n",
       "15           0.723467         0.727227        0.003085               15  \n",
       "16           0.727653         0.731915        0.004042                9  \n",
       "17           0.727653         0.731915        0.004042                9  \n",
       "18           0.697090         0.700602        0.004979               23  \n",
       "19           0.697090         0.700602        0.004979               23  \n",
       "20           0.723257         0.729236        0.006888               13  \n",
       "21           0.723257         0.729236        0.006888               13  \n",
       "22           0.729328         0.730911        0.006111               11  \n",
       "23           0.729328         0.730911        0.006111               11  "
      ]
     },
     "execution_count": 59,
     "metadata": {},
     "output_type": "execute_result"
    }
   ],
   "source": [
    "df = pd.DataFrame(result.cv_results_)\n",
    "df"
   ]
  },
  {
   "cell_type": "markdown",
   "id": "356d08be",
   "metadata": {},
   "source": [
    "<h3>get the best parameters for model</h3>"
   ]
  },
  {
   "cell_type": "code",
   "execution_count": 60,
   "id": "21cef830",
   "metadata": {},
   "outputs": [
    {
     "data": {
      "text/html": [
       "<div>\n",
       "<style scoped>\n",
       "    .dataframe tbody tr th:only-of-type {\n",
       "        vertical-align: middle;\n",
       "    }\n",
       "\n",
       "    .dataframe tbody tr th {\n",
       "        vertical-align: top;\n",
       "    }\n",
       "\n",
       "    .dataframe thead th {\n",
       "        text-align: right;\n",
       "    }\n",
       "</style>\n",
       "<table border=\"1\" class=\"dataframe\">\n",
       "  <thead>\n",
       "    <tr style=\"text-align: right;\">\n",
       "      <th></th>\n",
       "      <th>param_n_estimators</th>\n",
       "      <th>params</th>\n",
       "      <th>mean_test_score</th>\n",
       "    </tr>\n",
       "  </thead>\n",
       "  <tbody>\n",
       "    <tr>\n",
       "      <th>0</th>\n",
       "      <td>10</td>\n",
       "      <td>{'estimator': DecisionTreeClassifier(), 'max_s...</td>\n",
       "      <td>0.701942</td>\n",
       "    </tr>\n",
       "    <tr>\n",
       "      <th>1</th>\n",
       "      <td>10</td>\n",
       "      <td>{'estimator': DecisionTreeClassifier(), 'max_s...</td>\n",
       "      <td>0.701942</td>\n",
       "    </tr>\n",
       "    <tr>\n",
       "      <th>2</th>\n",
       "      <td>50</td>\n",
       "      <td>{'estimator': DecisionTreeClassifier(), 'max_s...</td>\n",
       "      <td>0.734553</td>\n",
       "    </tr>\n",
       "    <tr>\n",
       "      <th>3</th>\n",
       "      <td>50</td>\n",
       "      <td>{'estimator': DecisionTreeClassifier(), 'max_s...</td>\n",
       "      <td>0.734553</td>\n",
       "    </tr>\n",
       "    <tr>\n",
       "      <th>4</th>\n",
       "      <td>100</td>\n",
       "      <td>{'estimator': DecisionTreeClassifier(), 'max_s...</td>\n",
       "      <td>0.736269</td>\n",
       "    </tr>\n",
       "    <tr>\n",
       "      <th>5</th>\n",
       "      <td>100</td>\n",
       "      <td>{'estimator': DecisionTreeClassifier(), 'max_s...</td>\n",
       "      <td>0.736269</td>\n",
       "    </tr>\n",
       "    <tr>\n",
       "      <th>6</th>\n",
       "      <td>10</td>\n",
       "      <td>{'estimator': DecisionTreeClassifier(), 'max_s...</td>\n",
       "      <td>0.705710</td>\n",
       "    </tr>\n",
       "    <tr>\n",
       "      <th>7</th>\n",
       "      <td>10</td>\n",
       "      <td>{'estimator': DecisionTreeClassifier(), 'max_s...</td>\n",
       "      <td>0.705710</td>\n",
       "    </tr>\n",
       "    <tr>\n",
       "      <th>8</th>\n",
       "      <td>50</td>\n",
       "      <td>{'estimator': DecisionTreeClassifier(), 'max_s...</td>\n",
       "      <td>0.732794</td>\n",
       "    </tr>\n",
       "    <tr>\n",
       "      <th>9</th>\n",
       "      <td>50</td>\n",
       "      <td>{'estimator': DecisionTreeClassifier(), 'max_s...</td>\n",
       "      <td>0.732794</td>\n",
       "    </tr>\n",
       "    <tr>\n",
       "      <th>10</th>\n",
       "      <td>100</td>\n",
       "      <td>{'estimator': DecisionTreeClassifier(), 'max_s...</td>\n",
       "      <td>0.733087</td>\n",
       "    </tr>\n",
       "    <tr>\n",
       "      <th>11</th>\n",
       "      <td>100</td>\n",
       "      <td>{'estimator': DecisionTreeClassifier(), 'max_s...</td>\n",
       "      <td>0.733087</td>\n",
       "    </tr>\n",
       "    <tr>\n",
       "      <th>12</th>\n",
       "      <td>10</td>\n",
       "      <td>{'estimator': DecisionTreeClassifier(), 'max_s...</td>\n",
       "      <td>0.702695</td>\n",
       "    </tr>\n",
       "    <tr>\n",
       "      <th>13</th>\n",
       "      <td>10</td>\n",
       "      <td>{'estimator': DecisionTreeClassifier(), 'max_s...</td>\n",
       "      <td>0.702695</td>\n",
       "    </tr>\n",
       "    <tr>\n",
       "      <th>14</th>\n",
       "      <td>50</td>\n",
       "      <td>{'estimator': DecisionTreeClassifier(), 'max_s...</td>\n",
       "      <td>0.727227</td>\n",
       "    </tr>\n",
       "    <tr>\n",
       "      <th>15</th>\n",
       "      <td>50</td>\n",
       "      <td>{'estimator': DecisionTreeClassifier(), 'max_s...</td>\n",
       "      <td>0.727227</td>\n",
       "    </tr>\n",
       "    <tr>\n",
       "      <th>16</th>\n",
       "      <td>100</td>\n",
       "      <td>{'estimator': DecisionTreeClassifier(), 'max_s...</td>\n",
       "      <td>0.731915</td>\n",
       "    </tr>\n",
       "    <tr>\n",
       "      <th>17</th>\n",
       "      <td>100</td>\n",
       "      <td>{'estimator': DecisionTreeClassifier(), 'max_s...</td>\n",
       "      <td>0.731915</td>\n",
       "    </tr>\n",
       "    <tr>\n",
       "      <th>18</th>\n",
       "      <td>10</td>\n",
       "      <td>{'estimator': DecisionTreeClassifier(), 'max_s...</td>\n",
       "      <td>0.700602</td>\n",
       "    </tr>\n",
       "    <tr>\n",
       "      <th>19</th>\n",
       "      <td>10</td>\n",
       "      <td>{'estimator': DecisionTreeClassifier(), 'max_s...</td>\n",
       "      <td>0.700602</td>\n",
       "    </tr>\n",
       "    <tr>\n",
       "      <th>20</th>\n",
       "      <td>50</td>\n",
       "      <td>{'estimator': DecisionTreeClassifier(), 'max_s...</td>\n",
       "      <td>0.729236</td>\n",
       "    </tr>\n",
       "    <tr>\n",
       "      <th>21</th>\n",
       "      <td>50</td>\n",
       "      <td>{'estimator': DecisionTreeClassifier(), 'max_s...</td>\n",
       "      <td>0.729236</td>\n",
       "    </tr>\n",
       "    <tr>\n",
       "      <th>22</th>\n",
       "      <td>100</td>\n",
       "      <td>{'estimator': DecisionTreeClassifier(), 'max_s...</td>\n",
       "      <td>0.730911</td>\n",
       "    </tr>\n",
       "    <tr>\n",
       "      <th>23</th>\n",
       "      <td>100</td>\n",
       "      <td>{'estimator': DecisionTreeClassifier(), 'max_s...</td>\n",
       "      <td>0.730911</td>\n",
       "    </tr>\n",
       "  </tbody>\n",
       "</table>\n",
       "</div>"
      ],
      "text/plain": [
       "   param_n_estimators                                             params  \\\n",
       "0                  10  {'estimator': DecisionTreeClassifier(), 'max_s...   \n",
       "1                  10  {'estimator': DecisionTreeClassifier(), 'max_s...   \n",
       "2                  50  {'estimator': DecisionTreeClassifier(), 'max_s...   \n",
       "3                  50  {'estimator': DecisionTreeClassifier(), 'max_s...   \n",
       "4                 100  {'estimator': DecisionTreeClassifier(), 'max_s...   \n",
       "5                 100  {'estimator': DecisionTreeClassifier(), 'max_s...   \n",
       "6                  10  {'estimator': DecisionTreeClassifier(), 'max_s...   \n",
       "7                  10  {'estimator': DecisionTreeClassifier(), 'max_s...   \n",
       "8                  50  {'estimator': DecisionTreeClassifier(), 'max_s...   \n",
       "9                  50  {'estimator': DecisionTreeClassifier(), 'max_s...   \n",
       "10                100  {'estimator': DecisionTreeClassifier(), 'max_s...   \n",
       "11                100  {'estimator': DecisionTreeClassifier(), 'max_s...   \n",
       "12                 10  {'estimator': DecisionTreeClassifier(), 'max_s...   \n",
       "13                 10  {'estimator': DecisionTreeClassifier(), 'max_s...   \n",
       "14                 50  {'estimator': DecisionTreeClassifier(), 'max_s...   \n",
       "15                 50  {'estimator': DecisionTreeClassifier(), 'max_s...   \n",
       "16                100  {'estimator': DecisionTreeClassifier(), 'max_s...   \n",
       "17                100  {'estimator': DecisionTreeClassifier(), 'max_s...   \n",
       "18                 10  {'estimator': DecisionTreeClassifier(), 'max_s...   \n",
       "19                 10  {'estimator': DecisionTreeClassifier(), 'max_s...   \n",
       "20                 50  {'estimator': DecisionTreeClassifier(), 'max_s...   \n",
       "21                 50  {'estimator': DecisionTreeClassifier(), 'max_s...   \n",
       "22                100  {'estimator': DecisionTreeClassifier(), 'max_s...   \n",
       "23                100  {'estimator': DecisionTreeClassifier(), 'max_s...   \n",
       "\n",
       "    mean_test_score  \n",
       "0          0.701942  \n",
       "1          0.701942  \n",
       "2          0.734553  \n",
       "3          0.734553  \n",
       "4          0.736269  \n",
       "5          0.736269  \n",
       "6          0.705710  \n",
       "7          0.705710  \n",
       "8          0.732794  \n",
       "9          0.732794  \n",
       "10         0.733087  \n",
       "11         0.733087  \n",
       "12         0.702695  \n",
       "13         0.702695  \n",
       "14         0.727227  \n",
       "15         0.727227  \n",
       "16         0.731915  \n",
       "17         0.731915  \n",
       "18         0.700602  \n",
       "19         0.700602  \n",
       "20         0.729236  \n",
       "21         0.729236  \n",
       "22         0.730911  \n",
       "23         0.730911  "
      ]
     },
     "execution_count": 60,
     "metadata": {},
     "output_type": "execute_result"
    }
   ],
   "source": [
    "df [['param_n_estimators','params','mean_test_score']]"
   ]
  },
  {
   "cell_type": "markdown",
   "id": "4dba70d2",
   "metadata": {},
   "source": [
    "<h3>Random GridSearch for Bagging</h3>"
   ]
  },
  {
   "cell_type": "code",
   "execution_count": 61,
   "id": "0ee728ea",
   "metadata": {},
   "outputs": [
    {
     "data": {
      "text/html": [
       "<div>\n",
       "<style scoped>\n",
       "    .dataframe tbody tr th:only-of-type {\n",
       "        vertical-align: middle;\n",
       "    }\n",
       "\n",
       "    .dataframe tbody tr th {\n",
       "        vertical-align: top;\n",
       "    }\n",
       "\n",
       "    .dataframe thead th {\n",
       "        text-align: right;\n",
       "    }\n",
       "</style>\n",
       "<table border=\"1\" class=\"dataframe\">\n",
       "  <thead>\n",
       "    <tr style=\"text-align: right;\">\n",
       "      <th></th>\n",
       "      <th>param_n_estimators</th>\n",
       "      <th>params</th>\n",
       "      <th>mean_test_score</th>\n",
       "    </tr>\n",
       "  </thead>\n",
       "  <tbody>\n",
       "    <tr>\n",
       "      <th>0</th>\n",
       "      <td>10</td>\n",
       "      <td>{'random_state': 0, 'oob_score': False, 'n_est...</td>\n",
       "      <td>0.705710</td>\n",
       "    </tr>\n",
       "    <tr>\n",
       "      <th>1</th>\n",
       "      <td>100</td>\n",
       "      <td>{'random_state': 0, 'oob_score': True, 'n_esti...</td>\n",
       "      <td>0.730911</td>\n",
       "    </tr>\n",
       "    <tr>\n",
       "      <th>2</th>\n",
       "      <td>50</td>\n",
       "      <td>{'random_state': 0, 'oob_score': False, 'n_est...</td>\n",
       "      <td>0.729236</td>\n",
       "    </tr>\n",
       "    <tr>\n",
       "      <th>3</th>\n",
       "      <td>50</td>\n",
       "      <td>{'random_state': 0, 'oob_score': False, 'n_est...</td>\n",
       "      <td>0.734553</td>\n",
       "    </tr>\n",
       "    <tr>\n",
       "      <th>4</th>\n",
       "      <td>50</td>\n",
       "      <td>{'random_state': 0, 'oob_score': False, 'n_est...</td>\n",
       "      <td>0.732794</td>\n",
       "    </tr>\n",
       "  </tbody>\n",
       "</table>\n",
       "</div>"
      ],
      "text/plain": [
       "  param_n_estimators                                             params  \\\n",
       "0                 10  {'random_state': 0, 'oob_score': False, 'n_est...   \n",
       "1                100  {'random_state': 0, 'oob_score': True, 'n_esti...   \n",
       "2                 50  {'random_state': 0, 'oob_score': False, 'n_est...   \n",
       "3                 50  {'random_state': 0, 'oob_score': False, 'n_est...   \n",
       "4                 50  {'random_state': 0, 'oob_score': False, 'n_est...   \n",
       "\n",
       "   mean_test_score  \n",
       "0         0.705710  \n",
       "1         0.730911  \n",
       "2         0.729236  \n",
       "3         0.734553  \n",
       "4         0.732794  "
      ]
     },
     "execution_count": 61,
     "metadata": {},
     "output_type": "execute_result"
    }
   ],
   "source": [
    "\n",
    "from sklearn.model_selection import RandomizedSearchCV\n",
    "result = RandomizedSearchCV(\n",
    "        BaggingClassifier(),\n",
    "        {\n",
    "            'estimator': [DecisionTreeClassifier()],\n",
    "            'n_estimators': [10, 50, 100],\n",
    "            'max_samples': [0.3, 0.5, 0.8, 0.9],\n",
    "            'oob_score': [True, False],\n",
    "            'random_state': [0]\n",
    "        },\n",
    "    cv=5,\n",
    "    return_train_score=False,\n",
    "    n_iter = 5, #number of random combinations of hyperparameters that will be tried\n",
    "    n_jobs=-1\n",
    ")\n",
    "\n",
    "result.fit(X_valid,Y_valid)\n",
    "pd.DataFrame(result.cv_results_)[['param_n_estimators','params','mean_test_score']]"
   ]
  },
  {
   "cell_type": "markdown",
   "id": "0ce28993",
   "metadata": {},
   "source": [
    "<h3>GRIDSERACH FOR RandomForestClassifier</h3>"
   ]
  },
  {
   "cell_type": "code",
   "execution_count": 62,
   "id": "4128e730",
   "metadata": {},
   "outputs": [
    {
     "data": {
      "text/plain": [
       "{'mean_fit_time': array([18.7003211 , 39.38637576, 46.72336125]),\n",
       " 'std_fit_time': array([1.00283106, 2.27615457, 5.69552057]),\n",
       " 'mean_score_time': array([0.34362955, 1.10291371, 0.44514771]),\n",
       " 'std_score_time': array([0.01339488, 0.12461581, 0.03886209]),\n",
       " 'param_n_estimators': masked_array(data=[100, 200, 300],\n",
       "              mask=[False, False, False],\n",
       "        fill_value='?',\n",
       "             dtype=object),\n",
       " 'params': [{'n_estimators': 100},\n",
       "  {'n_estimators': 200},\n",
       "  {'n_estimators': 300}],\n",
       " 'split0_test_score': array([0.74361658, 0.74403516, 0.74717455]),\n",
       " 'split1_test_score': array([0.73691921, 0.74026789, 0.74340728]),\n",
       " 'split2_test_score': array([0.7344077 , 0.7373378 , 0.74361658]),\n",
       " 'split3_test_score': array([0.72932803, 0.73184007, 0.73163073]),\n",
       " 'split4_test_score': array([0.72597865, 0.73163073, 0.73372409]),\n",
       " 'mean_test_score': array([0.73405003, 0.73702233, 0.73991065]),\n",
       " 'std_test_score': array([0.00612084, 0.0048112 , 0.00609188]),\n",
       " 'rank_test_score': array([3, 2, 1])}"
      ]
     },
     "execution_count": 62,
     "metadata": {},
     "output_type": "execute_result"
    }
   ],
   "source": [
    "from sklearn.model_selection import GridSearchCV\n",
    "result = GridSearchCV(\n",
    "    RandomForestClassifier(), {\n",
    "         'n_estimators': [100,200,300]\n",
    "    },\n",
    "    cv = 5,return_train_score = False,\n",
    "    n_jobs=-1\n",
    ")\n",
    "\n",
    "result.fit(X_valid,Y_valid)\n",
    "result.cv_results_"
   ]
  },
  {
   "cell_type": "code",
   "execution_count": 63,
   "id": "6e58b461",
   "metadata": {},
   "outputs": [
    {
     "data": {
      "text/html": [
       "<div>\n",
       "<style scoped>\n",
       "    .dataframe tbody tr th:only-of-type {\n",
       "        vertical-align: middle;\n",
       "    }\n",
       "\n",
       "    .dataframe tbody tr th {\n",
       "        vertical-align: top;\n",
       "    }\n",
       "\n",
       "    .dataframe thead th {\n",
       "        text-align: right;\n",
       "    }\n",
       "</style>\n",
       "<table border=\"1\" class=\"dataframe\">\n",
       "  <thead>\n",
       "    <tr style=\"text-align: right;\">\n",
       "      <th></th>\n",
       "      <th>mean_fit_time</th>\n",
       "      <th>std_fit_time</th>\n",
       "      <th>mean_score_time</th>\n",
       "      <th>std_score_time</th>\n",
       "      <th>param_n_estimators</th>\n",
       "      <th>params</th>\n",
       "      <th>split0_test_score</th>\n",
       "      <th>split1_test_score</th>\n",
       "      <th>split2_test_score</th>\n",
       "      <th>split3_test_score</th>\n",
       "      <th>split4_test_score</th>\n",
       "      <th>mean_test_score</th>\n",
       "      <th>std_test_score</th>\n",
       "      <th>rank_test_score</th>\n",
       "    </tr>\n",
       "  </thead>\n",
       "  <tbody>\n",
       "    <tr>\n",
       "      <th>0</th>\n",
       "      <td>18.700321</td>\n",
       "      <td>1.002831</td>\n",
       "      <td>0.343630</td>\n",
       "      <td>0.013395</td>\n",
       "      <td>100</td>\n",
       "      <td>{'n_estimators': 100}</td>\n",
       "      <td>0.743617</td>\n",
       "      <td>0.736919</td>\n",
       "      <td>0.734408</td>\n",
       "      <td>0.729328</td>\n",
       "      <td>0.725979</td>\n",
       "      <td>0.734050</td>\n",
       "      <td>0.006121</td>\n",
       "      <td>3</td>\n",
       "    </tr>\n",
       "    <tr>\n",
       "      <th>1</th>\n",
       "      <td>39.386376</td>\n",
       "      <td>2.276155</td>\n",
       "      <td>1.102914</td>\n",
       "      <td>0.124616</td>\n",
       "      <td>200</td>\n",
       "      <td>{'n_estimators': 200}</td>\n",
       "      <td>0.744035</td>\n",
       "      <td>0.740268</td>\n",
       "      <td>0.737338</td>\n",
       "      <td>0.731840</td>\n",
       "      <td>0.731631</td>\n",
       "      <td>0.737022</td>\n",
       "      <td>0.004811</td>\n",
       "      <td>2</td>\n",
       "    </tr>\n",
       "    <tr>\n",
       "      <th>2</th>\n",
       "      <td>46.723361</td>\n",
       "      <td>5.695521</td>\n",
       "      <td>0.445148</td>\n",
       "      <td>0.038862</td>\n",
       "      <td>300</td>\n",
       "      <td>{'n_estimators': 300}</td>\n",
       "      <td>0.747175</td>\n",
       "      <td>0.743407</td>\n",
       "      <td>0.743617</td>\n",
       "      <td>0.731631</td>\n",
       "      <td>0.733724</td>\n",
       "      <td>0.739911</td>\n",
       "      <td>0.006092</td>\n",
       "      <td>1</td>\n",
       "    </tr>\n",
       "  </tbody>\n",
       "</table>\n",
       "</div>"
      ],
      "text/plain": [
       "   mean_fit_time  std_fit_time  mean_score_time  std_score_time  \\\n",
       "0      18.700321      1.002831         0.343630        0.013395   \n",
       "1      39.386376      2.276155         1.102914        0.124616   \n",
       "2      46.723361      5.695521         0.445148        0.038862   \n",
       "\n",
       "  param_n_estimators                 params  split0_test_score  \\\n",
       "0                100  {'n_estimators': 100}           0.743617   \n",
       "1                200  {'n_estimators': 200}           0.744035   \n",
       "2                300  {'n_estimators': 300}           0.747175   \n",
       "\n",
       "   split1_test_score  split2_test_score  split3_test_score  split4_test_score  \\\n",
       "0           0.736919           0.734408           0.729328           0.725979   \n",
       "1           0.740268           0.737338           0.731840           0.731631   \n",
       "2           0.743407           0.743617           0.731631           0.733724   \n",
       "\n",
       "   mean_test_score  std_test_score  rank_test_score  \n",
       "0         0.734050        0.006121                3  \n",
       "1         0.737022        0.004811                2  \n",
       "2         0.739911        0.006092                1  "
      ]
     },
     "execution_count": 63,
     "metadata": {},
     "output_type": "execute_result"
    }
   ],
   "source": [
    "df = pd.DataFrame(result.cv_results_)\n",
    "df"
   ]
  },
  {
   "cell_type": "markdown",
   "id": "f09f1679",
   "metadata": {},
   "source": [
    "<h3>picking columns from tables to see score</h3>"
   ]
  },
  {
   "cell_type": "code",
   "execution_count": 64,
   "id": "2556f769",
   "metadata": {},
   "outputs": [
    {
     "data": {
      "text/html": [
       "<div>\n",
       "<style scoped>\n",
       "    .dataframe tbody tr th:only-of-type {\n",
       "        vertical-align: middle;\n",
       "    }\n",
       "\n",
       "    .dataframe tbody tr th {\n",
       "        vertical-align: top;\n",
       "    }\n",
       "\n",
       "    .dataframe thead th {\n",
       "        text-align: right;\n",
       "    }\n",
       "</style>\n",
       "<table border=\"1\" class=\"dataframe\">\n",
       "  <thead>\n",
       "    <tr style=\"text-align: right;\">\n",
       "      <th></th>\n",
       "      <th>param_n_estimators</th>\n",
       "      <th>params</th>\n",
       "      <th>mean_test_score</th>\n",
       "    </tr>\n",
       "  </thead>\n",
       "  <tbody>\n",
       "    <tr>\n",
       "      <th>0</th>\n",
       "      <td>100</td>\n",
       "      <td>{'n_estimators': 100}</td>\n",
       "      <td>0.734050</td>\n",
       "    </tr>\n",
       "    <tr>\n",
       "      <th>1</th>\n",
       "      <td>200</td>\n",
       "      <td>{'n_estimators': 200}</td>\n",
       "      <td>0.737022</td>\n",
       "    </tr>\n",
       "    <tr>\n",
       "      <th>2</th>\n",
       "      <td>300</td>\n",
       "      <td>{'n_estimators': 300}</td>\n",
       "      <td>0.739911</td>\n",
       "    </tr>\n",
       "  </tbody>\n",
       "</table>\n",
       "</div>"
      ],
      "text/plain": [
       "  param_n_estimators                 params  mean_test_score\n",
       "0                100  {'n_estimators': 100}         0.734050\n",
       "1                200  {'n_estimators': 200}         0.737022\n",
       "2                300  {'n_estimators': 300}         0.739911"
      ]
     },
     "execution_count": 64,
     "metadata": {},
     "output_type": "execute_result"
    }
   ],
   "source": [
    "df [['param_n_estimators','params','mean_test_score']]"
   ]
  },
  {
   "cell_type": "markdown",
   "id": "0f6bddf0",
   "metadata": {},
   "source": [
    "<h2>getting best score</h2>"
   ]
  },
  {
   "cell_type": "code",
   "execution_count": 65,
   "id": "3b8e2329",
   "metadata": {},
   "outputs": [
    {
     "data": {
      "text/plain": [
       "0.7399106469160822"
      ]
     },
     "execution_count": 65,
     "metadata": {},
     "output_type": "execute_result"
    }
   ],
   "source": [
    "result.best_score_"
   ]
  },
  {
   "cell_type": "markdown",
   "id": "67e889f1",
   "metadata": {},
   "source": [
    "<h3>getting best parameters</h3>"
   ]
  },
  {
   "cell_type": "code",
   "execution_count": 66,
   "id": "556a6095",
   "metadata": {},
   "outputs": [
    {
     "data": {
      "text/plain": [
       "{'n_estimators': 300}"
      ]
     },
     "execution_count": 66,
     "metadata": {},
     "output_type": "execute_result"
    }
   ],
   "source": [
    "result.best_params_"
   ]
  },
  {
   "cell_type": "markdown",
   "id": "187259f9",
   "metadata": {},
   "source": [
    "<h2>RANDOMIZED GridSearch</h2>"
   ]
  },
  {
   "cell_type": "code",
   "execution_count": 72,
   "id": "154621e2",
   "metadata": {},
   "outputs": [
    {
     "name": "stderr",
     "output_type": "stream",
     "text": [
      "d:\\anaconda\\Lib\\site-packages\\sklearn\\model_selection\\_search.py:307: UserWarning: The total space of parameters 3 is smaller than n_iter=5. Running 3 iterations. For exhaustive searches, use GridSearchCV.\n",
      "  warnings.warn(\n"
     ]
    },
    {
     "data": {
      "text/html": [
       "<style>#sk-container-id-1 {color: black;}#sk-container-id-1 pre{padding: 0;}#sk-container-id-1 div.sk-toggleable {background-color: white;}#sk-container-id-1 label.sk-toggleable__label {cursor: pointer;display: block;width: 100%;margin-bottom: 0;padding: 0.3em;box-sizing: border-box;text-align: center;}#sk-container-id-1 label.sk-toggleable__label-arrow:before {content: \"▸\";float: left;margin-right: 0.25em;color: #696969;}#sk-container-id-1 label.sk-toggleable__label-arrow:hover:before {color: black;}#sk-container-id-1 div.sk-estimator:hover label.sk-toggleable__label-arrow:before {color: black;}#sk-container-id-1 div.sk-toggleable__content {max-height: 0;max-width: 0;overflow: hidden;text-align: left;background-color: #f0f8ff;}#sk-container-id-1 div.sk-toggleable__content pre {margin: 0.2em;color: black;border-radius: 0.25em;background-color: #f0f8ff;}#sk-container-id-1 input.sk-toggleable__control:checked~div.sk-toggleable__content {max-height: 200px;max-width: 100%;overflow: auto;}#sk-container-id-1 input.sk-toggleable__control:checked~label.sk-toggleable__label-arrow:before {content: \"▾\";}#sk-container-id-1 div.sk-estimator input.sk-toggleable__control:checked~label.sk-toggleable__label {background-color: #d4ebff;}#sk-container-id-1 div.sk-label input.sk-toggleable__control:checked~label.sk-toggleable__label {background-color: #d4ebff;}#sk-container-id-1 input.sk-hidden--visually {border: 0;clip: rect(1px 1px 1px 1px);clip: rect(1px, 1px, 1px, 1px);height: 1px;margin: -1px;overflow: hidden;padding: 0;position: absolute;width: 1px;}#sk-container-id-1 div.sk-estimator {font-family: monospace;background-color: #f0f8ff;border: 1px dotted black;border-radius: 0.25em;box-sizing: border-box;margin-bottom: 0.5em;}#sk-container-id-1 div.sk-estimator:hover {background-color: #d4ebff;}#sk-container-id-1 div.sk-parallel-item::after {content: \"\";width: 100%;border-bottom: 1px solid gray;flex-grow: 1;}#sk-container-id-1 div.sk-label:hover label.sk-toggleable__label {background-color: #d4ebff;}#sk-container-id-1 div.sk-serial::before {content: \"\";position: absolute;border-left: 1px solid gray;box-sizing: border-box;top: 0;bottom: 0;left: 50%;z-index: 0;}#sk-container-id-1 div.sk-serial {display: flex;flex-direction: column;align-items: center;background-color: white;padding-right: 0.2em;padding-left: 0.2em;position: relative;}#sk-container-id-1 div.sk-item {position: relative;z-index: 1;}#sk-container-id-1 div.sk-parallel {display: flex;align-items: stretch;justify-content: center;background-color: white;position: relative;}#sk-container-id-1 div.sk-item::before, #sk-container-id-1 div.sk-parallel-item::before {content: \"\";position: absolute;border-left: 1px solid gray;box-sizing: border-box;top: 0;bottom: 0;left: 50%;z-index: -1;}#sk-container-id-1 div.sk-parallel-item {display: flex;flex-direction: column;z-index: 1;position: relative;background-color: white;}#sk-container-id-1 div.sk-parallel-item:first-child::after {align-self: flex-end;width: 50%;}#sk-container-id-1 div.sk-parallel-item:last-child::after {align-self: flex-start;width: 50%;}#sk-container-id-1 div.sk-parallel-item:only-child::after {width: 0;}#sk-container-id-1 div.sk-dashed-wrapped {border: 1px dashed gray;margin: 0 0.4em 0.5em 0.4em;box-sizing: border-box;padding-bottom: 0.4em;background-color: white;}#sk-container-id-1 div.sk-label label {font-family: monospace;font-weight: bold;display: inline-block;line-height: 1.2em;}#sk-container-id-1 div.sk-label-container {text-align: center;}#sk-container-id-1 div.sk-container {/* jupyter's `normalize.less` sets `[hidden] { display: none; }` but bootstrap.min.css set `[hidden] { display: none !important; }` so we also need the `!important` here to be able to override the default hidden behavior on the sphinx rendered scikit-learn.org. See: https://github.com/scikit-learn/scikit-learn/issues/21755 */display: inline-block !important;position: relative;}#sk-container-id-1 div.sk-text-repr-fallback {display: none;}</style><div id=\"sk-container-id-1\" class=\"sk-top-container\"><div class=\"sk-text-repr-fallback\"><pre>RandomizedSearchCV(cv=5, estimator=RandomForestClassifier(), n_iter=5,\n",
       "                   n_jobs=-1,\n",
       "                   param_distributions={&#x27;n_estimators&#x27;: [100, 200, 300]})</pre><b>In a Jupyter environment, please rerun this cell to show the HTML representation or trust the notebook. <br />On GitHub, the HTML representation is unable to render, please try loading this page with nbviewer.org.</b></div><div class=\"sk-container\" hidden><div class=\"sk-item sk-dashed-wrapped\"><div class=\"sk-label-container\"><div class=\"sk-label sk-toggleable\"><input class=\"sk-toggleable__control sk-hidden--visually\" id=\"sk-estimator-id-1\" type=\"checkbox\" ><label for=\"sk-estimator-id-1\" class=\"sk-toggleable__label sk-toggleable__label-arrow\">RandomizedSearchCV</label><div class=\"sk-toggleable__content\"><pre>RandomizedSearchCV(cv=5, estimator=RandomForestClassifier(), n_iter=5,\n",
       "                   n_jobs=-1,\n",
       "                   param_distributions={&#x27;n_estimators&#x27;: [100, 200, 300]})</pre></div></div></div><div class=\"sk-parallel\"><div class=\"sk-parallel-item\"><div class=\"sk-item\"><div class=\"sk-label-container\"><div class=\"sk-label sk-toggleable\"><input class=\"sk-toggleable__control sk-hidden--visually\" id=\"sk-estimator-id-2\" type=\"checkbox\" ><label for=\"sk-estimator-id-2\" class=\"sk-toggleable__label sk-toggleable__label-arrow\">estimator: RandomForestClassifier</label><div class=\"sk-toggleable__content\"><pre>RandomForestClassifier()</pre></div></div></div><div class=\"sk-serial\"><div class=\"sk-item\"><div class=\"sk-estimator sk-toggleable\"><input class=\"sk-toggleable__control sk-hidden--visually\" id=\"sk-estimator-id-3\" type=\"checkbox\" ><label for=\"sk-estimator-id-3\" class=\"sk-toggleable__label sk-toggleable__label-arrow\">RandomForestClassifier</label><div class=\"sk-toggleable__content\"><pre>RandomForestClassifier()</pre></div></div></div></div></div></div></div></div></div></div>"
      ],
      "text/plain": [
       "RandomizedSearchCV(cv=5, estimator=RandomForestClassifier(), n_iter=5,\n",
       "                   n_jobs=-1,\n",
       "                   param_distributions={'n_estimators': [100, 200, 300]})"
      ]
     },
     "execution_count": 72,
     "metadata": {},
     "output_type": "execute_result"
    }
   ],
   "source": [
    "from sklearn.model_selection import RandomizedSearchCV\n",
    "from sklearn.ensemble import RandomForestClassifier\n",
    "result = RandomizedSearchCV(\n",
    "    RandomForestClassifier(), {\n",
    "         'n_estimators': [100,200,300]\n",
    "    },\n",
    "    cv=5,\n",
    "    return_train_score=False,\n",
    "    n_iter=5,\n",
    "    n_jobs=-1\n",
    ")\n",
    "\n",
    "result.fit(X_valid, Y_valid)\n"
   ]
  },
  {
   "cell_type": "markdown",
   "id": "1b508d51",
   "metadata": {},
   "source": [
    "<h4>getting best parameters and score(accuracy)</h4>"
   ]
  },
  {
   "cell_type": "code",
   "execution_count": 73,
   "id": "cb050801",
   "metadata": {},
   "outputs": [
    {
     "data": {
      "text/html": [
       "<div>\n",
       "<style scoped>\n",
       "    .dataframe tbody tr th:only-of-type {\n",
       "        vertical-align: middle;\n",
       "    }\n",
       "\n",
       "    .dataframe tbody tr th {\n",
       "        vertical-align: top;\n",
       "    }\n",
       "\n",
       "    .dataframe thead th {\n",
       "        text-align: right;\n",
       "    }\n",
       "</style>\n",
       "<table border=\"1\" class=\"dataframe\">\n",
       "  <thead>\n",
       "    <tr style=\"text-align: right;\">\n",
       "      <th></th>\n",
       "      <th>param_n_estimators</th>\n",
       "      <th>params</th>\n",
       "      <th>mean_test_score</th>\n",
       "    </tr>\n",
       "  </thead>\n",
       "  <tbody>\n",
       "    <tr>\n",
       "      <th>0</th>\n",
       "      <td>100</td>\n",
       "      <td>{'n_estimators': 100}</td>\n",
       "      <td>0.736478</td>\n",
       "    </tr>\n",
       "    <tr>\n",
       "      <th>1</th>\n",
       "      <td>200</td>\n",
       "      <td>{'n_estimators': 200}</td>\n",
       "      <td>0.737441</td>\n",
       "    </tr>\n",
       "    <tr>\n",
       "      <th>2</th>\n",
       "      <td>300</td>\n",
       "      <td>{'n_estimators': 300}</td>\n",
       "      <td>0.738529</td>\n",
       "    </tr>\n",
       "  </tbody>\n",
       "</table>\n",
       "</div>"
      ],
      "text/plain": [
       "  param_n_estimators                 params  mean_test_score\n",
       "0                100  {'n_estimators': 100}         0.736478\n",
       "1                200  {'n_estimators': 200}         0.737441\n",
       "2                300  {'n_estimators': 300}         0.738529"
      ]
     },
     "execution_count": 73,
     "metadata": {},
     "output_type": "execute_result"
    }
   ],
   "source": [
    "pd.DataFrame(result.cv_results_)[['param_n_estimators','params','mean_test_score']]"
   ]
  },
  {
   "cell_type": "markdown",
   "id": "128f0f98",
   "metadata": {},
   "source": [
    "<h2>Grid search for AdaBoost</h2>"
   ]
  },
  {
   "cell_type": "code",
   "execution_count": 74,
   "id": "17077454",
   "metadata": {},
   "outputs": [
    {
     "data": {
      "text/plain": [
       "{'mean_fit_time': array([ 4.7773736 ,  9.16671586, 13.55088902,  4.69661183,  9.19640441,\n",
       "        12.96272101,  4.39423151,  8.7281601 ,  9.08019171]),\n",
       " 'std_fit_time': array([0.63102942, 0.87167646, 1.12152712, 0.47334618, 0.5843968 ,\n",
       "        0.35818231, 0.25030534, 0.40376031, 0.29459622]),\n",
       " 'mean_score_time': array([0.27894754, 0.51644559, 0.72814751, 0.25520864, 0.51344404,\n",
       "        0.6867713 , 0.25149803, 0.43448572, 0.29859576]),\n",
       " 'std_score_time': array([0.02493615, 0.01087397, 0.03047222, 0.01921164, 0.03424925,\n",
       "        0.03767462, 0.01127919, 0.08849314, 0.01663839]),\n",
       " 'param_learning_rate': masked_array(data=[1, 1, 1, 0.1, 0.1, 0.1, 0.3, 0.3, 0.3],\n",
       "              mask=[False, False, False, False, False, False, False, False,\n",
       "                    False],\n",
       "        fill_value='?',\n",
       "             dtype=object),\n",
       " 'param_n_estimators': masked_array(data=[100, 200, 300, 100, 200, 300, 100, 200, 300],\n",
       "              mask=[False, False, False, False, False, False, False, False,\n",
       "                    False],\n",
       "        fill_value='?',\n",
       "             dtype=object),\n",
       " 'params': [{'learning_rate': 1, 'n_estimators': 100},\n",
       "  {'learning_rate': 1, 'n_estimators': 200},\n",
       "  {'learning_rate': 1, 'n_estimators': 300},\n",
       "  {'learning_rate': 0.1, 'n_estimators': 100},\n",
       "  {'learning_rate': 0.1, 'n_estimators': 200},\n",
       "  {'learning_rate': 0.1, 'n_estimators': 300},\n",
       "  {'learning_rate': 0.3, 'n_estimators': 100},\n",
       "  {'learning_rate': 0.3, 'n_estimators': 200},\n",
       "  {'learning_rate': 0.3, 'n_estimators': 300}],\n",
       " 'split0_test_score': array([0.75010465, 0.74801172, 0.74843031, 0.74466304, 0.75031394,\n",
       "        0.7486396 , 0.74884889, 0.75031394, 0.75073252]),\n",
       " 'split1_test_score': array([0.73922143, 0.74089577, 0.74131436, 0.7344077 , 0.73670992,\n",
       "        0.73922143, 0.73712851, 0.7400586 , 0.74131436]),\n",
       " 'split2_test_score': array([0.74089577, 0.74424445, 0.74277941, 0.73859355, 0.7400586 ,\n",
       "        0.73984931, 0.73922143, 0.7400586 , 0.74068648]),\n",
       " 'split3_test_score': array([0.72890936, 0.73016538, 0.7320494 , 0.72995604, 0.73267741,\n",
       "        0.73058405, 0.72953737, 0.72765334, 0.727444  ]),\n",
       " 'split4_test_score': array([0.72535064, 0.72618798, 0.73100272, 0.7251413 , 0.72660666,\n",
       "        0.727444  , 0.72555997, 0.72639732, 0.72786268]),\n",
       " 'mean_test_score': array([0.73689637, 0.73790106, 0.73911524, 0.73455233, 0.73727331,\n",
       "        0.73714768, 0.73605923, 0.73689636, 0.73760801]),\n",
       " 'std_test_score': array([0.00886517, 0.00834829, 0.00664487, 0.00675681, 0.00791243,\n",
       "        0.00749541, 0.00809305, 0.008896  , 0.00887407]),\n",
       " 'rank_test_score': array([6, 2, 1, 9, 4, 5, 8, 7, 3])}"
      ]
     },
     "execution_count": 74,
     "metadata": {},
     "output_type": "execute_result"
    }
   ],
   "source": [
    "from sklearn.ensemble import AdaBoostClassifier\n",
    "from sklearn.model_selection import GridSearchCV\n",
    "result = GridSearchCV(\n",
    "    AdaBoostClassifier(),\n",
    "    {\n",
    "        'n_estimators': [100,200,300],\n",
    "        'learning_rate': [1,0.1,0.3]\n",
    "    },\n",
    "    cv=5,\n",
    "    return_train_score = False,\n",
    "    n_jobs=-1\n",
    "    \n",
    ")\n",
    "\n",
    "\n",
    "\n",
    "result.fit(X_valid,Y_valid)\n",
    "result.cv_results_"
   ]
  },
  {
   "cell_type": "markdown",
   "id": "eed4d68d",
   "metadata": {},
   "source": [
    "<h4>getting best parameters and score(accuracy)</h4>"
   ]
  },
  {
   "cell_type": "code",
   "execution_count": 75,
   "id": "19a736a5",
   "metadata": {},
   "outputs": [
    {
     "data": {
      "text/html": [
       "<div>\n",
       "<style scoped>\n",
       "    .dataframe tbody tr th:only-of-type {\n",
       "        vertical-align: middle;\n",
       "    }\n",
       "\n",
       "    .dataframe tbody tr th {\n",
       "        vertical-align: top;\n",
       "    }\n",
       "\n",
       "    .dataframe thead th {\n",
       "        text-align: right;\n",
       "    }\n",
       "</style>\n",
       "<table border=\"1\" class=\"dataframe\">\n",
       "  <thead>\n",
       "    <tr style=\"text-align: right;\">\n",
       "      <th></th>\n",
       "      <th>param_n_estimators</th>\n",
       "      <th>params</th>\n",
       "      <th>mean_test_score</th>\n",
       "    </tr>\n",
       "  </thead>\n",
       "  <tbody>\n",
       "    <tr>\n",
       "      <th>0</th>\n",
       "      <td>100</td>\n",
       "      <td>{'learning_rate': 1, 'n_estimators': 100}</td>\n",
       "      <td>0.736896</td>\n",
       "    </tr>\n",
       "    <tr>\n",
       "      <th>1</th>\n",
       "      <td>200</td>\n",
       "      <td>{'learning_rate': 1, 'n_estimators': 200}</td>\n",
       "      <td>0.737901</td>\n",
       "    </tr>\n",
       "    <tr>\n",
       "      <th>2</th>\n",
       "      <td>300</td>\n",
       "      <td>{'learning_rate': 1, 'n_estimators': 300}</td>\n",
       "      <td>0.739115</td>\n",
       "    </tr>\n",
       "    <tr>\n",
       "      <th>3</th>\n",
       "      <td>100</td>\n",
       "      <td>{'learning_rate': 0.1, 'n_estimators': 100}</td>\n",
       "      <td>0.734552</td>\n",
       "    </tr>\n",
       "    <tr>\n",
       "      <th>4</th>\n",
       "      <td>200</td>\n",
       "      <td>{'learning_rate': 0.1, 'n_estimators': 200}</td>\n",
       "      <td>0.737273</td>\n",
       "    </tr>\n",
       "    <tr>\n",
       "      <th>5</th>\n",
       "      <td>300</td>\n",
       "      <td>{'learning_rate': 0.1, 'n_estimators': 300}</td>\n",
       "      <td>0.737148</td>\n",
       "    </tr>\n",
       "    <tr>\n",
       "      <th>6</th>\n",
       "      <td>100</td>\n",
       "      <td>{'learning_rate': 0.3, 'n_estimators': 100}</td>\n",
       "      <td>0.736059</td>\n",
       "    </tr>\n",
       "    <tr>\n",
       "      <th>7</th>\n",
       "      <td>200</td>\n",
       "      <td>{'learning_rate': 0.3, 'n_estimators': 200}</td>\n",
       "      <td>0.736896</td>\n",
       "    </tr>\n",
       "    <tr>\n",
       "      <th>8</th>\n",
       "      <td>300</td>\n",
       "      <td>{'learning_rate': 0.3, 'n_estimators': 300}</td>\n",
       "      <td>0.737608</td>\n",
       "    </tr>\n",
       "  </tbody>\n",
       "</table>\n",
       "</div>"
      ],
      "text/plain": [
       "  param_n_estimators                                       params  \\\n",
       "0                100    {'learning_rate': 1, 'n_estimators': 100}   \n",
       "1                200    {'learning_rate': 1, 'n_estimators': 200}   \n",
       "2                300    {'learning_rate': 1, 'n_estimators': 300}   \n",
       "3                100  {'learning_rate': 0.1, 'n_estimators': 100}   \n",
       "4                200  {'learning_rate': 0.1, 'n_estimators': 200}   \n",
       "5                300  {'learning_rate': 0.1, 'n_estimators': 300}   \n",
       "6                100  {'learning_rate': 0.3, 'n_estimators': 100}   \n",
       "7                200  {'learning_rate': 0.3, 'n_estimators': 200}   \n",
       "8                300  {'learning_rate': 0.3, 'n_estimators': 300}   \n",
       "\n",
       "   mean_test_score  \n",
       "0         0.736896  \n",
       "1         0.737901  \n",
       "2         0.739115  \n",
       "3         0.734552  \n",
       "4         0.737273  \n",
       "5         0.737148  \n",
       "6         0.736059  \n",
       "7         0.736896  \n",
       "8         0.737608  "
      ]
     },
     "execution_count": 75,
     "metadata": {},
     "output_type": "execute_result"
    }
   ],
   "source": [
    "pd.DataFrame(result.cv_results_)[['param_n_estimators','params','mean_test_score']]"
   ]
  },
  {
   "cell_type": "markdown",
   "id": "fe0aa512",
   "metadata": {},
   "source": [
    "<h2>getting best score</h2>\n"
   ]
  },
  {
   "cell_type": "code",
   "execution_count": 76,
   "id": "f5eb6c3b",
   "metadata": {},
   "outputs": [
    {
     "data": {
      "text/plain": [
       "0.7391152386824933"
      ]
     },
     "execution_count": 76,
     "metadata": {},
     "output_type": "execute_result"
    }
   ],
   "source": [
    "result.best_score_"
   ]
  },
  {
   "cell_type": "markdown",
   "id": "a129d343",
   "metadata": {},
   "source": [
    "<h3>getting best parameters</h3>"
   ]
  },
  {
   "cell_type": "code",
   "execution_count": 77,
   "id": "be456cd8",
   "metadata": {},
   "outputs": [
    {
     "data": {
      "text/plain": [
       "{'learning_rate': 1, 'n_estimators': 300}"
      ]
     },
     "execution_count": 77,
     "metadata": {},
     "output_type": "execute_result"
    }
   ],
   "source": [
    "result.best_params_"
   ]
  },
  {
   "cell_type": "markdown",
   "id": "0a25d2d9",
   "metadata": {},
   "source": [
    "<h2>Randomized Grid search for AdaBoost</h2>"
   ]
  },
  {
   "cell_type": "code",
   "execution_count": 78,
   "id": "27288fbe",
   "metadata": {},
   "outputs": [
    {
     "data": {
      "text/plain": [
       "{'mean_fit_time': array([ 4.55697675,  9.11109715, 13.92824945,  8.82925801,  8.53405085]),\n",
       " 'std_fit_time': array([0.44699235, 0.91488139, 1.27791827, 0.62009627, 1.61832687]),\n",
       " 'mean_score_time': array([0.26347752, 0.51303749, 0.70503025, 0.48023648, 0.26116419]),\n",
       " 'std_score_time': array([0.02214142, 0.0131318 , 0.08368418, 0.02880976, 0.0437268 ]),\n",
       " 'param_n_estimators': masked_array(data=[100, 200, 300, 200, 300],\n",
       "              mask=[False, False, False, False, False],\n",
       "        fill_value='?',\n",
       "             dtype=object),\n",
       " 'param_learning_rate': masked_array(data=[1, 0.3, 1, 0.1, 0.3],\n",
       "              mask=[False, False, False, False, False],\n",
       "        fill_value='?',\n",
       "             dtype=object),\n",
       " 'params': [{'n_estimators': 100, 'learning_rate': 1},\n",
       "  {'n_estimators': 200, 'learning_rate': 0.3},\n",
       "  {'n_estimators': 300, 'learning_rate': 1},\n",
       "  {'n_estimators': 200, 'learning_rate': 0.1},\n",
       "  {'n_estimators': 300, 'learning_rate': 0.3}],\n",
       " 'split0_test_score': array([0.75010465, 0.75031394, 0.74843031, 0.75031394, 0.75073252]),\n",
       " 'split1_test_score': array([0.73922143, 0.7400586 , 0.74131436, 0.73670992, 0.74131436]),\n",
       " 'split2_test_score': array([0.74089577, 0.7400586 , 0.74277941, 0.7400586 , 0.74068648]),\n",
       " 'split3_test_score': array([0.72890936, 0.72765334, 0.7320494 , 0.73267741, 0.727444  ]),\n",
       " 'split4_test_score': array([0.72535064, 0.72639732, 0.73100272, 0.72660666, 0.72786268]),\n",
       " 'mean_test_score': array([0.73689637, 0.73689636, 0.73911524, 0.73727331, 0.73760801]),\n",
       " 'std_test_score': array([0.00886517, 0.008896  , 0.00664487, 0.00791243, 0.00887407]),\n",
       " 'rank_test_score': array([4, 5, 1, 3, 2])}"
      ]
     },
     "execution_count": 78,
     "metadata": {},
     "output_type": "execute_result"
    }
   ],
   "source": [
    "from sklearn.model_selection import RandomizedSearchCV\n",
    "from sklearn.ensemble import RandomForestClassifier\n",
    "result = RandomizedSearchCV(\n",
    "    AdaBoostClassifier(),\n",
    "    {\n",
    "        'n_estimators': [100,200,300],\n",
    "        'learning_rate': [1,0.1,0.3]\n",
    "    },\n",
    "    cv=5,\n",
    "    return_train_score = False,\n",
    "    n_iter = 5,\n",
    "    n_jobs=-1\n",
    ")\n",
    "\n",
    "\n",
    "\n",
    "result.fit(X_valid,Y_valid)\n",
    "result.cv_results_"
   ]
  },
  {
   "cell_type": "markdown",
   "id": "42c3b977",
   "metadata": {},
   "source": [
    "<h4>getting best parameters and score(accuracy)</h4>\n",
    "\n",
    "\n",
    "\n",
    "\n"
   ]
  },
  {
   "cell_type": "code",
   "execution_count": 79,
   "id": "773d97ba",
   "metadata": {},
   "outputs": [
    {
     "data": {
      "text/html": [
       "<div>\n",
       "<style scoped>\n",
       "    .dataframe tbody tr th:only-of-type {\n",
       "        vertical-align: middle;\n",
       "    }\n",
       "\n",
       "    .dataframe tbody tr th {\n",
       "        vertical-align: top;\n",
       "    }\n",
       "\n",
       "    .dataframe thead th {\n",
       "        text-align: right;\n",
       "    }\n",
       "</style>\n",
       "<table border=\"1\" class=\"dataframe\">\n",
       "  <thead>\n",
       "    <tr style=\"text-align: right;\">\n",
       "      <th></th>\n",
       "      <th>param_n_estimators</th>\n",
       "      <th>params</th>\n",
       "      <th>mean_test_score</th>\n",
       "    </tr>\n",
       "  </thead>\n",
       "  <tbody>\n",
       "    <tr>\n",
       "      <th>0</th>\n",
       "      <td>100</td>\n",
       "      <td>{'n_estimators': 100, 'learning_rate': 1}</td>\n",
       "      <td>0.736896</td>\n",
       "    </tr>\n",
       "    <tr>\n",
       "      <th>1</th>\n",
       "      <td>200</td>\n",
       "      <td>{'n_estimators': 200, 'learning_rate': 0.3}</td>\n",
       "      <td>0.736896</td>\n",
       "    </tr>\n",
       "    <tr>\n",
       "      <th>2</th>\n",
       "      <td>300</td>\n",
       "      <td>{'n_estimators': 300, 'learning_rate': 1}</td>\n",
       "      <td>0.739115</td>\n",
       "    </tr>\n",
       "    <tr>\n",
       "      <th>3</th>\n",
       "      <td>200</td>\n",
       "      <td>{'n_estimators': 200, 'learning_rate': 0.1}</td>\n",
       "      <td>0.737273</td>\n",
       "    </tr>\n",
       "    <tr>\n",
       "      <th>4</th>\n",
       "      <td>300</td>\n",
       "      <td>{'n_estimators': 300, 'learning_rate': 0.3}</td>\n",
       "      <td>0.737608</td>\n",
       "    </tr>\n",
       "  </tbody>\n",
       "</table>\n",
       "</div>"
      ],
      "text/plain": [
       "  param_n_estimators                                       params  \\\n",
       "0                100    {'n_estimators': 100, 'learning_rate': 1}   \n",
       "1                200  {'n_estimators': 200, 'learning_rate': 0.3}   \n",
       "2                300    {'n_estimators': 300, 'learning_rate': 1}   \n",
       "3                200  {'n_estimators': 200, 'learning_rate': 0.1}   \n",
       "4                300  {'n_estimators': 300, 'learning_rate': 0.3}   \n",
       "\n",
       "   mean_test_score  \n",
       "0         0.736896  \n",
       "1         0.736896  \n",
       "2         0.739115  \n",
       "3         0.737273  \n",
       "4         0.737608  "
      ]
     },
     "execution_count": 79,
     "metadata": {},
     "output_type": "execute_result"
    }
   ],
   "source": [
    "pd.DataFrame(result.cv_results_)[['param_n_estimators','params','mean_test_score']]"
   ]
  },
  {
   "cell_type": "markdown",
   "id": "bbafb346",
   "metadata": {},
   "source": [
    "<h2>getting best score</h2>"
   ]
  },
  {
   "cell_type": "code",
   "execution_count": 80,
   "id": "0356fb73",
   "metadata": {},
   "outputs": [
    {
     "data": {
      "text/plain": [
       "0.7391152386824933"
      ]
     },
     "execution_count": 80,
     "metadata": {},
     "output_type": "execute_result"
    }
   ],
   "source": [
    "result.best_score_"
   ]
  },
  {
   "cell_type": "markdown",
   "id": "d31683f6",
   "metadata": {},
   "source": [
    "<h3>getting best parameters</h3>"
   ]
  },
  {
   "cell_type": "code",
   "execution_count": 81,
   "id": "5eba9ea4",
   "metadata": {},
   "outputs": [
    {
     "data": {
      "text/plain": [
       "{'n_estimators': 300, 'learning_rate': 1}"
      ]
     },
     "execution_count": 81,
     "metadata": {},
     "output_type": "execute_result"
    }
   ],
   "source": [
    "result.best_params_"
   ]
  },
  {
   "cell_type": "code",
   "execution_count": null,
   "id": "b9c3c933",
   "metadata": {},
   "outputs": [],
   "source": []
  },
  {
   "cell_type": "code",
   "execution_count": null,
   "id": "a96eddc9",
   "metadata": {},
   "outputs": [],
   "source": []
  },
  {
   "cell_type": "code",
   "execution_count": null,
   "id": "4f78aae0",
   "metadata": {},
   "outputs": [],
   "source": []
  }
 ],
 "metadata": {
  "kernelspec": {
   "display_name": "Python 3 (ipykernel)",
   "language": "python",
   "name": "python3"
  },
  "language_info": {
   "codemirror_mode": {
    "name": "ipython",
    "version": 3
   },
   "file_extension": ".py",
   "mimetype": "text/x-python",
   "name": "python",
   "nbconvert_exporter": "python",
   "pygments_lexer": "ipython3",
   "version": "3.11.5"
  }
 },
 "nbformat": 4,
 "nbformat_minor": 5
}
