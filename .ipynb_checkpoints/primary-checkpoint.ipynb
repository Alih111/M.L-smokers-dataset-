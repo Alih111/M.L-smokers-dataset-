{
 "cells": [
  {
   "cell_type": "markdown",
   "id": "59b19479",
   "metadata": {},
   "source": [
    "<h3>importing libraries</h3>"
   ]
  },
  {
   "cell_type": "code",
   "execution_count": 1,
   "id": "9b562cdf",
   "metadata": {},
   "outputs": [],
   "source": [
    "from sklearn.model_selection import train_test_split\n",
    "import pandas as pd\n"
   ]
  },
  {
   "cell_type": "markdown",
   "id": "7fd5b6da",
   "metadata": {},
   "source": [
    "<h5>read data and explore it </h5>"
   ]
  },
  {
   "cell_type": "code",
   "execution_count": 99,
   "id": "ec49155b",
   "metadata": {},
   "outputs": [
    {
     "name": "stdout",
     "output_type": "stream",
     "text": [
      "<class 'pandas.core.frame.DataFrame'>\n",
      "RangeIndex: 159256 entries, 0 to 159255\n",
      "Data columns (total 12 columns):\n",
      " #   Column          Non-Null Count   Dtype  \n",
      "---  ------          --------------   -----  \n",
      " 0   Unnamed: 0      159256 non-null  int64  \n",
      " 1   Cholesterol     159256 non-null  int64  \n",
      " 2   triglyceride    159256 non-null  int64  \n",
      " 3   age             159256 non-null  int64  \n",
      " 4   hearing(right)  159256 non-null  int64  \n",
      " 5   hemoglobin      159256 non-null  float64\n",
      " 6   LDL             159256 non-null  int64  \n",
      " 7   dental caries   159256 non-null  int64  \n",
      " 8   systolic        159256 non-null  int64  \n",
      " 9   hearing(left)   159256 non-null  int64  \n",
      " 10  eyesight(left)  159256 non-null  float64\n",
      " 11  smoking         159256 non-null  int64  \n",
      "dtypes: float64(2), int64(10)\n",
      "memory usage: 14.6 MB\n",
      "Unnamed: 0        0\n",
      "Cholesterol       0\n",
      "triglyceride      0\n",
      "age               0\n",
      "hearing(right)    0\n",
      "hemoglobin        0\n",
      "LDL               0\n",
      "dental caries     0\n",
      "systolic          0\n",
      "hearing(left)     0\n",
      "eyesight(left)    0\n",
      "smoking           0\n",
      "dtype: int64\n",
      "(159256, 12)\n"
     ]
    }
   ],
   "source": [
    "data=pd.read_csv(\"Your_data.csv\")\n",
    "data.head(3)\n",
    "data.info()\n",
    "print(str(data.isnull().sum()))\n",
    "print(data.shape)"
   ]
  },
  {
   "cell_type": "markdown",
   "id": "fe30819a",
   "metadata": {},
   "source": [
    "<h4> data split in train , test and validataion</h4>"
   ]
  },
  {
   "cell_type": "code",
   "execution_count": 100,
   "id": "e8229319",
   "metadata": {},
   "outputs": [
    {
     "name": "stdout",
     "output_type": "stream",
     "text": [
      "(111479, 12)\n"
     ]
    }
   ],
   "source": [
    "train_data, tmp_data = train_test_split(data, test_size=0.3, random_state=42, stratify=data['smoking'])\n",
    "test_data,validate_data=train_test_split(tmp_data, test_size=0.5, random_state=42)\n",
    "print(train_data.shape)"
   ]
  },
  {
   "cell_type": "markdown",
   "id": "5a293a18",
   "metadata": {},
   "source": [
    "<h3> remove outliers from train data by percentile</h3>\n",
    "<p> test age feature</p>"
   ]
  },
  {
   "cell_type": "code",
   "execution_count": 101,
   "id": "8fecda03",
   "metadata": {},
   "outputs": [
    {
     "name": "stdout",
     "output_type": "stream",
     "text": [
      "85.0 20.0\n"
     ]
    }
   ],
   "source": [
    "\n",
    "max_threshold=train_data['age'].quantile(1)\n",
    "min_threshold=train_data['age'].quantile(0)\n",
    "print(max_threshold,min_threshold)\n",
    "#all ages are possible ages of smokers won't remove any"
   ]
  },
  {
   "cell_type": "markdown",
   "id": "9cb2a2d0",
   "metadata": {},
   "source": [
    "<p> test LDL feature</p>"
   ]
  },
  {
   "cell_type": "code",
   "execution_count": 102,
   "id": "806a0319",
   "metadata": {},
   "outputs": [
    {
     "name": "stdout",
     "output_type": "stream",
     "text": [
      "202.0 42.0\n",
      "(111249, 12)\n"
     ]
    }
   ],
   "source": [
    "max_threshold = train_data['LDL'].quantile(0.999)\n",
    "min_threshold = train_data['LDL'].quantile(0.001)\n",
    "print(max_threshold,min_threshold)\n",
    "train_data = train_data[(train_data['LDL'] < max_threshold) & (train_data['LDL'] > min_threshold)]\n",
    "\n",
    "print(train_data.shape)"
   ]
  },
  {
   "cell_type": "markdown",
   "id": "31cdedbe",
   "metadata": {},
   "source": [
    "<p> test chelosterol feature</p>"
   ]
  },
  {
   "cell_type": "code",
   "execution_count": 103,
   "id": "a96e879d",
   "metadata": {},
   "outputs": [
    {
     "name": "stdout",
     "output_type": "stream",
     "text": [
      "283.0 118.0\n",
      "(111015, 12)\n"
     ]
    }
   ],
   "source": [
    "max_threshold = train_data['Cholesterol'].quantile(0.999)\n",
    "min_threshold = train_data['Cholesterol'].quantile(0.001)\n",
    "print(max_threshold,min_threshold)\n",
    "train_data = train_data[(train_data['Cholesterol'] < max_threshold) & (train_data['Cholesterol'] > min_threshold)]\n",
    "\n",
    "print(train_data.shape)"
   ]
  },
  {
   "cell_type": "markdown",
   "id": "12ffb087",
   "metadata": {},
   "source": [
    "<p> test triglyceride feature</p>"
   ]
  },
  {
   "cell_type": "code",
   "execution_count": 104,
   "id": "621930a9",
   "metadata": {},
   "outputs": [
    {
     "name": "stdout",
     "output_type": "stream",
     "text": [
      "393.0 26.0\n",
      "(110742, 12)\n"
     ]
    }
   ],
   "source": [
    "max_threshold = train_data['triglyceride'].quantile(0.999)\n",
    "min_threshold = train_data['triglyceride'].quantile(0.001)\n",
    "print(max_threshold,min_threshold)\n",
    "train_data = train_data[(train_data['triglyceride'] < max_threshold) & (train_data['triglyceride'] > min_threshold)]\n",
    "\n",
    "print(train_data.shape)"
   ]
  },
  {
   "cell_type": "markdown",
   "id": "dd085399",
   "metadata": {},
   "source": [
    "<p> test hemoglobin feature</p>"
   ]
  },
  {
   "cell_type": "code",
   "execution_count": 105,
   "id": "d63c96a0",
   "metadata": {},
   "outputs": [
    {
     "name": "stdout",
     "output_type": "stream",
     "text": [
      "18.6 8.1\n",
      "(110557, 12)\n"
     ]
    }
   ],
   "source": [
    "\n",
    "max_threshold = train_data['hemoglobin'].quantile(0.9995)\n",
    "min_threshold = train_data['hemoglobin'].quantile(0.001)\n",
    "print(max_threshold,min_threshold)\n",
    "train_data = train_data[(train_data['hemoglobin'] < max_threshold) & (train_data['hemoglobin'] > min_threshold)]\n",
    "\n",
    "print(train_data.shape)"
   ]
  },
  {
   "cell_type": "markdown",
   "id": "81a31a8d",
   "metadata": {},
   "source": [
    "<p>test systolic feature</p>"
   ]
  },
  {
   "cell_type": "code",
   "execution_count": 106,
   "id": "6f8be6cc",
   "metadata": {},
   "outputs": [
    {
     "name": "stdout",
     "output_type": "stream",
     "text": [
      "184.94439999999304 85.0556\n",
      "(110533, 12)\n"
     ]
    }
   ],
   "source": [
    "max_threshold = train_data['systolic'].quantile(0.9999)\n",
    "min_threshold = train_data['systolic'].quantile(0.0001)\n",
    "print(max_threshold,min_threshold)\n",
    "train_data = train_data[(train_data['systolic'] < max_threshold) & (train_data['systolic'] > min_threshold)]\n",
    "\n",
    "print(train_data.shape)"
   ]
  },
  {
   "cell_type": "code",
   "execution_count": null,
   "id": "a4a1196c",
   "metadata": {},
   "outputs": [],
   "source": []
  },
  {
   "cell_type": "code",
   "execution_count": null,
   "id": "25961ea0",
   "metadata": {},
   "outputs": [],
   "source": []
  }
 ],
 "metadata": {
  "kernelspec": {
   "display_name": "Python 3 (ipykernel)",
   "language": "python",
   "name": "python3"
  },
  "language_info": {
   "codemirror_mode": {
    "name": "ipython",
    "version": 3
   },
   "file_extension": ".py",
   "mimetype": "text/x-python",
   "name": "python",
   "nbconvert_exporter": "python",
   "pygments_lexer": "ipython3",
   "version": "3.11.5"
  }
 },
 "nbformat": 4,
 "nbformat_minor": 5
}
