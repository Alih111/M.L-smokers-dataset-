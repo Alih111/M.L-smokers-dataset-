{
 "cells": [
  {
   "cell_type": "markdown",
   "id": "470a814c",
   "metadata": {},
   "source": [
    "<h3>importing libraries</h3>"
   ]
  },
  {
   "cell_type": "code",
   "execution_count": 12,
   "id": "17c5165a",
   "metadata": {},
   "outputs": [],
   "source": [
    "from sklearn.model_selection import train_test_split\n",
    "import pandas as pd\n",
    "from scipy.stats import zscore\n",
    "import matplotlib.pyplot as plt\n",
    "import numpy as np\n",
    "from sklearn.preprocessing import StandardScaler"
   ]
  },
  {
   "cell_type": "markdown",
   "id": "8001de60",
   "metadata": {},
   "source": [
    "<h5>read data and explore it </h5>"
   ]
  },
  {
   "cell_type": "code",
   "execution_count": 13,
   "id": "631b5108",
   "metadata": {},
   "outputs": [
    {
     "name": "stdout",
     "output_type": "stream",
     "text": [
      "<class 'pandas.core.frame.DataFrame'>\n",
      "RangeIndex: 159256 entries, 0 to 159255\n",
      "Data columns (total 11 columns):\n",
      " #   Column            Non-Null Count   Dtype  \n",
      "---  ------            --------------   -----  \n",
      " 0   eyesight(left)    159256 non-null  float64\n",
      " 1   systolic          159256 non-null  int64  \n",
      " 2   serum creatinine  159256 non-null  float64\n",
      " 3   triglyceride      159256 non-null  int64  \n",
      " 4   Cholesterol       159256 non-null  int64  \n",
      " 5   AST               159256 non-null  int64  \n",
      " 6   height(cm)        159256 non-null  int64  \n",
      " 7   waist(cm)         159256 non-null  float64\n",
      " 8   age               159256 non-null  int64  \n",
      " 9   LDL               159256 non-null  int64  \n",
      " 10  smoking           159256 non-null  int64  \n",
      "dtypes: float64(3), int64(8)\n",
      "memory usage: 13.4 MB\n",
      "eyesight(left)      0\n",
      "systolic            0\n",
      "serum creatinine    0\n",
      "triglyceride        0\n",
      "Cholesterol         0\n",
      "AST                 0\n",
      "height(cm)          0\n",
      "waist(cm)           0\n",
      "age                 0\n",
      "LDL                 0\n",
      "smoking             0\n",
      "dtype: int64\n",
      "(159256, 11)\n"
     ]
    }
   ],
   "source": [
    "data=pd.read_csv(\"Your_data.csv\")\n",
    "data.drop(data.columns[0], axis=1,inplace=True)\n",
    "data.head(3)\n",
    "data.info()\n",
    "print(str(data.isnull().sum()))\n",
    "print(data.shape)"
   ]
  },
  {
   "cell_type": "markdown",
   "id": "d87741e5",
   "metadata": {},
   "source": [
    "<h4> data split in train , test and validataion</h4>"
   ]
  },
  {
   "cell_type": "code",
   "execution_count": 14,
   "id": "2465dc42",
   "metadata": {},
   "outputs": [
    {
     "name": "stdout",
     "output_type": "stream",
     "text": [
      "(159256, 11)\n"
     ]
    }
   ],
   "source": [
    "\n",
    "X=data.drop('smoking', axis=1)\n",
    "Y = data['smoking']\n",
    "train_data, test_data = train_test_split(data, test_size=0.3, random_state=42, stratify=data['smoking'])\n",
    "validation,test=train_test_split(test_data, test_size=0.5, random_state=42, stratify=test_data['smoking'])\n",
    "X_train=train_data.drop(['smoking'],axis=1)\n",
    "Y_train=train_data['smoking']\n",
    "print(data.shape)"
   ]
  },
  {
   "cell_type": "markdown",
   "id": "d2a2af2e",
   "metadata": {},
   "source": []
  },
  {
   "cell_type": "code",
   "execution_count": null,
   "id": "be5413d5",
   "metadata": {},
   "outputs": [],
   "source": []
  },
  {
   "cell_type": "code",
   "execution_count": null,
   "id": "650d72d4",
   "metadata": {},
   "outputs": [],
   "source": []
  },
  {
   "cell_type": "markdown",
   "id": "08d42c6b",
   "metadata": {},
   "source": []
  },
  {
   "cell_type": "code",
   "execution_count": null,
   "id": "5f95d140",
   "metadata": {},
   "outputs": [],
   "source": []
  },
  {
   "cell_type": "markdown",
   "id": "20422f33",
   "metadata": {},
   "source": []
  },
  {
   "cell_type": "code",
   "execution_count": null,
   "id": "55aa1c37",
   "metadata": {},
   "outputs": [],
   "source": []
  },
  {
   "cell_type": "markdown",
   "id": "cca4c7ff",
   "metadata": {},
   "source": [
    "<h3> remove outliers from train data by percentile</h3>\n",
    "<p> test age feature</p>"
   ]
  },
  {
   "cell_type": "code",
   "execution_count": 48,
   "id": "58cc3ba6",
   "metadata": {},
   "outputs": [
    {
     "name": "stdout",
     "output_type": "stream",
     "text": [
      "85.0 20.0\n"
     ]
    }
   ],
   "source": [
    "\n",
    "max_threshold=train_data['age'].quantile(1)\n",
    "min_threshold=train_data['age'].quantile(0)\n",
    "print(max_threshold,min_threshold)\n",
    "#all ages are possible ages of smokers won't remove any"
   ]
  },
  {
   "cell_type": "markdown",
   "id": "c7d7e5f1",
   "metadata": {},
   "source": [
    "<p> test LDL feature</p>"
   ]
  },
  {
   "cell_type": "code",
   "execution_count": 49,
   "id": "73ccf0d5",
   "metadata": {},
   "outputs": [
    {
     "name": "stdout",
     "output_type": "stream",
     "text": [
      "202.0 42.0\n",
      "(111249, 11)\n"
     ]
    }
   ],
   "source": [
    "max_threshold = train_data['LDL'].quantile(0.999)\n",
    "min_threshold = train_data['LDL'].quantile(0.001)\n",
    "print(max_threshold,min_threshold)\n",
    "train_data = train_data[(train_data['LDL'] < max_threshold) & (train_data['LDL'] > min_threshold)]\n",
    "\n",
    "print(train_data.shape)"
   ]
  },
  {
   "cell_type": "code",
   "execution_count": 50,
   "id": "ecdbc7fd",
   "metadata": {},
   "outputs": [],
   "source": [
    "#test AST"
   ]
  },
  {
   "cell_type": "code",
   "execution_count": 51,
   "id": "37841f72",
   "metadata": {},
   "outputs": [
    {
     "name": "stdout",
     "output_type": "stream",
     "text": [
      "187.87679999995453 9.0\n",
      "(111221, 11)\n"
     ]
    }
   ],
   "source": [
    "max_threshold = train_data['AST'].quantile(0.9999)\n",
    "min_threshold = train_data['AST'].quantile(0.0001)\n",
    "print(max_threshold,min_threshold)\n",
    "train_data = train_data[(train_data['AST'] < max_threshold) & (train_data['AST'] > min_threshold)]\n",
    "\n",
    "print(train_data.shape)"
   ]
  },
  {
   "cell_type": "code",
   "execution_count": 52,
   "id": "4c734284",
   "metadata": {},
   "outputs": [
    {
     "name": "stdout",
     "output_type": "stream",
     "text": [
      "1.987799999998242 0.1122\n",
      "(111197, 11)\n"
     ]
    }
   ],
   "source": [
    "max_threshold = train_data['serum creatinine'].quantile(0.9999)\n",
    "min_threshold = train_data['serum creatinine'].quantile(0.0001)\n",
    "print(max_threshold,min_threshold)\n",
    "train_data = train_data[(train_data['serum creatinine'] < max_threshold) & (train_data['serum creatinine'] > min_threshold)]\n",
    "\n",
    "print(train_data.shape)"
   ]
  },
  {
   "cell_type": "code",
   "execution_count": null,
   "id": "2543cb73",
   "metadata": {},
   "outputs": [],
   "source": []
  },
  {
   "cell_type": "markdown",
   "id": "30fa59e6",
   "metadata": {},
   "source": [
    "<p> test chelosterol feature</p>"
   ]
  },
  {
   "cell_type": "code",
   "execution_count": 53,
   "id": "011f5275",
   "metadata": {},
   "outputs": [
    {
     "name": "stdout",
     "output_type": "stream",
     "text": [
      "283.0 118.0\n",
      "(110963, 11)\n"
     ]
    }
   ],
   "source": [
    "max_threshold = train_data['Cholesterol'].quantile(0.999)\n",
    "min_threshold = train_data['Cholesterol'].quantile(0.001)\n",
    "print(max_threshold,min_threshold)\n",
    "train_data = train_data[(train_data['Cholesterol'] < max_threshold) & (train_data['Cholesterol'] > min_threshold)]\n",
    "\n",
    "print(train_data.shape)"
   ]
  },
  {
   "cell_type": "markdown",
   "id": "61323198",
   "metadata": {},
   "source": [
    "<p>test systolic feature</p>"
   ]
  },
  {
   "cell_type": "code",
   "execution_count": 54,
   "id": "ea6729d8",
   "metadata": {},
   "outputs": [
    {
     "name": "stdout",
     "output_type": "stream",
     "text": [
      "170.0 90.0\n",
      "(110300, 11)\n"
     ]
    }
   ],
   "source": [
    "max_threshold = train_data['systolic'].quantile(0.999)\n",
    "min_threshold = train_data['systolic'].quantile(0.001)\n",
    "print(max_threshold,min_threshold)\n",
    "train_data = train_data[(train_data['systolic'] < max_threshold) & (train_data['systolic'] > min_threshold)]\n",
    "\n",
    "print(train_data.shape)"
   ]
  },
  {
   "cell_type": "markdown",
   "id": "4a6ad985",
   "metadata": {},
   "source": [
    "test height feature"
   ]
  },
  {
   "cell_type": "code",
   "execution_count": 55,
   "id": "9976329d",
   "metadata": {},
   "outputs": [
    {
     "name": "stdout",
     "output_type": "stream",
     "text": [
      "185.0 140.0\n",
      "(108906, 11)\n"
     ]
    }
   ],
   "source": [
    "max_threshold = train_data['height(cm)'].quantile(0.999)\n",
    "min_threshold = train_data['height(cm)'].quantile(0.001)\n",
    "print(max_threshold,min_threshold)\n",
    "train_data = train_data[(train_data['height(cm)'] < max_threshold) & (train_data['height(cm)'] > min_threshold)]\n",
    "\n",
    "print(train_data.shape)"
   ]
  },
  {
   "cell_type": "markdown",
   "id": "5f691f4b",
   "metadata": {},
   "source": [
    "<h3>z score normalization to remove outliers</h3>\n",
    "<p>  is suited for triglyceride distribution</p>"
   ]
  },
  {
   "cell_type": "code",
   "execution_count": 56,
   "id": "d6a5709a",
   "metadata": {},
   "outputs": [
    {
     "name": "stdout",
     "output_type": "stream",
     "text": [
      "(107774, 11)\n"
     ]
    }
   ],
   "source": [
    "\n",
    "z_scores = zscore(train_data['triglyceride'])\n",
    "z_score_threshold = 3\n",
    "outliers = np.abs(z_scores) > z_score_threshold\n",
    "\n",
    "train_data = train_data[~outliers]\n",
    "print(train_data.shape)"
   ]
  },
  {
   "cell_type": "code",
   "execution_count": 57,
   "id": "339dc57d",
   "metadata": {},
   "outputs": [
    {
     "name": "stdout",
     "output_type": "stream",
     "text": [
      "(107494, 11)\n"
     ]
    }
   ],
   "source": [
    "#hemoglobin\n",
    "z_scores = zscore(train_data['waist(cm)'])\n",
    "z_score_threshold = 3\n",
    "outliers = np.abs(z_scores) > z_score_threshold\n",
    "\n",
    "train_data = train_data[~outliers]\n",
    "print(train_data.shape)"
   ]
  },
  {
   "cell_type": "code",
   "execution_count": 58,
   "id": "862729df",
   "metadata": {},
   "outputs": [
    {
     "name": "stdout",
     "output_type": "stream",
     "text": [
      "(107401, 11)\n"
     ]
    }
   ],
   "source": [
    "#eyesight(left)\n",
    "z_scores = zscore(train_data['eyesight(left)'])\n",
    "z_score_threshold = 3\n",
    "outliers = np.abs(z_scores) > z_score_threshold\n",
    "\n",
    "train_data = train_data[~outliers]\n",
    "print(train_data.shape)"
   ]
  },
  {
   "cell_type": "markdown",
   "id": "54a36471",
   "metadata": {},
   "source": [
    "<h3>splitting train,test,validate data into x and y </h3>"
   ]
  },
  {
   "cell_type": "code",
   "execution_count": 59,
   "id": "7e30e30c",
   "metadata": {},
   "outputs": [],
   "source": [
    "\n",
    "X_train=train_data.drop(['smoking'],axis=1)\n",
    "Y_train=train_data['smoking']\n",
    "X_test=test_data.drop(['smoking'],axis=1)\n",
    "Y_test=test_data['smoking']"
   ]
  },
  {
   "cell_type": "markdown",
   "id": "70485b7d",
   "metadata": {},
   "source": [
    "<h3>data normalization</h3>"
   ]
  },
  {
   "cell_type": "code",
   "execution_count": 60,
   "id": "50faccd5",
   "metadata": {},
   "outputs": [
    {
     "name": "stdout",
     "output_type": "stream",
     "text": [
      "(155178, 10)\n"
     ]
    },
    {
     "data": {
      "text/plain": [
       "(155178,)"
      ]
     },
     "execution_count": 60,
     "metadata": {},
     "output_type": "execute_result"
    }
   ],
   "source": [
    "normalizer=StandardScaler()\n",
    "X_train=normalizer.fit_transform(X_train)\n",
    "X_test = normalizer.transform(X_test)\n",
    "X = np.vstack((X_train, X_test))\n",
    "print(X.shape)\n",
    "Y = np.concatenate((Y_train.values, Y_test.values))\n",
    "Y.shape"
   ]
  },
  {
   "cell_type": "code",
   "execution_count": 61,
   "id": "098e843b",
   "metadata": {},
   "outputs": [
    {
     "data": {
      "text/plain": [
       "smoking\n",
       "0    60866\n",
       "1    46535\n",
       "Name: count, dtype: int64"
      ]
     },
     "execution_count": 61,
     "metadata": {},
     "output_type": "execute_result"
    }
   ],
   "source": [
    "Y_train.value_counts()"
   ]
  },
  {
   "cell_type": "code",
   "execution_count": 62,
   "id": "1b78cb95",
   "metadata": {},
   "outputs": [],
   "source": [
    "# Train using stand alone model"
   ]
  },
  {
   "cell_type": "code",
   "execution_count": 63,
   "id": "ce03ffc4",
   "metadata": {},
   "outputs": [
    {
     "data": {
      "text/plain": [
       "array([0.66677407, 0.66638742, 0.66442196, 0.66714999, 0.67001772])"
      ]
     },
     "execution_count": 63,
     "metadata": {},
     "output_type": "execute_result"
    }
   ],
   "source": [
    "from sklearn.model_selection import cross_val_score\n",
    "from sklearn.tree import DecisionTreeClassifier\n",
    "\n",
    "scores = cross_val_score(DecisionTreeClassifier(), X, Y, cv=5)\n",
    "scores"
   ]
  },
  {
   "cell_type": "code",
   "execution_count": 64,
   "id": "94948fda",
   "metadata": {},
   "outputs": [
    {
     "data": {
      "text/plain": [
       "0.6669502330694282"
      ]
     },
     "execution_count": 64,
     "metadata": {},
     "output_type": "execute_result"
    }
   ],
   "source": [
    "scores.mean()"
   ]
  },
  {
   "cell_type": "code",
   "execution_count": 65,
   "id": "cc533b71",
   "metadata": {},
   "outputs": [],
   "source": [
    "# Train using Bagging"
   ]
  },
  {
   "cell_type": "code",
   "execution_count": 66,
   "id": "647a760a",
   "metadata": {},
   "outputs": [
    {
     "data": {
      "text/plain": [
       "0.7396672284243163"
      ]
     },
     "execution_count": 66,
     "metadata": {},
     "output_type": "execute_result"
    }
   ],
   "source": [
    "from sklearn.ensemble import BaggingClassifier\n",
    "\n",
    "bag_model = BaggingClassifier(\n",
    "    estimator=DecisionTreeClassifier(), \n",
    "    n_estimators=100, \n",
    "    max_samples=0.8, \n",
    "    oob_score=True,\n",
    "    random_state=0\n",
    ")\n",
    "bag_model.fit(X_train, Y_train)\n",
    "bag_model.oob_score_"
   ]
  },
  {
   "cell_type": "code",
   "execution_count": 67,
   "id": "85adfddf",
   "metadata": {},
   "outputs": [
    {
     "data": {
      "text/plain": [
       "0.7398329740251586"
      ]
     },
     "execution_count": 67,
     "metadata": {},
     "output_type": "execute_result"
    }
   ],
   "source": [
    "bag_model.score(X_test, Y_test)"
   ]
  },
  {
   "cell_type": "code",
   "execution_count": null,
   "id": "056ea41d",
   "metadata": {},
   "outputs": [],
   "source": [
    "from sklearn.ensemble import AdaBoostClassifier\n",
    "from sklearn import metrics\n",
    "Adamodel = AdaBoostClassifier(n_estimators=100 ,learning_rate=1)\n",
    "model = Adamodel.fit(X_train,Y_train)\n",
    "y_pred = model.predict(X_test)\n",
    "print(\"Accuracy 1 :\",metrics.accuracy_score(Y_test,y_pred)) \n",
    "# -----------------------------------------------------------\n",
    "# using logisticRegression \n",
    "from sklearn.linear_model import LogisticRegression \n",
    "logisticModel = LogisticRegression()\n",
    "Adamodel_2 = AdaBoostClassifier(n_estimators=50 ,base_estimator=logisticModel,learning_rate=1)\n",
    "model_2 = Adamodel_2.fit(X_train,Y_train)\n",
    "y_pred_2 = model_2.predict(X_test)\n",
    "print(\"Accuracy 2 :\",metrics.accuracy_score(Y_test,y_pred_2)) "
   ]
  },
  {
   "cell_type": "code",
   "execution_count": null,
   "id": "c9270870",
   "metadata": {},
   "outputs": [],
   "source": [
    "# Train using Random Forest"
   ]
  },
  {
   "cell_type": "code",
   "execution_count": 88,
   "id": "c00e1284",
   "metadata": {},
   "outputs": [
    {
     "data": {
      "text/plain": [
       "0.6868572941005613"
      ]
     },
     "execution_count": 88,
     "metadata": {},
     "output_type": "execute_result"
    }
   ],
   "source": [
    "from sklearn.ensemble import RandomForestClassifier\n",
    "from sklearn import metrics\n",
    "randomForest = RandomForestClassifier(n_estimators= 100)\n",
    "randomForestModel = randomForest.fit(X_train,Y_train)\n",
    "y_pred_0 = randomForestModel.predict(X_test)\n",
    "# randomForestModel.oob_score_\n",
    "print(\"Accuracy  :\",metrics.accuracy_score(Y_test,y_pred_0)) "
   ]
  },
  {
   "cell_type": "markdown",
   "id": "89d11aaf",
   "metadata": {},
   "source": [
    "<h1>GRIDSEARCH</h1>\n",
    "<h3>GRIDSERACH FOR BaggingClassifier</h3>"
   ]
  },
  {
   "cell_type": "code",
   "execution_count": null,
   "id": "6e4362c2",
   "metadata": {},
   "outputs": [],
   "source": []
  },
  {
   "cell_type": "code",
   "execution_count": null,
   "id": "131a163b",
   "metadata": {},
   "outputs": [],
   "source": [
    "from sklearn.model_selection import GridSearchCV\n",
    "result = GridSearchCV(\n",
    "        BaggingClassifier(),\n",
    "        {\n",
    "            'estimator': [DecisionTreeClassifier()],\n",
    "            'n_estimators': [10, 50, 100],\n",
    "            'max_samples': [0.3, 0.5, 0.8, 0.9],\n",
    "            'oob_score': [True, False],\n",
    "            'random_state': [0]\n",
    "        },\n",
    "    cv=5,\n",
    "    return_train_score=False\n",
    ")\n",
    "\n",
    "result.fit(X,y)\n",
    "result.cv_results_"
   ]
  },
  {
   "cell_type": "code",
   "execution_count": null,
   "id": "d3fe8089",
   "metadata": {},
   "outputs": [],
   "source": [
    "df = pd.DataFrame(result.cv_results_)\n",
    "df"
   ]
  },
  {
   "cell_type": "code",
   "execution_count": null,
   "id": "21cef830",
   "metadata": {},
   "outputs": [],
   "source": [
    "df [['param_n_estimators','params','mean_test_score']]"
   ]
  },
  {
   "cell_type": "markdown",
   "id": "4dba70d2",
   "metadata": {},
   "source": [
    "<h3>Random GridSearch for Bagging</h3>"
   ]
  },
  {
   "cell_type": "code",
   "execution_count": null,
   "id": "0ee728ea",
   "metadata": {},
   "outputs": [],
   "source": [
    "from sklearn.model_selection import GridSearchCV\n",
    "result = RandomizedSearchCV(\n",
    "        BaggingClassifier(),\n",
    "        {\n",
    "            'estimator': [DecisionTreeClassifier()],\n",
    "            'n_estimators': [10, 50, 100],\n",
    "            'max_samples': [0.3, 0.5, 0.8, 0.9],\n",
    "            'oob_score': [True, False],\n",
    "            'random_state': [0]\n",
    "        },\n",
    "    cv=5,\n",
    "    return_train_score=False\n",
    ")\n",
    "\n",
    "result.fit(X,y)\n",
    "pd.DataFrame(result.cv_results_)[['param_n_estimators','params','mean_test_score']]"
   ]
  },
  {
   "cell_type": "markdown",
   "id": "0ce28993",
   "metadata": {},
   "source": [
    "<h3>GRIDSERACH FOR RandomForestClassifier</h3>"
   ]
  },
  {
   "cell_type": "code",
   "execution_count": null,
   "id": "4128e730",
   "metadata": {},
   "outputs": [],
   "source": [
    "from sklearn.model_selection import GridSearchCV\n",
    "result = GridSearchCV(\n",
    "    RandomForestClassifier(), {\n",
    "        'n_estimators': [1,5,10,50]\n",
    "    },\n",
    "    cv = 5,return_train_score = False,n_iter =2\n",
    ")\n",
    "\n",
    "result.fit(X,y)\n",
    "result.cv_results_"
   ]
  },
  {
   "cell_type": "code",
   "execution_count": null,
   "id": "6e58b461",
   "metadata": {},
   "outputs": [],
   "source": [
    "df = pd.DataFrame(result.cv_results_)\n",
    "df"
   ]
  },
  {
   "cell_type": "markdown",
   "id": "f09f1679",
   "metadata": {},
   "source": [
    "<h3>picking columns from tables to see score</h3>"
   ]
  },
  {
   "cell_type": "code",
   "execution_count": null,
   "id": "2556f769",
   "metadata": {},
   "outputs": [],
   "source": [
    "df [['param_n_estimators','params','mean_test_score']]"
   ]
  },
  {
   "cell_type": "code",
   "execution_count": null,
   "id": "ecec75cc",
   "metadata": {},
   "outputs": [],
   "source": [
    "<h2>getting best score</h2>"
   ]
  },
  {
   "cell_type": "code",
   "execution_count": null,
   "id": "3b8e2329",
   "metadata": {},
   "outputs": [],
   "source": [
    "result.best_score_"
   ]
  },
  {
   "cell_type": "markdown",
   "id": "67e889f1",
   "metadata": {},
   "source": [
    "<h3>getting best parameters</h3>"
   ]
  },
  {
   "cell_type": "code",
   "execution_count": null,
   "id": "556a6095",
   "metadata": {},
   "outputs": [],
   "source": [
    "result.best_params_"
   ]
  },
  {
   "cell_type": "markdown",
   "id": "187259f9",
   "metadata": {},
   "source": [
    "<h2>RANDOMIZED GridSearch</h2>"
   ]
  },
  {
   "cell_type": "code",
   "execution_count": null,
   "id": "154621e2",
   "metadata": {},
   "outputs": [],
   "source": [
    "from sklearn.model_selection import RandomizedSearchCV\n",
    "result = RandomizedSearchCV(\n",
    "    RandomForestClassifier(), {\n",
    "        'n_estimators': [1,5,10,50]\n",
    "    },\n",
    "    cv = 5,return_train_score = False,n_iter =2  #give number of combinations of features\n",
    ")\n",
    "\n",
    "result.fit(X,y)\n",
    "pd.DataFrame(result.cv_results_)[['param_n_estimators','params','mean_test_score']]\n"
   ]
  }
 ],
 "metadata": {
  "kernelspec": {
   "display_name": "Python 3 (ipykernel)",
   "language": "python",
   "name": "python3"
  },
  "language_info": {
   "codemirror_mode": {
    "name": "ipython",
    "version": 3
   },
   "file_extension": ".py",
   "mimetype": "text/x-python",
   "name": "python",
   "nbconvert_exporter": "python",
   "pygments_lexer": "ipython3",
   "version": "3.11.5"
  }
 },
 "nbformat": 4,
 "nbformat_minor": 5
}
