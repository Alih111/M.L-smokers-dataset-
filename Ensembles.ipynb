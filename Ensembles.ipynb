{
 "cells": [
  {
   "cell_type": "code",
   "execution_count": 63,
   "metadata": {},
   "outputs": [],
   "source": [
    "from sklearn.model_selection import train_test_split\n",
    "import pandas as pd\n",
    "from scipy.stats import zscore\n",
    "import matplotlib.pyplot as plt\n",
    "import numpy as np\n",
    "from sklearn.preprocessing import StandardScaler"
   ]
  },
  {
   "cell_type": "markdown",
   "metadata": {},
   "source": [
    "# import the dataset"
   ]
  },
  {
   "cell_type": "code",
   "execution_count": 64,
   "metadata": {},
   "outputs": [
    {
     "name": "stdout",
     "output_type": "stream",
     "text": [
      "<class 'pandas.core.frame.DataFrame'>\n",
      "RangeIndex: 159256 entries, 0 to 159255\n",
      "Data columns (total 11 columns):\n",
      " #   Column            Non-Null Count   Dtype  \n",
      "---  ------            --------------   -----  \n",
      " 0   eyesight(left)    159256 non-null  float64\n",
      " 1   systolic          159256 non-null  int64  \n",
      " 2   serum creatinine  159256 non-null  float64\n",
      " 3   triglyceride      159256 non-null  int64  \n",
      " 4   Cholesterol       159256 non-null  int64  \n",
      " 5   AST               159256 non-null  int64  \n",
      " 6   height(cm)        159256 non-null  int64  \n",
      " 7   waist(cm)         159256 non-null  float64\n",
      " 8   age               159256 non-null  int64  \n",
      " 9   LDL               159256 non-null  int64  \n",
      " 10  smoking           159256 non-null  int64  \n",
      "dtypes: float64(3), int64(8)\n",
      "memory usage: 13.4 MB\n",
      "eyesight(left)      0\n",
      "systolic            0\n",
      "serum creatinine    0\n",
      "triglyceride        0\n",
      "Cholesterol         0\n",
      "AST                 0\n",
      "height(cm)          0\n",
      "waist(cm)           0\n",
      "age                 0\n",
      "LDL                 0\n",
      "smoking             0\n",
      "dtype: int64\n",
      "(159256, 11)\n"
     ]
    }
   ],
   "source": [
    "data=pd.read_csv(\"Your_data.csv\")\n",
    "data.drop(data.columns[0], axis=1,inplace=True)\n",
    "data.head(3)\n",
    "data.info()\n",
    "print(str(data.isnull().sum()))\n",
    "print(data.shape)"
   ]
  },
  {
   "cell_type": "markdown",
   "metadata": {},
   "source": [
    "<h4> data split in train , test and validataion</h4>"
   ]
  },
  {
   "cell_type": "code",
   "execution_count": 65,
   "metadata": {},
   "outputs": [
    {
     "name": "stdout",
     "output_type": "stream",
     "text": [
      "(159256, 11)\n"
     ]
    }
   ],
   "source": [
    "X=data.drop('smoking', axis=1)\n",
    "Y = data['smoking']\n",
    "train_data, test_data = train_test_split(data, test_size=0.3, random_state=42, stratify=data['smoking'])\n",
    "X_train=train_data.drop(['smoking'],axis=1)\n",
    "Y_train=train_data['smoking']\n",
    "print(data.shape)"
   ]
  },
  {
   "cell_type": "markdown",
   "metadata": {},
   "source": [
    "# print some details about the dataset"
   ]
  },
  {
   "cell_type": "code",
   "execution_count": 66,
   "metadata": {},
   "outputs": [
    {
     "data": {
      "text/html": [
       "<div>\n",
       "<style scoped>\n",
       "    .dataframe tbody tr th:only-of-type {\n",
       "        vertical-align: middle;\n",
       "    }\n",
       "\n",
       "    .dataframe tbody tr th {\n",
       "        vertical-align: top;\n",
       "    }\n",
       "\n",
       "    .dataframe thead th {\n",
       "        text-align: right;\n",
       "    }\n",
       "</style>\n",
       "<table border=\"1\" class=\"dataframe\">\n",
       "  <thead>\n",
       "    <tr style=\"text-align: right;\">\n",
       "      <th></th>\n",
       "      <th>Unnamed: 0</th>\n",
       "      <th>eyesight(left)</th>\n",
       "      <th>systolic</th>\n",
       "      <th>serum creatinine</th>\n",
       "      <th>triglyceride</th>\n",
       "      <th>Cholesterol</th>\n",
       "      <th>AST</th>\n",
       "      <th>height(cm)</th>\n",
       "      <th>waist(cm)</th>\n",
       "      <th>age</th>\n",
       "      <th>LDL</th>\n",
       "      <th>smoking</th>\n",
       "    </tr>\n",
       "  </thead>\n",
       "  <tbody>\n",
       "    <tr>\n",
       "      <th>count</th>\n",
       "      <td>159256.000000</td>\n",
       "      <td>159256.000000</td>\n",
       "      <td>159256.000000</td>\n",
       "      <td>159256.000000</td>\n",
       "      <td>159256.000000</td>\n",
       "      <td>159256.000000</td>\n",
       "      <td>159256.000000</td>\n",
       "      <td>159256.000000</td>\n",
       "      <td>159256.000000</td>\n",
       "      <td>159256.000000</td>\n",
       "      <td>159256.000000</td>\n",
       "      <td>159256.000000</td>\n",
       "    </tr>\n",
       "    <tr>\n",
       "      <th>mean</th>\n",
       "      <td>79627.500000</td>\n",
       "      <td>1.005798</td>\n",
       "      <td>122.503648</td>\n",
       "      <td>0.892764</td>\n",
       "      <td>127.616046</td>\n",
       "      <td>195.796165</td>\n",
       "      <td>25.516853</td>\n",
       "      <td>165.266929</td>\n",
       "      <td>83.001990</td>\n",
       "      <td>44.306626</td>\n",
       "      <td>114.607682</td>\n",
       "      <td>0.437365</td>\n",
       "    </tr>\n",
       "    <tr>\n",
       "      <th>std</th>\n",
       "      <td>45973.391572</td>\n",
       "      <td>0.402113</td>\n",
       "      <td>12.729315</td>\n",
       "      <td>0.179346</td>\n",
       "      <td>66.188989</td>\n",
       "      <td>28.396959</td>\n",
       "      <td>9.464882</td>\n",
       "      <td>8.818970</td>\n",
       "      <td>8.957937</td>\n",
       "      <td>11.842286</td>\n",
       "      <td>28.158931</td>\n",
       "      <td>0.496063</td>\n",
       "    </tr>\n",
       "    <tr>\n",
       "      <th>min</th>\n",
       "      <td>0.000000</td>\n",
       "      <td>0.100000</td>\n",
       "      <td>77.000000</td>\n",
       "      <td>0.100000</td>\n",
       "      <td>8.000000</td>\n",
       "      <td>77.000000</td>\n",
       "      <td>6.000000</td>\n",
       "      <td>135.000000</td>\n",
       "      <td>51.000000</td>\n",
       "      <td>20.000000</td>\n",
       "      <td>1.000000</td>\n",
       "      <td>0.000000</td>\n",
       "    </tr>\n",
       "    <tr>\n",
       "      <th>25%</th>\n",
       "      <td>39813.750000</td>\n",
       "      <td>0.800000</td>\n",
       "      <td>114.000000</td>\n",
       "      <td>0.800000</td>\n",
       "      <td>77.000000</td>\n",
       "      <td>175.000000</td>\n",
       "      <td>20.000000</td>\n",
       "      <td>160.000000</td>\n",
       "      <td>77.000000</td>\n",
       "      <td>40.000000</td>\n",
       "      <td>95.000000</td>\n",
       "      <td>0.000000</td>\n",
       "    </tr>\n",
       "    <tr>\n",
       "      <th>50%</th>\n",
       "      <td>79627.500000</td>\n",
       "      <td>1.000000</td>\n",
       "      <td>121.000000</td>\n",
       "      <td>0.900000</td>\n",
       "      <td>115.000000</td>\n",
       "      <td>196.000000</td>\n",
       "      <td>24.000000</td>\n",
       "      <td>165.000000</td>\n",
       "      <td>83.000000</td>\n",
       "      <td>40.000000</td>\n",
       "      <td>114.000000</td>\n",
       "      <td>0.000000</td>\n",
       "    </tr>\n",
       "    <tr>\n",
       "      <th>75%</th>\n",
       "      <td>119441.250000</td>\n",
       "      <td>1.200000</td>\n",
       "      <td>130.000000</td>\n",
       "      <td>1.000000</td>\n",
       "      <td>165.000000</td>\n",
       "      <td>217.000000</td>\n",
       "      <td>29.000000</td>\n",
       "      <td>170.000000</td>\n",
       "      <td>89.000000</td>\n",
       "      <td>55.000000</td>\n",
       "      <td>133.000000</td>\n",
       "      <td>1.000000</td>\n",
       "    </tr>\n",
       "    <tr>\n",
       "      <th>max</th>\n",
       "      <td>159255.000000</td>\n",
       "      <td>9.900000</td>\n",
       "      <td>213.000000</td>\n",
       "      <td>9.900000</td>\n",
       "      <td>766.000000</td>\n",
       "      <td>393.000000</td>\n",
       "      <td>778.000000</td>\n",
       "      <td>190.000000</td>\n",
       "      <td>127.000000</td>\n",
       "      <td>85.000000</td>\n",
       "      <td>1860.000000</td>\n",
       "      <td>1.000000</td>\n",
       "    </tr>\n",
       "  </tbody>\n",
       "</table>\n",
       "</div>"
      ],
      "text/plain": [
       "          Unnamed: 0  eyesight(left)       systolic  serum creatinine  \\\n",
       "count  159256.000000   159256.000000  159256.000000     159256.000000   \n",
       "mean    79627.500000        1.005798     122.503648          0.892764   \n",
       "std     45973.391572        0.402113      12.729315          0.179346   \n",
       "min         0.000000        0.100000      77.000000          0.100000   \n",
       "25%     39813.750000        0.800000     114.000000          0.800000   \n",
       "50%     79627.500000        1.000000     121.000000          0.900000   \n",
       "75%    119441.250000        1.200000     130.000000          1.000000   \n",
       "max    159255.000000        9.900000     213.000000          9.900000   \n",
       "\n",
       "        triglyceride    Cholesterol            AST     height(cm)  \\\n",
       "count  159256.000000  159256.000000  159256.000000  159256.000000   \n",
       "mean      127.616046     195.796165      25.516853     165.266929   \n",
       "std        66.188989      28.396959       9.464882       8.818970   \n",
       "min         8.000000      77.000000       6.000000     135.000000   \n",
       "25%        77.000000     175.000000      20.000000     160.000000   \n",
       "50%       115.000000     196.000000      24.000000     165.000000   \n",
       "75%       165.000000     217.000000      29.000000     170.000000   \n",
       "max       766.000000     393.000000     778.000000     190.000000   \n",
       "\n",
       "           waist(cm)            age            LDL        smoking  \n",
       "count  159256.000000  159256.000000  159256.000000  159256.000000  \n",
       "mean       83.001990      44.306626     114.607682       0.437365  \n",
       "std         8.957937      11.842286      28.158931       0.496063  \n",
       "min        51.000000      20.000000       1.000000       0.000000  \n",
       "25%        77.000000      40.000000      95.000000       0.000000  \n",
       "50%        83.000000      40.000000     114.000000       0.000000  \n",
       "75%        89.000000      55.000000     133.000000       1.000000  \n",
       "max       127.000000      85.000000    1860.000000       1.000000  "
      ]
     },
     "execution_count": 66,
     "metadata": {},
     "output_type": "execute_result"
    }
   ],
   "source": [
    "df.describe()"
   ]
  },
  {
   "cell_type": "markdown",
   "metadata": {},
   "source": [
    "<h3> remove outliers from train data by percentile</h3>\n",
    "<p> test age feature</p>"
   ]
  },
  {
   "cell_type": "code",
   "execution_count": 67,
   "metadata": {},
   "outputs": [
    {
     "name": "stdout",
     "output_type": "stream",
     "text": [
      "85.0 20.0\n"
     ]
    }
   ],
   "source": [
    "max_threshold=train_data['age'].quantile(1)\n",
    "min_threshold=train_data['age'].quantile(0)\n",
    "print(max_threshold,min_threshold)"
   ]
  },
  {
   "cell_type": "markdown",
   "metadata": {},
   "source": [
    "<p> test LDL feature</p>"
   ]
  },
  {
   "cell_type": "code",
   "execution_count": 68,
   "metadata": {},
   "outputs": [
    {
     "name": "stdout",
     "output_type": "stream",
     "text": [
      "202.0 42.0\n",
      "(111249, 11)\n"
     ]
    }
   ],
   "source": [
    "max_threshold = train_data['LDL'].quantile(0.999)\n",
    "min_threshold = train_data['LDL'].quantile(0.001)\n",
    "print(max_threshold,min_threshold)\n",
    "train_data = train_data[(train_data['LDL'] < max_threshold) & (train_data['LDL'] > min_threshold)]\n",
    "\n",
    "print(train_data.shape)"
   ]
  },
  {
   "cell_type": "code",
   "execution_count": 69,
   "metadata": {},
   "outputs": [
    {
     "name": "stdout",
     "output_type": "stream",
     "text": [
      "187.87679999995453 9.0\n",
      "(111221, 11)\n"
     ]
    }
   ],
   "source": [
    "max_threshold = train_data['AST'].quantile(0.9999)\n",
    "min_threshold = train_data['AST'].quantile(0.0001)\n",
    "print(max_threshold,min_threshold)\n",
    "train_data = train_data[(train_data['AST'] < max_threshold) & (train_data['AST'] > min_threshold)]\n",
    "\n",
    "print(train_data.shape)"
   ]
  },
  {
   "cell_type": "code",
   "execution_count": 70,
   "metadata": {},
   "outputs": [
    {
     "name": "stdout",
     "output_type": "stream",
     "text": [
      "1.987799999998242 0.1122\n",
      "(111197, 11)\n"
     ]
    }
   ],
   "source": [
    "max_threshold = train_data['serum creatinine'].quantile(0.9999)\n",
    "min_threshold = train_data['serum creatinine'].quantile(0.0001)\n",
    "print(max_threshold,min_threshold)\n",
    "train_data = train_data[(train_data['serum creatinine'] < max_threshold) & (train_data['serum creatinine'] > min_threshold)]\n",
    "\n",
    "print(train_data.shape)"
   ]
  },
  {
   "cell_type": "markdown",
   "metadata": {},
   "source": [
    "<p> test chelosterol feature</p>"
   ]
  },
  {
   "cell_type": "code",
   "execution_count": 71,
   "metadata": {},
   "outputs": [
    {
     "name": "stdout",
     "output_type": "stream",
     "text": [
      "283.0 118.0\n",
      "(110963, 11)\n"
     ]
    }
   ],
   "source": [
    "max_threshold = train_data['Cholesterol'].quantile(0.999)\n",
    "min_threshold = train_data['Cholesterol'].quantile(0.001)\n",
    "print(max_threshold,min_threshold)\n",
    "train_data = train_data[(train_data['Cholesterol'] < max_threshold) & (train_data['Cholesterol'] > min_threshold)]\n",
    "\n",
    "print(train_data.shape)"
   ]
  },
  {
   "cell_type": "markdown",
   "metadata": {},
   "source": [
    "<p>test systolic feature</p>"
   ]
  },
  {
   "cell_type": "code",
   "execution_count": 72,
   "metadata": {},
   "outputs": [
    {
     "name": "stdout",
     "output_type": "stream",
     "text": [
      "170.0 90.0\n",
      "(110300, 11)\n"
     ]
    }
   ],
   "source": [
    "max_threshold = train_data['systolic'].quantile(0.999)\n",
    "min_threshold = train_data['systolic'].quantile(0.001)\n",
    "print(max_threshold,min_threshold)\n",
    "train_data = train_data[(train_data['systolic'] < max_threshold) & (train_data['systolic'] > min_threshold)]\n",
    "\n",
    "print(train_data.shape)"
   ]
  },
  {
   "cell_type": "markdown",
   "metadata": {},
   "source": [
    "<p>test height feature</p>"
   ]
  },
  {
   "cell_type": "code",
   "execution_count": 73,
   "metadata": {},
   "outputs": [
    {
     "name": "stdout",
     "output_type": "stream",
     "text": [
      "185.0 140.0\n",
      "(108906, 11)\n"
     ]
    }
   ],
   "source": [
    "max_threshold = train_data['height(cm)'].quantile(0.999)\n",
    "min_threshold = train_data['height(cm)'].quantile(0.001)\n",
    "print(max_threshold,min_threshold)\n",
    "train_data = train_data[(train_data['height(cm)'] < max_threshold) & (train_data['height(cm)'] > min_threshold)]\n",
    "\n",
    "print(train_data.shape)"
   ]
  },
  {
   "cell_type": "markdown",
   "metadata": {},
   "source": [
    "<h3>z score normalization to remove outliers</h3>\n",
    "<p>  is suited for triglyceride distribution</p>"
   ]
  },
  {
   "cell_type": "code",
   "execution_count": 74,
   "metadata": {},
   "outputs": [
    {
     "name": "stdout",
     "output_type": "stream",
     "text": [
      "(107774, 11)\n"
     ]
    }
   ],
   "source": [
    "z_scores = zscore(train_data['triglyceride'])\n",
    "z_score_threshold = 3\n",
    "outliers = np.abs(z_scores) > z_score_threshold\n",
    "\n",
    "train_data = train_data[~outliers]\n",
    "print(train_data.shape)"
   ]
  },
  {
   "cell_type": "code",
   "execution_count": 75,
   "metadata": {},
   "outputs": [
    {
     "name": "stdout",
     "output_type": "stream",
     "text": [
      "(107494, 11)\n"
     ]
    }
   ],
   "source": [
    "#waist\n",
    "z_scores = zscore(train_data['waist(cm)'])\n",
    "z_score_threshold = 3\n",
    "outliers = np.abs(z_scores) > z_score_threshold\n",
    "\n",
    "train_data = train_data[~outliers]\n",
    "print(train_data.shape)"
   ]
  },
  {
   "cell_type": "code",
   "execution_count": 76,
   "metadata": {},
   "outputs": [
    {
     "name": "stdout",
     "output_type": "stream",
     "text": [
      "(107401, 11)\n"
     ]
    }
   ],
   "source": [
    "#eyesight(left)\n",
    "z_scores = zscore(train_data['eyesight(left)'])\n",
    "z_score_threshold = 3\n",
    "outliers = np.abs(z_scores) > z_score_threshold\n",
    "\n",
    "train_data = train_data[~outliers]\n",
    "print(train_data.shape)"
   ]
  },
  {
   "cell_type": "code",
   "execution_count": 77,
   "metadata": {},
   "outputs": [
    {
     "data": {
      "text/plain": [
       "smoking\n",
       "0    62722\n",
       "1    48757\n",
       "Name: count, dtype: int64"
      ]
     },
     "execution_count": 77,
     "metadata": {},
     "output_type": "execute_result"
    }
   ],
   "source": [
    "Y_train.value_counts()"
   ]
  },
  {
   "cell_type": "markdown",
   "metadata": {},
   "source": [
    "# Print the ratio between two classes"
   ]
  },
  {
   "cell_type": "code",
   "execution_count": 78,
   "metadata": {},
   "outputs": [
    {
     "data": {
      "text/plain": [
       "smoking\n",
       "0    89603\n",
       "1    69653\n",
       "Name: count, dtype: int64"
      ]
     },
     "execution_count": 78,
     "metadata": {},
     "output_type": "execute_result"
    }
   ],
   "source": [
    "df.smoking.value_counts()"
   ]
  },
  {
   "cell_type": "markdown",
   "metadata": {},
   "source": [
    "# drop the target from the dataset"
   ]
  },
  {
   "cell_type": "code",
   "execution_count": 79,
   "metadata": {},
   "outputs": [
    {
     "data": {
      "text/plain": [
       "0         1\n",
       "1         0\n",
       "2         1\n",
       "3         0\n",
       "4         1\n",
       "         ..\n",
       "159251    0\n",
       "159252    0\n",
       "159253    0\n",
       "159254    1\n",
       "159255    0\n",
       "Name: smoking, Length: 159256, dtype: int64"
      ]
     },
     "execution_count": 79,
     "metadata": {},
     "output_type": "execute_result"
    }
   ],
   "source": [
    "X = df.drop(\"smoking\",axis=\"columns\")\n",
    "y = df.smoking\n",
    "y"
   ]
  },
  {
   "cell_type": "markdown",
   "metadata": {},
   "source": [
    "# scale the data"
   ]
  },
  {
   "cell_type": "code",
   "execution_count": 80,
   "metadata": {},
   "outputs": [
    {
     "data": {
      "text/plain": [
       "array([[-1.73203993, -1.2578561 ,  0.98170175,  0.59792738,  2.60442859,\n",
       "        -0.83798548, -0.37156981, -0.03026766, -0.22348852,  0.90298511,\n",
       "        -1.40658059],\n",
       "       [-1.73201818, -1.00916876,  1.84585151,  1.15551071, -1.09710504,\n",
       "        -0.06325221,  0.15670045, -0.03026766,  0.66957702,  2.16963644,\n",
       "         0.40457337],\n",
       "       [-1.73199643, -1.50654343, -0.35380241, -0.51723927,  1.04827363,\n",
       "        -0.62669459,  0.15670045,  0.53669377, -0.22348852, -2.05253466,\n",
       "        -0.76734978]])"
      ]
     },
     "execution_count": 80,
     "metadata": {},
     "output_type": "execute_result"
    }
   ],
   "source": [
    "from sklearn.preprocessing import StandardScaler\n",
    "\n",
    "scaler = StandardScaler()\n",
    "X_scaled = scaler.fit_transform(X)\n",
    "X_scaled[:3]"
   ]
  },
  {
   "cell_type": "markdown",
   "metadata": {},
   "source": [
    "# split dataset into training and testing data"
   ]
  },
  {
   "cell_type": "code",
   "execution_count": 81,
   "metadata": {},
   "outputs": [],
   "source": [
    "from sklearn.model_selection import train_test_split\n",
    "\n",
    "X_train=train_data.drop(['smoking'],axis=1)\n",
    "Y_train=train_data['smoking']\n",
    "validation,test=train_test_split(test_data, test_size=0.5, random_state=42, stratify=test_data['smoking'])\n",
    "X_valid=validation.drop(['smoking'],axis=1)\n",
    "Y_valid=validation['smoking']\n",
    "X_test=test.drop(['smoking'],axis=1)\n",
    "Y_test=test['smoking']"
   ]
  },
  {
   "cell_type": "markdown",
   "metadata": {},
   "source": [
    "<h3>data normalization</h3>"
   ]
  },
  {
   "cell_type": "code",
   "execution_count": 82,
   "metadata": {},
   "outputs": [
    {
     "name": "stdout",
     "output_type": "stream",
     "text": [
      "(131290, 10)\n"
     ]
    },
    {
     "data": {
      "text/plain": [
       "(131290,)"
      ]
     },
     "execution_count": 82,
     "metadata": {},
     "output_type": "execute_result"
    }
   ],
   "source": [
    "normalizer=StandardScaler()\n",
    "X_train=normalizer.fit_transform(X_train)\n",
    "X_test = normalizer.transform(X_test)\n",
    "X_valid=normalizer.transform(X_valid)\n",
    "X = np.vstack((X_train, X_test))\n",
    "print(X.shape)\n",
    "Y = np.concatenate((Y_train.values, Y_test.values))\n",
    "Y.shape"
   ]
  },
  {
   "cell_type": "code",
   "execution_count": 83,
   "metadata": {},
   "outputs": [
    {
     "name": "stdout",
     "output_type": "stream",
     "text": [
      "(107401, 10)\n"
     ]
    },
    {
     "data": {
      "text/plain": [
       "array([[-0.63885425, -0.36303768, -2.23251955, ...,  0.69205245,\n",
       "         0.47499726, -0.1455181 ],\n",
       "       [ 0.65281108, -1.16898516,  0.61852149, ...,  2.64020682,\n",
       "        -0.79368572,  0.36403411],\n",
       "       [-2.57635224,  0.44290979,  0.04831328, ..., -0.32189924,\n",
       "         1.74368023, -1.12542618],\n",
       "       ...,\n",
       "       [ 0.65281108,  1.41004675,  0.61852149, ...,  0.93129948,\n",
       "         0.89789158, -0.18471442],\n",
       "       [-0.31593792,  0.76528878,  0.04831328, ...,  0.70344516,\n",
       "         1.3207859 ,  0.71680102],\n",
       "       [-2.25343591,  0.28172029, -1.66231134, ...,  0.81737232,\n",
       "         0.47499726,  0.44242675]])"
      ]
     },
     "execution_count": 83,
     "metadata": {},
     "output_type": "execute_result"
    }
   ],
   "source": [
    "print(X_train.shape)\n",
    "X_train"
   ]
  },
  {
   "cell_type": "code",
   "execution_count": 84,
   "metadata": {},
   "outputs": [
    {
     "name": "stdout",
     "output_type": "stream",
     "text": [
      "(23889, 10)\n"
     ]
    },
    {
     "data": {
      "text/plain": [
       "array([[ 1.62156008, -0.20184819,  0.61852149, ...,  1.72878957,\n",
       "        -0.37079139,  2.55902822],\n",
       "       [ 0.65281108,  0.84588352,  1.1887297 , ...,  0.24773654,\n",
       "        -1.21658004,  0.08965984],\n",
       "       [ 0.00697842,  2.21599422,  2.32914611, ...,  1.72878957,\n",
       "         0.89789158,  0.05046352],\n",
       "       ...,\n",
       "       [ 0.65281108, -1.57195889, -1.09210313, ..., -1.00546218,\n",
       "        -0.37079139, -0.02792913],\n",
       "       [ 0.00697842, -1.16898516,  0.04831328, ...,  0.20216568,\n",
       "        -0.37079139,  2.3630466 ],\n",
       "       [ 0.65281108, -1.33017465, -0.52189493, ...,  0.70344516,\n",
       "        -1.21658004, -0.8118556 ]])"
      ]
     },
     "execution_count": 84,
     "metadata": {},
     "output_type": "execute_result"
    }
   ],
   "source": [
    "print(X_test.shape)\n",
    "X_test"
   ]
  },
  {
   "cell_type": "code",
   "execution_count": 85,
   "metadata": {},
   "outputs": [
    {
     "data": {
      "text/plain": [
       "smoking\n",
       "0    67202\n",
       "1    52240\n",
       "Name: count, dtype: int64"
      ]
     },
     "execution_count": 85,
     "metadata": {},
     "output_type": "execute_result"
    }
   ],
   "source": [
    "y_train.value_counts()"
   ]
  },
  {
   "cell_type": "markdown",
   "metadata": {},
   "source": [
    "# Train using Bagging from sklearn"
   ]
  },
  {
   "cell_type": "code",
   "execution_count": 48,
   "metadata": {},
   "outputs": [
    {
     "name": "stderr",
     "output_type": "stream",
     "text": [
      "d:\\anaconda\\Lib\\site-packages\\sklearn\\ensemble\\_base.py:156: FutureWarning: `base_estimator` was renamed to `estimator` in version 1.2 and will be removed in 1.4.\n",
      "  warnings.warn(\n"
     ]
    },
    {
     "data": {
      "text/plain": [
       "0.7396672284243163"
      ]
     },
     "execution_count": 48,
     "metadata": {},
     "output_type": "execute_result"
    }
   ],
   "source": [
    "from sklearn.ensemble import BaggingClassifier\n",
    "from sklearn.tree import DecisionTreeClassifier\n",
    "from sklearn import metrics\n",
    "\n",
    "bag_model = BaggingClassifier(\n",
    "    base_estimator=DecisionTreeClassifier(), \n",
    "    n_estimators=100, \n",
    "    max_samples=0.8, \n",
    "    oob_score=True,\n",
    "    random_state=0\n",
    ")\n",
    "bag_model.fit(X_train, Y_train)\n",
    "bag_model.oob_score_"
   ]
  },
  {
   "cell_type": "code",
   "execution_count": null,
   "metadata": {},
   "outputs": [
    {
     "data": {
      "text/plain": [
       "0.7462450394333652"
      ]
     },
     "execution_count": 12,
     "metadata": {},
     "output_type": "execute_result"
    }
   ],
   "source": [
    "bag_model.score(X_test, y_test)"
   ]
  },
  {
   "cell_type": "markdown",
   "metadata": {},
   "source": [
    "# Train using Bagging without sklearn"
   ]
  },
  {
   "cell_type": "code",
   "execution_count": 108,
   "metadata": {},
   "outputs": [
    {
     "name": "stdout",
     "output_type": "stream",
     "text": [
      "Accuracy  : 0.733684959604839\n"
     ]
    }
   ],
   "source": [
    "import numpy as np\n",
    "from sklearn.utils import resample\n",
    "from sklearn.base import BaseEstimator,ClassifierMixin\n",
    "\n",
    "X_train_2 = X_train\n",
    "y_train_2 = Y_train \n",
    "X_test_2 = X_test\n",
    "y_test_2 = Y_test\n",
    "\n",
    "\n",
    "class BaggingClassifier(BaseEstimator,ClassifierMixin):\n",
    "    def __init__(self, base_learner, n_estimators):\n",
    "        super().__init__()\n",
    "        self.base_learner = base_learner\n",
    "        self.n_estimators = n_estimators\n",
    "        self.base_learners = []\n",
    "\n",
    "    def fit(self, X, y):\n",
    "\n",
    "        for _ in range(self.n_estimators):\n",
    "            # Bootstrap resample the training set\n",
    "            X_bootstrap, y_bootstrap = resample(X, y, replace=True, random_state=np.random.randint(1, 100))\n",
    "\n",
    "            # Train a base learner on the resampled data\n",
    "            learner = self.base_learner()\n",
    "            learner.fit(X_bootstrap, y_bootstrap)\n",
    "\n",
    "            # Append the trained learner to the list\n",
    "            self.base_learners.append(learner)\n",
    "\n",
    "    def predict(self, X_new):\n",
    "        predictions = np.mean([learner.predict(X_new) for learner in self.base_learners], axis=0)\n",
    "        return np.round(predictions)\n",
    "\n",
    "    def score(self,X_v,Y_v):\n",
    "        predictions_bagging = self.predict(X_v)\n",
    "        accuracy = metrics.accuracy_score(Y_v, predictions_bagging)\n",
    "        return accuracy\n",
    "\n",
    "    # def get_params(self, deep=True):\n",
    "    #     return {'base_learner': self.base_learner, 'n_estimators': self.n_estimators}    \n",
    "\n",
    "    # def set_params(self, **parameters):\n",
    "    #     for parameter, value in parameters.items():\n",
    "    #         setattr(self, parameter, value)\n",
    "    #     return self    \n",
    "            \n",
    "\n",
    "# bagging_predict = bagging(X_train_2, y_train_2, DecisionTreeClassifier, n_estimators=100)\n",
    "# bagging_predictions = bagging_predict(X_test_2)\n",
    "bagging = BaggingClassifier(base_learner=DecisionTreeClassifier, n_estimators=100)\n",
    "bagging.fit(X_train_2, y_train_2)\n",
    "predictions_bagging = bagging.predict(X_test_2)    \n",
    "print(\"Accuracy  :\",metrics.accuracy_score(y_test_2,predictions_bagging)) \n"
   ]
  },
  {
   "cell_type": "markdown",
   "metadata": {},
   "source": [
    "# Train using Random Forest sklearn"
   ]
  },
  {
   "cell_type": "code",
   "execution_count": 121,
   "metadata": {},
   "outputs": [],
   "source": [
    "# from sklearn.ensemble import RandomForestClassifier\n",
    "# from sklearn import metrics\n",
    "# randomForest = RandomForestClassifier(n_estimators= 100)\n",
    "# randomForestModel = randomForest.fit(X_train,Y_train)\n",
    "# y_pred_0 = randomForestModel.predict(X_test)\n",
    "# # randomForestModel.oob_score_\n",
    "# print(\"Accuracy  :\",metrics.accuracy_score(Y_test,y_pred_0)) \n"
   ]
  },
  {
   "cell_type": "markdown",
   "metadata": {},
   "source": [
    "# Train using Random Forest without sklearn"
   ]
  },
  {
   "cell_type": "code",
   "execution_count": 122,
   "metadata": {},
   "outputs": [
    {
     "name": "stdout",
     "output_type": "stream",
     "text": [
      "Accuracy  : 0.7377454058353217\n"
     ]
    }
   ],
   "source": [
    "from sklearn.base import BaseEstimator\n",
    "class RandomForestClassifier(BaseEstimator):\n",
    "\n",
    "    def __init__(self, base_learner, n_estimators, max_depth=None, max_features=None):\n",
    "        super().__init__()\n",
    "        \"\"\"\n",
    "        Initialize the RandomForest classifier.\n",
    "\n",
    "        Parameters:\n",
    "        - base_learner: Base learner class (e.g., a decision tree)\n",
    "        - n_estimators: Number of base learners\n",
    "        - max_depth: Maximum depth of the base learners (None for unlimited depth)\n",
    "        - max_features: Maximum number of features considered for splitting a node\n",
    "        \"\"\"\n",
    "        self.base_learner = base_learner\n",
    "        self.n_estimators = n_estimators\n",
    "        self.max_depth = max_depth\n",
    "        self.max_features = max_features\n",
    "        self.base_learners = []\n",
    "\n",
    "    def fit(self, X, y):\n",
    "        \"\"\"\n",
    "        Train the RandomForest classifier.\n",
    "\n",
    "        Parameters:\n",
    "        - X: Input features\n",
    "        - y: Target labels (binary classification)\n",
    "        \"\"\"\n",
    "        for _ in range(self.n_estimators):\n",
    "            # Bootstrap resample the training set\n",
    "            X_bootstrap, y_bootstrap = resample(X, y, replace=True, random_state=np.random.randint(1, 100))\n",
    "\n",
    "            # Train a base learner on the resampled data\n",
    "            learner = self.base_learner(max_depth=self.max_depth, max_features=self.max_features)\n",
    "            learner.fit(X_bootstrap, y_bootstrap)\n",
    "\n",
    "            # Append the trained learner to the list\n",
    "            self.base_learners.append(learner)\n",
    "\n",
    "    def predict(self, X_new):\n",
    "        \"\"\"\n",
    "        Make predictions using the majority vote of base learners.\n",
    "\n",
    "        Parameters:\n",
    "        - X_new: New input features for prediction\n",
    "\n",
    "        Returns:\n",
    "        - Array of predicted labels\n",
    "        \"\"\"\n",
    "        predictions = np.mean([learner.predict(X_new) for learner in self.base_learners], axis=0)\n",
    "        return np.round(predictions)\n",
    "\n",
    "    def score(self,X_v,Y_v):\n",
    "        predictions_bagging = self.predict(X_v)\n",
    "        accuracy = metrics.accuracy_score(Y_v, predictions_bagging)\n",
    "        return accuracy\n",
    "\n",
    "\n",
    "random_forest = RandomForestClassifier(base_learner=DecisionTreeClassifier, n_estimators=100, max_depth=None, max_features=None)\n",
    "random_forest.fit(X_train_2, y_train_2)\n",
    "random_forest_predictions = random_forest.predict(X_test_2)    \n",
    "print(\"Accuracy  :\",metrics.accuracy_score(y_test_2,random_forest_predictions)) \n"
   ]
  },
  {
   "cell_type": "markdown",
   "metadata": {},
   "source": [
    "# training using Ada Boost sklearn"
   ]
  },
  {
   "cell_type": "code",
   "execution_count": 135,
   "metadata": {},
   "outputs": [],
   "source": [
    "# from sklearn.ensemble import AdaBoostClassifier\n",
    "# from sklearn import metrics\n",
    "# Adamodel = AdaBoostClassifier(n_estimators=100 ,learning_rate=1)\n",
    "# model = Adamodel.fit(X_train,Y_train)\n",
    "# y_pred = model.predict(X_test)\n",
    "# print(\"Accuracy 1 :\",metrics.accuracy_score(Y_test,y_pred)) \n",
    "# # -----------------------------------------------------------\n",
    "# # using logisticRegression \n",
    "# from sklearn.linear_model import LogisticRegression \n",
    "# logisticModel = LogisticRegression()\n",
    "# Adamodel_2 = AdaBoostClassifier(n_estimators=100 ,base_estimator=logisticModel,learning_rate=1)\n",
    "# model_2 = Adamodel_2.fit(X_train,Y_train)\n",
    "# y_pred_2 = model_2.predict(X_test)\n",
    "# print(\"Accuracy 2 :\",metrics.accuracy_score(Y_test,y_pred_2)) \n"
   ]
  },
  {
   "cell_type": "markdown",
   "metadata": {},
   "source": [
    "# training using Ada Boost without sklearn"
   ]
  },
  {
   "cell_type": "code",
   "execution_count": 127,
   "metadata": {},
   "outputs": [
    {
     "name": "stdout",
     "output_type": "stream",
     "text": [
      "Accuracy : 0.6096948386286576\n"
     ]
    }
   ],
   "source": [
    "import numpy as np\n",
    "from sklearn.tree import DecisionTreeClassifier\n",
    "from sklearn.base import BaseEstimator\n",
    "\n",
    "class AdaBoostClassifier(BaseEstimator):\n",
    "    def __init__(self, base_learner, n_estimators):\n",
    "        super().__init__()\n",
    " \n",
    "        self.base_learner = base_learner\n",
    "        self.n_estimators = n_estimators\n",
    "        self.base_learners = []\n",
    "        self.learner_weights = []\n",
    "\n",
    "    def fit(self, X, y):\n",
    "   \n",
    "        m = len(X)\n",
    "        weights = np.ones(m) / m  # Initialize sample weights\n",
    "\n",
    "        for _ in range(self.n_estimators):\n",
    "            # Train the base learner on the weighted sample\n",
    "            learner = self.base_learner()\n",
    "            learner.fit(X, y, sample_weight=weights)\n",
    "\n",
    "            # Make predictions\n",
    "            predictions = learner.predict(X)\n",
    "\n",
    "            # Compute weighted error\n",
    "            error = np.sum(weights * (predictions != y))\n",
    "\n",
    "            # Avoid division by zero\n",
    "            if error == 0:\n",
    "                alpha = 1\n",
    "            else:\n",
    "                # Compute learner weight\n",
    "                alpha = 0.5 * np.log((1 - error) / error)\n",
    "\n",
    "            # Update sample weights\n",
    "            weights *= np.exp(-alpha * y * predictions)\n",
    "            weights /= np.sum(weights)\n",
    "\n",
    "            # Append the trained learner and its weight to the lists\n",
    "            self.base_learners.append(learner)\n",
    "            self.learner_weights.append(alpha)\n",
    "\n",
    "    def predict(self, X_new):\n",
    "\n",
    "        predictions = np.sum([alpha * learner.predict(X_new) for learner, alpha in zip(self.base_learners, self.learner_weights)], axis=0)\n",
    "        return np.sign(predictions)\n",
    "\n",
    "    def score(self,X_v,Y_v):\n",
    "        predictions_bagging = self.predict(X_v)\n",
    "        accuracy = metrics.accuracy_score(Y_v, predictions_bagging)\n",
    "        return accuracy\n",
    "\n",
    "ada_boost = AdaBoostClassifier(base_learner=DecisionTreeClassifier, n_estimators=100)\n",
    "ada_boost.fit(X_train_2, y_train_2)\n",
    "boosting_predictions = ada_boost.predict(X_test_2)\n",
    "print(\"Accuracy :\",metrics.accuracy_score(y_test_2,boosting_predictions)) \n"
   ]
  },
  {
   "cell_type": "markdown",
   "metadata": {},
   "source": [
    "<h1>GRIDSEARCH</h1>\n",
    "<h3>GRIDSERACH FOR BaggingClassifier</h3>\n",
    "\n",
    "\n",
    "\n",
    "\n",
    "\n",
    "\n",
    "\n",
    "\n"
   ]
  },
  {
   "cell_type": "code",
   "execution_count": 112,
   "metadata": {},
   "outputs": [
    {
     "data": {
      "text/plain": [
       "{'mean_fit_time': array([ 4.62590919, 20.08933535, 30.348071  ]),\n",
       " 'std_fit_time': array([0.47566457, 0.32808565, 1.93298369]),\n",
       " 'mean_score_time': array([0.05762029, 0.14054003, 0.16016932]),\n",
       " 'std_score_time': array([0.04531454, 0.01705568, 0.0442458 ]),\n",
       " 'param_n_estimators': masked_array(data=[10, 50, 100],\n",
       "              mask=[False, False, False],\n",
       "        fill_value='?',\n",
       "             dtype=object),\n",
       " 'params': [{'n_estimators': 10}, {'n_estimators': 50}, {'n_estimators': 100}],\n",
       " 'split0_test_score': array([0.70301381, 0.73859355, 0.73587275]),\n",
       " 'split1_test_score': array([0.70426957, 0.72436166, 0.73210548]),\n",
       " 'split2_test_score': array([0.69526999, 0.726036  , 0.73084973]),\n",
       " 'split3_test_score': array([0.70274231, 0.71509315, 0.72011723]),\n",
       " 'split4_test_score': array([0.6912288 , 0.71634917, 0.71383714]),\n",
       " 'mean_test_score': array([0.6993049 , 0.72408671, 0.72655647]),\n",
       " 'std_test_score': array([0.00513271, 0.00842707, 0.00823726]),\n",
       " 'rank_test_score': array([3, 2, 1])}"
      ]
     },
     "execution_count": 112,
     "metadata": {},
     "output_type": "execute_result"
    }
   ],
   "source": [
    "from sklearn.model_selection import GridSearchCV\n",
    "# from sklearn.tree import DecisionTreeClassifier\n",
    "result = GridSearchCV(\n",
    "        bagging,\n",
    "        {\n",
    "            # 'estimator': [DecisionTreeClassifier()],\n",
    "            'n_estimators': [10, 50, 100],\n",
    "            # 'max_samples': [0.3, 0.5, 0.8, 0.9],\n",
    "            # 'oob_score': [True, False],\n",
    "            # 'random_state': [0]\n",
    "        },\n",
    "    cv=5,\n",
    "    return_train_score=False,\n",
    "    n_jobs=-1\n",
    ")\n",
    "\n",
    "result.fit(X_valid,Y_valid)\n",
    "result.cv_results_\n",
    "\n"
   ]
  },
  {
   "cell_type": "markdown",
   "metadata": {},
   "source": [
    "# Result for grid search\n"
   ]
  },
  {
   "cell_type": "code",
   "execution_count": 113,
   "metadata": {},
   "outputs": [
    {
     "data": {
      "text/html": [
       "<div>\n",
       "<style scoped>\n",
       "    .dataframe tbody tr th:only-of-type {\n",
       "        vertical-align: middle;\n",
       "    }\n",
       "\n",
       "    .dataframe tbody tr th {\n",
       "        vertical-align: top;\n",
       "    }\n",
       "\n",
       "    .dataframe thead th {\n",
       "        text-align: right;\n",
       "    }\n",
       "</style>\n",
       "<table border=\"1\" class=\"dataframe\">\n",
       "  <thead>\n",
       "    <tr style=\"text-align: right;\">\n",
       "      <th></th>\n",
       "      <th>mean_fit_time</th>\n",
       "      <th>std_fit_time</th>\n",
       "      <th>mean_score_time</th>\n",
       "      <th>std_score_time</th>\n",
       "      <th>param_n_estimators</th>\n",
       "      <th>params</th>\n",
       "      <th>split0_test_score</th>\n",
       "      <th>split1_test_score</th>\n",
       "      <th>split2_test_score</th>\n",
       "      <th>split3_test_score</th>\n",
       "      <th>split4_test_score</th>\n",
       "      <th>mean_test_score</th>\n",
       "      <th>std_test_score</th>\n",
       "      <th>rank_test_score</th>\n",
       "    </tr>\n",
       "  </thead>\n",
       "  <tbody>\n",
       "    <tr>\n",
       "      <th>0</th>\n",
       "      <td>4.625909</td>\n",
       "      <td>0.475665</td>\n",
       "      <td>0.057620</td>\n",
       "      <td>0.045315</td>\n",
       "      <td>10</td>\n",
       "      <td>{'n_estimators': 10}</td>\n",
       "      <td>0.703014</td>\n",
       "      <td>0.704270</td>\n",
       "      <td>0.695270</td>\n",
       "      <td>0.702742</td>\n",
       "      <td>0.691229</td>\n",
       "      <td>0.699305</td>\n",
       "      <td>0.005133</td>\n",
       "      <td>3</td>\n",
       "    </tr>\n",
       "    <tr>\n",
       "      <th>1</th>\n",
       "      <td>20.089335</td>\n",
       "      <td>0.328086</td>\n",
       "      <td>0.140540</td>\n",
       "      <td>0.017056</td>\n",
       "      <td>50</td>\n",
       "      <td>{'n_estimators': 50}</td>\n",
       "      <td>0.738594</td>\n",
       "      <td>0.724362</td>\n",
       "      <td>0.726036</td>\n",
       "      <td>0.715093</td>\n",
       "      <td>0.716349</td>\n",
       "      <td>0.724087</td>\n",
       "      <td>0.008427</td>\n",
       "      <td>2</td>\n",
       "    </tr>\n",
       "    <tr>\n",
       "      <th>2</th>\n",
       "      <td>30.348071</td>\n",
       "      <td>1.932984</td>\n",
       "      <td>0.160169</td>\n",
       "      <td>0.044246</td>\n",
       "      <td>100</td>\n",
       "      <td>{'n_estimators': 100}</td>\n",
       "      <td>0.735873</td>\n",
       "      <td>0.732105</td>\n",
       "      <td>0.730850</td>\n",
       "      <td>0.720117</td>\n",
       "      <td>0.713837</td>\n",
       "      <td>0.726556</td>\n",
       "      <td>0.008237</td>\n",
       "      <td>1</td>\n",
       "    </tr>\n",
       "  </tbody>\n",
       "</table>\n",
       "</div>"
      ],
      "text/plain": [
       "   mean_fit_time  std_fit_time  mean_score_time  std_score_time  \\\n",
       "0       4.625909      0.475665         0.057620        0.045315   \n",
       "1      20.089335      0.328086         0.140540        0.017056   \n",
       "2      30.348071      1.932984         0.160169        0.044246   \n",
       "\n",
       "  param_n_estimators                 params  split0_test_score  \\\n",
       "0                 10   {'n_estimators': 10}           0.703014   \n",
       "1                 50   {'n_estimators': 50}           0.738594   \n",
       "2                100  {'n_estimators': 100}           0.735873   \n",
       "\n",
       "   split1_test_score  split2_test_score  split3_test_score  split4_test_score  \\\n",
       "0           0.704270           0.695270           0.702742           0.691229   \n",
       "1           0.724362           0.726036           0.715093           0.716349   \n",
       "2           0.732105           0.730850           0.720117           0.713837   \n",
       "\n",
       "   mean_test_score  std_test_score  rank_test_score  \n",
       "0         0.699305        0.005133                3  \n",
       "1         0.724087        0.008427                2  \n",
       "2         0.726556        0.008237                1  "
      ]
     },
     "execution_count": 113,
     "metadata": {},
     "output_type": "execute_result"
    }
   ],
   "source": [
    "df = pd.DataFrame(result.cv_results_)\n",
    "df"
   ]
  },
  {
   "cell_type": "markdown",
   "metadata": {},
   "source": [
    "<h3>get the best parameters for model</h3>"
   ]
  },
  {
   "cell_type": "code",
   "execution_count": 114,
   "metadata": {},
   "outputs": [
    {
     "data": {
      "text/html": [
       "<div>\n",
       "<style scoped>\n",
       "    .dataframe tbody tr th:only-of-type {\n",
       "        vertical-align: middle;\n",
       "    }\n",
       "\n",
       "    .dataframe tbody tr th {\n",
       "        vertical-align: top;\n",
       "    }\n",
       "\n",
       "    .dataframe thead th {\n",
       "        text-align: right;\n",
       "    }\n",
       "</style>\n",
       "<table border=\"1\" class=\"dataframe\">\n",
       "  <thead>\n",
       "    <tr style=\"text-align: right;\">\n",
       "      <th></th>\n",
       "      <th>param_n_estimators</th>\n",
       "      <th>params</th>\n",
       "      <th>mean_test_score</th>\n",
       "    </tr>\n",
       "  </thead>\n",
       "  <tbody>\n",
       "    <tr>\n",
       "      <th>0</th>\n",
       "      <td>10</td>\n",
       "      <td>{'n_estimators': 10}</td>\n",
       "      <td>0.699305</td>\n",
       "    </tr>\n",
       "    <tr>\n",
       "      <th>1</th>\n",
       "      <td>50</td>\n",
       "      <td>{'n_estimators': 50}</td>\n",
       "      <td>0.724087</td>\n",
       "    </tr>\n",
       "    <tr>\n",
       "      <th>2</th>\n",
       "      <td>100</td>\n",
       "      <td>{'n_estimators': 100}</td>\n",
       "      <td>0.726556</td>\n",
       "    </tr>\n",
       "  </tbody>\n",
       "</table>\n",
       "</div>"
      ],
      "text/plain": [
       "  param_n_estimators                 params  mean_test_score\n",
       "0                 10   {'n_estimators': 10}         0.699305\n",
       "1                 50   {'n_estimators': 50}         0.724087\n",
       "2                100  {'n_estimators': 100}         0.726556"
      ]
     },
     "execution_count": 114,
     "metadata": {},
     "output_type": "execute_result"
    }
   ],
   "source": [
    "df [['param_n_estimators','params','mean_test_score']]"
   ]
  },
  {
   "cell_type": "markdown",
   "metadata": {},
   "source": [
    "\n",
    "<h3>Random GridSearch for Bagging</h3>"
   ]
  },
  {
   "cell_type": "code",
   "execution_count": 115,
   "metadata": {},
   "outputs": [
    {
     "name": "stderr",
     "output_type": "stream",
     "text": [
      "d:\\anaconda\\Lib\\site-packages\\sklearn\\model_selection\\_search.py:307: UserWarning: The total space of parameters 3 is smaller than n_iter=5. Running 3 iterations. For exhaustive searches, use GridSearchCV.\n",
      "  warnings.warn(\n"
     ]
    },
    {
     "data": {
      "text/html": [
       "<div>\n",
       "<style scoped>\n",
       "    .dataframe tbody tr th:only-of-type {\n",
       "        vertical-align: middle;\n",
       "    }\n",
       "\n",
       "    .dataframe tbody tr th {\n",
       "        vertical-align: top;\n",
       "    }\n",
       "\n",
       "    .dataframe thead th {\n",
       "        text-align: right;\n",
       "    }\n",
       "</style>\n",
       "<table border=\"1\" class=\"dataframe\">\n",
       "  <thead>\n",
       "    <tr style=\"text-align: right;\">\n",
       "      <th></th>\n",
       "      <th>param_n_estimators</th>\n",
       "      <th>params</th>\n",
       "      <th>mean_test_score</th>\n",
       "    </tr>\n",
       "  </thead>\n",
       "  <tbody>\n",
       "    <tr>\n",
       "      <th>0</th>\n",
       "      <td>10</td>\n",
       "      <td>{'n_estimators': 10}</td>\n",
       "      <td>0.701858</td>\n",
       "    </tr>\n",
       "    <tr>\n",
       "      <th>1</th>\n",
       "      <td>50</td>\n",
       "      <td>{'n_estimators': 50}</td>\n",
       "      <td>0.722454</td>\n",
       "    </tr>\n",
       "    <tr>\n",
       "      <th>2</th>\n",
       "      <td>100</td>\n",
       "      <td>{'n_estimators': 100}</td>\n",
       "      <td>0.728106</td>\n",
       "    </tr>\n",
       "  </tbody>\n",
       "</table>\n",
       "</div>"
      ],
      "text/plain": [
       "  param_n_estimators                 params  mean_test_score\n",
       "0                 10   {'n_estimators': 10}         0.701858\n",
       "1                 50   {'n_estimators': 50}         0.722454\n",
       "2                100  {'n_estimators': 100}         0.728106"
      ]
     },
     "execution_count": 115,
     "metadata": {},
     "output_type": "execute_result"
    }
   ],
   "source": [
    "from sklearn.model_selection import RandomizedSearchCV\n",
    "from sklearn.tree import DecisionTreeClassifier\n",
    "result = RandomizedSearchCV(\n",
    "       bagging,\n",
    "        {\n",
    "            # 'estimator': [DecisionTreeClassifier()],\n",
    "            'n_estimators': [10, 50, 100],\n",
    "            # 'max_samples': [0.3, 0.5, 0.8, 0.9],\n",
    "            # 'oob_score': [True, False],\n",
    "            # 'random_state': [0]\n",
    "        },\n",
    "    cv=5,\n",
    "    return_train_score=False,\n",
    "    n_iter = 5, #number of random combinations of hyperparameters that will be tried\n",
    "    n_jobs=-1\n",
    ")\n",
    "result.fit(X_valid,Y_valid)\n",
    "pd.DataFrame(result.cv_results_)[['param_n_estimators','params','mean_test_score']]"
   ]
  },
  {
   "cell_type": "markdown",
   "metadata": {},
   "source": [
    "<h3>GRIDSERACH FOR RandomForestClassifier</h3>"
   ]
  },
  {
   "cell_type": "code",
   "execution_count": 126,
   "metadata": {},
   "outputs": [
    {
     "data": {
      "text/plain": [
       "{'mean_fit_time': array([16.31934986, 24.3899982 , 18.48067675, 26.99393673, 30.54035912,\n",
       "        43.60312257, 28.1030776 , 42.24715123, 31.09121585, 45.19080048,\n",
       "        31.45909052, 31.93797274]),\n",
       " 'std_fit_time': array([1.61643116, 1.65686885, 1.54928932, 2.5470845 , 2.05261747,\n",
       "        0.9432253 , 1.49101912, 1.55900026, 1.77678051, 1.56265048,\n",
       "        1.00128828, 5.84987833]),\n",
       " 'mean_score_time': array([0.46396136, 0.68384309, 0.60613632, 0.78572831, 0.61014404,\n",
       "        0.90030546, 0.60116649, 0.95241542, 0.68480439, 0.74778051,\n",
       "        0.58733287, 0.42783823]),\n",
       " 'std_score_time': array([0.01470498, 0.03151943, 0.12121895, 0.0894128 , 0.02008211,\n",
       "        0.04168045, 0.04637739, 0.04860308, 0.10250774, 0.13455315,\n",
       "        0.08341942, 0.079713  ]),\n",
       " 'param_max_depth': masked_array(data=[10, 10, 10, 10, 20, 20, 20, 20, 30, 30, 30, 30],\n",
       "              mask=[False, False, False, False, False, False, False, False,\n",
       "                    False, False, False, False],\n",
       "        fill_value='?',\n",
       "             dtype=object),\n",
       " 'param_max_features': masked_array(data=['log2', 'log2', 'sqrt', 'sqrt', 'log2', 'log2', 'sqrt',\n",
       "                    'sqrt', 'log2', 'log2', 'sqrt', 'sqrt'],\n",
       "              mask=[False, False, False, False, False, False, False, False,\n",
       "                    False, False, False, False],\n",
       "        fill_value='?',\n",
       "             dtype=object),\n",
       " 'param_n_estimators': masked_array(data=[200, 300, 200, 300, 200, 300, 200, 300, 200, 300, 200,\n",
       "                    300],\n",
       "              mask=[False, False, False, False, False, False, False, False,\n",
       "                    False, False, False, False],\n",
       "        fill_value='?',\n",
       "             dtype=object),\n",
       " 'params': [{'max_depth': 10, 'max_features': 'log2', 'n_estimators': 200},\n",
       "  {'max_depth': 10, 'max_features': 'log2', 'n_estimators': 300},\n",
       "  {'max_depth': 10, 'max_features': 'sqrt', 'n_estimators': 200},\n",
       "  {'max_depth': 10, 'max_features': 'sqrt', 'n_estimators': 300},\n",
       "  {'max_depth': 20, 'max_features': 'log2', 'n_estimators': 200},\n",
       "  {'max_depth': 20, 'max_features': 'log2', 'n_estimators': 300},\n",
       "  {'max_depth': 20, 'max_features': 'sqrt', 'n_estimators': 200},\n",
       "  {'max_depth': 20, 'max_features': 'sqrt', 'n_estimators': 300},\n",
       "  {'max_depth': 30, 'max_features': 'log2', 'n_estimators': 200},\n",
       "  {'max_depth': 30, 'max_features': 'log2', 'n_estimators': 300},\n",
       "  {'max_depth': 30, 'max_features': 'sqrt', 'n_estimators': 200},\n",
       "  {'max_depth': 30, 'max_features': 'sqrt', 'n_estimators': 300}],\n",
       " 'split0_test_score': array([0.7542905 , 0.75345333, 0.75512767, 0.75303474, 0.74654667,\n",
       "        0.74738384, 0.74382587, 0.75052323, 0.74550021, 0.74801172,\n",
       "        0.74529092, 0.74675596]),\n",
       " 'split1_test_score': array([0.74068648, 0.74026789, 0.74361658, 0.73901214, 0.74110506,\n",
       "        0.74152365, 0.74257011, 0.73922143, 0.73859355, 0.74110506,\n",
       "        0.73964002, 0.74173294]),\n",
       " 'split2_test_score': array([0.74068648, 0.7400586 , 0.74131436, 0.7373378 , 0.73880285,\n",
       "        0.74152365, 0.73817497, 0.73838426, 0.73566346, 0.73775638,\n",
       "        0.73670992, 0.74068648]),\n",
       " 'split3_test_score': array([0.7406322 , 0.74188821, 0.73937618, 0.74105087, 0.73791082,\n",
       "        0.74042286, 0.74105087, 0.73477078, 0.73477078, 0.73874817,\n",
       "        0.73623613, 0.73414277]),\n",
       " 'split4_test_score': array([0.73309609, 0.73288675, 0.73351476, 0.73267741, 0.73477078,\n",
       "        0.73414277, 0.72890936, 0.73393343, 0.72953737, 0.73246808,\n",
       "        0.72702533, 0.73079338]),\n",
       " 'mean_test_score': array([0.74187835, 0.74171096, 0.74258991, 0.74062259, 0.73982724,\n",
       "        0.74099935, 0.73890624, 0.73936663, 0.73681307, 0.73961788,\n",
       "        0.73698046, 0.73882231]),\n",
       " 'std_test_score': array([0.00686416, 0.0066422 , 0.00710722, 0.00679344, 0.00392616,\n",
       "        0.00421086, 0.00534226, 0.0059346 , 0.00523574, 0.00505983,\n",
       "        0.00593075, 0.00567894]),\n",
       " 'rank_test_score': array([ 2,  3,  1,  5,  6,  4,  9,  8, 12,  7, 11, 10])}"
      ]
     },
     "execution_count": 126,
     "metadata": {},
     "output_type": "execute_result"
    }
   ],
   "source": [
    "from sklearn.model_selection import GridSearchCV\n",
    "from sklearn.tree import DecisionTreeClassifier\n",
    "result = GridSearchCV(\n",
    "   RandomForestClassifier(base_learner=DecisionTreeClassifier,n_estimators=100), {\n",
    "        \n",
    "        'n_estimators': [200,300],\n",
    "        'max_depth':  [10,20,30],\n",
    "        'max_features':  ['log2','sqrt']\n",
    "       \n",
    "    },\n",
    "    cv = 5,return_train_score = False,\n",
    "    n_jobs=-1\n",
    ")\n",
    "\n",
    "result.fit(X_valid,Y_valid)\n",
    "result.cv_results_"
   ]
  },
  {
   "cell_type": "code",
   "execution_count": 128,
   "metadata": {},
   "outputs": [
    {
     "data": {
      "text/html": [
       "<div>\n",
       "<style scoped>\n",
       "    .dataframe tbody tr th:only-of-type {\n",
       "        vertical-align: middle;\n",
       "    }\n",
       "\n",
       "    .dataframe tbody tr th {\n",
       "        vertical-align: top;\n",
       "    }\n",
       "\n",
       "    .dataframe thead th {\n",
       "        text-align: right;\n",
       "    }\n",
       "</style>\n",
       "<table border=\"1\" class=\"dataframe\">\n",
       "  <thead>\n",
       "    <tr style=\"text-align: right;\">\n",
       "      <th></th>\n",
       "      <th>mean_fit_time</th>\n",
       "      <th>std_fit_time</th>\n",
       "      <th>mean_score_time</th>\n",
       "      <th>std_score_time</th>\n",
       "      <th>param_max_depth</th>\n",
       "      <th>param_max_features</th>\n",
       "      <th>param_n_estimators</th>\n",
       "      <th>params</th>\n",
       "      <th>split0_test_score</th>\n",
       "      <th>split1_test_score</th>\n",
       "      <th>split2_test_score</th>\n",
       "      <th>split3_test_score</th>\n",
       "      <th>split4_test_score</th>\n",
       "      <th>mean_test_score</th>\n",
       "      <th>std_test_score</th>\n",
       "      <th>rank_test_score</th>\n",
       "    </tr>\n",
       "  </thead>\n",
       "  <tbody>\n",
       "    <tr>\n",
       "      <th>0</th>\n",
       "      <td>16.319350</td>\n",
       "      <td>1.616431</td>\n",
       "      <td>0.463961</td>\n",
       "      <td>0.014705</td>\n",
       "      <td>10</td>\n",
       "      <td>log2</td>\n",
       "      <td>200</td>\n",
       "      <td>{'max_depth': 10, 'max_features': 'log2', 'n_e...</td>\n",
       "      <td>0.754290</td>\n",
       "      <td>0.740686</td>\n",
       "      <td>0.740686</td>\n",
       "      <td>0.740632</td>\n",
       "      <td>0.733096</td>\n",
       "      <td>0.741878</td>\n",
       "      <td>0.006864</td>\n",
       "      <td>2</td>\n",
       "    </tr>\n",
       "    <tr>\n",
       "      <th>1</th>\n",
       "      <td>24.389998</td>\n",
       "      <td>1.656869</td>\n",
       "      <td>0.683843</td>\n",
       "      <td>0.031519</td>\n",
       "      <td>10</td>\n",
       "      <td>log2</td>\n",
       "      <td>300</td>\n",
       "      <td>{'max_depth': 10, 'max_features': 'log2', 'n_e...</td>\n",
       "      <td>0.753453</td>\n",
       "      <td>0.740268</td>\n",
       "      <td>0.740059</td>\n",
       "      <td>0.741888</td>\n",
       "      <td>0.732887</td>\n",
       "      <td>0.741711</td>\n",
       "      <td>0.006642</td>\n",
       "      <td>3</td>\n",
       "    </tr>\n",
       "    <tr>\n",
       "      <th>2</th>\n",
       "      <td>18.480677</td>\n",
       "      <td>1.549289</td>\n",
       "      <td>0.606136</td>\n",
       "      <td>0.121219</td>\n",
       "      <td>10</td>\n",
       "      <td>sqrt</td>\n",
       "      <td>200</td>\n",
       "      <td>{'max_depth': 10, 'max_features': 'sqrt', 'n_e...</td>\n",
       "      <td>0.755128</td>\n",
       "      <td>0.743617</td>\n",
       "      <td>0.741314</td>\n",
       "      <td>0.739376</td>\n",
       "      <td>0.733515</td>\n",
       "      <td>0.742590</td>\n",
       "      <td>0.007107</td>\n",
       "      <td>1</td>\n",
       "    </tr>\n",
       "    <tr>\n",
       "      <th>3</th>\n",
       "      <td>26.993937</td>\n",
       "      <td>2.547085</td>\n",
       "      <td>0.785728</td>\n",
       "      <td>0.089413</td>\n",
       "      <td>10</td>\n",
       "      <td>sqrt</td>\n",
       "      <td>300</td>\n",
       "      <td>{'max_depth': 10, 'max_features': 'sqrt', 'n_e...</td>\n",
       "      <td>0.753035</td>\n",
       "      <td>0.739012</td>\n",
       "      <td>0.737338</td>\n",
       "      <td>0.741051</td>\n",
       "      <td>0.732677</td>\n",
       "      <td>0.740623</td>\n",
       "      <td>0.006793</td>\n",
       "      <td>5</td>\n",
       "    </tr>\n",
       "    <tr>\n",
       "      <th>4</th>\n",
       "      <td>30.540359</td>\n",
       "      <td>2.052617</td>\n",
       "      <td>0.610144</td>\n",
       "      <td>0.020082</td>\n",
       "      <td>20</td>\n",
       "      <td>log2</td>\n",
       "      <td>200</td>\n",
       "      <td>{'max_depth': 20, 'max_features': 'log2', 'n_e...</td>\n",
       "      <td>0.746547</td>\n",
       "      <td>0.741105</td>\n",
       "      <td>0.738803</td>\n",
       "      <td>0.737911</td>\n",
       "      <td>0.734771</td>\n",
       "      <td>0.739827</td>\n",
       "      <td>0.003926</td>\n",
       "      <td>6</td>\n",
       "    </tr>\n",
       "    <tr>\n",
       "      <th>5</th>\n",
       "      <td>43.603123</td>\n",
       "      <td>0.943225</td>\n",
       "      <td>0.900305</td>\n",
       "      <td>0.041680</td>\n",
       "      <td>20</td>\n",
       "      <td>log2</td>\n",
       "      <td>300</td>\n",
       "      <td>{'max_depth': 20, 'max_features': 'log2', 'n_e...</td>\n",
       "      <td>0.747384</td>\n",
       "      <td>0.741524</td>\n",
       "      <td>0.741524</td>\n",
       "      <td>0.740423</td>\n",
       "      <td>0.734143</td>\n",
       "      <td>0.740999</td>\n",
       "      <td>0.004211</td>\n",
       "      <td>4</td>\n",
       "    </tr>\n",
       "    <tr>\n",
       "      <th>6</th>\n",
       "      <td>28.103078</td>\n",
       "      <td>1.491019</td>\n",
       "      <td>0.601166</td>\n",
       "      <td>0.046377</td>\n",
       "      <td>20</td>\n",
       "      <td>sqrt</td>\n",
       "      <td>200</td>\n",
       "      <td>{'max_depth': 20, 'max_features': 'sqrt', 'n_e...</td>\n",
       "      <td>0.743826</td>\n",
       "      <td>0.742570</td>\n",
       "      <td>0.738175</td>\n",
       "      <td>0.741051</td>\n",
       "      <td>0.728909</td>\n",
       "      <td>0.738906</td>\n",
       "      <td>0.005342</td>\n",
       "      <td>9</td>\n",
       "    </tr>\n",
       "    <tr>\n",
       "      <th>7</th>\n",
       "      <td>42.247151</td>\n",
       "      <td>1.559000</td>\n",
       "      <td>0.952415</td>\n",
       "      <td>0.048603</td>\n",
       "      <td>20</td>\n",
       "      <td>sqrt</td>\n",
       "      <td>300</td>\n",
       "      <td>{'max_depth': 20, 'max_features': 'sqrt', 'n_e...</td>\n",
       "      <td>0.750523</td>\n",
       "      <td>0.739221</td>\n",
       "      <td>0.738384</td>\n",
       "      <td>0.734771</td>\n",
       "      <td>0.733933</td>\n",
       "      <td>0.739367</td>\n",
       "      <td>0.005935</td>\n",
       "      <td>8</td>\n",
       "    </tr>\n",
       "    <tr>\n",
       "      <th>8</th>\n",
       "      <td>31.091216</td>\n",
       "      <td>1.776781</td>\n",
       "      <td>0.684804</td>\n",
       "      <td>0.102508</td>\n",
       "      <td>30</td>\n",
       "      <td>log2</td>\n",
       "      <td>200</td>\n",
       "      <td>{'max_depth': 30, 'max_features': 'log2', 'n_e...</td>\n",
       "      <td>0.745500</td>\n",
       "      <td>0.738594</td>\n",
       "      <td>0.735663</td>\n",
       "      <td>0.734771</td>\n",
       "      <td>0.729537</td>\n",
       "      <td>0.736813</td>\n",
       "      <td>0.005236</td>\n",
       "      <td>12</td>\n",
       "    </tr>\n",
       "    <tr>\n",
       "      <th>9</th>\n",
       "      <td>45.190800</td>\n",
       "      <td>1.562650</td>\n",
       "      <td>0.747781</td>\n",
       "      <td>0.134553</td>\n",
       "      <td>30</td>\n",
       "      <td>log2</td>\n",
       "      <td>300</td>\n",
       "      <td>{'max_depth': 30, 'max_features': 'log2', 'n_e...</td>\n",
       "      <td>0.748012</td>\n",
       "      <td>0.741105</td>\n",
       "      <td>0.737756</td>\n",
       "      <td>0.738748</td>\n",
       "      <td>0.732468</td>\n",
       "      <td>0.739618</td>\n",
       "      <td>0.005060</td>\n",
       "      <td>7</td>\n",
       "    </tr>\n",
       "    <tr>\n",
       "      <th>10</th>\n",
       "      <td>31.459091</td>\n",
       "      <td>1.001288</td>\n",
       "      <td>0.587333</td>\n",
       "      <td>0.083419</td>\n",
       "      <td>30</td>\n",
       "      <td>sqrt</td>\n",
       "      <td>200</td>\n",
       "      <td>{'max_depth': 30, 'max_features': 'sqrt', 'n_e...</td>\n",
       "      <td>0.745291</td>\n",
       "      <td>0.739640</td>\n",
       "      <td>0.736710</td>\n",
       "      <td>0.736236</td>\n",
       "      <td>0.727025</td>\n",
       "      <td>0.736980</td>\n",
       "      <td>0.005931</td>\n",
       "      <td>11</td>\n",
       "    </tr>\n",
       "    <tr>\n",
       "      <th>11</th>\n",
       "      <td>31.937973</td>\n",
       "      <td>5.849878</td>\n",
       "      <td>0.427838</td>\n",
       "      <td>0.079713</td>\n",
       "      <td>30</td>\n",
       "      <td>sqrt</td>\n",
       "      <td>300</td>\n",
       "      <td>{'max_depth': 30, 'max_features': 'sqrt', 'n_e...</td>\n",
       "      <td>0.746756</td>\n",
       "      <td>0.741733</td>\n",
       "      <td>0.740686</td>\n",
       "      <td>0.734143</td>\n",
       "      <td>0.730793</td>\n",
       "      <td>0.738822</td>\n",
       "      <td>0.005679</td>\n",
       "      <td>10</td>\n",
       "    </tr>\n",
       "  </tbody>\n",
       "</table>\n",
       "</div>"
      ],
      "text/plain": [
       "    mean_fit_time  std_fit_time  mean_score_time  std_score_time  \\\n",
       "0       16.319350      1.616431         0.463961        0.014705   \n",
       "1       24.389998      1.656869         0.683843        0.031519   \n",
       "2       18.480677      1.549289         0.606136        0.121219   \n",
       "3       26.993937      2.547085         0.785728        0.089413   \n",
       "4       30.540359      2.052617         0.610144        0.020082   \n",
       "5       43.603123      0.943225         0.900305        0.041680   \n",
       "6       28.103078      1.491019         0.601166        0.046377   \n",
       "7       42.247151      1.559000         0.952415        0.048603   \n",
       "8       31.091216      1.776781         0.684804        0.102508   \n",
       "9       45.190800      1.562650         0.747781        0.134553   \n",
       "10      31.459091      1.001288         0.587333        0.083419   \n",
       "11      31.937973      5.849878         0.427838        0.079713   \n",
       "\n",
       "   param_max_depth param_max_features param_n_estimators  \\\n",
       "0               10               log2                200   \n",
       "1               10               log2                300   \n",
       "2               10               sqrt                200   \n",
       "3               10               sqrt                300   \n",
       "4               20               log2                200   \n",
       "5               20               log2                300   \n",
       "6               20               sqrt                200   \n",
       "7               20               sqrt                300   \n",
       "8               30               log2                200   \n",
       "9               30               log2                300   \n",
       "10              30               sqrt                200   \n",
       "11              30               sqrt                300   \n",
       "\n",
       "                                               params  split0_test_score  \\\n",
       "0   {'max_depth': 10, 'max_features': 'log2', 'n_e...           0.754290   \n",
       "1   {'max_depth': 10, 'max_features': 'log2', 'n_e...           0.753453   \n",
       "2   {'max_depth': 10, 'max_features': 'sqrt', 'n_e...           0.755128   \n",
       "3   {'max_depth': 10, 'max_features': 'sqrt', 'n_e...           0.753035   \n",
       "4   {'max_depth': 20, 'max_features': 'log2', 'n_e...           0.746547   \n",
       "5   {'max_depth': 20, 'max_features': 'log2', 'n_e...           0.747384   \n",
       "6   {'max_depth': 20, 'max_features': 'sqrt', 'n_e...           0.743826   \n",
       "7   {'max_depth': 20, 'max_features': 'sqrt', 'n_e...           0.750523   \n",
       "8   {'max_depth': 30, 'max_features': 'log2', 'n_e...           0.745500   \n",
       "9   {'max_depth': 30, 'max_features': 'log2', 'n_e...           0.748012   \n",
       "10  {'max_depth': 30, 'max_features': 'sqrt', 'n_e...           0.745291   \n",
       "11  {'max_depth': 30, 'max_features': 'sqrt', 'n_e...           0.746756   \n",
       "\n",
       "    split1_test_score  split2_test_score  split3_test_score  \\\n",
       "0            0.740686           0.740686           0.740632   \n",
       "1            0.740268           0.740059           0.741888   \n",
       "2            0.743617           0.741314           0.739376   \n",
       "3            0.739012           0.737338           0.741051   \n",
       "4            0.741105           0.738803           0.737911   \n",
       "5            0.741524           0.741524           0.740423   \n",
       "6            0.742570           0.738175           0.741051   \n",
       "7            0.739221           0.738384           0.734771   \n",
       "8            0.738594           0.735663           0.734771   \n",
       "9            0.741105           0.737756           0.738748   \n",
       "10           0.739640           0.736710           0.736236   \n",
       "11           0.741733           0.740686           0.734143   \n",
       "\n",
       "    split4_test_score  mean_test_score  std_test_score  rank_test_score  \n",
       "0            0.733096         0.741878        0.006864                2  \n",
       "1            0.732887         0.741711        0.006642                3  \n",
       "2            0.733515         0.742590        0.007107                1  \n",
       "3            0.732677         0.740623        0.006793                5  \n",
       "4            0.734771         0.739827        0.003926                6  \n",
       "5            0.734143         0.740999        0.004211                4  \n",
       "6            0.728909         0.738906        0.005342                9  \n",
       "7            0.733933         0.739367        0.005935                8  \n",
       "8            0.729537         0.736813        0.005236               12  \n",
       "9            0.732468         0.739618        0.005060                7  \n",
       "10           0.727025         0.736980        0.005931               11  \n",
       "11           0.730793         0.738822        0.005679               10  "
      ]
     },
     "execution_count": 128,
     "metadata": {},
     "output_type": "execute_result"
    }
   ],
   "source": [
    "df = pd.DataFrame(result.cv_results_)\n",
    "df"
   ]
  },
  {
   "cell_type": "markdown",
   "metadata": {},
   "source": [
    "<h3>picking columns from tables to see score</h3>"
   ]
  },
  {
   "cell_type": "code",
   "execution_count": 129,
   "metadata": {},
   "outputs": [
    {
     "data": {
      "text/html": [
       "<div>\n",
       "<style scoped>\n",
       "    .dataframe tbody tr th:only-of-type {\n",
       "        vertical-align: middle;\n",
       "    }\n",
       "\n",
       "    .dataframe tbody tr th {\n",
       "        vertical-align: top;\n",
       "    }\n",
       "\n",
       "    .dataframe thead th {\n",
       "        text-align: right;\n",
       "    }\n",
       "</style>\n",
       "<table border=\"1\" class=\"dataframe\">\n",
       "  <thead>\n",
       "    <tr style=\"text-align: right;\">\n",
       "      <th></th>\n",
       "      <th>param_n_estimators</th>\n",
       "      <th>params</th>\n",
       "      <th>mean_test_score</th>\n",
       "    </tr>\n",
       "  </thead>\n",
       "  <tbody>\n",
       "    <tr>\n",
       "      <th>0</th>\n",
       "      <td>200</td>\n",
       "      <td>{'max_depth': 10, 'max_features': 'log2', 'n_e...</td>\n",
       "      <td>0.741878</td>\n",
       "    </tr>\n",
       "    <tr>\n",
       "      <th>1</th>\n",
       "      <td>300</td>\n",
       "      <td>{'max_depth': 10, 'max_features': 'log2', 'n_e...</td>\n",
       "      <td>0.741711</td>\n",
       "    </tr>\n",
       "    <tr>\n",
       "      <th>2</th>\n",
       "      <td>200</td>\n",
       "      <td>{'max_depth': 10, 'max_features': 'sqrt', 'n_e...</td>\n",
       "      <td>0.742590</td>\n",
       "    </tr>\n",
       "    <tr>\n",
       "      <th>3</th>\n",
       "      <td>300</td>\n",
       "      <td>{'max_depth': 10, 'max_features': 'sqrt', 'n_e...</td>\n",
       "      <td>0.740623</td>\n",
       "    </tr>\n",
       "    <tr>\n",
       "      <th>4</th>\n",
       "      <td>200</td>\n",
       "      <td>{'max_depth': 20, 'max_features': 'log2', 'n_e...</td>\n",
       "      <td>0.739827</td>\n",
       "    </tr>\n",
       "    <tr>\n",
       "      <th>5</th>\n",
       "      <td>300</td>\n",
       "      <td>{'max_depth': 20, 'max_features': 'log2', 'n_e...</td>\n",
       "      <td>0.740999</td>\n",
       "    </tr>\n",
       "    <tr>\n",
       "      <th>6</th>\n",
       "      <td>200</td>\n",
       "      <td>{'max_depth': 20, 'max_features': 'sqrt', 'n_e...</td>\n",
       "      <td>0.738906</td>\n",
       "    </tr>\n",
       "    <tr>\n",
       "      <th>7</th>\n",
       "      <td>300</td>\n",
       "      <td>{'max_depth': 20, 'max_features': 'sqrt', 'n_e...</td>\n",
       "      <td>0.739367</td>\n",
       "    </tr>\n",
       "    <tr>\n",
       "      <th>8</th>\n",
       "      <td>200</td>\n",
       "      <td>{'max_depth': 30, 'max_features': 'log2', 'n_e...</td>\n",
       "      <td>0.736813</td>\n",
       "    </tr>\n",
       "    <tr>\n",
       "      <th>9</th>\n",
       "      <td>300</td>\n",
       "      <td>{'max_depth': 30, 'max_features': 'log2', 'n_e...</td>\n",
       "      <td>0.739618</td>\n",
       "    </tr>\n",
       "    <tr>\n",
       "      <th>10</th>\n",
       "      <td>200</td>\n",
       "      <td>{'max_depth': 30, 'max_features': 'sqrt', 'n_e...</td>\n",
       "      <td>0.736980</td>\n",
       "    </tr>\n",
       "    <tr>\n",
       "      <th>11</th>\n",
       "      <td>300</td>\n",
       "      <td>{'max_depth': 30, 'max_features': 'sqrt', 'n_e...</td>\n",
       "      <td>0.738822</td>\n",
       "    </tr>\n",
       "  </tbody>\n",
       "</table>\n",
       "</div>"
      ],
      "text/plain": [
       "   param_n_estimators                                             params  \\\n",
       "0                 200  {'max_depth': 10, 'max_features': 'log2', 'n_e...   \n",
       "1                 300  {'max_depth': 10, 'max_features': 'log2', 'n_e...   \n",
       "2                 200  {'max_depth': 10, 'max_features': 'sqrt', 'n_e...   \n",
       "3                 300  {'max_depth': 10, 'max_features': 'sqrt', 'n_e...   \n",
       "4                 200  {'max_depth': 20, 'max_features': 'log2', 'n_e...   \n",
       "5                 300  {'max_depth': 20, 'max_features': 'log2', 'n_e...   \n",
       "6                 200  {'max_depth': 20, 'max_features': 'sqrt', 'n_e...   \n",
       "7                 300  {'max_depth': 20, 'max_features': 'sqrt', 'n_e...   \n",
       "8                 200  {'max_depth': 30, 'max_features': 'log2', 'n_e...   \n",
       "9                 300  {'max_depth': 30, 'max_features': 'log2', 'n_e...   \n",
       "10                200  {'max_depth': 30, 'max_features': 'sqrt', 'n_e...   \n",
       "11                300  {'max_depth': 30, 'max_features': 'sqrt', 'n_e...   \n",
       "\n",
       "    mean_test_score  \n",
       "0          0.741878  \n",
       "1          0.741711  \n",
       "2          0.742590  \n",
       "3          0.740623  \n",
       "4          0.739827  \n",
       "5          0.740999  \n",
       "6          0.738906  \n",
       "7          0.739367  \n",
       "8          0.736813  \n",
       "9          0.739618  \n",
       "10         0.736980  \n",
       "11         0.738822  "
      ]
     },
     "execution_count": 129,
     "metadata": {},
     "output_type": "execute_result"
    }
   ],
   "source": [
    "df [['param_n_estimators','params','mean_test_score']]"
   ]
  },
  {
   "cell_type": "markdown",
   "metadata": {},
   "source": [
    "<h2>getting best score</h2>"
   ]
  },
  {
   "cell_type": "code",
   "execution_count": 130,
   "metadata": {},
   "outputs": [
    {
     "data": {
      "text/plain": [
       "0.7425899075318432"
      ]
     },
     "execution_count": 130,
     "metadata": {},
     "output_type": "execute_result"
    }
   ],
   "source": [
    "result.best_score_"
   ]
  },
  {
   "cell_type": "markdown",
   "metadata": {},
   "source": [
    "<h3>getting best parameters</h3>"
   ]
  },
  {
   "cell_type": "code",
   "execution_count": 131,
   "metadata": {},
   "outputs": [
    {
     "data": {
      "text/plain": [
       "{'max_depth': 10, 'max_features': 'sqrt', 'n_estimators': 200}"
      ]
     },
     "execution_count": 131,
     "metadata": {},
     "output_type": "execute_result"
    }
   ],
   "source": [
    "result.best_params_"
   ]
  },
  {
   "cell_type": "markdown",
   "metadata": {},
   "source": [
    "<h2>RANDOMIZED GridSearch</h2>"
   ]
  },
  {
   "cell_type": "code",
   "execution_count": null,
   "metadata": {},
   "outputs": [],
   "source": [
    "from sklearn.model_selection import RandomizedSearchCV\n",
    "from sklearn.tree import DecisionTreeClassifier\n",
    "result = RandomizedSearchCV(\n",
    "   RandomForestClassifier(base_learner=DecisionTreeClassifier,n_estimators=100), {\n",
    "        \n",
    "        'n_estimators': [200,300],\n",
    "        'max_depth':  [10,20,30],\n",
    "        'max_features':  ['log2','sqrt']\n",
    "       \n",
    "    },\n",
    "    cv = 5,return_train_score = False,\n",
    "    n_iter = 5, #number of random combinations of hyperparameters that will be tried\n",
    "    n_jobs=-1\n",
    ")\n",
    "\n",
    "result.fit(X_valid,Y_valid)\n",
    "result.cv_results_"
   ]
  },
  {
   "cell_type": "markdown",
   "metadata": {},
   "source": [
    "<h4>getting best parameters and score(accuracy)</h4>"
   ]
  },
  {
   "cell_type": "code",
   "execution_count": 132,
   "metadata": {},
   "outputs": [
    {
     "data": {
      "text/html": [
       "<div>\n",
       "<style scoped>\n",
       "    .dataframe tbody tr th:only-of-type {\n",
       "        vertical-align: middle;\n",
       "    }\n",
       "\n",
       "    .dataframe tbody tr th {\n",
       "        vertical-align: top;\n",
       "    }\n",
       "\n",
       "    .dataframe thead th {\n",
       "        text-align: right;\n",
       "    }\n",
       "</style>\n",
       "<table border=\"1\" class=\"dataframe\">\n",
       "  <thead>\n",
       "    <tr style=\"text-align: right;\">\n",
       "      <th></th>\n",
       "      <th>param_n_estimators</th>\n",
       "      <th>params</th>\n",
       "      <th>mean_test_score</th>\n",
       "    </tr>\n",
       "  </thead>\n",
       "  <tbody>\n",
       "    <tr>\n",
       "      <th>0</th>\n",
       "      <td>200</td>\n",
       "      <td>{'max_depth': 10, 'max_features': 'log2', 'n_e...</td>\n",
       "      <td>0.741878</td>\n",
       "    </tr>\n",
       "    <tr>\n",
       "      <th>1</th>\n",
       "      <td>300</td>\n",
       "      <td>{'max_depth': 10, 'max_features': 'log2', 'n_e...</td>\n",
       "      <td>0.741711</td>\n",
       "    </tr>\n",
       "    <tr>\n",
       "      <th>2</th>\n",
       "      <td>200</td>\n",
       "      <td>{'max_depth': 10, 'max_features': 'sqrt', 'n_e...</td>\n",
       "      <td>0.742590</td>\n",
       "    </tr>\n",
       "    <tr>\n",
       "      <th>3</th>\n",
       "      <td>300</td>\n",
       "      <td>{'max_depth': 10, 'max_features': 'sqrt', 'n_e...</td>\n",
       "      <td>0.740623</td>\n",
       "    </tr>\n",
       "    <tr>\n",
       "      <th>4</th>\n",
       "      <td>200</td>\n",
       "      <td>{'max_depth': 20, 'max_features': 'log2', 'n_e...</td>\n",
       "      <td>0.739827</td>\n",
       "    </tr>\n",
       "    <tr>\n",
       "      <th>5</th>\n",
       "      <td>300</td>\n",
       "      <td>{'max_depth': 20, 'max_features': 'log2', 'n_e...</td>\n",
       "      <td>0.740999</td>\n",
       "    </tr>\n",
       "    <tr>\n",
       "      <th>6</th>\n",
       "      <td>200</td>\n",
       "      <td>{'max_depth': 20, 'max_features': 'sqrt', 'n_e...</td>\n",
       "      <td>0.738906</td>\n",
       "    </tr>\n",
       "    <tr>\n",
       "      <th>7</th>\n",
       "      <td>300</td>\n",
       "      <td>{'max_depth': 20, 'max_features': 'sqrt', 'n_e...</td>\n",
       "      <td>0.739367</td>\n",
       "    </tr>\n",
       "    <tr>\n",
       "      <th>8</th>\n",
       "      <td>200</td>\n",
       "      <td>{'max_depth': 30, 'max_features': 'log2', 'n_e...</td>\n",
       "      <td>0.736813</td>\n",
       "    </tr>\n",
       "    <tr>\n",
       "      <th>9</th>\n",
       "      <td>300</td>\n",
       "      <td>{'max_depth': 30, 'max_features': 'log2', 'n_e...</td>\n",
       "      <td>0.739618</td>\n",
       "    </tr>\n",
       "    <tr>\n",
       "      <th>10</th>\n",
       "      <td>200</td>\n",
       "      <td>{'max_depth': 30, 'max_features': 'sqrt', 'n_e...</td>\n",
       "      <td>0.736980</td>\n",
       "    </tr>\n",
       "    <tr>\n",
       "      <th>11</th>\n",
       "      <td>300</td>\n",
       "      <td>{'max_depth': 30, 'max_features': 'sqrt', 'n_e...</td>\n",
       "      <td>0.738822</td>\n",
       "    </tr>\n",
       "  </tbody>\n",
       "</table>\n",
       "</div>"
      ],
      "text/plain": [
       "   param_n_estimators                                             params  \\\n",
       "0                 200  {'max_depth': 10, 'max_features': 'log2', 'n_e...   \n",
       "1                 300  {'max_depth': 10, 'max_features': 'log2', 'n_e...   \n",
       "2                 200  {'max_depth': 10, 'max_features': 'sqrt', 'n_e...   \n",
       "3                 300  {'max_depth': 10, 'max_features': 'sqrt', 'n_e...   \n",
       "4                 200  {'max_depth': 20, 'max_features': 'log2', 'n_e...   \n",
       "5                 300  {'max_depth': 20, 'max_features': 'log2', 'n_e...   \n",
       "6                 200  {'max_depth': 20, 'max_features': 'sqrt', 'n_e...   \n",
       "7                 300  {'max_depth': 20, 'max_features': 'sqrt', 'n_e...   \n",
       "8                 200  {'max_depth': 30, 'max_features': 'log2', 'n_e...   \n",
       "9                 300  {'max_depth': 30, 'max_features': 'log2', 'n_e...   \n",
       "10                200  {'max_depth': 30, 'max_features': 'sqrt', 'n_e...   \n",
       "11                300  {'max_depth': 30, 'max_features': 'sqrt', 'n_e...   \n",
       "\n",
       "    mean_test_score  \n",
       "0          0.741878  \n",
       "1          0.741711  \n",
       "2          0.742590  \n",
       "3          0.740623  \n",
       "4          0.739827  \n",
       "5          0.740999  \n",
       "6          0.738906  \n",
       "7          0.739367  \n",
       "8          0.736813  \n",
       "9          0.739618  \n",
       "10         0.736980  \n",
       "11         0.738822  "
      ]
     },
     "execution_count": 132,
     "metadata": {},
     "output_type": "execute_result"
    }
   ],
   "source": [
    "pd.DataFrame(result.cv_results_)[['param_n_estimators','params','mean_test_score']]"
   ]
  },
  {
   "cell_type": "markdown",
   "metadata": {},
   "source": []
  },
  {
   "cell_type": "code",
   "execution_count": 133,
   "metadata": {},
   "outputs": [
    {
     "data": {
      "text/plain": [
       "0.7425899075318432"
      ]
     },
     "execution_count": 133,
     "metadata": {},
     "output_type": "execute_result"
    }
   ],
   "source": [
    "result.best_score_"
   ]
  },
  {
   "cell_type": "code",
   "execution_count": 134,
   "metadata": {},
   "outputs": [
    {
     "data": {
      "text/plain": [
       "{'max_depth': 10, 'max_features': 'sqrt', 'n_estimators': 200}"
      ]
     },
     "execution_count": 134,
     "metadata": {},
     "output_type": "execute_result"
    }
   ],
   "source": [
    "result.best_params_"
   ]
  },
  {
   "cell_type": "markdown",
   "metadata": {},
   "source": [
    "<p>adaboost</p>"
   ]
  },
  {
   "cell_type": "code",
   "execution_count": 141,
   "metadata": {},
   "outputs": [
    {
     "data": {
      "text/plain": [
       "{'mean_fit_time': array([10.49531388, 22.82439356, 22.93432341]),\n",
       " 'std_fit_time': array([0.30939456, 1.44240033, 3.05870958]),\n",
       " 'mean_score_time': array([0.05471992, 0.10583267, 0.09157314]),\n",
       " 'std_score_time': array([0.01019606, 0.01200005, 0.01169494]),\n",
       " 'param_n_estimators': masked_array(data=[10, 50, 100],\n",
       "              mask=[False, False, False],\n",
       "        fill_value='?',\n",
       "             dtype=object),\n",
       " 'params': [{'n_estimators': 10}, {'n_estimators': 50}, {'n_estimators': 100}],\n",
       " 'split0_test_score': array([0.68020092, 0.58915864, 0.604437  ]),\n",
       " 'split1_test_score': array([0.65948095, 0.60820427, 0.60318125]),\n",
       " 'split2_test_score': array([0.66764337, 0.60987861, 0.55692758]),\n",
       " 'split3_test_score': array([0.66275905, 0.64077873, 0.58383923]),\n",
       " 'split4_test_score': array([0.67155118, 0.61523969, 0.58509525]),\n",
       " 'mean_test_score': array([0.6683271 , 0.61265199, 0.58669606]),\n",
       " 'std_test_score': array([0.00722644, 0.01659651, 0.01722434]),\n",
       " 'rank_test_score': array([1, 2, 3])}"
      ]
     },
     "execution_count": 141,
     "metadata": {},
     "output_type": "execute_result"
    }
   ],
   "source": [
    "from sklearn.model_selection import GridSearchCV\n",
    "# from sklearn.tree import DecisionTreeClassifier\n",
    "result = GridSearchCV(\n",
    "        AdaBoostClassifier(base_learner=DecisionTreeClassifier,n_estimators=100),\n",
    "        {\n",
    "            # 'estimator': [DecisionTreeClassifier()],\n",
    "            'n_estimators': [10, 50, 100],\n",
    "            # 'learning_rate': [1,0.3]\n",
    "        },\n",
    "    cv=5,\n",
    "\n",
    "    return_train_score=False,\n",
    "    n_jobs=-1\n",
    ")\n",
    "\n",
    "result.fit(X_valid,Y_valid)\n",
    "result.cv_results_"
   ]
  },
  {
   "cell_type": "markdown",
   "metadata": {},
   "source": [
    "<h4>getting best parameters and score(accuracy)</h4>"
   ]
  },
  {
   "cell_type": "code",
   "execution_count": null,
   "metadata": {},
   "outputs": [],
   "source": [
    "pd.DataFrame(result.cv_results_)[['param_n_estimators','params','mean_test_score']]"
   ]
  },
  {
   "cell_type": "code",
   "execution_count": null,
   "metadata": {},
   "outputs": [],
   "source": [
    "result.best_score_"
   ]
  },
  {
   "cell_type": "code",
   "execution_count": null,
   "metadata": {},
   "outputs": [],
   "source": [
    "result.best_params_"
   ]
  },
  {
   "cell_type": "markdown",
   "metadata": {},
   "source": [
    "rand"
   ]
  },
  {
   "cell_type": "code",
   "execution_count": 142,
   "metadata": {},
   "outputs": [
    {
     "name": "stderr",
     "output_type": "stream",
     "text": [
      "d:\\anaconda\\Lib\\site-packages\\sklearn\\model_selection\\_search.py:307: UserWarning: The total space of parameters 3 is smaller than n_iter=5. Running 3 iterations. For exhaustive searches, use GridSearchCV.\n",
      "  warnings.warn(\n"
     ]
    },
    {
     "data": {
      "text/plain": [
       "{'mean_fit_time': array([ 7.43082051, 16.08792405, 18.0917027 ]),\n",
       " 'std_fit_time': array([0.45459782, 1.15392671, 1.71576668]),\n",
       " 'mean_score_time': array([0.03490548, 0.09011273, 0.07804146]),\n",
       " 'std_score_time': array([0.00179124, 0.01064668, 0.01070713]),\n",
       " 'param_n_estimators': masked_array(data=[10, 50, 100],\n",
       "              mask=[False, False, False],\n",
       "        fill_value='?',\n",
       "             dtype=object),\n",
       " 'params': [{'n_estimators': 10}, {'n_estimators': 50}, {'n_estimators': 100}],\n",
       " 'split0_test_score': array([0.67915446, 0.63917957, 0.60652993]),\n",
       " 'split1_test_score': array([0.65571369, 0.61092507, 0.5818334 ]),\n",
       " 'split2_test_score': array([0.66638761, 0.5931352 , 0.56048556]),\n",
       " 'split3_test_score': array([0.66380574, 0.62779987, 0.57944317]),\n",
       " 'split4_test_score': array([0.67008583, 0.5974461 , 0.58383923]),\n",
       " 'mean_test_score': array([0.66702946, 0.61369716, 0.58242626]),\n",
       " 'std_test_score': array([0.00768385, 0.01756596, 0.01465352]),\n",
       " 'rank_test_score': array([1, 2, 3])}"
      ]
     },
     "execution_count": 142,
     "metadata": {},
     "output_type": "execute_result"
    }
   ],
   "source": [
    "from sklearn.model_selection import RandomizedSearchCV\n",
    "# from sklearn.tree import DecisionTreeClassifier\n",
    "result = RandomizedSearchCV(\n",
    "        AdaBoostClassifier(base_learner=DecisionTreeClassifier,n_estimators=100),\n",
    "        {\n",
    "            # 'estimator': [DecisionTreeClassifier()],\n",
    "            'n_estimators': [10, 50, 100],\n",
    "            # 'learning_rate': [1,0.3]\n",
    "        },\n",
    "    cv=5,\n",
    "\n",
    "    return_train_score=False,\n",
    "    n_jobs=-1,  n_iter = 5,\n",
    ")\n",
    "\n",
    "result.fit(X_valid,Y_valid)\n",
    "result.cv_results_"
   ]
  },
  {
   "cell_type": "code",
   "execution_count": 143,
   "metadata": {},
   "outputs": [
    {
     "data": {
      "text/html": [
       "<div>\n",
       "<style scoped>\n",
       "    .dataframe tbody tr th:only-of-type {\n",
       "        vertical-align: middle;\n",
       "    }\n",
       "\n",
       "    .dataframe tbody tr th {\n",
       "        vertical-align: top;\n",
       "    }\n",
       "\n",
       "    .dataframe thead th {\n",
       "        text-align: right;\n",
       "    }\n",
       "</style>\n",
       "<table border=\"1\" class=\"dataframe\">\n",
       "  <thead>\n",
       "    <tr style=\"text-align: right;\">\n",
       "      <th></th>\n",
       "      <th>param_n_estimators</th>\n",
       "      <th>params</th>\n",
       "      <th>mean_test_score</th>\n",
       "    </tr>\n",
       "  </thead>\n",
       "  <tbody>\n",
       "    <tr>\n",
       "      <th>0</th>\n",
       "      <td>10</td>\n",
       "      <td>{'n_estimators': 10}</td>\n",
       "      <td>0.667029</td>\n",
       "    </tr>\n",
       "    <tr>\n",
       "      <th>1</th>\n",
       "      <td>50</td>\n",
       "      <td>{'n_estimators': 50}</td>\n",
       "      <td>0.613697</td>\n",
       "    </tr>\n",
       "    <tr>\n",
       "      <th>2</th>\n",
       "      <td>100</td>\n",
       "      <td>{'n_estimators': 100}</td>\n",
       "      <td>0.582426</td>\n",
       "    </tr>\n",
       "  </tbody>\n",
       "</table>\n",
       "</div>"
      ],
      "text/plain": [
       "  param_n_estimators                 params  mean_test_score\n",
       "0                 10   {'n_estimators': 10}         0.667029\n",
       "1                 50   {'n_estimators': 50}         0.613697\n",
       "2                100  {'n_estimators': 100}         0.582426"
      ]
     },
     "execution_count": 143,
     "metadata": {},
     "output_type": "execute_result"
    }
   ],
   "source": [
    "pd.DataFrame(result.cv_results_)[['param_n_estimators','params','mean_test_score']]"
   ]
  },
  {
   "cell_type": "code",
   "execution_count": 144,
   "metadata": {},
   "outputs": [
    {
     "data": {
      "text/plain": [
       "0.6670294638578376"
      ]
     },
     "execution_count": 144,
     "metadata": {},
     "output_type": "execute_result"
    }
   ],
   "source": [
    "result.best_score_"
   ]
  },
  {
   "cell_type": "code",
   "execution_count": 145,
   "metadata": {},
   "outputs": [
    {
     "data": {
      "text/plain": [
       "{'n_estimators': 10}"
      ]
     },
     "execution_count": 145,
     "metadata": {},
     "output_type": "execute_result"
    }
   ],
   "source": [
    "result.best_params_"
   ]
  },
  {
   "cell_type": "code",
   "execution_count": null,
   "metadata": {},
   "outputs": [],
   "source": []
  }
 ],
 "metadata": {
  "kernelspec": {
   "display_name": "Python 3",
   "language": "python",
   "name": "python3"
  },
  "language_info": {
   "codemirror_mode": {
    "name": "ipython",
    "version": 3
   },
   "file_extension": ".py",
   "mimetype": "text/x-python",
   "name": "python",
   "nbconvert_exporter": "python",
   "pygments_lexer": "ipython3",
   "version": "3.11.5"
  }
 },
 "nbformat": 4,
 "nbformat_minor": 2
}
