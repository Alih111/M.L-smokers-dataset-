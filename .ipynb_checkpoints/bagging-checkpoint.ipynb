{
 "cells": [
  {
   "cell_type": "markdown",
   "metadata": {},
   "source": [
    "# import the dataset"
   ]
  },
  {
   "cell_type": "code",
   "execution_count": 131,
   "metadata": {},
   "outputs": [
    {
     "data": {
      "text/html": [
       "<div>\n",
       "<style scoped>\n",
       "    .dataframe tbody tr th:only-of-type {\n",
       "        vertical-align: middle;\n",
       "    }\n",
       "\n",
       "    .dataframe tbody tr th {\n",
       "        vertical-align: top;\n",
       "    }\n",
       "\n",
       "    .dataframe thead th {\n",
       "        text-align: right;\n",
       "    }\n",
       "</style>\n",
       "<table border=\"1\" class=\"dataframe\">\n",
       "  <thead>\n",
       "    <tr style=\"text-align: right;\">\n",
       "      <th></th>\n",
       "      <th>Unnamed: 0</th>\n",
       "      <th>eyesight(left)</th>\n",
       "      <th>systolic</th>\n",
       "      <th>serum creatinine</th>\n",
       "      <th>triglyceride</th>\n",
       "      <th>Cholesterol</th>\n",
       "      <th>AST</th>\n",
       "      <th>height(cm)</th>\n",
       "      <th>waist(cm)</th>\n",
       "      <th>age</th>\n",
       "      <th>LDL</th>\n",
       "      <th>smoking</th>\n",
       "    </tr>\n",
       "  </thead>\n",
       "  <tbody>\n",
       "    <tr>\n",
       "      <th>0</th>\n",
       "      <td>0</td>\n",
       "      <td>0.5</td>\n",
       "      <td>135</td>\n",
       "      <td>1.0</td>\n",
       "      <td>300</td>\n",
       "      <td>172</td>\n",
       "      <td>22</td>\n",
       "      <td>165</td>\n",
       "      <td>81.0</td>\n",
       "      <td>55</td>\n",
       "      <td>75</td>\n",
       "      <td>1</td>\n",
       "    </tr>\n",
       "    <tr>\n",
       "      <th>1</th>\n",
       "      <td>1</td>\n",
       "      <td>0.6</td>\n",
       "      <td>146</td>\n",
       "      <td>1.1</td>\n",
       "      <td>55</td>\n",
       "      <td>194</td>\n",
       "      <td>27</td>\n",
       "      <td>165</td>\n",
       "      <td>89.0</td>\n",
       "      <td>70</td>\n",
       "      <td>126</td>\n",
       "      <td>0</td>\n",
       "    </tr>\n",
       "    <tr>\n",
       "      <th>2</th>\n",
       "      <td>2</td>\n",
       "      <td>0.4</td>\n",
       "      <td>118</td>\n",
       "      <td>0.8</td>\n",
       "      <td>197</td>\n",
       "      <td>178</td>\n",
       "      <td>27</td>\n",
       "      <td>170</td>\n",
       "      <td>81.0</td>\n",
       "      <td>20</td>\n",
       "      <td>93</td>\n",
       "      <td>1</td>\n",
       "    </tr>\n",
       "    <tr>\n",
       "      <th>3</th>\n",
       "      <td>3</td>\n",
       "      <td>1.5</td>\n",
       "      <td>131</td>\n",
       "      <td>1.0</td>\n",
       "      <td>203</td>\n",
       "      <td>180</td>\n",
       "      <td>20</td>\n",
       "      <td>180</td>\n",
       "      <td>105.0</td>\n",
       "      <td>35</td>\n",
       "      <td>102</td>\n",
       "      <td>0</td>\n",
       "    </tr>\n",
       "    <tr>\n",
       "      <th>4</th>\n",
       "      <td>4</td>\n",
       "      <td>1.5</td>\n",
       "      <td>121</td>\n",
       "      <td>0.8</td>\n",
       "      <td>87</td>\n",
       "      <td>155</td>\n",
       "      <td>19</td>\n",
       "      <td>165</td>\n",
       "      <td>80.5</td>\n",
       "      <td>30</td>\n",
       "      <td>93</td>\n",
       "      <td>1</td>\n",
       "    </tr>\n",
       "  </tbody>\n",
       "</table>\n",
       "</div>"
      ],
      "text/plain": [
       "   Unnamed: 0  eyesight(left)  systolic  serum creatinine  triglyceride  \\\n",
       "0           0             0.5       135               1.0           300   \n",
       "1           1             0.6       146               1.1            55   \n",
       "2           2             0.4       118               0.8           197   \n",
       "3           3             1.5       131               1.0           203   \n",
       "4           4             1.5       121               0.8            87   \n",
       "\n",
       "   Cholesterol  AST  height(cm)  waist(cm)  age  LDL  smoking  \n",
       "0          172   22         165       81.0   55   75        1  \n",
       "1          194   27         165       89.0   70  126        0  \n",
       "2          178   27         170       81.0   20   93        1  \n",
       "3          180   20         180      105.0   35  102        0  \n",
       "4          155   19         165       80.5   30   93        1  "
      ]
     },
     "execution_count": 131,
     "metadata": {},
     "output_type": "execute_result"
    }
   ],
   "source": [
    "import pandas as pd\n",
    "\n",
    "df = pd.read_csv(\"../your_data.csv\")\n",
    "df.head()"
   ]
  },
  {
   "cell_type": "markdown",
   "metadata": {},
   "source": [
    "# check if there null element  "
   ]
  },
  {
   "cell_type": "code",
   "execution_count": 136,
   "metadata": {},
   "outputs": [
    {
     "data": {
      "text/plain": [
       "Unnamed: 0          0\n",
       "eyesight(left)      0\n",
       "systolic            0\n",
       "serum creatinine    0\n",
       "triglyceride        0\n",
       "Cholesterol         0\n",
       "AST                 0\n",
       "height(cm)          0\n",
       "waist(cm)           0\n",
       "age                 0\n",
       "LDL                 0\n",
       "smoking             0\n",
       "dtype: int64"
      ]
     },
     "execution_count": 136,
     "metadata": {},
     "output_type": "execute_result"
    }
   ],
   "source": [
    "df.isnull().sum()"
   ]
  },
  {
   "cell_type": "markdown",
   "metadata": {},
   "source": [
    "# print some details about the dataset"
   ]
  },
  {
   "cell_type": "code",
   "execution_count": 137,
   "metadata": {},
   "outputs": [
    {
     "data": {
      "text/html": [
       "<div>\n",
       "<style scoped>\n",
       "    .dataframe tbody tr th:only-of-type {\n",
       "        vertical-align: middle;\n",
       "    }\n",
       "\n",
       "    .dataframe tbody tr th {\n",
       "        vertical-align: top;\n",
       "    }\n",
       "\n",
       "    .dataframe thead th {\n",
       "        text-align: right;\n",
       "    }\n",
       "</style>\n",
       "<table border=\"1\" class=\"dataframe\">\n",
       "  <thead>\n",
       "    <tr style=\"text-align: right;\">\n",
       "      <th></th>\n",
       "      <th>Unnamed: 0</th>\n",
       "      <th>eyesight(left)</th>\n",
       "      <th>systolic</th>\n",
       "      <th>serum creatinine</th>\n",
       "      <th>triglyceride</th>\n",
       "      <th>Cholesterol</th>\n",
       "      <th>AST</th>\n",
       "      <th>height(cm)</th>\n",
       "      <th>waist(cm)</th>\n",
       "      <th>age</th>\n",
       "      <th>LDL</th>\n",
       "      <th>smoking</th>\n",
       "    </tr>\n",
       "  </thead>\n",
       "  <tbody>\n",
       "    <tr>\n",
       "      <th>count</th>\n",
       "      <td>159256.000000</td>\n",
       "      <td>159256.000000</td>\n",
       "      <td>159256.000000</td>\n",
       "      <td>159256.000000</td>\n",
       "      <td>159256.000000</td>\n",
       "      <td>159256.000000</td>\n",
       "      <td>159256.000000</td>\n",
       "      <td>159256.000000</td>\n",
       "      <td>159256.000000</td>\n",
       "      <td>159256.000000</td>\n",
       "      <td>159256.000000</td>\n",
       "      <td>159256.000000</td>\n",
       "    </tr>\n",
       "    <tr>\n",
       "      <th>mean</th>\n",
       "      <td>79627.500000</td>\n",
       "      <td>1.005798</td>\n",
       "      <td>122.503648</td>\n",
       "      <td>0.892764</td>\n",
       "      <td>127.616046</td>\n",
       "      <td>195.796165</td>\n",
       "      <td>25.516853</td>\n",
       "      <td>165.266929</td>\n",
       "      <td>83.001990</td>\n",
       "      <td>44.306626</td>\n",
       "      <td>114.607682</td>\n",
       "      <td>0.437365</td>\n",
       "    </tr>\n",
       "    <tr>\n",
       "      <th>std</th>\n",
       "      <td>45973.391572</td>\n",
       "      <td>0.402113</td>\n",
       "      <td>12.729315</td>\n",
       "      <td>0.179346</td>\n",
       "      <td>66.188989</td>\n",
       "      <td>28.396959</td>\n",
       "      <td>9.464882</td>\n",
       "      <td>8.818970</td>\n",
       "      <td>8.957937</td>\n",
       "      <td>11.842286</td>\n",
       "      <td>28.158931</td>\n",
       "      <td>0.496063</td>\n",
       "    </tr>\n",
       "    <tr>\n",
       "      <th>min</th>\n",
       "      <td>0.000000</td>\n",
       "      <td>0.100000</td>\n",
       "      <td>77.000000</td>\n",
       "      <td>0.100000</td>\n",
       "      <td>8.000000</td>\n",
       "      <td>77.000000</td>\n",
       "      <td>6.000000</td>\n",
       "      <td>135.000000</td>\n",
       "      <td>51.000000</td>\n",
       "      <td>20.000000</td>\n",
       "      <td>1.000000</td>\n",
       "      <td>0.000000</td>\n",
       "    </tr>\n",
       "    <tr>\n",
       "      <th>25%</th>\n",
       "      <td>39813.750000</td>\n",
       "      <td>0.800000</td>\n",
       "      <td>114.000000</td>\n",
       "      <td>0.800000</td>\n",
       "      <td>77.000000</td>\n",
       "      <td>175.000000</td>\n",
       "      <td>20.000000</td>\n",
       "      <td>160.000000</td>\n",
       "      <td>77.000000</td>\n",
       "      <td>40.000000</td>\n",
       "      <td>95.000000</td>\n",
       "      <td>0.000000</td>\n",
       "    </tr>\n",
       "    <tr>\n",
       "      <th>50%</th>\n",
       "      <td>79627.500000</td>\n",
       "      <td>1.000000</td>\n",
       "      <td>121.000000</td>\n",
       "      <td>0.900000</td>\n",
       "      <td>115.000000</td>\n",
       "      <td>196.000000</td>\n",
       "      <td>24.000000</td>\n",
       "      <td>165.000000</td>\n",
       "      <td>83.000000</td>\n",
       "      <td>40.000000</td>\n",
       "      <td>114.000000</td>\n",
       "      <td>0.000000</td>\n",
       "    </tr>\n",
       "    <tr>\n",
       "      <th>75%</th>\n",
       "      <td>119441.250000</td>\n",
       "      <td>1.200000</td>\n",
       "      <td>130.000000</td>\n",
       "      <td>1.000000</td>\n",
       "      <td>165.000000</td>\n",
       "      <td>217.000000</td>\n",
       "      <td>29.000000</td>\n",
       "      <td>170.000000</td>\n",
       "      <td>89.000000</td>\n",
       "      <td>55.000000</td>\n",
       "      <td>133.000000</td>\n",
       "      <td>1.000000</td>\n",
       "    </tr>\n",
       "    <tr>\n",
       "      <th>max</th>\n",
       "      <td>159255.000000</td>\n",
       "      <td>9.900000</td>\n",
       "      <td>213.000000</td>\n",
       "      <td>9.900000</td>\n",
       "      <td>766.000000</td>\n",
       "      <td>393.000000</td>\n",
       "      <td>778.000000</td>\n",
       "      <td>190.000000</td>\n",
       "      <td>127.000000</td>\n",
       "      <td>85.000000</td>\n",
       "      <td>1860.000000</td>\n",
       "      <td>1.000000</td>\n",
       "    </tr>\n",
       "  </tbody>\n",
       "</table>\n",
       "</div>"
      ],
      "text/plain": [
       "          Unnamed: 0  eyesight(left)       systolic  serum creatinine  \\\n",
       "count  159256.000000   159256.000000  159256.000000     159256.000000   \n",
       "mean    79627.500000        1.005798     122.503648          0.892764   \n",
       "std     45973.391572        0.402113      12.729315          0.179346   \n",
       "min         0.000000        0.100000      77.000000          0.100000   \n",
       "25%     39813.750000        0.800000     114.000000          0.800000   \n",
       "50%     79627.500000        1.000000     121.000000          0.900000   \n",
       "75%    119441.250000        1.200000     130.000000          1.000000   \n",
       "max    159255.000000        9.900000     213.000000          9.900000   \n",
       "\n",
       "        triglyceride    Cholesterol            AST     height(cm)  \\\n",
       "count  159256.000000  159256.000000  159256.000000  159256.000000   \n",
       "mean      127.616046     195.796165      25.516853     165.266929   \n",
       "std        66.188989      28.396959       9.464882       8.818970   \n",
       "min         8.000000      77.000000       6.000000     135.000000   \n",
       "25%        77.000000     175.000000      20.000000     160.000000   \n",
       "50%       115.000000     196.000000      24.000000     165.000000   \n",
       "75%       165.000000     217.000000      29.000000     170.000000   \n",
       "max       766.000000     393.000000     778.000000     190.000000   \n",
       "\n",
       "           waist(cm)            age            LDL        smoking  \n",
       "count  159256.000000  159256.000000  159256.000000  159256.000000  \n",
       "mean       83.001990      44.306626     114.607682       0.437365  \n",
       "std         8.957937      11.842286      28.158931       0.496063  \n",
       "min        51.000000      20.000000       1.000000       0.000000  \n",
       "25%        77.000000      40.000000      95.000000       0.000000  \n",
       "50%        83.000000      40.000000     114.000000       0.000000  \n",
       "75%        89.000000      55.000000     133.000000       1.000000  \n",
       "max       127.000000      85.000000    1860.000000       1.000000  "
      ]
     },
     "execution_count": 137,
     "metadata": {},
     "output_type": "execute_result"
    }
   ],
   "source": [
    "df.describe()"
   ]
  },
  {
   "cell_type": "markdown",
   "metadata": {},
   "source": [
    "# Print the ratio between two classes"
   ]
  },
  {
   "cell_type": "code",
   "execution_count": 138,
   "metadata": {},
   "outputs": [
    {
     "data": {
      "text/plain": [
       "smoking\n",
       "0    89603\n",
       "1    69653\n",
       "Name: count, dtype: int64"
      ]
     },
     "execution_count": 138,
     "metadata": {},
     "output_type": "execute_result"
    }
   ],
   "source": [
    "df.smoking.value_counts()"
   ]
  },
  {
   "cell_type": "markdown",
   "metadata": {},
   "source": [
    "# drop the target from the dataset"
   ]
  },
  {
   "cell_type": "code",
   "execution_count": 139,
   "metadata": {},
   "outputs": [
    {
     "data": {
      "text/plain": [
       "0         1\n",
       "1         0\n",
       "2         1\n",
       "3         0\n",
       "4         1\n",
       "         ..\n",
       "159251    0\n",
       "159252    0\n",
       "159253    0\n",
       "159254    1\n",
       "159255    0\n",
       "Name: smoking, Length: 159256, dtype: int64"
      ]
     },
     "execution_count": 139,
     "metadata": {},
     "output_type": "execute_result"
    }
   ],
   "source": [
    "X = df.drop(\"smoking\",axis=\"columns\")\n",
    "y = df.smoking\n",
    "y"
   ]
  },
  {
   "cell_type": "markdown",
   "metadata": {},
   "source": [
    "# scale the data"
   ]
  },
  {
   "cell_type": "code",
   "execution_count": 140,
   "metadata": {},
   "outputs": [
    {
     "data": {
      "text/plain": [
       "array([[-1.73203993, -1.2578561 ,  0.98170175,  0.59792738,  2.60442859,\n",
       "        -0.83798548, -0.37156981, -0.03026766, -0.22348852,  0.90298511,\n",
       "        -1.40658059],\n",
       "       [-1.73201818, -1.00916876,  1.84585151,  1.15551071, -1.09710504,\n",
       "        -0.06325221,  0.15670045, -0.03026766,  0.66957702,  2.16963644,\n",
       "         0.40457337],\n",
       "       [-1.73199643, -1.50654343, -0.35380241, -0.51723927,  1.04827363,\n",
       "        -0.62669459,  0.15670045,  0.53669377, -0.22348852, -2.05253466,\n",
       "        -0.76734978]])"
      ]
     },
     "execution_count": 140,
     "metadata": {},
     "output_type": "execute_result"
    }
   ],
   "source": [
    "from sklearn.preprocessing import StandardScaler\n",
    "\n",
    "scaler = StandardScaler()\n",
    "X_scaled = scaler.fit_transform(X)\n",
    "X_scaled[:3]"
   ]
  },
  {
   "cell_type": "markdown",
   "metadata": {},
   "source": [
    "# <h2>VarianceThreshold</h2>\n",
    "# <h4>Remove elements with zero variance (constant values)</h4>\n",
    "\n"
   ]
  },
  {
   "cell_type": "code",
   "execution_count": 170,
   "metadata": {},
   "outputs": [
    {
     "data": {
      "text/html": [
       "<style>#sk-container-id-14 {color: black;}#sk-container-id-14 pre{padding: 0;}#sk-container-id-14 div.sk-toggleable {background-color: white;}#sk-container-id-14 label.sk-toggleable__label {cursor: pointer;display: block;width: 100%;margin-bottom: 0;padding: 0.3em;box-sizing: border-box;text-align: center;}#sk-container-id-14 label.sk-toggleable__label-arrow:before {content: \"▸\";float: left;margin-right: 0.25em;color: #696969;}#sk-container-id-14 label.sk-toggleable__label-arrow:hover:before {color: black;}#sk-container-id-14 div.sk-estimator:hover label.sk-toggleable__label-arrow:before {color: black;}#sk-container-id-14 div.sk-toggleable__content {max-height: 0;max-width: 0;overflow: hidden;text-align: left;background-color: #f0f8ff;}#sk-container-id-14 div.sk-toggleable__content pre {margin: 0.2em;color: black;border-radius: 0.25em;background-color: #f0f8ff;}#sk-container-id-14 input.sk-toggleable__control:checked~div.sk-toggleable__content {max-height: 200px;max-width: 100%;overflow: auto;}#sk-container-id-14 input.sk-toggleable__control:checked~label.sk-toggleable__label-arrow:before {content: \"▾\";}#sk-container-id-14 div.sk-estimator input.sk-toggleable__control:checked~label.sk-toggleable__label {background-color: #d4ebff;}#sk-container-id-14 div.sk-label input.sk-toggleable__control:checked~label.sk-toggleable__label {background-color: #d4ebff;}#sk-container-id-14 input.sk-hidden--visually {border: 0;clip: rect(1px 1px 1px 1px);clip: rect(1px, 1px, 1px, 1px);height: 1px;margin: -1px;overflow: hidden;padding: 0;position: absolute;width: 1px;}#sk-container-id-14 div.sk-estimator {font-family: monospace;background-color: #f0f8ff;border: 1px dotted black;border-radius: 0.25em;box-sizing: border-box;margin-bottom: 0.5em;}#sk-container-id-14 div.sk-estimator:hover {background-color: #d4ebff;}#sk-container-id-14 div.sk-parallel-item::after {content: \"\";width: 100%;border-bottom: 1px solid gray;flex-grow: 1;}#sk-container-id-14 div.sk-label:hover label.sk-toggleable__label {background-color: #d4ebff;}#sk-container-id-14 div.sk-serial::before {content: \"\";position: absolute;border-left: 1px solid gray;box-sizing: border-box;top: 0;bottom: 0;left: 50%;z-index: 0;}#sk-container-id-14 div.sk-serial {display: flex;flex-direction: column;align-items: center;background-color: white;padding-right: 0.2em;padding-left: 0.2em;position: relative;}#sk-container-id-14 div.sk-item {position: relative;z-index: 1;}#sk-container-id-14 div.sk-parallel {display: flex;align-items: stretch;justify-content: center;background-color: white;position: relative;}#sk-container-id-14 div.sk-item::before, #sk-container-id-14 div.sk-parallel-item::before {content: \"\";position: absolute;border-left: 1px solid gray;box-sizing: border-box;top: 0;bottom: 0;left: 50%;z-index: -1;}#sk-container-id-14 div.sk-parallel-item {display: flex;flex-direction: column;z-index: 1;position: relative;background-color: white;}#sk-container-id-14 div.sk-parallel-item:first-child::after {align-self: flex-end;width: 50%;}#sk-container-id-14 div.sk-parallel-item:last-child::after {align-self: flex-start;width: 50%;}#sk-container-id-14 div.sk-parallel-item:only-child::after {width: 0;}#sk-container-id-14 div.sk-dashed-wrapped {border: 1px dashed gray;margin: 0 0.4em 0.5em 0.4em;box-sizing: border-box;padding-bottom: 0.4em;background-color: white;}#sk-container-id-14 div.sk-label label {font-family: monospace;font-weight: bold;display: inline-block;line-height: 1.2em;}#sk-container-id-14 div.sk-label-container {text-align: center;}#sk-container-id-14 div.sk-container {/* jupyter's `normalize.less` sets `[hidden] { display: none; }` but bootstrap.min.css set `[hidden] { display: none !important; }` so we also need the `!important` here to be able to override the default hidden behavior on the sphinx rendered scikit-learn.org. See: https://github.com/scikit-learn/scikit-learn/issues/21755 */display: inline-block !important;position: relative;}#sk-container-id-14 div.sk-text-repr-fallback {display: none;}</style><div id=\"sk-container-id-14\" class=\"sk-top-container\"><div class=\"sk-text-repr-fallback\"><pre>VarianceThreshold(threshold=0)</pre><b>In a Jupyter environment, please rerun this cell to show the HTML representation or trust the notebook. <br />On GitHub, the HTML representation is unable to render, please try loading this page with nbviewer.org.</b></div><div class=\"sk-container\" hidden><div class=\"sk-item\"><div class=\"sk-estimator sk-toggleable\"><input class=\"sk-toggleable__control sk-hidden--visually\" id=\"sk-estimator-id-14\" type=\"checkbox\" checked><label for=\"sk-estimator-id-14\" class=\"sk-toggleable__label sk-toggleable__label-arrow\">VarianceThreshold</label><div class=\"sk-toggleable__content\"><pre>VarianceThreshold(threshold=0)</pre></div></div></div></div></div>"
      ],
      "text/plain": [
       "VarianceThreshold(threshold=0)"
      ]
     },
     "execution_count": 170,
     "metadata": {},
     "output_type": "execute_result"
    }
   ],
   "source": [
    "from sklearn.feature_selection import VarianceThreshold\n",
    "variance_obj =  VarianceThreshold(threshold = 0)\n",
    "variance_obj.fit(X_scaled)"
   ]
  },
  {
   "cell_type": "markdown",
   "metadata": {},
   "source": [
    "# <h3>See if there are any features with zero variance</h3>\n",
    "# <h4>True means not ZERO variance and False means ZERO variance and we should drop it</h4>\n"
   ]
  },
  {
   "cell_type": "code",
   "execution_count": 171,
   "metadata": {},
   "outputs": [
    {
     "data": {
      "text/plain": [
       "array([ True,  True,  True,  True,  True,  True,  True,  True,  True,\n",
       "        True,  True])"
      ]
     },
     "execution_count": 171,
     "metadata": {},
     "output_type": "execute_result"
    }
   ],
   "source": [
    "variance_obj.get_support()"
   ]
  },
  {
   "cell_type": "markdown",
   "metadata": {},
   "source": [
    "<h5>store constant variance columns</h5>"
   ]
  },
  {
   "cell_type": "code",
   "execution_count": 172,
   "metadata": {},
   "outputs": [],
   "source": [
    "X_scaled = pd.DataFrame(data=X_scaled, columns=['eyesight(left)', 'systolic', 'serum creatinine','triglyceride','Cholesterol','AST','height(cm)','waist(cm)','age','LDL','smoking'])\n",
    "deleted_columns = [column for column in X_scaled.columns if column not in X_scaled.columns[variance_obj.get_support()]]"
   ]
  },
  {
   "cell_type": "markdown",
   "metadata": {},
   "source": [
    "<h3>Drop ZERO variance data</h3>"
   ]
  },
  {
   "cell_type": "code",
   "execution_count": 173,
   "metadata": {},
   "outputs": [
    {
     "data": {
      "text/html": [
       "<div>\n",
       "<style scoped>\n",
       "    .dataframe tbody tr th:only-of-type {\n",
       "        vertical-align: middle;\n",
       "    }\n",
       "\n",
       "    .dataframe tbody tr th {\n",
       "        vertical-align: top;\n",
       "    }\n",
       "\n",
       "    .dataframe thead th {\n",
       "        text-align: right;\n",
       "    }\n",
       "</style>\n",
       "<table border=\"1\" class=\"dataframe\">\n",
       "  <thead>\n",
       "    <tr style=\"text-align: right;\">\n",
       "      <th></th>\n",
       "      <th>Unnamed: 0</th>\n",
       "      <th>eyesight(left)</th>\n",
       "      <th>systolic</th>\n",
       "      <th>serum creatinine</th>\n",
       "      <th>triglyceride</th>\n",
       "      <th>Cholesterol</th>\n",
       "      <th>AST</th>\n",
       "      <th>height(cm)</th>\n",
       "      <th>waist(cm)</th>\n",
       "      <th>age</th>\n",
       "      <th>LDL</th>\n",
       "      <th>smoking</th>\n",
       "    </tr>\n",
       "  </thead>\n",
       "  <tbody>\n",
       "    <tr>\n",
       "      <th>0</th>\n",
       "      <td>0</td>\n",
       "      <td>0.5</td>\n",
       "      <td>135</td>\n",
       "      <td>1.0</td>\n",
       "      <td>300</td>\n",
       "      <td>172</td>\n",
       "      <td>22</td>\n",
       "      <td>165</td>\n",
       "      <td>81.0</td>\n",
       "      <td>55</td>\n",
       "      <td>75</td>\n",
       "      <td>1</td>\n",
       "    </tr>\n",
       "    <tr>\n",
       "      <th>1</th>\n",
       "      <td>1</td>\n",
       "      <td>0.6</td>\n",
       "      <td>146</td>\n",
       "      <td>1.1</td>\n",
       "      <td>55</td>\n",
       "      <td>194</td>\n",
       "      <td>27</td>\n",
       "      <td>165</td>\n",
       "      <td>89.0</td>\n",
       "      <td>70</td>\n",
       "      <td>126</td>\n",
       "      <td>0</td>\n",
       "    </tr>\n",
       "    <tr>\n",
       "      <th>2</th>\n",
       "      <td>2</td>\n",
       "      <td>0.4</td>\n",
       "      <td>118</td>\n",
       "      <td>0.8</td>\n",
       "      <td>197</td>\n",
       "      <td>178</td>\n",
       "      <td>27</td>\n",
       "      <td>170</td>\n",
       "      <td>81.0</td>\n",
       "      <td>20</td>\n",
       "      <td>93</td>\n",
       "      <td>1</td>\n",
       "    </tr>\n",
       "    <tr>\n",
       "      <th>3</th>\n",
       "      <td>3</td>\n",
       "      <td>1.5</td>\n",
       "      <td>131</td>\n",
       "      <td>1.0</td>\n",
       "      <td>203</td>\n",
       "      <td>180</td>\n",
       "      <td>20</td>\n",
       "      <td>180</td>\n",
       "      <td>105.0</td>\n",
       "      <td>35</td>\n",
       "      <td>102</td>\n",
       "      <td>0</td>\n",
       "    </tr>\n",
       "    <tr>\n",
       "      <th>4</th>\n",
       "      <td>4</td>\n",
       "      <td>1.5</td>\n",
       "      <td>121</td>\n",
       "      <td>0.8</td>\n",
       "      <td>87</td>\n",
       "      <td>155</td>\n",
       "      <td>19</td>\n",
       "      <td>165</td>\n",
       "      <td>80.5</td>\n",
       "      <td>30</td>\n",
       "      <td>93</td>\n",
       "      <td>1</td>\n",
       "    </tr>\n",
       "    <tr>\n",
       "      <th>...</th>\n",
       "      <td>...</td>\n",
       "      <td>...</td>\n",
       "      <td>...</td>\n",
       "      <td>...</td>\n",
       "      <td>...</td>\n",
       "      <td>...</td>\n",
       "      <td>...</td>\n",
       "      <td>...</td>\n",
       "      <td>...</td>\n",
       "      <td>...</td>\n",
       "      <td>...</td>\n",
       "      <td>...</td>\n",
       "    </tr>\n",
       "    <tr>\n",
       "      <th>159251</th>\n",
       "      <td>159251</td>\n",
       "      <td>1.5</td>\n",
       "      <td>127</td>\n",
       "      <td>0.8</td>\n",
       "      <td>47</td>\n",
       "      <td>238</td>\n",
       "      <td>25</td>\n",
       "      <td>155</td>\n",
       "      <td>69.0</td>\n",
       "      <td>40</td>\n",
       "      <td>159</td>\n",
       "      <td>0</td>\n",
       "    </tr>\n",
       "    <tr>\n",
       "      <th>159252</th>\n",
       "      <td>159252</td>\n",
       "      <td>1.0</td>\n",
       "      <td>120</td>\n",
       "      <td>0.6</td>\n",
       "      <td>202</td>\n",
       "      <td>213</td>\n",
       "      <td>21</td>\n",
       "      <td>155</td>\n",
       "      <td>82.0</td>\n",
       "      <td>50</td>\n",
       "      <td>108</td>\n",
       "      <td>0</td>\n",
       "    </tr>\n",
       "    <tr>\n",
       "      <th>159253</th>\n",
       "      <td>159253</td>\n",
       "      <td>1.5</td>\n",
       "      <td>114</td>\n",
       "      <td>0.6</td>\n",
       "      <td>45</td>\n",
       "      <td>189</td>\n",
       "      <td>15</td>\n",
       "      <td>160</td>\n",
       "      <td>66.0</td>\n",
       "      <td>40</td>\n",
       "      <td>93</td>\n",
       "      <td>0</td>\n",
       "    </tr>\n",
       "    <tr>\n",
       "      <th>159254</th>\n",
       "      <td>159254</td>\n",
       "      <td>1.2</td>\n",
       "      <td>121</td>\n",
       "      <td>1.1</td>\n",
       "      <td>148</td>\n",
       "      <td>165</td>\n",
       "      <td>22</td>\n",
       "      <td>165</td>\n",
       "      <td>92.0</td>\n",
       "      <td>50</td>\n",
       "      <td>80</td>\n",
       "      <td>1</td>\n",
       "    </tr>\n",
       "    <tr>\n",
       "      <th>159255</th>\n",
       "      <td>159255</td>\n",
       "      <td>1.0</td>\n",
       "      <td>125</td>\n",
       "      <td>0.8</td>\n",
       "      <td>87</td>\n",
       "      <td>186</td>\n",
       "      <td>21</td>\n",
       "      <td>145</td>\n",
       "      <td>76.4</td>\n",
       "      <td>40</td>\n",
       "      <td>81</td>\n",
       "      <td>0</td>\n",
       "    </tr>\n",
       "  </tbody>\n",
       "</table>\n",
       "<p>159256 rows × 12 columns</p>\n",
       "</div>"
      ],
      "text/plain": [
       "        Unnamed: 0  eyesight(left)  systolic  serum creatinine  triglyceride  \\\n",
       "0                0             0.5       135               1.0           300   \n",
       "1                1             0.6       146               1.1            55   \n",
       "2                2             0.4       118               0.8           197   \n",
       "3                3             1.5       131               1.0           203   \n",
       "4                4             1.5       121               0.8            87   \n",
       "...            ...             ...       ...               ...           ...   \n",
       "159251      159251             1.5       127               0.8            47   \n",
       "159252      159252             1.0       120               0.6           202   \n",
       "159253      159253             1.5       114               0.6            45   \n",
       "159254      159254             1.2       121               1.1           148   \n",
       "159255      159255             1.0       125               0.8            87   \n",
       "\n",
       "        Cholesterol  AST  height(cm)  waist(cm)  age  LDL  smoking  \n",
       "0               172   22         165       81.0   55   75        1  \n",
       "1               194   27         165       89.0   70  126        0  \n",
       "2               178   27         170       81.0   20   93        1  \n",
       "3               180   20         180      105.0   35  102        0  \n",
       "4               155   19         165       80.5   30   93        1  \n",
       "...             ...  ...         ...        ...  ...  ...      ...  \n",
       "159251          238   25         155       69.0   40  159        0  \n",
       "159252          213   21         155       82.0   50  108        0  \n",
       "159253          189   15         160       66.0   40   93        0  \n",
       "159254          165   22         165       92.0   50   80        1  \n",
       "159255          186   21         145       76.4   40   81        0  \n",
       "\n",
       "[159256 rows x 12 columns]"
      ]
     },
     "execution_count": 173,
     "metadata": {},
     "output_type": "execute_result"
    }
   ],
   "source": [
    "df.drop(deleted_columns,axis = 1)"
   ]
  },
  {
   "cell_type": "code",
   "execution_count": 174,
   "metadata": {},
   "outputs": [
    {
     "data": {
      "text/html": [
       "<div>\n",
       "<style scoped>\n",
       "    .dataframe tbody tr th:only-of-type {\n",
       "        vertical-align: middle;\n",
       "    }\n",
       "\n",
       "    .dataframe tbody tr th {\n",
       "        vertical-align: top;\n",
       "    }\n",
       "\n",
       "    .dataframe thead th {\n",
       "        text-align: right;\n",
       "    }\n",
       "</style>\n",
       "<table border=\"1\" class=\"dataframe\">\n",
       "  <thead>\n",
       "    <tr style=\"text-align: right;\">\n",
       "      <th></th>\n",
       "      <th>eyesight(left)</th>\n",
       "      <th>systolic</th>\n",
       "      <th>serum creatinine</th>\n",
       "      <th>triglyceride</th>\n",
       "      <th>Cholesterol</th>\n",
       "      <th>AST</th>\n",
       "      <th>height(cm)</th>\n",
       "      <th>waist(cm)</th>\n",
       "      <th>age</th>\n",
       "      <th>LDL</th>\n",
       "      <th>smoking</th>\n",
       "    </tr>\n",
       "  </thead>\n",
       "  <tbody>\n",
       "    <tr>\n",
       "      <th>0</th>\n",
       "      <td>-1.732040</td>\n",
       "      <td>-1.257856</td>\n",
       "      <td>0.981702</td>\n",
       "      <td>0.597927</td>\n",
       "      <td>2.604429</td>\n",
       "      <td>-0.837985</td>\n",
       "      <td>-0.371570</td>\n",
       "      <td>-0.030268</td>\n",
       "      <td>-0.223489</td>\n",
       "      <td>0.902985</td>\n",
       "      <td>-1.406581</td>\n",
       "    </tr>\n",
       "    <tr>\n",
       "      <th>1</th>\n",
       "      <td>-1.732018</td>\n",
       "      <td>-1.009169</td>\n",
       "      <td>1.845852</td>\n",
       "      <td>1.155511</td>\n",
       "      <td>-1.097105</td>\n",
       "      <td>-0.063252</td>\n",
       "      <td>0.156700</td>\n",
       "      <td>-0.030268</td>\n",
       "      <td>0.669577</td>\n",
       "      <td>2.169636</td>\n",
       "      <td>0.404573</td>\n",
       "    </tr>\n",
       "    <tr>\n",
       "      <th>2</th>\n",
       "      <td>-1.731996</td>\n",
       "      <td>-1.506543</td>\n",
       "      <td>-0.353802</td>\n",
       "      <td>-0.517239</td>\n",
       "      <td>1.048274</td>\n",
       "      <td>-0.626695</td>\n",
       "      <td>0.156700</td>\n",
       "      <td>0.536694</td>\n",
       "      <td>-0.223489</td>\n",
       "      <td>-2.052535</td>\n",
       "      <td>-0.767350</td>\n",
       "    </tr>\n",
       "    <tr>\n",
       "      <th>3</th>\n",
       "      <td>-1.731975</td>\n",
       "      <td>1.229017</td>\n",
       "      <td>0.667465</td>\n",
       "      <td>0.597927</td>\n",
       "      <td>1.138923</td>\n",
       "      <td>-0.556264</td>\n",
       "      <td>-0.582878</td>\n",
       "      <td>1.670617</td>\n",
       "      <td>2.455708</td>\n",
       "      <td>-0.785883</td>\n",
       "      <td>-0.447734</td>\n",
       "    </tr>\n",
       "    <tr>\n",
       "      <th>4</th>\n",
       "      <td>-1.731953</td>\n",
       "      <td>1.229017</td>\n",
       "      <td>-0.118125</td>\n",
       "      <td>-0.517239</td>\n",
       "      <td>-0.613639</td>\n",
       "      <td>-1.436643</td>\n",
       "      <td>-0.688532</td>\n",
       "      <td>-0.030268</td>\n",
       "      <td>-0.279305</td>\n",
       "      <td>-1.208100</td>\n",
       "      <td>-0.767350</td>\n",
       "    </tr>\n",
       "    <tr>\n",
       "      <th>...</th>\n",
       "      <td>...</td>\n",
       "      <td>...</td>\n",
       "      <td>...</td>\n",
       "      <td>...</td>\n",
       "      <td>...</td>\n",
       "      <td>...</td>\n",
       "      <td>...</td>\n",
       "      <td>...</td>\n",
       "      <td>...</td>\n",
       "      <td>...</td>\n",
       "      <td>...</td>\n",
       "    </tr>\n",
       "    <tr>\n",
       "      <th>159251</th>\n",
       "      <td>1.731953</td>\n",
       "      <td>1.229017</td>\n",
       "      <td>0.353229</td>\n",
       "      <td>-0.517239</td>\n",
       "      <td>-1.217971</td>\n",
       "      <td>1.486214</td>\n",
       "      <td>-0.054608</td>\n",
       "      <td>-1.164191</td>\n",
       "      <td>-1.563087</td>\n",
       "      <td>-0.363666</td>\n",
       "      <td>1.576497</td>\n",
       "    </tr>\n",
       "    <tr>\n",
       "      <th>159252</th>\n",
       "      <td>1.731975</td>\n",
       "      <td>-0.014419</td>\n",
       "      <td>-0.196684</td>\n",
       "      <td>-1.632406</td>\n",
       "      <td>1.123815</td>\n",
       "      <td>0.605836</td>\n",
       "      <td>-0.477224</td>\n",
       "      <td>-1.164191</td>\n",
       "      <td>-0.111855</td>\n",
       "      <td>0.480768</td>\n",
       "      <td>-0.234657</td>\n",
       "    </tr>\n",
       "    <tr>\n",
       "      <th>159253</th>\n",
       "      <td>1.731996</td>\n",
       "      <td>1.229017</td>\n",
       "      <td>-0.668039</td>\n",
       "      <td>-1.632406</td>\n",
       "      <td>-1.248188</td>\n",
       "      <td>-0.239328</td>\n",
       "      <td>-1.111148</td>\n",
       "      <td>-0.597229</td>\n",
       "      <td>-1.897986</td>\n",
       "      <td>-0.363666</td>\n",
       "      <td>-0.767350</td>\n",
       "    </tr>\n",
       "    <tr>\n",
       "      <th>159254</th>\n",
       "      <td>1.732018</td>\n",
       "      <td>0.482955</td>\n",
       "      <td>-0.118125</td>\n",
       "      <td>1.155511</td>\n",
       "      <td>0.307967</td>\n",
       "      <td>-1.084492</td>\n",
       "      <td>-0.371570</td>\n",
       "      <td>-0.030268</td>\n",
       "      <td>1.004477</td>\n",
       "      <td>0.480768</td>\n",
       "      <td>-1.229016</td>\n",
       "    </tr>\n",
       "    <tr>\n",
       "      <th>159255</th>\n",
       "      <td>1.732040</td>\n",
       "      <td>-0.014419</td>\n",
       "      <td>0.196111</td>\n",
       "      <td>-0.517239</td>\n",
       "      <td>-0.613639</td>\n",
       "      <td>-0.344973</td>\n",
       "      <td>-0.477224</td>\n",
       "      <td>-2.298113</td>\n",
       "      <td>-0.737001</td>\n",
       "      <td>-0.363666</td>\n",
       "      <td>-1.193504</td>\n",
       "    </tr>\n",
       "  </tbody>\n",
       "</table>\n",
       "<p>159256 rows × 11 columns</p>\n",
       "</div>"
      ],
      "text/plain": [
       "        eyesight(left)  systolic  serum creatinine  triglyceride  Cholesterol  \\\n",
       "0            -1.732040 -1.257856          0.981702      0.597927     2.604429   \n",
       "1            -1.732018 -1.009169          1.845852      1.155511    -1.097105   \n",
       "2            -1.731996 -1.506543         -0.353802     -0.517239     1.048274   \n",
       "3            -1.731975  1.229017          0.667465      0.597927     1.138923   \n",
       "4            -1.731953  1.229017         -0.118125     -0.517239    -0.613639   \n",
       "...                ...       ...               ...           ...          ...   \n",
       "159251        1.731953  1.229017          0.353229     -0.517239    -1.217971   \n",
       "159252        1.731975 -0.014419         -0.196684     -1.632406     1.123815   \n",
       "159253        1.731996  1.229017         -0.668039     -1.632406    -1.248188   \n",
       "159254        1.732018  0.482955         -0.118125      1.155511     0.307967   \n",
       "159255        1.732040 -0.014419          0.196111     -0.517239    -0.613639   \n",
       "\n",
       "             AST  height(cm)  waist(cm)       age       LDL   smoking  \n",
       "0      -0.837985   -0.371570  -0.030268 -0.223489  0.902985 -1.406581  \n",
       "1      -0.063252    0.156700  -0.030268  0.669577  2.169636  0.404573  \n",
       "2      -0.626695    0.156700   0.536694 -0.223489 -2.052535 -0.767350  \n",
       "3      -0.556264   -0.582878   1.670617  2.455708 -0.785883 -0.447734  \n",
       "4      -1.436643   -0.688532  -0.030268 -0.279305 -1.208100 -0.767350  \n",
       "...          ...         ...        ...       ...       ...       ...  \n",
       "159251  1.486214   -0.054608  -1.164191 -1.563087 -0.363666  1.576497  \n",
       "159252  0.605836   -0.477224  -1.164191 -0.111855  0.480768 -0.234657  \n",
       "159253 -0.239328   -1.111148  -0.597229 -1.897986 -0.363666 -0.767350  \n",
       "159254 -1.084492   -0.371570  -0.030268  1.004477  0.480768 -1.229016  \n",
       "159255 -0.344973   -0.477224  -2.298113 -0.737001 -0.363666 -1.193504  \n",
       "\n",
       "[159256 rows x 11 columns]"
      ]
     },
     "execution_count": 174,
     "metadata": {},
     "output_type": "execute_result"
    }
   ],
   "source": [
    "X_scaled"
   ]
  },
  {
   "cell_type": "markdown",
   "metadata": {},
   "source": [
    "# split dataset into training and testing data"
   ]
  },
  {
   "cell_type": "code",
   "execution_count": 239,
   "metadata": {},
   "outputs": [],
   "source": [
    "from sklearn.model_selection import train_test_split\n",
    "\n",
    "X_train, X_test, y_train, y_test = train_test_split(X_scaled, y, stratify=y, random_state=10)"
   ]
  },
  {
   "cell_type": "code",
   "execution_count": 240,
   "metadata": {},
   "outputs": [
    {
     "data": {
      "text/plain": [
       "(119442, 11)"
      ]
     },
     "execution_count": 240,
     "metadata": {},
     "output_type": "execute_result"
    }
   ],
   "source": [
    "X_train.shape"
   ]
  },
  {
   "cell_type": "code",
   "execution_count": 241,
   "metadata": {},
   "outputs": [
    {
     "data": {
      "text/plain": [
       "(39814, 11)"
      ]
     },
     "execution_count": 241,
     "metadata": {},
     "output_type": "execute_result"
    }
   ],
   "source": [
    "X_test.shape"
   ]
  },
  {
   "cell_type": "code",
   "execution_count": 242,
   "metadata": {},
   "outputs": [
    {
     "data": {
      "text/plain": [
       "(119442,)"
      ]
     },
     "execution_count": 242,
     "metadata": {},
     "output_type": "execute_result"
    }
   ],
   "source": [
    "#X_train\n",
    "y_train.shape"
   ]
  },
  {
   "cell_type": "code",
   "execution_count": 243,
   "metadata": {},
   "outputs": [
    {
     "data": {
      "text/plain": [
       "smoking\n",
       "0    67202\n",
       "1    52240\n",
       "Name: count, dtype: int64"
      ]
     },
     "execution_count": 243,
     "metadata": {},
     "output_type": "execute_result"
    }
   ],
   "source": [
    "y_train.value_counts()"
   ]
  },
  {
   "cell_type": "markdown",
   "metadata": {},
   "source": [
    "<h2>Importing mutual information gain and see best features IM Gain</h2>"
   ]
  },
  {
   "cell_type": "code",
   "execution_count": 244,
   "metadata": {},
   "outputs": [
    {
     "data": {
      "text/plain": [
       "array([0.        , 0.01010268, 0.01268826, 0.06137318, 0.07494072,\n",
       "       0.00602523, 0.00565875, 0.13501872, 0.0441993 , 0.02587653,\n",
       "       0.00799759])"
      ]
     },
     "execution_count": 244,
     "metadata": {},
     "output_type": "execute_result"
    }
   ],
   "source": [
    "from sklearn.feature_selection import mutual_info_classif\n",
    "\n",
    "mutual_info = mutual_info_classif(X_train, y_train)\n",
    "mutual_info"
   ]
  },
  {
   "cell_type": "code",
   "execution_count": 245,
   "metadata": {},
   "outputs": [
    {
     "data": {
      "text/plain": [
       "waist(cm)           0.135019\n",
       "Cholesterol         0.074941\n",
       "triglyceride        0.061373\n",
       "age                 0.044199\n",
       "LDL                 0.025877\n",
       "serum creatinine    0.012688\n",
       "systolic            0.010103\n",
       "smoking             0.007998\n",
       "AST                 0.006025\n",
       "height(cm)          0.005659\n",
       "eyesight(left)      0.000000\n",
       "dtype: float64"
      ]
     },
     "execution_count": 245,
     "metadata": {},
     "output_type": "execute_result"
    }
   ],
   "source": [
    "mutual_info = pd.Series(mutual_info)\n",
    "mutual_info.index = X_train.columns\n",
    "mutual_info.sort_values(ascending=False)"
   ]
  },
  {
   "cell_type": "markdown",
   "metadata": {},
   "source": [
    "<h3>Plotting for best Im gain features</h3>"
   ]
  },
  {
   "cell_type": "code",
   "execution_count": 246,
   "metadata": {},
   "outputs": [
    {
     "data": {
      "text/plain": [
       "<Axes: >"
      ]
     },
     "execution_count": 246,
     "metadata": {},
     "output_type": "execute_result"
    },
    {
     "data": {
      "image/png": "[encoded data removed]",
      "text/plain": [
       "<Figure size 2000x800 with 1 Axes>"
      ]
     },
     "metadata": {},
     "output_type": "display_data"
    }
   ],
   "source": [
    "mutual_info.sort_values(ascending=False).plot.bar(figsize=(20, 8))"
   ]
  },
  {
   "cell_type": "markdown",
   "metadata": {},
   "source": [
    "<h3>Selecting Kbest features </h3>"
   ]
  },
  {
   "cell_type": "code",
   "execution_count": 247,
   "metadata": {},
   "outputs": [
    {
     "data": {
      "text/plain": [
       "Index(['systolic', 'triglyceride', 'Cholesterol', 'AST', 'waist(cm)', 'age',\n",
       "       'LDL'],\n",
       "      dtype='object')"
      ]
     },
     "execution_count": 247,
     "metadata": {},
     "output_type": "execute_result"
    }
   ],
   "source": [
    "from sklearn.feature_selection import SelectKBest\n",
    "\n",
    "sel_five_cols = SelectKBest(mutual_info_classif, k=7)\n",
    "sel_five_cols.fit(X_train, y_train)\n",
    "X_train.columns[sel_five_cols.get_support()]"
   ]
  },
  {
   "cell_type": "code",
   "execution_count": 248,
   "metadata": {},
   "outputs": [
    {
     "data": {
      "text/html": [
       "<div>\n",
       "<style scoped>\n",
       "    .dataframe tbody tr th:only-of-type {\n",
       "        vertical-align: middle;\n",
       "    }\n",
       "\n",
       "    .dataframe tbody tr th {\n",
       "        vertical-align: top;\n",
       "    }\n",
       "\n",
       "    .dataframe thead th {\n",
       "        text-align: right;\n",
       "    }\n",
       "</style>\n",
       "<table border=\"1\" class=\"dataframe\">\n",
       "  <thead>\n",
       "    <tr style=\"text-align: right;\">\n",
       "      <th></th>\n",
       "      <th>eyesight(left)</th>\n",
       "      <th>systolic</th>\n",
       "      <th>serum creatinine</th>\n",
       "      <th>triglyceride</th>\n",
       "      <th>Cholesterol</th>\n",
       "      <th>AST</th>\n",
       "      <th>height(cm)</th>\n",
       "      <th>waist(cm)</th>\n",
       "      <th>age</th>\n",
       "      <th>LDL</th>\n",
       "      <th>smoking</th>\n",
       "    </tr>\n",
       "  </thead>\n",
       "  <tbody>\n",
       "    <tr>\n",
       "      <th>69663</th>\n",
       "      <td>-0.216746</td>\n",
       "      <td>-0.760481</td>\n",
       "      <td>1.138820</td>\n",
       "      <td>0.040344</td>\n",
       "      <td>-0.810047</td>\n",
       "      <td>-1.718364</td>\n",
       "      <td>0.156700</td>\n",
       "      <td>1.103655</td>\n",
       "      <td>1.116110</td>\n",
       "      <td>-1.630318</td>\n",
       "      <td>-1.442093</td>\n",
       "    </tr>\n",
       "    <tr>\n",
       "      <th>106104</th>\n",
       "      <td>0.575911</td>\n",
       "      <td>-0.511794</td>\n",
       "      <td>-0.668039</td>\n",
       "      <td>-0.517239</td>\n",
       "      <td>0.126667</td>\n",
       "      <td>-0.063252</td>\n",
       "      <td>1.424549</td>\n",
       "      <td>1.103655</td>\n",
       "      <td>1.227743</td>\n",
       "      <td>-1.630318</td>\n",
       "      <td>0.155984</td>\n",
       "    </tr>\n",
       "    <tr>\n",
       "      <th>69523</th>\n",
       "      <td>-0.219791</td>\n",
       "      <td>-0.511794</td>\n",
       "      <td>1.374497</td>\n",
       "      <td>0.040344</td>\n",
       "      <td>1.290006</td>\n",
       "      <td>0.042393</td>\n",
       "      <td>1.001933</td>\n",
       "      <td>0.536694</td>\n",
       "      <td>1.227743</td>\n",
       "      <td>-0.785883</td>\n",
       "      <td>-0.163632</td>\n",
       "    </tr>\n",
       "    <tr>\n",
       "      <th>56737</th>\n",
       "      <td>-0.497909</td>\n",
       "      <td>-0.014419</td>\n",
       "      <td>-1.060834</td>\n",
       "      <td>1.155511</td>\n",
       "      <td>1.833905</td>\n",
       "      <td>0.112824</td>\n",
       "      <td>0.579317</td>\n",
       "      <td>0.536694</td>\n",
       "      <td>0.781210</td>\n",
       "      <td>-1.208100</td>\n",
       "      <td>-0.199145</td>\n",
       "    </tr>\n",
       "    <tr>\n",
       "      <th>111624</th>\n",
       "      <td>0.695981</td>\n",
       "      <td>-0.014419</td>\n",
       "      <td>0.353229</td>\n",
       "      <td>0.040344</td>\n",
       "      <td>2.151180</td>\n",
       "      <td>1.380569</td>\n",
       "      <td>-0.582878</td>\n",
       "      <td>1.103655</td>\n",
       "      <td>0.669577</td>\n",
       "      <td>-0.785883</td>\n",
       "      <td>1.079317</td>\n",
       "    </tr>\n",
       "    <tr>\n",
       "      <th>...</th>\n",
       "      <td>...</td>\n",
       "      <td>...</td>\n",
       "      <td>...</td>\n",
       "      <td>...</td>\n",
       "      <td>...</td>\n",
       "      <td>...</td>\n",
       "      <td>...</td>\n",
       "      <td>...</td>\n",
       "      <td>...</td>\n",
       "      <td>...</td>\n",
       "      <td>...</td>\n",
       "    </tr>\n",
       "    <tr>\n",
       "      <th>39962</th>\n",
       "      <td>-0.862795</td>\n",
       "      <td>0.482955</td>\n",
       "      <td>-0.825157</td>\n",
       "      <td>-1.074823</td>\n",
       "      <td>-0.915805</td>\n",
       "      <td>-0.661910</td>\n",
       "      <td>-0.054608</td>\n",
       "      <td>1.670617</td>\n",
       "      <td>-0.279305</td>\n",
       "      <td>-0.363666</td>\n",
       "      <td>-0.625298</td>\n",
       "    </tr>\n",
       "    <tr>\n",
       "      <th>6574</th>\n",
       "      <td>-1.589044</td>\n",
       "      <td>1.229017</td>\n",
       "      <td>-0.353802</td>\n",
       "      <td>-0.517239</td>\n",
       "      <td>0.489267</td>\n",
       "      <td>-1.084492</td>\n",
       "      <td>-0.688532</td>\n",
       "      <td>-1.164191</td>\n",
       "      <td>-0.614205</td>\n",
       "      <td>-0.363666</td>\n",
       "      <td>-0.767350</td>\n",
       "    </tr>\n",
       "    <tr>\n",
       "      <th>27693</th>\n",
       "      <td>-1.129668</td>\n",
       "      <td>0.482955</td>\n",
       "      <td>2.002970</td>\n",
       "      <td>0.597927</td>\n",
       "      <td>-0.719398</td>\n",
       "      <td>0.641051</td>\n",
       "      <td>0.368009</td>\n",
       "      <td>-0.030268</td>\n",
       "      <td>0.334677</td>\n",
       "      <td>1.325202</td>\n",
       "      <td>0.830727</td>\n",
       "    </tr>\n",
       "    <tr>\n",
       "      <th>91504</th>\n",
       "      <td>0.258335</td>\n",
       "      <td>0.482955</td>\n",
       "      <td>-1.375070</td>\n",
       "      <td>2.270677</td>\n",
       "      <td>1.909447</td>\n",
       "      <td>1.662290</td>\n",
       "      <td>-0.371570</td>\n",
       "      <td>-0.030268</td>\n",
       "      <td>-0.558388</td>\n",
       "      <td>0.058551</td>\n",
       "      <td>1.185855</td>\n",
       "    </tr>\n",
       "    <tr>\n",
       "      <th>120345</th>\n",
       "      <td>0.885678</td>\n",
       "      <td>0.482955</td>\n",
       "      <td>-0.982275</td>\n",
       "      <td>-1.632406</td>\n",
       "      <td>-0.764722</td>\n",
       "      <td>-0.028037</td>\n",
       "      <td>1.635857</td>\n",
       "      <td>-1.164191</td>\n",
       "      <td>-0.446755</td>\n",
       "      <td>-0.363666</td>\n",
       "      <td>-0.341196</td>\n",
       "    </tr>\n",
       "  </tbody>\n",
       "</table>\n",
       "<p>119442 rows × 11 columns</p>\n",
       "</div>"
      ],
      "text/plain": [
       "        eyesight(left)  systolic  serum creatinine  triglyceride  Cholesterol  \\\n",
       "69663        -0.216746 -0.760481          1.138820      0.040344    -0.810047   \n",
       "106104        0.575911 -0.511794         -0.668039     -0.517239     0.126667   \n",
       "69523        -0.219791 -0.511794          1.374497      0.040344     1.290006   \n",
       "56737        -0.497909 -0.014419         -1.060834      1.155511     1.833905   \n",
       "111624        0.695981 -0.014419          0.353229      0.040344     2.151180   \n",
       "...                ...       ...               ...           ...          ...   \n",
       "39962        -0.862795  0.482955         -0.825157     -1.074823    -0.915805   \n",
       "6574         -1.589044  1.229017         -0.353802     -0.517239     0.489267   \n",
       "27693        -1.129668  0.482955          2.002970      0.597927    -0.719398   \n",
       "91504         0.258335  0.482955         -1.375070      2.270677     1.909447   \n",
       "120345        0.885678  0.482955         -0.982275     -1.632406    -0.764722   \n",
       "\n",
       "             AST  height(cm)  waist(cm)       age       LDL   smoking  \n",
       "69663  -1.718364    0.156700   1.103655  1.116110 -1.630318 -1.442093  \n",
       "106104 -0.063252    1.424549   1.103655  1.227743 -1.630318  0.155984  \n",
       "69523   0.042393    1.001933   0.536694  1.227743 -0.785883 -0.163632  \n",
       "56737   0.112824    0.579317   0.536694  0.781210 -1.208100 -0.199145  \n",
       "111624  1.380569   -0.582878   1.103655  0.669577 -0.785883  1.079317  \n",
       "...          ...         ...        ...       ...       ...       ...  \n",
       "39962  -0.661910   -0.054608   1.670617 -0.279305 -0.363666 -0.625298  \n",
       "6574   -1.084492   -0.688532  -1.164191 -0.614205 -0.363666 -0.767350  \n",
       "27693   0.641051    0.368009  -0.030268  0.334677  1.325202  0.830727  \n",
       "91504   1.662290   -0.371570  -0.030268 -0.558388  0.058551  1.185855  \n",
       "120345 -0.028037    1.635857  -1.164191 -0.446755 -0.363666 -0.341196  \n",
       "\n",
       "[119442 rows x 11 columns]"
      ]
     },
     "execution_count": 248,
     "metadata": {},
     "output_type": "execute_result"
    }
   ],
   "source": [
    "X_train"
   ]
  },
  {
   "cell_type": "markdown",
   "metadata": {},
   "source": [
    "<h3>Make x_train have best K features </h3>"
   ]
  },
  {
   "cell_type": "code",
   "execution_count": 249,
   "metadata": {},
   "outputs": [],
   "source": [
    "X_train = X_train[['systolic', 'triglyceride', 'Cholesterol', 'AST', 'waist(cm)', 'age',\n",
    "       'LDL']]\n",
    "X_test = X_test[['systolic', 'triglyceride', 'Cholesterol', 'AST', 'waist(cm)', 'age',\n",
    "       'LDL']]"
   ]
  },
  {
   "cell_type": "code",
   "execution_count": 250,
   "metadata": {},
   "outputs": [
    {
     "data": {
      "text/html": [
       "<div>\n",
       "<style scoped>\n",
       "    .dataframe tbody tr th:only-of-type {\n",
       "        vertical-align: middle;\n",
       "    }\n",
       "\n",
       "    .dataframe tbody tr th {\n",
       "        vertical-align: top;\n",
       "    }\n",
       "\n",
       "    .dataframe thead th {\n",
       "        text-align: right;\n",
       "    }\n",
       "</style>\n",
       "<table border=\"1\" class=\"dataframe\">\n",
       "  <thead>\n",
       "    <tr style=\"text-align: right;\">\n",
       "      <th></th>\n",
       "      <th>systolic</th>\n",
       "      <th>triglyceride</th>\n",
       "      <th>Cholesterol</th>\n",
       "      <th>AST</th>\n",
       "      <th>waist(cm)</th>\n",
       "      <th>age</th>\n",
       "      <th>LDL</th>\n",
       "    </tr>\n",
       "  </thead>\n",
       "  <tbody>\n",
       "    <tr>\n",
       "      <th>69663</th>\n",
       "      <td>-0.760481</td>\n",
       "      <td>0.040344</td>\n",
       "      <td>-0.810047</td>\n",
       "      <td>-1.718364</td>\n",
       "      <td>1.103655</td>\n",
       "      <td>1.116110</td>\n",
       "      <td>-1.630318</td>\n",
       "    </tr>\n",
       "    <tr>\n",
       "      <th>106104</th>\n",
       "      <td>-0.511794</td>\n",
       "      <td>-0.517239</td>\n",
       "      <td>0.126667</td>\n",
       "      <td>-0.063252</td>\n",
       "      <td>1.103655</td>\n",
       "      <td>1.227743</td>\n",
       "      <td>-1.630318</td>\n",
       "    </tr>\n",
       "    <tr>\n",
       "      <th>69523</th>\n",
       "      <td>-0.511794</td>\n",
       "      <td>0.040344</td>\n",
       "      <td>1.290006</td>\n",
       "      <td>0.042393</td>\n",
       "      <td>0.536694</td>\n",
       "      <td>1.227743</td>\n",
       "      <td>-0.785883</td>\n",
       "    </tr>\n",
       "    <tr>\n",
       "      <th>56737</th>\n",
       "      <td>-0.014419</td>\n",
       "      <td>1.155511</td>\n",
       "      <td>1.833905</td>\n",
       "      <td>0.112824</td>\n",
       "      <td>0.536694</td>\n",
       "      <td>0.781210</td>\n",
       "      <td>-1.208100</td>\n",
       "    </tr>\n",
       "    <tr>\n",
       "      <th>111624</th>\n",
       "      <td>-0.014419</td>\n",
       "      <td>0.040344</td>\n",
       "      <td>2.151180</td>\n",
       "      <td>1.380569</td>\n",
       "      <td>1.103655</td>\n",
       "      <td>0.669577</td>\n",
       "      <td>-0.785883</td>\n",
       "    </tr>\n",
       "    <tr>\n",
       "      <th>...</th>\n",
       "      <td>...</td>\n",
       "      <td>...</td>\n",
       "      <td>...</td>\n",
       "      <td>...</td>\n",
       "      <td>...</td>\n",
       "      <td>...</td>\n",
       "      <td>...</td>\n",
       "    </tr>\n",
       "    <tr>\n",
       "      <th>39962</th>\n",
       "      <td>0.482955</td>\n",
       "      <td>-1.074823</td>\n",
       "      <td>-0.915805</td>\n",
       "      <td>-0.661910</td>\n",
       "      <td>1.670617</td>\n",
       "      <td>-0.279305</td>\n",
       "      <td>-0.363666</td>\n",
       "    </tr>\n",
       "    <tr>\n",
       "      <th>6574</th>\n",
       "      <td>1.229017</td>\n",
       "      <td>-0.517239</td>\n",
       "      <td>0.489267</td>\n",
       "      <td>-1.084492</td>\n",
       "      <td>-1.164191</td>\n",
       "      <td>-0.614205</td>\n",
       "      <td>-0.363666</td>\n",
       "    </tr>\n",
       "    <tr>\n",
       "      <th>27693</th>\n",
       "      <td>0.482955</td>\n",
       "      <td>0.597927</td>\n",
       "      <td>-0.719398</td>\n",
       "      <td>0.641051</td>\n",
       "      <td>-0.030268</td>\n",
       "      <td>0.334677</td>\n",
       "      <td>1.325202</td>\n",
       "    </tr>\n",
       "    <tr>\n",
       "      <th>91504</th>\n",
       "      <td>0.482955</td>\n",
       "      <td>2.270677</td>\n",
       "      <td>1.909447</td>\n",
       "      <td>1.662290</td>\n",
       "      <td>-0.030268</td>\n",
       "      <td>-0.558388</td>\n",
       "      <td>0.058551</td>\n",
       "    </tr>\n",
       "    <tr>\n",
       "      <th>120345</th>\n",
       "      <td>0.482955</td>\n",
       "      <td>-1.632406</td>\n",
       "      <td>-0.764722</td>\n",
       "      <td>-0.028037</td>\n",
       "      <td>-1.164191</td>\n",
       "      <td>-0.446755</td>\n",
       "      <td>-0.363666</td>\n",
       "    </tr>\n",
       "  </tbody>\n",
       "</table>\n",
       "<p>119442 rows × 7 columns</p>\n",
       "</div>"
      ],
      "text/plain": [
       "        systolic  triglyceride  Cholesterol       AST  waist(cm)       age  \\\n",
       "69663  -0.760481      0.040344    -0.810047 -1.718364   1.103655  1.116110   \n",
       "106104 -0.511794     -0.517239     0.126667 -0.063252   1.103655  1.227743   \n",
       "69523  -0.511794      0.040344     1.290006  0.042393   0.536694  1.227743   \n",
       "56737  -0.014419      1.155511     1.833905  0.112824   0.536694  0.781210   \n",
       "111624 -0.014419      0.040344     2.151180  1.380569   1.103655  0.669577   \n",
       "...          ...           ...          ...       ...        ...       ...   \n",
       "39962   0.482955     -1.074823    -0.915805 -0.661910   1.670617 -0.279305   \n",
       "6574    1.229017     -0.517239     0.489267 -1.084492  -1.164191 -0.614205   \n",
       "27693   0.482955      0.597927    -0.719398  0.641051  -0.030268  0.334677   \n",
       "91504   0.482955      2.270677     1.909447  1.662290  -0.030268 -0.558388   \n",
       "120345  0.482955     -1.632406    -0.764722 -0.028037  -1.164191 -0.446755   \n",
       "\n",
       "             LDL  \n",
       "69663  -1.630318  \n",
       "106104 -1.630318  \n",
       "69523  -0.785883  \n",
       "56737  -1.208100  \n",
       "111624 -0.785883  \n",
       "...          ...  \n",
       "39962  -0.363666  \n",
       "6574   -0.363666  \n",
       "27693   1.325202  \n",
       "91504   0.058551  \n",
       "120345 -0.363666  \n",
       "\n",
       "[119442 rows x 7 columns]"
      ]
     },
     "execution_count": 250,
     "metadata": {},
     "output_type": "execute_result"
    }
   ],
   "source": [
    "X_train"
   ]
  },
  {
   "cell_type": "markdown",
   "metadata": {},
   "source": [
    "# Train using stand alone model"
   ]
  },
  {
   "cell_type": "code",
   "execution_count": 251,
   "metadata": {},
   "outputs": [
    {
     "data": {
      "text/plain": [
       "array([0.61801457, 0.67040281, 0.67040281, 0.67084236, 0.61307337])"
      ]
     },
     "execution_count": 251,
     "metadata": {},
     "output_type": "execute_result"
    }
   ],
   "source": [
    "# from sklearn.model_selection import cross_val_score\n",
    "# from sklearn.tree import DecisionTreeClassifier\n",
    "\n",
    "# scores = cross_val_score(DecisionTreeClassifier(), X, y, cv=5)\n",
    "# scores"
   ]
  },
  {
   "cell_type": "code",
   "execution_count": 252,
   "metadata": {},
   "outputs": [
    {
     "data": {
      "text/plain": [
       "0.6485471852402288"
      ]
     },
     "execution_count": 252,
     "metadata": {},
     "output_type": "execute_result"
    }
   ],
   "source": [
    "# scores.mean()"
   ]
  },
  {
   "cell_type": "markdown",
   "metadata": {},
   "source": [
    "# Train using Bagging"
   ]
  },
  {
   "cell_type": "code",
   "execution_count": 253,
   "metadata": {},
   "outputs": [
    {
     "name": "stderr",
     "output_type": "stream",
     "text": [
      "d:\\anaconda\\Lib\\site-packages\\sklearn\\ensemble\\_base.py:156: FutureWarning: `base_estimator` was renamed to `estimator` in version 1.2 and will be removed in 1.4.\n",
      "  warnings.warn(\n"
     ]
    },
    {
     "data": {
      "text/plain": [
       "0.7313256643391772"
      ]
     },
     "execution_count": 253,
     "metadata": {},
     "output_type": "execute_result"
    }
   ],
   "source": [
    "from sklearn.ensemble import BaggingClassifier\n",
    "from sklearn.tree import DecisionTreeClassifier\n",
    "\n",
    "bag_model = BaggingClassifier(\n",
    "    base_estimator=DecisionTreeClassifier(), \n",
    "    n_estimators=100, \n",
    "    max_samples=0.8, \n",
    "    oob_score=True,\n",
    "    random_state=0\n",
    ")\n",
    "bag_model.fit(X_train, y_train)\n",
    "bag_model.oob_score_"
   ]
  },
  {
   "cell_type": "code",
   "execution_count": 254,
   "metadata": {},
   "outputs": [
    {
     "data": {
      "text/plain": [
       "0.7341638619581052"
      ]
     },
     "execution_count": 254,
     "metadata": {},
     "output_type": "execute_result"
    }
   ],
   "source": [
    "bag_model.score(X_test, y_test)    "
   ]
  },
  {
   "cell_type": "code",
   "execution_count": null,
   "metadata": {},
   "outputs": [
    {
     "name": "stderr",
     "output_type": "stream",
     "text": [
      "d:\\anaconda\\Lib\\site-packages\\sklearn\\ensemble\\_base.py:156: FutureWarning: `base_estimator` was renamed to `estimator` in version 1.2 and will be removed in 1.4.\n",
      "  warnings.warn(\n",
      "d:\\anaconda\\Lib\\site-packages\\sklearn\\ensemble\\_base.py:156: FutureWarning: `base_estimator` was renamed to `estimator` in version 1.2 and will be removed in 1.4.\n",
      "  warnings.warn(\n",
      "d:\\anaconda\\Lib\\site-packages\\sklearn\\ensemble\\_base.py:156: FutureWarning: `base_estimator` was renamed to `estimator` in version 1.2 and will be removed in 1.4.\n",
      "  warnings.warn(\n",
      "d:\\anaconda\\Lib\\site-packages\\sklearn\\ensemble\\_base.py:156: FutureWarning: `base_estimator` was renamed to `estimator` in version 1.2 and will be removed in 1.4.\n",
      "  warnings.warn(\n",
      "d:\\anaconda\\Lib\\site-packages\\sklearn\\ensemble\\_base.py:156: FutureWarning: `base_estimator` was renamed to `estimator` in version 1.2 and will be removed in 1.4.\n",
      "  warnings.warn(\n"
     ]
    },
    {
     "data": {
      "text/plain": [
       "array([0.70928042, 0.74509435, 0.74512574, 0.74675834, 0.71702615])"
      ]
     },
     "execution_count": 188,
     "metadata": {},
     "output_type": "execute_result"
    }
   ],
   "source": [
    "bag_model = BaggingClassifier(\n",
    "    base_estimator=DecisionTreeClassifier(), \n",
    "    n_estimators=100, \n",
    "    max_samples=0.8, \n",
    "    oob_score=True,\n",
    "    random_state=0\n",
    ")\n",
    "scores = cross_val_score(bag_model, X, y, cv=5)\n",
    "scores"
   ]
  },
  {
   "cell_type": "code",
   "execution_count": 210,
   "metadata": {},
   "outputs": [
    {
     "data": {
      "text/plain": [
       "0.6421425335071318"
      ]
     },
     "execution_count": 210,
     "metadata": {},
     "output_type": "execute_result"
    }
   ],
   "source": [
    "scores.mean()"
   ]
  },
  {
   "cell_type": "markdown",
   "metadata": {},
   "source": [
    "# Train using Random Forest"
   ]
  },
  {
   "cell_type": "code",
   "execution_count": 20,
   "metadata": {},
   "outputs": [
    {
     "data": {
      "text/plain": [
       "0.7268675609529716"
      ]
     },
     "execution_count": 20,
     "metadata": {},
     "output_type": "execute_result"
    }
   ],
   "source": [
    "from sklearn.ensemble import RandomForestClassifier\n",
    "\n",
    "scores = cross_val_score(RandomForestClassifier(n_estimators=50), X, y, cv=5)\n",
    "scores.mean()"
   ]
  },
  {
   "cell_type": "markdown",
   "metadata": {},
   "source": [
    "<h1>GRIDSEARCH</h1>"
   ]
  },
  {
   "cell_type": "markdown",
   "metadata": {},
   "source": [
    "<h3>GRIDSERACH FOR BaggingClassifier</h3>"
   ]
  },
  {
   "cell_type": "code",
   "execution_count": 31,
   "metadata": {},
   "outputs": [
    {
     "name": "stderr",
     "output_type": "stream",
     "text": [
      "d:\\anaconda\\Lib\\site-packages\\sklearn\\ensemble\\_base.py:156: FutureWarning: `base_estimator` was renamed to `estimator` in version 1.2 and will be removed in 1.4.\n",
      "  warnings.warn(\n",
      "d:\\anaconda\\Lib\\site-packages\\sklearn\\ensemble\\_base.py:156: FutureWarning: `base_estimator` was renamed to `estimator` in version 1.2 and will be removed in 1.4.\n",
      "  warnings.warn(\n",
      "d:\\anaconda\\Lib\\site-packages\\sklearn\\ensemble\\_base.py:156: FutureWarning: `base_estimator` was renamed to `estimator` in version 1.2 and will be removed in 1.4.\n",
      "  warnings.warn(\n",
      "d:\\anaconda\\Lib\\site-packages\\sklearn\\ensemble\\_base.py:156: FutureWarning: `base_estimator` was renamed to `estimator` in version 1.2 and will be removed in 1.4.\n",
      "  warnings.warn(\n",
      "d:\\anaconda\\Lib\\site-packages\\sklearn\\ensemble\\_base.py:156: FutureWarning: `base_estimator` was renamed to `estimator` in version 1.2 and will be removed in 1.4.\n",
      "  warnings.warn(\n",
      "d:\\anaconda\\Lib\\site-packages\\sklearn\\ensemble\\_base.py:156: FutureWarning: `base_estimator` was renamed to `estimator` in version 1.2 and will be removed in 1.4.\n",
      "  warnings.warn(\n",
      "d:\\anaconda\\Lib\\site-packages\\sklearn\\ensemble\\_base.py:156: FutureWarning: `base_estimator` was renamed to `estimator` in version 1.2 and will be removed in 1.4.\n",
      "  warnings.warn(\n",
      "d:\\anaconda\\Lib\\site-packages\\sklearn\\ensemble\\_base.py:156: FutureWarning: `base_estimator` was renamed to `estimator` in version 1.2 and will be removed in 1.4.\n",
      "  warnings.warn(\n",
      "d:\\anaconda\\Lib\\site-packages\\sklearn\\ensemble\\_base.py:156: FutureWarning: `base_estimator` was renamed to `estimator` in version 1.2 and will be removed in 1.4.\n",
      "  warnings.warn(\n",
      "d:\\anaconda\\Lib\\site-packages\\sklearn\\ensemble\\_base.py:156: FutureWarning: `base_estimator` was renamed to `estimator` in version 1.2 and will be removed in 1.4.\n",
      "  warnings.warn(\n",
      "d:\\anaconda\\Lib\\site-packages\\sklearn\\ensemble\\_base.py:156: FutureWarning: `base_estimator` was renamed to `estimator` in version 1.2 and will be removed in 1.4.\n",
      "  warnings.warn(\n",
      "d:\\anaconda\\Lib\\site-packages\\sklearn\\ensemble\\_base.py:156: FutureWarning: `base_estimator` was renamed to `estimator` in version 1.2 and will be removed in 1.4.\n",
      "  warnings.warn(\n",
      "d:\\anaconda\\Lib\\site-packages\\sklearn\\ensemble\\_base.py:156: FutureWarning: `base_estimator` was renamed to `estimator` in version 1.2 and will be removed in 1.4.\n",
      "  warnings.warn(\n",
      "d:\\anaconda\\Lib\\site-packages\\sklearn\\ensemble\\_base.py:156: FutureWarning: `base_estimator` was renamed to `estimator` in version 1.2 and will be removed in 1.4.\n",
      "  warnings.warn(\n",
      "d:\\anaconda\\Lib\\site-packages\\sklearn\\ensemble\\_base.py:156: FutureWarning: `base_estimator` was renamed to `estimator` in version 1.2 and will be removed in 1.4.\n",
      "  warnings.warn(\n",
      "d:\\anaconda\\Lib\\site-packages\\sklearn\\ensemble\\_base.py:156: FutureWarning: `base_estimator` was renamed to `estimator` in version 1.2 and will be removed in 1.4.\n",
      "  warnings.warn(\n",
      "d:\\anaconda\\Lib\\site-packages\\sklearn\\ensemble\\_base.py:156: FutureWarning: `base_estimator` was renamed to `estimator` in version 1.2 and will be removed in 1.4.\n",
      "  warnings.warn(\n",
      "d:\\anaconda\\Lib\\site-packages\\sklearn\\ensemble\\_base.py:156: FutureWarning: `base_estimator` was renamed to `estimator` in version 1.2 and will be removed in 1.4.\n",
      "  warnings.warn(\n",
      "d:\\anaconda\\Lib\\site-packages\\sklearn\\ensemble\\_base.py:156: FutureWarning: `base_estimator` was renamed to `estimator` in version 1.2 and will be removed in 1.4.\n",
      "  warnings.warn(\n",
      "d:\\anaconda\\Lib\\site-packages\\sklearn\\ensemble\\_base.py:156: FutureWarning: `base_estimator` was renamed to `estimator` in version 1.2 and will be removed in 1.4.\n",
      "  warnings.warn(\n",
      "d:\\anaconda\\Lib\\site-packages\\sklearn\\ensemble\\_base.py:156: FutureWarning: `base_estimator` was renamed to `estimator` in version 1.2 and will be removed in 1.4.\n",
      "  warnings.warn(\n",
      "d:\\anaconda\\Lib\\site-packages\\sklearn\\ensemble\\_base.py:156: FutureWarning: `base_estimator` was renamed to `estimator` in version 1.2 and will be removed in 1.4.\n",
      "  warnings.warn(\n",
      "d:\\anaconda\\Lib\\site-packages\\sklearn\\ensemble\\_base.py:156: FutureWarning: `base_estimator` was renamed to `estimator` in version 1.2 and will be removed in 1.4.\n",
      "  warnings.warn(\n",
      "d:\\anaconda\\Lib\\site-packages\\sklearn\\ensemble\\_base.py:156: FutureWarning: `base_estimator` was renamed to `estimator` in version 1.2 and will be removed in 1.4.\n",
      "  warnings.warn(\n",
      "d:\\anaconda\\Lib\\site-packages\\sklearn\\ensemble\\_base.py:156: FutureWarning: `base_estimator` was renamed to `estimator` in version 1.2 and will be removed in 1.4.\n",
      "  warnings.warn(\n",
      "d:\\anaconda\\Lib\\site-packages\\sklearn\\ensemble\\_base.py:156: FutureWarning: `base_estimator` was renamed to `estimator` in version 1.2 and will be removed in 1.4.\n",
      "  warnings.warn(\n",
      "d:\\anaconda\\Lib\\site-packages\\sklearn\\ensemble\\_base.py:156: FutureWarning: `base_estimator` was renamed to `estimator` in version 1.2 and will be removed in 1.4.\n",
      "  warnings.warn(\n",
      "d:\\anaconda\\Lib\\site-packages\\sklearn\\ensemble\\_base.py:156: FutureWarning: `base_estimator` was renamed to `estimator` in version 1.2 and will be removed in 1.4.\n",
      "  warnings.warn(\n",
      "d:\\anaconda\\Lib\\site-packages\\sklearn\\ensemble\\_base.py:156: FutureWarning: `base_estimator` was renamed to `estimator` in version 1.2 and will be removed in 1.4.\n",
      "  warnings.warn(\n",
      "d:\\anaconda\\Lib\\site-packages\\sklearn\\ensemble\\_base.py:156: FutureWarning: `base_estimator` was renamed to `estimator` in version 1.2 and will be removed in 1.4.\n",
      "  warnings.warn(\n",
      "d:\\anaconda\\Lib\\site-packages\\sklearn\\ensemble\\_base.py:156: FutureWarning: `base_estimator` was renamed to `estimator` in version 1.2 and will be removed in 1.4.\n",
      "  warnings.warn(\n",
      "d:\\anaconda\\Lib\\site-packages\\sklearn\\ensemble\\_bagging.py:789: UserWarning: Some inputs do not have OOB scores. This probably means too few estimators were used to compute any reliable oob estimates.\n",
      "  warn(\n",
      "d:\\anaconda\\Lib\\site-packages\\sklearn\\ensemble\\_bagging.py:795: RuntimeWarning: invalid value encountered in divide\n",
      "  oob_decision_function = predictions / predictions.sum(axis=1)[:, np.newaxis]\n",
      "d:\\anaconda\\Lib\\site-packages\\sklearn\\ensemble\\_base.py:156: FutureWarning: `base_estimator` was renamed to `estimator` in version 1.2 and will be removed in 1.4.\n",
      "  warnings.warn(\n",
      "d:\\anaconda\\Lib\\site-packages\\sklearn\\ensemble\\_bagging.py:789: UserWarning: Some inputs do not have OOB scores. This probably means too few estimators were used to compute any reliable oob estimates.\n",
      "  warn(\n",
      "d:\\anaconda\\Lib\\site-packages\\sklearn\\ensemble\\_bagging.py:795: RuntimeWarning: invalid value encountered in divide\n",
      "  oob_decision_function = predictions / predictions.sum(axis=1)[:, np.newaxis]\n",
      "d:\\anaconda\\Lib\\site-packages\\sklearn\\ensemble\\_base.py:156: FutureWarning: `base_estimator` was renamed to `estimator` in version 1.2 and will be removed in 1.4.\n",
      "  warnings.warn(\n",
      "d:\\anaconda\\Lib\\site-packages\\sklearn\\ensemble\\_bagging.py:789: UserWarning: Some inputs do not have OOB scores. This probably means too few estimators were used to compute any reliable oob estimates.\n",
      "  warn(\n",
      "d:\\anaconda\\Lib\\site-packages\\sklearn\\ensemble\\_bagging.py:795: RuntimeWarning: invalid value encountered in divide\n",
      "  oob_decision_function = predictions / predictions.sum(axis=1)[:, np.newaxis]\n",
      "d:\\anaconda\\Lib\\site-packages\\sklearn\\ensemble\\_base.py:156: FutureWarning: `base_estimator` was renamed to `estimator` in version 1.2 and will be removed in 1.4.\n",
      "  warnings.warn(\n",
      "d:\\anaconda\\Lib\\site-packages\\sklearn\\ensemble\\_bagging.py:789: UserWarning: Some inputs do not have OOB scores. This probably means too few estimators were used to compute any reliable oob estimates.\n",
      "  warn(\n",
      "d:\\anaconda\\Lib\\site-packages\\sklearn\\ensemble\\_bagging.py:795: RuntimeWarning: invalid value encountered in divide\n",
      "  oob_decision_function = predictions / predictions.sum(axis=1)[:, np.newaxis]\n",
      "d:\\anaconda\\Lib\\site-packages\\sklearn\\ensemble\\_base.py:156: FutureWarning: `base_estimator` was renamed to `estimator` in version 1.2 and will be removed in 1.4.\n",
      "  warnings.warn(\n",
      "d:\\anaconda\\Lib\\site-packages\\sklearn\\ensemble\\_bagging.py:789: UserWarning: Some inputs do not have OOB scores. This probably means too few estimators were used to compute any reliable oob estimates.\n",
      "  warn(\n",
      "d:\\anaconda\\Lib\\site-packages\\sklearn\\ensemble\\_bagging.py:795: RuntimeWarning: invalid value encountered in divide\n",
      "  oob_decision_function = predictions / predictions.sum(axis=1)[:, np.newaxis]\n",
      "d:\\anaconda\\Lib\\site-packages\\sklearn\\ensemble\\_base.py:156: FutureWarning: `base_estimator` was renamed to `estimator` in version 1.2 and will be removed in 1.4.\n",
      "  warnings.warn(\n",
      "d:\\anaconda\\Lib\\site-packages\\sklearn\\ensemble\\_base.py:156: FutureWarning: `base_estimator` was renamed to `estimator` in version 1.2 and will be removed in 1.4.\n",
      "  warnings.warn(\n",
      "d:\\anaconda\\Lib\\site-packages\\sklearn\\ensemble\\_base.py:156: FutureWarning: `base_estimator` was renamed to `estimator` in version 1.2 and will be removed in 1.4.\n",
      "  warnings.warn(\n",
      "d:\\anaconda\\Lib\\site-packages\\sklearn\\ensemble\\_base.py:156: FutureWarning: `base_estimator` was renamed to `estimator` in version 1.2 and will be removed in 1.4.\n",
      "  warnings.warn(\n",
      "d:\\anaconda\\Lib\\site-packages\\sklearn\\ensemble\\_base.py:156: FutureWarning: `base_estimator` was renamed to `estimator` in version 1.2 and will be removed in 1.4.\n",
      "  warnings.warn(\n",
      "d:\\anaconda\\Lib\\site-packages\\sklearn\\ensemble\\_base.py:156: FutureWarning: `base_estimator` was renamed to `estimator` in version 1.2 and will be removed in 1.4.\n",
      "  warnings.warn(\n",
      "d:\\anaconda\\Lib\\site-packages\\sklearn\\ensemble\\_base.py:156: FutureWarning: `base_estimator` was renamed to `estimator` in version 1.2 and will be removed in 1.4.\n",
      "  warnings.warn(\n",
      "d:\\anaconda\\Lib\\site-packages\\sklearn\\ensemble\\_base.py:156: FutureWarning: `base_estimator` was renamed to `estimator` in version 1.2 and will be removed in 1.4.\n",
      "  warnings.warn(\n",
      "d:\\anaconda\\Lib\\site-packages\\sklearn\\ensemble\\_base.py:156: FutureWarning: `base_estimator` was renamed to `estimator` in version 1.2 and will be removed in 1.4.\n",
      "  warnings.warn(\n",
      "d:\\anaconda\\Lib\\site-packages\\sklearn\\ensemble\\_base.py:156: FutureWarning: `base_estimator` was renamed to `estimator` in version 1.2 and will be removed in 1.4.\n",
      "  warnings.warn(\n",
      "d:\\anaconda\\Lib\\site-packages\\sklearn\\ensemble\\_base.py:156: FutureWarning: `base_estimator` was renamed to `estimator` in version 1.2 and will be removed in 1.4.\n",
      "  warnings.warn(\n",
      "d:\\anaconda\\Lib\\site-packages\\sklearn\\ensemble\\_base.py:156: FutureWarning: `base_estimator` was renamed to `estimator` in version 1.2 and will be removed in 1.4.\n",
      "  warnings.warn(\n",
      "d:\\anaconda\\Lib\\site-packages\\sklearn\\ensemble\\_base.py:156: FutureWarning: `base_estimator` was renamed to `estimator` in version 1.2 and will be removed in 1.4.\n",
      "  warnings.warn(\n",
      "d:\\anaconda\\Lib\\site-packages\\sklearn\\ensemble\\_base.py:156: FutureWarning: `base_estimator` was renamed to `estimator` in version 1.2 and will be removed in 1.4.\n",
      "  warnings.warn(\n",
      "d:\\anaconda\\Lib\\site-packages\\sklearn\\ensemble\\_base.py:156: FutureWarning: `base_estimator` was renamed to `estimator` in version 1.2 and will be removed in 1.4.\n",
      "  warnings.warn(\n",
      "d:\\anaconda\\Lib\\site-packages\\sklearn\\ensemble\\_base.py:156: FutureWarning: `base_estimator` was renamed to `estimator` in version 1.2 and will be removed in 1.4.\n",
      "  warnings.warn(\n",
      "d:\\anaconda\\Lib\\site-packages\\sklearn\\ensemble\\_base.py:156: FutureWarning: `base_estimator` was renamed to `estimator` in version 1.2 and will be removed in 1.4.\n",
      "  warnings.warn(\n",
      "d:\\anaconda\\Lib\\site-packages\\sklearn\\ensemble\\_base.py:156: FutureWarning: `base_estimator` was renamed to `estimator` in version 1.2 and will be removed in 1.4.\n",
      "  warnings.warn(\n",
      "d:\\anaconda\\Lib\\site-packages\\sklearn\\ensemble\\_base.py:156: FutureWarning: `base_estimator` was renamed to `estimator` in version 1.2 and will be removed in 1.4.\n",
      "  warnings.warn(\n",
      "d:\\anaconda\\Lib\\site-packages\\sklearn\\ensemble\\_base.py:156: FutureWarning: `base_estimator` was renamed to `estimator` in version 1.2 and will be removed in 1.4.\n",
      "  warnings.warn(\n",
      "d:\\anaconda\\Lib\\site-packages\\sklearn\\ensemble\\_base.py:156: FutureWarning: `base_estimator` was renamed to `estimator` in version 1.2 and will be removed in 1.4.\n",
      "  warnings.warn(\n",
      "d:\\anaconda\\Lib\\site-packages\\sklearn\\ensemble\\_base.py:156: FutureWarning: `base_estimator` was renamed to `estimator` in version 1.2 and will be removed in 1.4.\n",
      "  warnings.warn(\n",
      "d:\\anaconda\\Lib\\site-packages\\sklearn\\ensemble\\_base.py:156: FutureWarning: `base_estimator` was renamed to `estimator` in version 1.2 and will be removed in 1.4.\n",
      "  warnings.warn(\n",
      "d:\\anaconda\\Lib\\site-packages\\sklearn\\ensemble\\_base.py:156: FutureWarning: `base_estimator` was renamed to `estimator` in version 1.2 and will be removed in 1.4.\n",
      "  warnings.warn(\n",
      "d:\\anaconda\\Lib\\site-packages\\sklearn\\ensemble\\_base.py:156: FutureWarning: `base_estimator` was renamed to `estimator` in version 1.2 and will be removed in 1.4.\n",
      "  warnings.warn(\n",
      "d:\\anaconda\\Lib\\site-packages\\sklearn\\ensemble\\_base.py:156: FutureWarning: `base_estimator` was renamed to `estimator` in version 1.2 and will be removed in 1.4.\n",
      "  warnings.warn(\n",
      "d:\\anaconda\\Lib\\site-packages\\sklearn\\ensemble\\_bagging.py:789: UserWarning: Some inputs do not have OOB scores. This probably means too few estimators were used to compute any reliable oob estimates.\n",
      "  warn(\n",
      "d:\\anaconda\\Lib\\site-packages\\sklearn\\ensemble\\_bagging.py:795: RuntimeWarning: invalid value encountered in divide\n",
      "  oob_decision_function = predictions / predictions.sum(axis=1)[:, np.newaxis]\n",
      "d:\\anaconda\\Lib\\site-packages\\sklearn\\ensemble\\_base.py:156: FutureWarning: `base_estimator` was renamed to `estimator` in version 1.2 and will be removed in 1.4.\n",
      "  warnings.warn(\n",
      "d:\\anaconda\\Lib\\site-packages\\sklearn\\ensemble\\_bagging.py:789: UserWarning: Some inputs do not have OOB scores. This probably means too few estimators were used to compute any reliable oob estimates.\n",
      "  warn(\n",
      "d:\\anaconda\\Lib\\site-packages\\sklearn\\ensemble\\_bagging.py:795: RuntimeWarning: invalid value encountered in divide\n",
      "  oob_decision_function = predictions / predictions.sum(axis=1)[:, np.newaxis]\n",
      "d:\\anaconda\\Lib\\site-packages\\sklearn\\ensemble\\_base.py:156: FutureWarning: `base_estimator` was renamed to `estimator` in version 1.2 and will be removed in 1.4.\n",
      "  warnings.warn(\n",
      "d:\\anaconda\\Lib\\site-packages\\sklearn\\ensemble\\_bagging.py:789: UserWarning: Some inputs do not have OOB scores. This probably means too few estimators were used to compute any reliable oob estimates.\n",
      "  warn(\n",
      "d:\\anaconda\\Lib\\site-packages\\sklearn\\ensemble\\_bagging.py:795: RuntimeWarning: invalid value encountered in divide\n",
      "  oob_decision_function = predictions / predictions.sum(axis=1)[:, np.newaxis]\n",
      "d:\\anaconda\\Lib\\site-packages\\sklearn\\ensemble\\_base.py:156: FutureWarning: `base_estimator` was renamed to `estimator` in version 1.2 and will be removed in 1.4.\n",
      "  warnings.warn(\n",
      "d:\\anaconda\\Lib\\site-packages\\sklearn\\ensemble\\_bagging.py:789: UserWarning: Some inputs do not have OOB scores. This probably means too few estimators were used to compute any reliable oob estimates.\n",
      "  warn(\n",
      "d:\\anaconda\\Lib\\site-packages\\sklearn\\ensemble\\_bagging.py:795: RuntimeWarning: invalid value encountered in divide\n",
      "  oob_decision_function = predictions / predictions.sum(axis=1)[:, np.newaxis]\n",
      "d:\\anaconda\\Lib\\site-packages\\sklearn\\ensemble\\_base.py:156: FutureWarning: `base_estimator` was renamed to `estimator` in version 1.2 and will be removed in 1.4.\n",
      "  warnings.warn(\n",
      "d:\\anaconda\\Lib\\site-packages\\sklearn\\ensemble\\_bagging.py:789: UserWarning: Some inputs do not have OOB scores. This probably means too few estimators were used to compute any reliable oob estimates.\n",
      "  warn(\n",
      "d:\\anaconda\\Lib\\site-packages\\sklearn\\ensemble\\_bagging.py:795: RuntimeWarning: invalid value encountered in divide\n",
      "  oob_decision_function = predictions / predictions.sum(axis=1)[:, np.newaxis]\n",
      "d:\\anaconda\\Lib\\site-packages\\sklearn\\ensemble\\_base.py:156: FutureWarning: `base_estimator` was renamed to `estimator` in version 1.2 and will be removed in 1.4.\n",
      "  warnings.warn(\n",
      "d:\\anaconda\\Lib\\site-packages\\sklearn\\ensemble\\_base.py:156: FutureWarning: `base_estimator` was renamed to `estimator` in version 1.2 and will be removed in 1.4.\n",
      "  warnings.warn(\n",
      "d:\\anaconda\\Lib\\site-packages\\sklearn\\ensemble\\_base.py:156: FutureWarning: `base_estimator` was renamed to `estimator` in version 1.2 and will be removed in 1.4.\n",
      "  warnings.warn(\n",
      "d:\\anaconda\\Lib\\site-packages\\sklearn\\ensemble\\_base.py:156: FutureWarning: `base_estimator` was renamed to `estimator` in version 1.2 and will be removed in 1.4.\n",
      "  warnings.warn(\n",
      "d:\\anaconda\\Lib\\site-packages\\sklearn\\ensemble\\_base.py:156: FutureWarning: `base_estimator` was renamed to `estimator` in version 1.2 and will be removed in 1.4.\n",
      "  warnings.warn(\n",
      "d:\\anaconda\\Lib\\site-packages\\sklearn\\ensemble\\_base.py:156: FutureWarning: `base_estimator` was renamed to `estimator` in version 1.2 and will be removed in 1.4.\n",
      "  warnings.warn(\n",
      "d:\\anaconda\\Lib\\site-packages\\sklearn\\ensemble\\_base.py:156: FutureWarning: `base_estimator` was renamed to `estimator` in version 1.2 and will be removed in 1.4.\n",
      "  warnings.warn(\n",
      "d:\\anaconda\\Lib\\site-packages\\sklearn\\ensemble\\_base.py:156: FutureWarning: `base_estimator` was renamed to `estimator` in version 1.2 and will be removed in 1.4.\n",
      "  warnings.warn(\n",
      "d:\\anaconda\\Lib\\site-packages\\sklearn\\ensemble\\_base.py:156: FutureWarning: `base_estimator` was renamed to `estimator` in version 1.2 and will be removed in 1.4.\n",
      "  warnings.warn(\n",
      "d:\\anaconda\\Lib\\site-packages\\sklearn\\ensemble\\_base.py:156: FutureWarning: `base_estimator` was renamed to `estimator` in version 1.2 and will be removed in 1.4.\n",
      "  warnings.warn(\n",
      "d:\\anaconda\\Lib\\site-packages\\sklearn\\ensemble\\_base.py:156: FutureWarning: `base_estimator` was renamed to `estimator` in version 1.2 and will be removed in 1.4.\n",
      "  warnings.warn(\n",
      "d:\\anaconda\\Lib\\site-packages\\sklearn\\ensemble\\_base.py:156: FutureWarning: `base_estimator` was renamed to `estimator` in version 1.2 and will be removed in 1.4.\n",
      "  warnings.warn(\n",
      "d:\\anaconda\\Lib\\site-packages\\sklearn\\ensemble\\_base.py:156: FutureWarning: `base_estimator` was renamed to `estimator` in version 1.2 and will be removed in 1.4.\n",
      "  warnings.warn(\n",
      "d:\\anaconda\\Lib\\site-packages\\sklearn\\ensemble\\_base.py:156: FutureWarning: `base_estimator` was renamed to `estimator` in version 1.2 and will be removed in 1.4.\n",
      "  warnings.warn(\n",
      "d:\\anaconda\\Lib\\site-packages\\sklearn\\ensemble\\_base.py:156: FutureWarning: `base_estimator` was renamed to `estimator` in version 1.2 and will be removed in 1.4.\n",
      "  warnings.warn(\n",
      "d:\\anaconda\\Lib\\site-packages\\sklearn\\ensemble\\_base.py:156: FutureWarning: `base_estimator` was renamed to `estimator` in version 1.2 and will be removed in 1.4.\n",
      "  warnings.warn(\n",
      "d:\\anaconda\\Lib\\site-packages\\sklearn\\ensemble\\_base.py:156: FutureWarning: `base_estimator` was renamed to `estimator` in version 1.2 and will be removed in 1.4.\n",
      "  warnings.warn(\n",
      "d:\\anaconda\\Lib\\site-packages\\sklearn\\ensemble\\_base.py:156: FutureWarning: `base_estimator` was renamed to `estimator` in version 1.2 and will be removed in 1.4.\n",
      "  warnings.warn(\n",
      "d:\\anaconda\\Lib\\site-packages\\sklearn\\ensemble\\_base.py:156: FutureWarning: `base_estimator` was renamed to `estimator` in version 1.2 and will be removed in 1.4.\n",
      "  warnings.warn(\n"
     ]
    }
   ],
   "source": [
    "from sklearn.model_selection import GridSearchCV\n",
    "result = GridSearchCV(\n",
    "        BaggingClassifier(),\n",
    "        {\n",
    "            'base_estimator': [DecisionTreeClassifier()],\n",
    "            'n_estimators': [10, 50, 100],\n",
    "            'max_samples': [0.3, 0.5, 0.8, 0.9],\n",
    "            'oob_score': [True, False],\n",
    "            'random_state': [0]\n",
    "        },\n",
    "    cv=5,\n",
    "    return_train_score=False\n",
    ")\n",
    "\n",
    "result.fit(X,y)\n",
    "result.cv_results_"
   ]
  },
  {
   "cell_type": "code",
   "execution_count": null,
   "metadata": {},
   "outputs": [],
   "source": [
    "df = pd.DataFrame(result.cv_results_)\n",
    "df"
   ]
  },
  {
   "cell_type": "code",
   "execution_count": null,
   "metadata": {},
   "outputs": [],
   "source": [
    "df [['param_n_estimators','params','mean_test_score']]"
   ]
  },
  {
   "cell_type": "markdown",
   "metadata": {},
   "source": [
    "<h3>Random GridSearch for Bagging</h3>"
   ]
  },
  {
   "cell_type": "code",
   "execution_count": null,
   "metadata": {},
   "outputs": [],
   "source": [
    "from sklearn.model_selection import GridSearchCV\n",
    "result = RandomizedSearchCV(\n",
    "        BaggingClassifier(),\n",
    "        {\n",
    "            'base_estimator': [DecisionTreeClassifier()],\n",
    "            'n_estimators': [10, 50, 100],\n",
    "            'max_samples': [0.3, 0.5, 0.8, 0.9],\n",
    "            'oob_score': [True, False],\n",
    "            'random_state': [0]\n",
    "        },\n",
    "    cv=5,\n",
    "    return_train_score=False\n",
    ")\n",
    "\n",
    "result.fit(X,y)\n",
    "pd.DataFrame(result.cv_results_)[['param_n_estimators','params','mean_test_score']]"
   ]
  },
  {
   "cell_type": "markdown",
   "metadata": {},
   "source": [
    "<h3>GRIDSERACH FOR RandomForestClassifier</h3>"
   ]
  },
  {
   "cell_type": "code",
   "execution_count": 21,
   "metadata": {},
   "outputs": [
    {
     "data": {
      "text/plain": [
       "{'mean_fit_time': array([ 1.25783868,  5.54809279, 11.11732516, 55.32987885]),\n",
       " 'std_fit_time': array([0.20563113, 0.4522177 , 0.61842406, 0.94903341]),\n",
       " 'mean_score_time': array([0.04030766, 0.12421875, 0.216886  , 1.11028538]),\n",
       " 'std_score_time': array([0.00273861, 0.03086734, 0.05636742, 0.19060589]),\n",
       " 'param_n_estimators': masked_array(data=[1, 5, 10, 50],\n",
       "              mask=[False, False, False, False],\n",
       "        fill_value='?',\n",
       "             dtype=object),\n",
       " 'params': [{'n_estimators': 1},\n",
       "  {'n_estimators': 5},\n",
       "  {'n_estimators': 10},\n",
       "  {'n_estimators': 50}],\n",
       " 'split0_test_score': array([0.62680522, 0.6714492 , 0.66969107, 0.70987693]),\n",
       " 'split1_test_score': array([0.66045022, 0.70820382, 0.71209695, 0.73693134]),\n",
       " 'split2_test_score': array([0.66352705, 0.70763869, 0.71542495, 0.73586387]),\n",
       " 'split3_test_score': array([0.66321309, 0.71134344, 0.71686917, 0.7396942 ]),\n",
       " 'split4_test_score': array([0.5296223 , 0.65439076, 0.66880161, 0.72211234]),\n",
       " 'mean_test_score': array([0.62872358, 0.69060518, 0.69657675, 0.72889573]),\n",
       " 'std_test_score': array([0.05144343, 0.02327387, 0.02237057, 0.01129125]),\n",
       " 'rank_test_score': array([4, 3, 2, 1])}"
      ]
     },
     "execution_count": 21,
     "metadata": {},
     "output_type": "execute_result"
    }
   ],
   "source": [
    "from sklearn.model_selection import GridSearchCV\n",
    "result = GridSearchCV(\n",
    "    RandomForestClassifier(), {\n",
    "        'n_estimators': [1,5,10,50]\n",
    "    },\n",
    "    cv = 5,return_train_score = False,n_iter =2\n",
    ")\n",
    "\n",
    "result.fit(X,y)\n",
    "result.cv_results_\n"
   ]
  },
  {
   "cell_type": "code",
   "execution_count": 22,
   "metadata": {},
   "outputs": [
    {
     "data": {
      "text/html": [
       "<div>\n",
       "<style scoped>\n",
       "    .dataframe tbody tr th:only-of-type {\n",
       "        vertical-align: middle;\n",
       "    }\n",
       "\n",
       "    .dataframe tbody tr th {\n",
       "        vertical-align: top;\n",
       "    }\n",
       "\n",
       "    .dataframe thead th {\n",
       "        text-align: right;\n",
       "    }\n",
       "</style>\n",
       "<table border=\"1\" class=\"dataframe\">\n",
       "  <thead>\n",
       "    <tr style=\"text-align: right;\">\n",
       "      <th></th>\n",
       "      <th>mean_fit_time</th>\n",
       "      <th>std_fit_time</th>\n",
       "      <th>mean_score_time</th>\n",
       "      <th>std_score_time</th>\n",
       "      <th>param_n_estimators</th>\n",
       "      <th>params</th>\n",
       "      <th>split0_test_score</th>\n",
       "      <th>split1_test_score</th>\n",
       "      <th>split2_test_score</th>\n",
       "      <th>split3_test_score</th>\n",
       "      <th>split4_test_score</th>\n",
       "      <th>mean_test_score</th>\n",
       "      <th>std_test_score</th>\n",
       "      <th>rank_test_score</th>\n",
       "    </tr>\n",
       "  </thead>\n",
       "  <tbody>\n",
       "    <tr>\n",
       "      <th>0</th>\n",
       "      <td>1.257839</td>\n",
       "      <td>0.205631</td>\n",
       "      <td>0.040308</td>\n",
       "      <td>0.002739</td>\n",
       "      <td>1</td>\n",
       "      <td>{'n_estimators': 1}</td>\n",
       "      <td>0.626805</td>\n",
       "      <td>0.660450</td>\n",
       "      <td>0.663527</td>\n",
       "      <td>0.663213</td>\n",
       "      <td>0.529622</td>\n",
       "      <td>0.628724</td>\n",
       "      <td>0.051443</td>\n",
       "      <td>4</td>\n",
       "    </tr>\n",
       "    <tr>\n",
       "      <th>1</th>\n",
       "      <td>5.548093</td>\n",
       "      <td>0.452218</td>\n",
       "      <td>0.124219</td>\n",
       "      <td>0.030867</td>\n",
       "      <td>5</td>\n",
       "      <td>{'n_estimators': 5}</td>\n",
       "      <td>0.671449</td>\n",
       "      <td>0.708204</td>\n",
       "      <td>0.707639</td>\n",
       "      <td>0.711343</td>\n",
       "      <td>0.654391</td>\n",
       "      <td>0.690605</td>\n",
       "      <td>0.023274</td>\n",
       "      <td>3</td>\n",
       "    </tr>\n",
       "    <tr>\n",
       "      <th>2</th>\n",
       "      <td>11.117325</td>\n",
       "      <td>0.618424</td>\n",
       "      <td>0.216886</td>\n",
       "      <td>0.056367</td>\n",
       "      <td>10</td>\n",
       "      <td>{'n_estimators': 10}</td>\n",
       "      <td>0.669691</td>\n",
       "      <td>0.712097</td>\n",
       "      <td>0.715425</td>\n",
       "      <td>0.716869</td>\n",
       "      <td>0.668802</td>\n",
       "      <td>0.696577</td>\n",
       "      <td>0.022371</td>\n",
       "      <td>2</td>\n",
       "    </tr>\n",
       "    <tr>\n",
       "      <th>3</th>\n",
       "      <td>55.329879</td>\n",
       "      <td>0.949033</td>\n",
       "      <td>1.110285</td>\n",
       "      <td>0.190606</td>\n",
       "      <td>50</td>\n",
       "      <td>{'n_estimators': 50}</td>\n",
       "      <td>0.709877</td>\n",
       "      <td>0.736931</td>\n",
       "      <td>0.735864</td>\n",
       "      <td>0.739694</td>\n",
       "      <td>0.722112</td>\n",
       "      <td>0.728896</td>\n",
       "      <td>0.011291</td>\n",
       "      <td>1</td>\n",
       "    </tr>\n",
       "  </tbody>\n",
       "</table>\n",
       "</div>"
      ],
      "text/plain": [
       "   mean_fit_time  std_fit_time  mean_score_time  std_score_time  \\\n",
       "0       1.257839      0.205631         0.040308        0.002739   \n",
       "1       5.548093      0.452218         0.124219        0.030867   \n",
       "2      11.117325      0.618424         0.216886        0.056367   \n",
       "3      55.329879      0.949033         1.110285        0.190606   \n",
       "\n",
       "  param_n_estimators                params  split0_test_score  \\\n",
       "0                  1   {'n_estimators': 1}           0.626805   \n",
       "1                  5   {'n_estimators': 5}           0.671449   \n",
       "2                 10  {'n_estimators': 10}           0.669691   \n",
       "3                 50  {'n_estimators': 50}           0.709877   \n",
       "\n",
       "   split1_test_score  split2_test_score  split3_test_score  split4_test_score  \\\n",
       "0           0.660450           0.663527           0.663213           0.529622   \n",
       "1           0.708204           0.707639           0.711343           0.654391   \n",
       "2           0.712097           0.715425           0.716869           0.668802   \n",
       "3           0.736931           0.735864           0.739694           0.722112   \n",
       "\n",
       "   mean_test_score  std_test_score  rank_test_score  \n",
       "0         0.628724        0.051443                4  \n",
       "1         0.690605        0.023274                3  \n",
       "2         0.696577        0.022371                2  \n",
       "3         0.728896        0.011291                1  "
      ]
     },
     "execution_count": 22,
     "metadata": {},
     "output_type": "execute_result"
    }
   ],
   "source": [
    "df = pd.DataFrame(result.cv_results_)\n",
    "df"
   ]
  },
  {
   "cell_type": "markdown",
   "metadata": {},
   "source": [
    "<h3>picking columns from tables to see score</h3>"
   ]
  },
  {
   "cell_type": "code",
   "execution_count": 25,
   "metadata": {},
   "outputs": [
    {
     "data": {
      "text/html": [
       "<div>\n",
       "<style scoped>\n",
       "    .dataframe tbody tr th:only-of-type {\n",
       "        vertical-align: middle;\n",
       "    }\n",
       "\n",
       "    .dataframe tbody tr th {\n",
       "        vertical-align: top;\n",
       "    }\n",
       "\n",
       "    .dataframe thead th {\n",
       "        text-align: right;\n",
       "    }\n",
       "</style>\n",
       "<table border=\"1\" class=\"dataframe\">\n",
       "  <thead>\n",
       "    <tr style=\"text-align: right;\">\n",
       "      <th></th>\n",
       "      <th>param_n_estimators</th>\n",
       "      <th>params</th>\n",
       "      <th>mean_test_score</th>\n",
       "    </tr>\n",
       "  </thead>\n",
       "  <tbody>\n",
       "    <tr>\n",
       "      <th>0</th>\n",
       "      <td>1</td>\n",
       "      <td>{'n_estimators': 1}</td>\n",
       "      <td>0.628724</td>\n",
       "    </tr>\n",
       "    <tr>\n",
       "      <th>1</th>\n",
       "      <td>5</td>\n",
       "      <td>{'n_estimators': 5}</td>\n",
       "      <td>0.690605</td>\n",
       "    </tr>\n",
       "    <tr>\n",
       "      <th>2</th>\n",
       "      <td>10</td>\n",
       "      <td>{'n_estimators': 10}</td>\n",
       "      <td>0.696577</td>\n",
       "    </tr>\n",
       "    <tr>\n",
       "      <th>3</th>\n",
       "      <td>50</td>\n",
       "      <td>{'n_estimators': 50}</td>\n",
       "      <td>0.728896</td>\n",
       "    </tr>\n",
       "  </tbody>\n",
       "</table>\n",
       "</div>"
      ],
      "text/plain": [
       "  param_n_estimators                params  mean_test_score\n",
       "0                  1   {'n_estimators': 1}         0.628724\n",
       "1                  5   {'n_estimators': 5}         0.690605\n",
       "2                 10  {'n_estimators': 10}         0.696577\n",
       "3                 50  {'n_estimators': 50}         0.728896"
      ]
     },
     "execution_count": 25,
     "metadata": {},
     "output_type": "execute_result"
    }
   ],
   "source": [
    "df [['param_n_estimators','params','mean_test_score']]"
   ]
  },
  {
   "cell_type": "markdown",
   "metadata": {},
   "source": [
    "<h2>getting best score</h2>"
   ]
  },
  {
   "cell_type": "code",
   "execution_count": 27,
   "metadata": {},
   "outputs": [
    {
     "data": {
      "text/plain": [
       "0.7288957340307631"
      ]
     },
     "execution_count": 27,
     "metadata": {},
     "output_type": "execute_result"
    }
   ],
   "source": [
    "result.best_score_"
   ]
  },
  {
   "cell_type": "markdown",
   "metadata": {},
   "source": [
    "<h3>getting best parameters</h3>"
   ]
  },
  {
   "cell_type": "code",
   "execution_count": 29,
   "metadata": {},
   "outputs": [
    {
     "data": {
      "text/plain": [
       "{'n_estimators': 50}"
      ]
     },
     "execution_count": 29,
     "metadata": {},
     "output_type": "execute_result"
    }
   ],
   "source": [
    "result.best_params_"
   ]
  },
  {
   "cell_type": "markdown",
   "metadata": {},
   "source": [
    "<h2>RANDOMIZED GridSearch</h2>"
   ]
  },
  {
   "cell_type": "code",
   "execution_count": 30,
   "metadata": {},
   "outputs": [
    {
     "data": {
      "text/html": [
       "<div>\n",
       "<style scoped>\n",
       "    .dataframe tbody tr th:only-of-type {\n",
       "        vertical-align: middle;\n",
       "    }\n",
       "\n",
       "    .dataframe tbody tr th {\n",
       "        vertical-align: top;\n",
       "    }\n",
       "\n",
       "    .dataframe thead th {\n",
       "        text-align: right;\n",
       "    }\n",
       "</style>\n",
       "<table border=\"1\" class=\"dataframe\">\n",
       "  <thead>\n",
       "    <tr style=\"text-align: right;\">\n",
       "      <th></th>\n",
       "      <th>param_n_estimators</th>\n",
       "      <th>params</th>\n",
       "      <th>mean_test_score</th>\n",
       "    </tr>\n",
       "  </thead>\n",
       "  <tbody>\n",
       "    <tr>\n",
       "      <th>0</th>\n",
       "      <td>5</td>\n",
       "      <td>{'n_estimators': 5}</td>\n",
       "      <td>0.683058</td>\n",
       "    </tr>\n",
       "    <tr>\n",
       "      <th>1</th>\n",
       "      <td>50</td>\n",
       "      <td>{'n_estimators': 50}</td>\n",
       "      <td>0.729134</td>\n",
       "    </tr>\n",
       "  </tbody>\n",
       "</table>\n",
       "</div>"
      ],
      "text/plain": [
       "  param_n_estimators                params  mean_test_score\n",
       "0                  5   {'n_estimators': 5}         0.683058\n",
       "1                 50  {'n_estimators': 50}         0.729134"
      ]
     },
     "execution_count": 30,
     "metadata": {},
     "output_type": "execute_result"
    }
   ],
   "source": [
    "from sklearn.model_selection import RandomizedSearchCV\n",
    "result = RandomizedSearchCV(\n",
    "    RandomForestClassifier(), {\n",
    "        'n_estimators': [1,5,10,50]\n",
    "    },\n",
    "    cv = 5,return_train_score = False,n_iter =2  #give number of combinations of features\n",
    ")\n",
    "\n",
    "result.fit(X,y)\n",
    "pd.DataFrame(result.cv_results_)[['param_n_estimators','params','mean_test_score']]\n"
   ]
  }
 ],
 "metadata": {
  "kernelspec": {
   "display_name": "Python 3 (ipykernel)",
   "language": "python",
   "name": "python3"
  },
  "language_info": {
   "codemirror_mode": {
    "name": "ipython",
    "version": 3
   },
   "file_extension": ".py",
   "mimetype": "text/x-python",
   "name": "python",
   "nbconvert_exporter": "python",
   "pygments_lexer": "ipython3",
   "version": "3.11.5"
  }
 },
 "nbformat": 4,
 "nbformat_minor": 2
}
